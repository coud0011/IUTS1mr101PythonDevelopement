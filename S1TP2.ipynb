{
 "cells": [
  {
   "cell_type": "markdown",
   "id": "08b12b4d-e857-4dc5-ab73-89d8980f1e6a",
   "metadata": {},
   "source": [
    "<b><p style=\"text-align:center; font-family:verdana; font-size:220%;\"> Initiation au développement en Python</p></b>\n",
    "<div style=\"text-align: center\">\n",
    "    <img src=\"https://iut-info.univ-reims.fr/users/romaniuk/restricted/S1AlgoProg/ressources/Silly-Walk-monty-python.png\" alt=\"\" width=\"480\">\n",
    "</div>\n",
    "<b><p style=\"text-align:center; font-family:verdana; font-size:220%;\">TP2 Variables et Objets Graphiques</p></b>"
   ]
  },
  {
   "cell_type": "markdown",
   "id": "22241000-929e-457e-bc70-24661e54c3f3",
   "metadata": {},
   "source": [
    "COUDROT  Axel"
   ]
  },
  {
   "cell_type": "markdown",
   "id": "06584b81-a51b-4aa8-951c-51bb05f7d222",
   "metadata": {
    "tags": []
   },
   "source": [
    "Rappel :\n",
    "\n",
    ">Pour éditer cette cellule, sélectionnez-la à la souris : son bord gauche devient un trait bleu. Appuyez sur `<Entrée>` : le trait passe au vert. Vous pouvez alors taper votre texte. Une fois terminé, tapez sur `<maj-Entrée>`.\n",
    "\n",
    ">Vous pouvez vous repérer avec le numéro de ligne dans le code. S'il n'est pas visible, utilisez la commande `Toggle Line Numbers`du menu `View`."
   ]
  },
  {
   "cell_type": "markdown",
   "id": "c40ae4ee-78b9-478d-8e66-9c9457110589",
   "metadata": {},
   "source": [
    "Cellule des importations à effectuer une fois  avant d'exécuter les cellules de code du TP :"
   ]
  },
  {
   "cell_type": "code",
   "execution_count": 2,
   "id": "2c9c625d-c850-4fcd-818c-de0602e56e1c",
   "metadata": {
    "tags": []
   },
   "outputs": [],
   "source": [
    "## EXECUTE ME FIRST! ##\n",
    "from random import *\n",
    "from dutgraphics import *"
   ]
  },
  {
   "cell_type": "markdown",
   "id": "dab3b091-3349-490f-8e22-6232a8ac3ae1",
   "metadata": {},
   "source": [
    "# Plan"
   ]
  },
  {
   "cell_type": "markdown",
   "id": "f7fe4528-3452-4c9b-a3a8-7be6e34b8dd9",
   "metadata": {},
   "source": [
    "# 1. Rappels : les types simples "
   ]
  },
  {
   "cell_type": "markdown",
   "id": "f2022764-dbff-47b5-8815-b7a1f6c43c44",
   "metadata": {},
   "source": [
    "Vous avez utilisé la fonction `type()` pour obtenir le type d'une donnée. Vous savez par exemple que l'interpréteur affichera `int` quand il évaluera l'expression `type(100)`."
   ]
  },
  {
   "cell_type": "code",
   "execution_count": 2,
   "id": "2b561469-cbfc-4c3e-88d1-7f9d34885bd1",
   "metadata": {},
   "outputs": [
    {
     "data": {
      "text/plain": [
       "int"
      ]
     },
     "execution_count": 2,
     "metadata": {},
     "output_type": "execute_result"
    }
   ],
   "source": [
    "type(100)"
   ]
  },
  {
   "cell_type": "markdown",
   "id": "5d7f8929-7e07-47a8-b98c-523e57de2cea",
   "metadata": {},
   "source": [
    "Vous ne pouvez cependant pas demander plusieurs types à la suite en utilisant l'évaluation d'expression par l'interpréteur, car il n'affiche que la dernière évaluation.\n",
    "\n",
    "Donnez le code permettant d'afficher le type de plusieurs données (`100, 3.14, 'Bonjour'`) à la suite dans une seule cellule sous la forme :\n",
    "\n",
    "    Type de 100 ...\n",
    "    Type de 3.14 ...\n",
    "    Type de Bonjour ..."
   ]
  },
  {
   "cell_type": "code",
   "execution_count": 5,
   "id": "41381107-4294-4704-9b97-c5550af4a31c",
   "metadata": {},
   "outputs": [
    {
     "name": "stdout",
     "output_type": "stream",
     "text": [
      "<class 'int'>\n",
      "<class 'float'>\n",
      "<class 'str'>\n"
     ]
    }
   ],
   "source": [
    "\n",
    "print(type(100))\n",
    "\n",
    "print(type(3.14))\n",
    "\n",
    "print(type(\"Bonjour\"))\n"
   ]
  },
  {
   "cell_type": "markdown",
   "id": "7f67d9a6-ef82-49c2-a72d-775d891df2e3",
   "metadata": {},
   "source": [
    "Vous constatez en voyant l'affichage produit que chaque type est en fait une **classe**. Chaque donnée en Python est un **objet** qui peut être manipulé par l'intermédiaire d'une **variable**. "
   ]
  },
  {
   "cell_type": "markdown",
   "id": "c5807a08-0519-4119-b152-f8e483357b41",
   "metadata": {},
   "source": [
    "# 2. Les couleurs : la classe `Color`"
   ]
  },
  {
   "cell_type": "markdown",
   "id": "69280f1d-8148-45f6-9631-16f818984f6c",
   "metadata": {},
   "source": [
    "Nous fournissons des couleurs déjà définies et accessibles sous les noms de variable suivants :\n",
    "\n",
    "    black   white   red   lime   blue   cyan   yellow   orange   magenta   \n",
    "    pink   silver   gray   maroon   green   olive   navy   teal   purple"
   ]
  },
  {
   "cell_type": "markdown",
   "id": "46d9cec2-7ab3-43f9-bde1-eab4b12329a9",
   "metadata": {},
   "source": [
    "> **ATTENTION :** si vous redéfinissez ou modifiez ces variables dans vos cellules, vous perdez les couleurs fournies ! Dans ce cas-là, relancez le kernel.\n",
    "\n",
    "Exemples **à éviter** :\n",
    "\n",
    "```python\n",
    "red = input(\"Rouge ? \") # vous perdez l'instance de Color nommée red qui est devenue une chaîne de caractères...\n",
    "```"
   ]
  },
  {
   "cell_type": "markdown",
   "id": "75af4c94-be72-4de5-9eae-8669897f8904",
   "metadata": {},
   "source": [
    "La classe `Color` possède une méthode `draw()` qui va permettre d'afficher un disque de la couleur définie par l'instance sur laquelle on applique la méthode :"
   ]
  },
  {
   "cell_type": "markdown",
   "id": "5f613971-d6ee-4c60-b5b8-e5d140478f95",
   "metadata": {},
   "source": [
    "# exemple d'utilisation\n",
    "red.draw()"
   ]
  },
  {
   "cell_type": "markdown",
   "id": "75fde35e-2aec-471f-902f-d504b3555e3c",
   "metadata": {},
   "source": [
    "Affichez quelques-unes de ces couleurs."
   ]
  },
  {
   "cell_type": "code",
   "execution_count": 3,
   "id": "0fc1f03b-fb5d-4dc3-8084-b39b8ff4ee3f",
   "metadata": {},
   "outputs": [
    {
     "data": {
      "image/svg+xml": [
       "<svg baseProfile=\"full\" height=\"42\" version=\"1.1\" width=\"42\" xmlns=\"http://www.w3.org/2000/svg\" xmlns:ev=\"http://www.w3.org/2001/xml-events\" xmlns:xlink=\"http://www.w3.org/1999/xlink\"><defs /><circle cx=\"21\" cy=\"21\" fill=\"#00ffff\" fill-opacity=\"1.0\" r=\"20\" stroke=\"#000000\" stroke-width=\"1\" /></svg>"
      ],
      "text/plain": [
       "<Canvas (42, 42)>"
      ]
     },
     "metadata": {},
     "output_type": "display_data"
    },
    {
     "data": {
      "image/svg+xml": [
       "<svg baseProfile=\"full\" height=\"42\" version=\"1.1\" width=\"42\" xmlns=\"http://www.w3.org/2000/svg\" xmlns:ev=\"http://www.w3.org/2001/xml-events\" xmlns:xlink=\"http://www.w3.org/1999/xlink\"><defs /><circle cx=\"21\" cy=\"21\" fill=\"#ff0000\" fill-opacity=\"1.0\" r=\"20\" stroke=\"#000000\" stroke-width=\"1\" /></svg>"
      ],
      "text/plain": [
       "<Canvas (42, 42)>"
      ]
     },
     "metadata": {},
     "output_type": "display_data"
    },
    {
     "data": {
      "image/svg+xml": [
       "<svg baseProfile=\"full\" height=\"42\" version=\"1.1\" width=\"42\" xmlns=\"http://www.w3.org/2000/svg\" xmlns:ev=\"http://www.w3.org/2001/xml-events\" xmlns:xlink=\"http://www.w3.org/1999/xlink\"><defs /><circle cx=\"21\" cy=\"21\" fill=\"#808000\" fill-opacity=\"1.0\" r=\"20\" stroke=\"#000000\" stroke-width=\"1\" /></svg>"
      ],
      "text/plain": [
       "<Canvas (42, 42)>"
      ]
     },
     "metadata": {},
     "output_type": "display_data"
    },
    {
     "data": {
      "image/svg+xml": [
       "<svg baseProfile=\"full\" height=\"42\" version=\"1.1\" width=\"42\" xmlns=\"http://www.w3.org/2000/svg\" xmlns:ev=\"http://www.w3.org/2001/xml-events\" xmlns:xlink=\"http://www.w3.org/1999/xlink\"><defs /><circle cx=\"21\" cy=\"21\" fill=\"#000000\" fill-opacity=\"1.0\" r=\"20\" stroke=\"#000000\" stroke-width=\"1\" /></svg>"
      ],
      "text/plain": [
       "<Canvas (42, 42)>"
      ]
     },
     "metadata": {},
     "output_type": "display_data"
    },
    {
     "data": {
      "image/svg+xml": [
       "<svg baseProfile=\"full\" height=\"42\" version=\"1.1\" width=\"42\" xmlns=\"http://www.w3.org/2000/svg\" xmlns:ev=\"http://www.w3.org/2001/xml-events\" xmlns:xlink=\"http://www.w3.org/1999/xlink\"><defs /><circle cx=\"21\" cy=\"21\" fill=\"#008080\" fill-opacity=\"1.0\" r=\"20\" stroke=\"#000000\" stroke-width=\"1\" /></svg>"
      ],
      "text/plain": [
       "<Canvas (42, 42)>"
      ]
     },
     "metadata": {},
     "output_type": "display_data"
    },
    {
     "data": {
      "image/svg+xml": [
       "<svg baseProfile=\"full\" height=\"42\" version=\"1.1\" width=\"42\" xmlns=\"http://www.w3.org/2000/svg\" xmlns:ev=\"http://www.w3.org/2001/xml-events\" xmlns:xlink=\"http://www.w3.org/1999/xlink\"><defs /><circle cx=\"21\" cy=\"21\" fill=\"#00ff00\" fill-opacity=\"1.0\" r=\"20\" stroke=\"#000000\" stroke-width=\"1\" /></svg>"
      ],
      "text/plain": [
       "<Canvas (42, 42)>"
      ]
     },
     "metadata": {},
     "output_type": "display_data"
    },
    {
     "data": {
      "image/svg+xml": [
       "<svg baseProfile=\"full\" height=\"42\" version=\"1.1\" width=\"42\" xmlns=\"http://www.w3.org/2000/svg\" xmlns:ev=\"http://www.w3.org/2001/xml-events\" xmlns:xlink=\"http://www.w3.org/1999/xlink\"><defs /><circle cx=\"21\" cy=\"21\" fill=\"#c0c0c0\" fill-opacity=\"1.0\" r=\"20\" stroke=\"#000000\" stroke-width=\"1\" /></svg>"
      ],
      "text/plain": [
       "<Canvas (42, 42)>"
      ]
     },
     "metadata": {},
     "output_type": "display_data"
    },
    {
     "data": {
      "image/svg+xml": [
       "<svg baseProfile=\"full\" height=\"42\" version=\"1.1\" width=\"42\" xmlns=\"http://www.w3.org/2000/svg\" xmlns:ev=\"http://www.w3.org/2001/xml-events\" xmlns:xlink=\"http://www.w3.org/1999/xlink\"><defs /><circle cx=\"21\" cy=\"21\" fill=\"#000080\" fill-opacity=\"1.0\" r=\"20\" stroke=\"#000000\" stroke-width=\"1\" /></svg>"
      ],
      "text/plain": [
       "<Canvas (42, 42)>"
      ]
     },
     "metadata": {},
     "output_type": "display_data"
    }
   ],
   "source": [
    "cyan.draw()\n",
    "red.draw()\n",
    "olive.draw()\n",
    "black.draw()\n",
    "navy.draw()\n",
    "lime.draw()\n",
    "silver.draw()\n",
    "teal.draw()"
   ]
  },
  {
   "cell_type": "markdown",
   "id": "a8109c5c-4a21-4677-8de9-5c4ed2996f66",
   "metadata": {},
   "source": [
    "# 3. La fenetre graphique :   la lasse `Canvas`"
   ]
  },
  {
   "cell_type": "markdown",
   "id": "5301aa35-aa1a-4e6d-93db-051048e74047",
   "metadata": {},
   "source": [
    "Avant de dessiner il faut définir une zone de dessin, qui sera une instance (__variable__) de la classe `Canvas`."
   ]
  },
  {
   "cell_type": "markdown",
   "id": "cbe7116f-c271-4cf9-a52b-922f6b66f722",
   "metadata": {},
   "source": [
    "## 3.1 La création"
   ]
  },
  {
   "cell_type": "markdown",
   "id": "74446fd6-8336-4f6c-9de8-5713c5978c44",
   "metadata": {},
   "source": [
    "Pour créer une fenêtre graphique vous allez faire appel à une méthode specifique : le constructeur. Le constructeur de `Canvas` prend en paramètre un couple sous la forme  `(largeur, hauteur)`. Voici par exemple comment créer un canevas nommé `cv` de taille 640x480 pixels :\n",
    "```python\n",
    "cv = Canvas((640, 480)) # attention aux parenthèses !\n",
    "```"
   ]
  },
  {
   "cell_type": "markdown",
   "id": "1f6e7cb7-6da2-49f2-ad89-9cc4337c4894",
   "metadata": {},
   "source": [
    "## 3.2 La manipulation "
   ]
  },
  {
   "cell_type": "markdown",
   "id": "5b4b1439-03c8-4cc9-965a-854f195e7372",
   "metadata": {},
   "source": [
    "#### 3.2.1 Définitions"
   ]
  },
  {
   "cell_type": "markdown",
   "id": "395f310f-8d4f-462a-8e36-a17628dadb9d",
   "metadata": {},
   "source": [
    "Voici les principales méthodes à utiliser sur une fenêtre graphique (`Canvas`). Certaines utilisent une \"figure\" qui sera introguite par la suite.\n",
    "\n",
    "Si `cv` est une fenêtre graphique de type `Canvas` :\n",
    "\n",
    "`cv.getWidth()`\n",
    "> Retourne la largeur du canevas `cv`.\n",
    "\n",
    "`cv.getHeight()`\n",
    "> Retourne la hauteur du canevas `cv`.\n",
    "\n",
    "`cv.draw(uneFigure)`\n",
    "> Dessine la figure passée en argument sur le canevas `cv`. \n",
    "\n",
    "`cv.undraw(uneFigure)`\n",
    "> Efface la figure passée en argument du canevas `cv`.\n",
    "\n",
    "`cv.clear()`\n",
    "> Efface toutes les figures de `cv`.\n",
    "\n",
    "`cv.drawFrame([uneCouleur])`\n",
    "> Ajoute un cadre au canevas `cv`. Si un argument de type `Color` est spécifié, change la couleur de fond selon cet argument.\n",
    "\n",
    "`cv.display()`\n",
    "> Déclenche l'affichage du canvas `cv`. \n",
    "\n",
    "`cv.displayPause(delay)`\n",
    "> Déclenche l'affichage du canvas `cv` après une pause de la durée passée en argument (en secondes). Le nouveau dessin remplace le dessin précédent. Cette méthode combine la fonction `pause(delay)` déjà connue et la méthode `cv.display()` ci-dessus."
   ]
  },
  {
   "cell_type": "markdown",
   "id": "5d7317b7-fc6b-4225-83a9-839a13cfdb9d",
   "metadata": {},
   "source": [
    "#### 3.2.2 Exercice"
   ]
  },
  {
   "cell_type": "markdown",
   "id": "8327598e-ee70-4914-9a10-81f0e8f8041b",
   "metadata": {},
   "source": [
    "Créez un canevas (fenêtre graphique) dont les dimensions seront préalablement saisies au clavier. Affichez-le. \n",
    "\n",
    "Ajoutez-lui un cadre, affichez le résultat après une pause de 1 seconde. \n",
    "\n",
    "Changez sa couleur de fond en orange, affichez le résultat après une pause de 1.5 seconde. \n",
    "\n",
    "Affichez ses dimensions."
   ]
  },
  {
   "cell_type": "code",
   "execution_count": 3,
   "id": "7f28566a-f442-4f08-a167-c90483004ed4",
   "metadata": {},
   "outputs": [
    {
     "data": {
      "image/svg+xml": [
       "<svg baseProfile=\"full\" height=\"1000\" version=\"1.1\" width=\"1000\" xmlns=\"http://www.w3.org/2000/svg\" xmlns:ev=\"http://www.w3.org/2001/xml-events\" xmlns:xlink=\"http://www.w3.org/1999/xlink\"><defs /><rect fill=\"#ff8000\" fill-opacity=\"1.0\" height=\"1000\" stroke=\"#000000\" stroke-width=\"1\" width=\"1000\" x=\"0\" y=\"0\" /><rect fill=\"#800080\" fill-opacity=\"0.0\" height=\"1000\" stroke=\"#000000\" stroke-width=\"1\" width=\"1000\" x=\"0\" y=\"0\" /></svg>"
      ],
      "text/plain": [
       "<Canvas (1000, 1000)>"
      ]
     },
     "metadata": {},
     "output_type": "display_data"
    },
    {
     "name": "stdout",
     "output_type": "stream",
     "text": [
      "largeur :  1000\n",
      "hauteur :  1000\n"
     ]
    }
   ],
   "source": [
    "cv= Canvas((1000,1000))\n",
    "cv.drawFrame()\n",
    "cv.displayPause(1)\n",
    "cv.drawFrame(orange)\n",
    "cv.displayPause(1.5)\n",
    "w=cv.getWidth()\n",
    "h=cv.getHeight()\n",
    "print(\"largeur : \",w)\n",
    "print(\"hauteur : \",h)"
   ]
  },
  {
   "cell_type": "markdown",
   "id": "e89ab7dc-f7c9-455c-a83f-a612de7d682e",
   "metadata": {},
   "source": [
    "# 4. Les objets graphiques : les figures"
   ]
  },
  {
   "cell_type": "markdown",
   "id": "55dfe3f8-28e5-44f6-b8b6-19b09d6c363d",
   "metadata": {},
   "source": [
    "Maintenant que nous disposons d'une zone de dessin, nous pouvons y ajouter des figures qui seront des rectangles, cercles ou ellipses : `Rectangle`, `Circle` et`Ellipse`."
   ]
  },
  {
   "cell_type": "markdown",
   "id": "26c56494-05b7-4dbd-b03d-5dcdc30d6794",
   "metadata": {},
   "source": [
    "## 4.1 La création"
   ]
  },
  {
   "cell_type": "markdown",
   "id": "6a74daae-1dba-4a99-a25d-8d8cea2d4a7e",
   "metadata": {},
   "source": [
    "Le création d'un objet de type `Rectangle` requiert deux informations : la position du rectangle (celle du coin en haut à gauche) et de sa dimension, sous la forme de deux couples `(x, y)` et `(largeur, hauteur)` :\n",
    "```python\n",
    "r = Rectangle((10, 5), (200, 50))\n",
    "```"
   ]
  },
  {
   "cell_type": "markdown",
   "id": "195403be-b09f-4730-9a97-52b0370dbb26",
   "metadata": {},
   "source": [
    "La création d'un objet de type `Circle` requiert deux informations : la position du centre du cercle sous la forme d'un couple `(x, y)` et son rayon (type `float`):\n",
    "\n",
    "```python\n",
    "c = Circle((100, 80), 15.0)\n",
    "```"
   ]
  },
  {
   "cell_type": "markdown",
   "id": "f90e0294-a814-444d-b1ea-ddb14ad47fc8",
   "metadata": {},
   "source": [
    "La création d'un objet de type `Ellipse` requiert deux informations : la position du centre et ses deux rayons, sous la forme de deux couples `(x, y)` et `(rayonHorizontal, rayonVertical)` :\n",
    "\n",
    "```python\n",
    "e = Ellipse((110, 120), (100, 20))\n",
    "```"
   ]
  },
  {
   "cell_type": "markdown",
   "id": "48dd953f-e6b1-4e52-981a-fe1e947cdea8",
   "metadata": {},
   "source": [
    "#### 4.1.1 Exercice"
   ]
  },
  {
   "cell_type": "markdown",
   "id": "be2d7b87-58b5-4871-9dd6-dd7801da7753",
   "metadata": {},
   "source": [
    "Dans la cellule ci-dessous donnez le code pour construire quelques figures et un canevas dans lequel vous les afficherez. Veillez à ce que la taille du canevas permette bien l'affichage de vos figures."
   ]
  },
  {
   "cell_type": "code",
   "execution_count": 4,
   "id": "80f9527c-dd28-4117-bf1e-ca7525821fbb",
   "metadata": {},
   "outputs": [
    {
     "data": {
      "image/svg+xml": [
       "<svg baseProfile=\"full\" height=\"1000\" version=\"1.1\" width=\"1000\" xmlns=\"http://www.w3.org/2000/svg\" xmlns:ev=\"http://www.w3.org/2001/xml-events\" xmlns:xlink=\"http://www.w3.org/1999/xlink\"><defs /><rect fill=\"#800080\" fill-opacity=\"0.0\" height=\"1000\" stroke=\"#000000\" stroke-width=\"1\" width=\"1000\" x=\"0\" y=\"0\" /><rect fill=\"#800080\" height=\"100\" stroke=\"#000000\" stroke-width=\"1\" width=\"150\" x=\"5\" y=\"5\" /><ellipse cx=\"100\" cy=\"800\" fill=\"#800080\" rx=\"50\" ry=\"200\" stroke=\"#000000\" stroke-width=\"1\" /><circle cx=\"800\" cy=\"300\" fill=\"#800080\" r=\"50\" stroke=\"#000000\" stroke-width=\"1\" /></svg>"
      ],
      "text/plain": [
       "<Canvas (1000, 1000)>"
      ]
     },
     "execution_count": 4,
     "metadata": {},
     "output_type": "execute_result"
    }
   ],
   "source": [
    "cv= Canvas((1000,1000))\n",
    "cv.drawFrame()\n",
    "r = Rectangle((5,5),(150,100))\n",
    "c=Circle((800,300),50)\n",
    "e=Ellipse((100,800),(50,200))\n",
    "cv.draw(r)\n",
    "cv.draw(e)\n",
    "cv.draw(c)"
   ]
  },
  {
   "cell_type": "markdown",
   "id": "a5664dfb-9fe9-4d2f-97a7-48b250d9a895",
   "metadata": {},
   "source": [
    "> Vous noterez que les figures ont une couleur de remplissage et de trait par défaut."
   ]
  },
  {
   "cell_type": "markdown",
   "id": "14e24f2f-62de-45db-88d0-4dc81e358cda",
   "metadata": {},
   "source": [
    "## 4.2 La manipulation "
   ]
  },
  {
   "cell_type": "markdown",
   "id": "148c7885-5019-430f-af72-bdc0752768de",
   "metadata": {},
   "source": [
    "#### 4.2.1 Définitions"
   ]
  },
  {
   "cell_type": "markdown",
   "id": "4805a599-a18b-4510-a881-3ee6d3cce60d",
   "metadata": {},
   "source": [
    "Les méthodes suivantes sont communes aux classes `Rectangle`, `Circle` et `Ellipse`.\n",
    "\n",
    "Si `f` est une figure dont le type est l'une de ces classes :\n",
    "\n",
    "`f.draw(cv)`\n",
    "> Dessine la figure `f` sur le canevas `cv`  passé en argument. C'est équivalent à `cv.draw(f)`\n",
    "\n",
    "`f.undraw()`\n",
    "> Supprime la figure `f`. \n",
    "\n",
    "`f.setFill(col)`\n",
    "> Fixe la couleur de remplissage de `f`  à l'instance de `Color` passée en argument. \n",
    "\n",
    "`f.noFill()`\n",
    "> Supprime le remplissage de `f`. \n",
    "\n",
    "`f.setOutline(col)`\n",
    "> Fixe la couleur de trait de `f` à l'instance de `Color` passée en argument. \n",
    "\n",
    "`f.setWidth(pixels)`\n",
    "> Fixe l'épaisseur du trait de `f` à la taille `pixels` passée en argument. \n",
    "\n",
    "`f.noStroke()`\n",
    "> Supprime le trait de `f`. "
   ]
  },
  {
   "cell_type": "markdown",
   "id": "ad8966ca-83a7-4914-88b9-50d11e548da3",
   "metadata": {
    "tags": []
   },
   "source": [
    "# 5 Exercices"
   ]
  },
  {
   "cell_type": "markdown",
   "id": "910b86a9-14fa-41f9-89c2-9d3c583e2d4b",
   "metadata": {},
   "source": [
    "## 5.1 Premier contact avec les figures"
   ]
  },
  {
   "cell_type": "markdown",
   "id": "b4770963-2f2d-447a-9c96-4083f3f35402",
   "metadata": {},
   "source": [
    "### 5.1.1 Le rectangle"
   ]
  },
  {
   "cell_type": "markdown",
   "id": "dbdd41a6-50be-4751-bbc9-323ae941c63e",
   "metadata": {},
   "source": [
    "Créez et affichez canevas dont les caractéristiques sont : la largeur de la\n",
    "fenêtre est 600, sa hauteur 400 et sa couleur du fond est le noir. \n",
    "\n",
    "Créez un rectangle blanc\n",
    "dont la largeur est 200, la hauteur 300 et la position a pour coordonnées x=100, y=50.\n",
    "\n",
    "Affichez le rectangle dans le canevas.\n",
    "\n",
    "Modifiez l'épaisseur du contour du rectangle : la nouvelle\n",
    "largeur sera de 20. Modifiez la couleur du Rectangle pour qu'il devienne rouge.\n",
    "\n",
    "Vous pourrez mettre en pause votre canevas entre chaque étape de l'exercice."
   ]
  },
  {
   "cell_type": "code",
   "execution_count": 11,
   "id": "699c9b7c-2aa8-4e3b-8c86-c53fcb561f53",
   "metadata": {
    "scrolled": true
   },
   "outputs": [
    {
     "data": {
      "image/svg+xml": [
       "<svg baseProfile=\"full\" height=\"400\" version=\"1.1\" width=\"600\" xmlns=\"http://www.w3.org/2000/svg\" xmlns:ev=\"http://www.w3.org/2001/xml-events\" xmlns:xlink=\"http://www.w3.org/1999/xlink\"><defs /><rect fill=\"#000000\" fill-opacity=\"1.0\" height=\"400\" stroke=\"#000000\" stroke-width=\"1\" width=\"600\" x=\"0\" y=\"0\" /><rect fill=\"#ff0000\" fill-opacity=\"1.0\" height=\"300\" stroke=\"#ffff00\" stroke-opacity=\"1.0\" stroke-width=\"20\" width=\"200\" x=\"100\" y=\"50\" /></svg>"
      ],
      "text/plain": [
       "<Canvas (600, 400)>"
      ]
     },
     "metadata": {},
     "output_type": "display_data"
    },
    {
     "data": {
      "image/svg+xml": [
       "<svg baseProfile=\"full\" height=\"400\" version=\"1.1\" width=\"600\" xmlns=\"http://www.w3.org/2000/svg\" xmlns:ev=\"http://www.w3.org/2001/xml-events\" xmlns:xlink=\"http://www.w3.org/1999/xlink\"><defs /><rect fill=\"#000000\" fill-opacity=\"1.0\" height=\"400\" stroke=\"#000000\" stroke-width=\"1\" width=\"600\" x=\"0\" y=\"0\" /><rect fill=\"#ff0000\" fill-opacity=\"1.0\" height=\"300\" stroke=\"#ffff00\" stroke-opacity=\"1.0\" stroke-width=\"20\" width=\"200\" x=\"100\" y=\"50\" /><rect fill=\"#ff0000\" fill-opacity=\"1.0\" height=\"300\" stroke=\"#ffff00\" stroke-opacity=\"1.0\" stroke-width=\"20\" width=\"200\" x=\"100\" y=\"50\" /></svg>"
      ],
      "text/plain": [
       "<Canvas (600, 400)>"
      ]
     },
     "execution_count": 11,
     "metadata": {},
     "output_type": "execute_result"
    }
   ],
   "source": [
    "cv = Canvas((600,400))\n",
    "cv.drawFrame(black)\n",
    "r=Rectangle((100,50),(200,300))\n",
    "r.setFill(white)\n",
    "cv.draw(r)\n",
    "r.setOutline(yellow)\n",
    "r.setWidth(20)\n",
    "r.setFill(red)\n",
    "cv.displayPause(2)\n",
    "cv.draw(r)\n"
   ]
  },
  {
   "cell_type": "markdown",
   "id": "b591179d-3ed7-46aa-8afe-7992a2aa9c45",
   "metadata": {},
   "source": [
    "### 5.1.2 Le cercle et l'ellipse"
   ]
  },
  {
   "cell_type": "markdown",
   "id": "3892e280-4e51-4781-a24b-5d7d1d6abd8d",
   "metadata": {},
   "source": [
    "Créez et affichez canevas dont les caractéristiques sont : la largeur de la fenêtre est 600, sa hauteur 400 et sa couleur du fond est le noir.\n",
    "\n",
    "Créez un cercle et une ellipse en leur attribuant des caractéristiques leur permettants d'être visible entièrement dans le canevas. Ces deux figures ne devront pas se superposer et être de couleurs différentes.\n",
    "\n",
    "Affichez le cercle et l'ellipse dans le canevas.\n",
    "\n",
    "Modifiez les caractéristiques des deux figures tout en respectant les contraintes initiales.\n",
    "\n",
    "Vous pourrez mettre en pause votre canevas entre chaque étape de l'exercice."
   ]
  },
  {
   "cell_type": "code",
   "execution_count": 14,
   "id": "3fb2d523-819c-4323-820d-16f858a96d41",
   "metadata": {},
   "outputs": [
    {
     "data": {
      "image/svg+xml": [
       "<svg baseProfile=\"full\" height=\"400\" version=\"1.1\" width=\"600\" xmlns=\"http://www.w3.org/2000/svg\" xmlns:ev=\"http://www.w3.org/2001/xml-events\" xmlns:xlink=\"http://www.w3.org/1999/xlink\"><defs /><rect fill=\"#000000\" fill-opacity=\"1.0\" height=\"400\" stroke=\"#000000\" stroke-width=\"1\" width=\"600\" x=\"0\" y=\"0\" /><circle cx=\"20\" cy=\"20\" fill=\"#808000\" fill-opacity=\"1.0\" r=\"15\" stroke=\"#000000\" stroke-width=\"1\" /><ellipse cx=\"300\" cy=\"200\" fill=\"#00ffff\" fill-opacity=\"1.0\" rx=\"90\" ry=\"200\" stroke=\"#000000\" stroke-width=\"1\" /></svg>"
      ],
      "text/plain": [
       "<Canvas (600, 400)>"
      ]
     },
     "metadata": {},
     "output_type": "display_data"
    }
   ],
   "source": [
    "cv = Canvas((600,400))\n",
    "cv.drawFrame(black)\n",
    "c=Circle((20,20),15)\n",
    "e=Ellipse((300,200),(90,200))\n",
    "cv.draw(c)\n",
    "cv.draw(e)\n",
    "cv.displayPause(5)\n",
    "e.setFill(cyan)\n",
    "c.setFill(olive)\n",
    "cv.displayPause(5)"
   ]
  },
  {
   "cell_type": "markdown",
   "id": "353e7449-01a9-458b-94ac-9e9c554aff7f",
   "metadata": {},
   "source": [
    "## 5.2 Les figures __dynamiques__"
   ]
  },
  {
   "cell_type": "markdown",
   "id": "85664b58-3935-4145-acaa-6156ff1278be",
   "metadata": {},
   "source": [
    "### 5.2.1 Le rectangle centré"
   ]
  },
  {
   "cell_type": "markdown",
   "id": "237c9d80-3091-4a11-a4fa-d714321a616b",
   "metadata": {},
   "source": [
    "On souhaite disposer d'un canevas carré blanc contenant un rectangle bleu.\n",
    "\n",
    "Tirez aléatoirement la dimension canevas : cette dimension sera comprise entre 300 et 500 inclus.\n",
    "\n",
    "Créez le canevas et affichez le.\n",
    "\n",
    "Créez un rectange bleu qui devra se trouver au milieu de la fenêtre et avoir pour largeur et hauteur la moitié de celle du canevas.\n",
    "\n",
    "Affichez le rectangle.\n",
    "\n",
    "> Il vous est recommandé de produire une solution lisible qui contiendra plusieurs variables dont les noms devront porter l'information sur leur contenu. "
   ]
  },
  {
   "cell_type": "code",
   "execution_count": 20,
   "id": "16613c2e-d5c4-4f9d-8ba4-187e0c7a24ff",
   "metadata": {},
   "outputs": [
    {
     "data": {
      "image/svg+xml": [
       "<svg baseProfile=\"full\" height=\"332\" version=\"1.1\" width=\"448\" xmlns=\"http://www.w3.org/2000/svg\" xmlns:ev=\"http://www.w3.org/2001/xml-events\" xmlns:xlink=\"http://www.w3.org/1999/xlink\"><defs /><rect fill=\"#ffffff\" fill-opacity=\"1.0\" height=\"332\" stroke=\"#000000\" stroke-width=\"1\" width=\"448\" x=\"0\" y=\"0\" /><rect fill=\"#800080\" height=\"166.0\" stroke=\"#000000\" stroke-width=\"1\" width=\"224.0\" x=\"112.0\" y=\"83.0\" /></svg>"
      ],
      "text/plain": [
       "<Canvas (448, 332)>"
      ]
     },
     "execution_count": 20,
     "metadata": {},
     "output_type": "execute_result"
    }
   ],
   "source": [
    "largeur=randint(300,500)\n",
    "hauteur=randint(300,500)\n",
    "cv = Canvas((largeur,hauteur))\n",
    "cv.drawFrame(white)\n",
    "cv.display()\n",
    "r=Rectangle((largeur/4,hauteur/4),(largeur/2,hauteur/2))\n",
    "pause(5)\n",
    "cv.draw(r)"
   ]
  },
  {
   "cell_type": "markdown",
   "id": "e4e6293d-8edd-495f-9c8d-748c3bf7e8b8",
   "metadata": {},
   "source": [
    "### 5.2.2 Une superposition"
   ]
  },
  {
   "cell_type": "markdown",
   "id": "1d4a90fb-15b8-4e25-bc58-0923ad08930e",
   "metadata": {},
   "source": [
    "Reprenez la figure de l'exercice précédent. \n",
    "\n",
    "Complétez la figure avec une cercle rouge dont le diamètre correspond à la largeur sur rectangle et qui se trouvera à l'intérieur du rectangle. \n",
    "\n",
    "Complétez la figure avec une ellipse verte dont le grand axe correpond à la largeur du rectangle et le petit axe à sa moitié et qui se trouvera à l'intérieur du cercle.\n",
    "\n",
    "Affichez le canevas, puis le rectangle, puis le cercle pour terminer par l'ellipse. Chaque étape sera séparée par une pause.\n",
    "\n",
    "Effacez les différentes figures dans l'ordre inverse de leur affichage. Chaque étape sera séparée par une pause.\n",
    "\n",
    "> Il vous est recommandé de produire une solution lisible qui contiendra plusieurs variables dont les noms devront porter l'information sur leur contenu. "
   ]
  },
  {
   "cell_type": "code",
   "execution_count": 31,
   "id": "1e6ea37a-f08f-4928-8e9a-e2fc55214819",
   "metadata": {},
   "outputs": [
    {
     "data": {
      "image/svg+xml": [
       "<svg baseProfile=\"full\" height=\"409\" version=\"1.1\" width=\"321\" xmlns=\"http://www.w3.org/2000/svg\" xmlns:ev=\"http://www.w3.org/2001/xml-events\" xmlns:xlink=\"http://www.w3.org/1999/xlink\"><defs /><rect fill=\"#ffffff\" fill-opacity=\"1.0\" height=\"409\" stroke=\"#000000\" stroke-width=\"1\" width=\"321\" x=\"0\" y=\"0\" /></svg>"
      ],
      "text/plain": [
       "<Canvas (321, 409)>"
      ]
     },
     "execution_count": 31,
     "metadata": {},
     "output_type": "execute_result"
    }
   ],
   "source": [
    "largeur=randint(300,500)\n",
    "hauteur=randint(300,500)\n",
    "cv = Canvas((largeur,hauteur))\n",
    "cv.drawFrame(white)\n",
    "cv.display()\n",
    "l1=largeur/4\n",
    "h1=hauteur/4\n",
    "h2=hauteur/2\n",
    "l2=largeur/2\n",
    "r=Rectangle((l1,h1),(l2,h2))\n",
    "pause(2)\n",
    "cv.draw(r)\n",
    "c=Circle((l2,h2),l1)\n",
    "c.setFill(red)\n",
    "pause(1)\n",
    "cv.draw(c)\n",
    "e=Ellipse((l2,h2),(l1,l1/2))\n",
    "e.setFill(green)\n",
    "pause(1)\n",
    "cv.draw(e)\n",
    "pause(1)\n",
    "cv.undraw(e)\n",
    "pause(1)\n",
    "cv.undraw(c)\n",
    "pause(1)\n",
    "cv.undraw(r)"
   ]
  },
  {
   "cell_type": "markdown",
   "id": "0f323886-6ed5-4408-b6b2-71e19d8b6069",
   "metadata": {},
   "source": [
    "### 5.2.3 La profondeur"
   ]
  },
  {
   "cell_type": "markdown",
   "id": "12df4990-f042-4e50-bb25-9a3486372ad0",
   "metadata": {},
   "source": [
    "Le but de cet exercice est d'obtenir la figure suivante :\n",
    "\n",
    "<div style=\"text-align: center\">\n",
    "    <img src=\"https://iut-info.univ-reims.fr/users/romaniuk/restricted/S1AlgoProg/ressources/profondeur.png\" alt=\"\" width=\"400\">\n",
    "</div> \n",
    "\n",
    "La fenêtre aura pour hauteur et largeur 900. Elle aura un fond blanc.   \n",
    "\n",
    "Les carrés contenus dans la fenêtre seront centrés et leur largeur évoluera de 200 entre deux carrés voisins. Les couleurs des carrés iront du vert (pour le plus petit), en passant par le rouge, puis par le jaune pour arriver sur le bleu pour le plus grand.\n",
    "\n",
    "Proposez une solution permettant d'obtenir ce dessin.\n",
    "\n",
    "> Il vous est recommandé de produire une solution lisible qui contiendra plusieurs variables dont les noms devront porter l'information sur leur contenu. "
   ]
  },
  {
   "cell_type": "code",
   "execution_count": 40,
   "id": "f03acb44-321c-4365-837f-86c21d8da06a",
   "metadata": {
    "scrolled": true
   },
   "outputs": [
    {
     "data": {
      "image/svg+xml": [
       "<svg baseProfile=\"full\" height=\"900\" version=\"1.1\" width=\"900\" xmlns=\"http://www.w3.org/2000/svg\" xmlns:ev=\"http://www.w3.org/2001/xml-events\" xmlns:xlink=\"http://www.w3.org/1999/xlink\"><defs /><rect fill=\"#ffffff\" fill-opacity=\"1.0\" height=\"900\" stroke=\"#000000\" stroke-width=\"1\" width=\"900\" x=\"0\" y=\"0\" /><rect fill=\"#0000ff\" fill-opacity=\"1.0\" height=\"700\" stroke=\"#000000\" stroke-width=\"1\" width=\"700\" x=\"100.0\" y=\"100.0\" /><rect fill=\"#ffff00\" fill-opacity=\"1.0\" height=\"500\" stroke=\"#000000\" stroke-width=\"1\" width=\"500\" x=\"200.0\" y=\"200.0\" /><rect fill=\"#ff0000\" fill-opacity=\"1.0\" height=\"300\" stroke=\"#000000\" stroke-width=\"1\" width=\"300\" x=\"300.0\" y=\"300.0\" /><rect fill=\"#008000\" fill-opacity=\"1.0\" height=\"100\" stroke=\"#000000\" stroke-width=\"1\" width=\"100\" x=\"400.0\" y=\"400.0\" /></svg>"
      ],
      "text/plain": [
       "<Canvas ('900', '900')>"
      ]
     },
     "execution_count": 40,
     "metadata": {},
     "output_type": "execute_result"
    }
   ],
   "source": [
    "c=input(\"Côté de l'écran : \")\n",
    "cv = Canvas((c,c))\n",
    "cv.drawFrame(white)\n",
    "cv.display()\n",
    "pause(1)\n",
    "i=input(\"intervalle entre les carrés : \")\n",
    "i=int(i)\n",
    "c=int(c)\n",
    "a=i/2\n",
    "b=c-i\n",
    "r1=Rectangle((a,a),(b,b))\n",
    "r1.setFill(blue)\n",
    "cv.draw(r1)\n",
    "pause(1)\n",
    "a=i/2*2\n",
    "b=c-i*2\n",
    "r2=Rectangle((a,a),(b,b))\n",
    "r2.setFill(yellow)\n",
    "cv.draw(r2)\n",
    "pause(1)\n",
    "a=i/2*3\n",
    "b=c-i*3\n",
    "r3=Rectangle((a,a),(b,b))\n",
    "r3.setFill(red)\n",
    "cv.draw(r3)\n",
    "pause(1)\n",
    "a=i/2*4\n",
    "b=c-i*4\n",
    "r4=Rectangle((a,a),(b,b))\n",
    "r4.setFill(green)\n",
    "cv.draw(r4)\n"
   ]
  },
  {
   "cell_type": "markdown",
   "id": "a00cde54-a876-4ee1-bf2c-325a98de2dcc",
   "metadata": {},
   "source": [
    "### 5.2.4 Une composition rectangulaire"
   ]
  },
  {
   "cell_type": "markdown",
   "id": "43f8b047-35b1-4699-9296-8cc8f9d52bab",
   "metadata": {},
   "source": [
    "Le but de cet exercice est d'obtenir la figure suivante :\n",
    "\n",
    "<div style=\"text-align: center\">\n",
    "    <img src=\"https://iut-info.univ-reims.fr/users/romaniuk/restricted/S1AlgoProg/ressources/CRect.png\" alt=\"\" width=\"400\">\n",
    "</div> \n",
    "\n",
    "Créez et affichez un canvas de taille 500 par 500 blanc. \n",
    "\n",
    "Positionnez au centre de cette fenêtre un rectangle vert de largeur 300 et de hauteur 200.\n",
    "\n",
    "Positionnez sur chacun des sommets du rectangle un cercle rouge de diamètre 50.\n",
    "\n",
    "Modifiez le programme précédent pour que le canvas ait pour largeur 600 et hauteur 400 lors de sa création. Testez votre programme à nouveau, le résultat que vous devriez obtenir devrait être centré.\n",
    "\n",
    "> Il vous est recommandé de produire une solution lisible qui contiendra plusieurs variables dont les noms devront porter l'information sur leur contenu. "
   ]
  },
  {
   "cell_type": "code",
   "execution_count": 3,
   "id": "b25f6324-46cf-4ab5-8d06-1f7c049e800a",
   "metadata": {},
   "outputs": [
    {
     "data": {
      "image/svg+xml": [
       "<svg baseProfile=\"full\" height=\"500\" version=\"1.1\" width=\"500\" xmlns=\"http://www.w3.org/2000/svg\" xmlns:ev=\"http://www.w3.org/2001/xml-events\" xmlns:xlink=\"http://www.w3.org/1999/xlink\"><defs /><rect fill=\"#ffffff\" fill-opacity=\"1.0\" height=\"500\" stroke=\"#000000\" stroke-width=\"1\" width=\"500\" x=\"0\" y=\"0\" /><rect fill=\"#00ff00\" fill-opacity=\"1.0\" height=\"200\" stroke=\"#000000\" stroke-opacity=\"0.0\" stroke-width=\"1\" width=\"300\" x=\"100.0\" y=\"150.0\" /><circle cx=\"100.0\" cy=\"150.0\" fill=\"#ff0000\" fill-opacity=\"1.0\" r=\"25\" stroke=\"#000000\" stroke-opacity=\"0.0\" stroke-width=\"1\" /><circle cx=\"400.0\" cy=\"150.0\" fill=\"#ff0000\" fill-opacity=\"1.0\" r=\"25\" stroke=\"#000000\" stroke-opacity=\"0.0\" stroke-width=\"1\" /><circle cx=\"100.0\" cy=\"350.0\" fill=\"#ff0000\" fill-opacity=\"1.0\" r=\"25\" stroke=\"#000000\" stroke-opacity=\"0.0\" stroke-width=\"1\" /><circle cx=\"400.0\" cy=\"350.0\" fill=\"#ff0000\" fill-opacity=\"1.0\" r=\"25\" stroke=\"#000000\" stroke-opacity=\"0.0\" stroke-width=\"1\" /></svg>"
      ],
      "text/plain": [
       "<Canvas (500, 500)>"
      ]
     },
     "execution_count": 3,
     "metadata": {},
     "output_type": "execute_result"
    }
   ],
   "source": [
    "c=input(\"Côté de l'écran : \")\n",
    "c=int(c)\n",
    "cv = Canvas((c,c))\n",
    "cv.drawFrame(white)\n",
    "cv.display()\n",
    "pause(1)\n",
    "a=c/2-150\n",
    "b=c/2-100\n",
    "r=Rectangle((a,b),(300,200))\n",
    "c1=Circle((a,b),25)\n",
    "c2=Circle((a+300,b),25)\n",
    "c3=Circle((a,b+200),25)\n",
    "c4=Circle((a+300,b+200),25)\n",
    "r.setFill(lime)\n",
    "c1.setFill(red)\n",
    "c2.setFill(red)\n",
    "c3.setFill(red)\n",
    "c4.setFill(red)\n",
    "r.noStroke()\n",
    "c1.noStroke()\n",
    "c2.noStroke()\n",
    "c3.noStroke()\n",
    "c4.noStroke()\n",
    "cv.draw(r)\n",
    "cv.draw(c1)\n",
    "cv.draw(c2)\n",
    "cv.draw(c3)\n",
    "cv.draw(c4)"
   ]
  },
  {
   "cell_type": "markdown",
   "id": "768ecc20-5830-4c35-afba-96772ccafd3c",
   "metadata": {},
   "source": [
    "### 5.2.5 Une composition circulaire"
   ]
  },
  {
   "cell_type": "markdown",
   "id": "d5971fa5-15ac-466a-9707-f89c2c08321a",
   "metadata": {},
   "source": [
    "Le but de cet exercice est d'obtenir la figure suivante :\n",
    "\n",
    "<div style=\"text-align: center\">\n",
    "    <img src=\"https://iut-info.univ-reims.fr/users/romaniuk/restricted/S1AlgoProg/ressources/CCirc.png\" alt=\"\" width=\"400\">\n",
    "</div> \n",
    "\n",
    "Créez et affichez un canvas de taille 500 par 500 blanc. \n",
    "\n",
    "Positionnez au centre de cette fenêtre un cercle noir de diamètre 300.\n",
    "\n",
    "Positionnez sur des cercles rouges de diamètre 50 aupoint Nord, Sud, Est et Ouest du cercle noir comme indiqué sur la figure.\n",
    "\n",
    "Modifiez le programme précédent pour que le canvas ait pour largeur 600 et hauteur 400 lors de sa création. Testez votre programme à nouveau, le résultat que vous devriez obtenir devrait être centré.\n",
    "\n",
    "> Il vous est recommandé de produire une solution lisible qui contiendra plusieurs variables dont les noms devront porter l'information sur leur contenu. "
   ]
  },
  {
   "cell_type": "code",
   "execution_count": 57,
   "id": "fe29975d-1520-406d-be18-6bd95fa1a7b0",
   "metadata": {},
   "outputs": [
    {
     "data": {
      "image/svg+xml": [
       "<svg baseProfile=\"full\" height=\"400\" version=\"1.1\" width=\"600\" xmlns=\"http://www.w3.org/2000/svg\" xmlns:ev=\"http://www.w3.org/2001/xml-events\" xmlns:xlink=\"http://www.w3.org/1999/xlink\"><defs /><rect fill=\"#ffffff\" fill-opacity=\"1.0\" height=\"400\" stroke=\"#000000\" stroke-width=\"1\" width=\"600\" x=\"0\" y=\"0\" /><circle cx=\"300.0\" cy=\"200.0\" fill=\"#000000\" fill-opacity=\"1.0\" r=\"150\" stroke=\"#000000\" stroke-width=\"1\" /><circle cx=\"300.0\" cy=\"50.0\" fill=\"#ff0000\" fill-opacity=\"1.0\" r=\"25\" stroke=\"#000000\" stroke-opacity=\"0.0\" stroke-width=\"1\" /><circle cx=\"300.0\" cy=\"350.0\" fill=\"#ff0000\" fill-opacity=\"1.0\" r=\"25\" stroke=\"#000000\" stroke-opacity=\"0.0\" stroke-width=\"1\" /><circle cx=\"150.0\" cy=\"200.0\" fill=\"#ff0000\" fill-opacity=\"1.0\" r=\"25\" stroke=\"#000000\" stroke-opacity=\"0.0\" stroke-width=\"1\" /><circle cx=\"450.0\" cy=\"200.0\" fill=\"#ff0000\" fill-opacity=\"1.0\" r=\"25\" stroke=\"#000000\" stroke-opacity=\"0.0\" stroke-width=\"1\" /></svg>"
      ],
      "text/plain": [
       "<Canvas (600, 400)>"
      ]
     },
     "execution_count": 57,
     "metadata": {},
     "output_type": "execute_result"
    }
   ],
   "source": [
    "l=input(\"Largeur de l'écran : \")\n",
    "h=input(\"Hauteur de l'écran : \")\n",
    "l=int(l)\n",
    "h=int(h)\n",
    "cv = Canvas((l,h))\n",
    "cv.drawFrame(white)\n",
    "cv.display()\n",
    "pause(1)\n",
    "c0=Circle((l/2,h/2),150)\n",
    "c0.setFill(black)\n",
    "a=h/2-150\n",
    "c1=Circle((l/2,a),25)\n",
    "a=h/2+150\n",
    "c2=Circle((l/2,a),25)\n",
    "a=l/2-150\n",
    "c3=Circle((a,h/2),25)\n",
    "a=l/2+150\n",
    "c4=Circle((a,h/2),25)\n",
    "c1.noStroke()\n",
    "c2.noStroke()\n",
    "c3.noStroke()\n",
    "c4.noStroke()\n",
    "c1.setFill(red)\n",
    "c2.setFill(red)\n",
    "c3.setFill(red)\n",
    "c4.setFill(red)\n",
    "cv.draw(c0)\n",
    "cv.draw(c1)\n",
    "cv.draw(c2)\n",
    "cv.draw(c3)\n",
    "cv.draw(c4)\n"
   ]
  },
  {
   "cell_type": "markdown",
   "id": "c74c5d5e-0646-4544-ad34-31dcfafcd0d1",
   "metadata": {},
   "source": [
    "### 5.2.6 Feu tricolore"
   ]
  },
  {
   "cell_type": "markdown",
   "id": "50b447ff-c93f-4f3c-ad5a-bb4d060cfa84",
   "metadata": {},
   "source": [
    "Reproduisez un feu tricolore similaire à la capture ci-dessous (cadre vertical gris contenant 3 cercles de couleurs rouge, orange et verte en allant de hait en bas. \n",
    "\n",
    "<div style=\"text-align: center\">\n",
    "    <img src=\"https://iut-info.univ-reims.fr/users/romaniuk/restricted/S1AlgoProg/ressources/Feu.png\" alt=\"\" width=\"50\">\n",
    "</div> \n",
    "\n",
    "La figure devra pouvoir changer de dimension simplement en spécifiant sa largeur (égale à 50 ci-dessus)."
   ]
  },
  {
   "cell_type": "code",
   "execution_count": 3,
   "id": "9b8a44d5-0cbb-420c-8b98-00d13b4a4050",
   "metadata": {},
   "outputs": [
    {
     "name": "stdout",
     "output_type": "stream",
     "text": [
      "Largeur du feu :50\n"
     ]
    },
    {
     "data": {
      "image/svg+xml": [
       "<svg baseProfile=\"full\" height=\"150\" version=\"1.1\" width=\"50\" xmlns=\"http://www.w3.org/2000/svg\" xmlns:ev=\"http://www.w3.org/2001/xml-events\" xmlns:xlink=\"http://www.w3.org/1999/xlink\"><defs /><rect fill=\"#808080\" fill-opacity=\"1.0\" height=\"150\" stroke=\"#000000\" stroke-width=\"1\" width=\"50\" x=\"0\" y=\"0\" /><circle cx=\"25.0\" cy=\"25.0\" fill=\"#ff0000\" fill-opacity=\"1.0\" r=\"23.0\" stroke=\"#000000\" stroke-width=\"1\" /><circle cx=\"25.0\" cy=\"75.0\" fill=\"#ff8000\" fill-opacity=\"1.0\" r=\"23.0\" stroke=\"#000000\" stroke-width=\"1\" /><circle cx=\"25.0\" cy=\"125.0\" fill=\"#00ff00\" fill-opacity=\"1.0\" r=\"23.0\" stroke=\"#000000\" stroke-width=\"1\" /></svg>"
      ],
      "text/plain": [
       "<Canvas (50, 150)>"
      ]
     },
     "execution_count": 3,
     "metadata": {},
     "output_type": "execute_result"
    }
   ],
   "source": [
    "l=input(\"Largeur du feu :\")\n",
    "l=int(l)\n",
    "cv = Canvas((l,l*3))\n",
    "cv.drawFrame(gray)\n",
    "c1=Circle((l/2,l/2),l/2-2)\n",
    "c2=Circle((l/2,l+l/2),l/2-2)\n",
    "c3=Circle((l/2,2*l+l/2),l/2-2)\n",
    "c1.setFill(red)\n",
    "c2.setFill(orange)\n",
    "c3.setFill(lime)\n",
    "cv.draw(c1)\n",
    "cv.draw(c2)\n",
    "cv.draw(c3)"
   ]
  },
  {
   "cell_type": "code",
   "execution_count": 4,
   "id": "def65c03",
   "metadata": {
    "scrolled": true
   },
   "outputs": [
    {
     "data": {
      "image/svg+xml": [
       "<svg baseProfile=\"full\" height=\"150\" version=\"1.1\" width=\"50\" xmlns=\"http://www.w3.org/2000/svg\" xmlns:ev=\"http://www.w3.org/2001/xml-events\" xmlns:xlink=\"http://www.w3.org/1999/xlink\"><defs /><rect fill=\"#ffffff\" fill-opacity=\"1.0\" height=\"150\" stroke=\"#000000\" stroke-width=\"1\" width=\"50\" x=\"0\" y=\"0\" /><ellipse cx=\"25.0\" cy=\"75.0\" fill=\"#000000\" fill-opacity=\"1.0\" rx=\"12.5\" ry=\"37.5\" stroke=\"#000000\" stroke-width=\"1\" /><circle cx=\"25.0\" cy=\"37.5\" fill=\"#ff0000\" fill-opacity=\"1.0\" r=\"25\" stroke=\"#000000\" stroke-opacity=\"0.0\" stroke-width=\"1\" /><circle cx=\"25.0\" cy=\"112.5\" fill=\"#ff0000\" fill-opacity=\"1.0\" r=\"25\" stroke=\"#000000\" stroke-opacity=\"0.0\" stroke-width=\"1\" /><circle cx=\"12.5\" cy=\"75.0\" fill=\"#ff0000\" fill-opacity=\"1.0\" r=\"25\" stroke=\"#000000\" stroke-opacity=\"0.0\" stroke-width=\"1\" /><circle cx=\"37.5\" cy=\"75.0\" fill=\"#ff0000\" fill-opacity=\"1.0\" r=\"25\" stroke=\"#000000\" stroke-opacity=\"0.0\" stroke-width=\"1\" /><circle cx=\"17.644298679166962\" cy=\"-12.319626651041297\" fill=\"#00ff00\" fill-opacity=\"1.0\" r=\"25\" stroke=\"#000000\" stroke-opacity=\"0.0\" stroke-width=\"1\" /><circle cx=\"17.644298679166962\" cy=\"37.3196266510413\" fill=\"#00ff00\" fill-opacity=\"1.0\" r=\"25\" stroke=\"#000000\" stroke-opacity=\"0.0\" stroke-width=\"1\" /><circle cx=\"57.355701320833035\" cy=\"-12.319626651041297\" fill=\"#00ff00\" fill-opacity=\"1.0\" r=\"25\" stroke=\"#000000\" stroke-opacity=\"0.0\" stroke-width=\"1\" /><circle cx=\"57.355701320833035\" cy=\"37.3196266510413\" fill=\"#00ff00\" fill-opacity=\"1.0\" r=\"25\" stroke=\"#000000\" stroke-opacity=\"0.0\" stroke-width=\"1\" /></svg>"
      ],
      "text/plain": [
       "<Canvas (50, 150)>"
      ]
     },
     "execution_count": 4,
     "metadata": {},
     "output_type": "execute_result"
    }
   ],
   "source": [
    "import math\n",
    "import sys\n",
    "\n",
    "l=input(\"Largeur de l'écran : \")\n",
    "h=input(\"Hauteur de l'écran : \")\n",
    "l=int(l)\n",
    "h=int(h)\n",
    "l1=l/4\n",
    "h1=h/4\n",
    "r2=25\n",
    "r1=r/4-h1+r2*4\n",
    "r5=r/4-l1+r2*4\n",
    "an=1.8/(1-math.e*sin(45))\n",
    "cv = Canvas((l,h))\n",
    "cv.drawFrame(white)\n",
    "cv.display()\n",
    "pause(1)\n",
    "e=Ellipse((l/2,h/2),(l1,h1))\n",
    "e.setFill(black)\n",
    "a=h/2-h1\n",
    "c1=Circle((l/2,a),r2)\n",
    "a=h/2+h1\n",
    "c2=Circle((l/2,a),r2)\n",
    "a=l/2-l1\n",
    "c3=Circle((a,h/2),r2)\n",
    "a=l/2+l1\n",
    "c4=Circle((a,h/2),r2)\n",
    "a=h1-math.cos(an)*r1\n",
    "b=l1-math.cos(an)*r5\n",
    "c5=Circle((a,b),r2)\n",
    "a=h1-math.cos(an)*r1\n",
    "b=l1+math.cos(an)*r5\n",
    "c6=Circle((a,b),r2)\n",
    "a=h1+math.cos(an)*r1\n",
    "b=l1-math.cos(an)*r5\n",
    "c7=Circle((a,b),r2)\n",
    "a=h1+math.cos(an)*r1\n",
    "b=l1+math.cos(an)*r5\n",
    "c8=Circle((a,b),r2)\n",
    "\n",
    "c5.noStroke()\n",
    "c6.noStroke()\n",
    "c7.noStroke()\n",
    "c8.noStroke()\n",
    "c5.setFill(lime)\n",
    "c6.setFill(lime)\n",
    "c7.setFill(lime)\n",
    "c8.setFill(lime)\n",
    "c1.noStroke()\n",
    "c2.noStroke()\n",
    "c3.noStroke()\n",
    "c4.noStroke()\n",
    "c1.setFill(red)\n",
    "c2.setFill(red)\n",
    "c3.setFill(red)\n",
    "c4.setFill(red)\n",
    "cv.draw(e)\n",
    "cv.draw(c1)\n",
    "cv.draw(c2)\n",
    "cv.draw(c3)\n",
    "cv.draw(c4)\n",
    "cv.draw(c5)\n",
    "cv.draw(c6)\n",
    "cv.draw(c7)\n",
    "cv.draw(c8)\n"
   ]
  },
  {
   "cell_type": "code",
   "execution_count": 2,
   "id": "cec5ffab",
   "metadata": {},
   "outputs": [
    {
     "data": {
      "image/svg+xml": [
       "<svg baseProfile=\"full\" height=\"500\" version=\"1.1\" width=\"500\" xmlns=\"http://www.w3.org/2000/svg\" xmlns:ev=\"http://www.w3.org/2001/xml-events\" xmlns:xlink=\"http://www.w3.org/1999/xlink\"><defs /><rect fill=\"#ffffff\" fill-opacity=\"1.0\" height=\"500\" stroke=\"#000000\" stroke-width=\"1\" width=\"500\" x=\"0\" y=\"0\" /><circle cx=\"250.0\" cy=\"250.0\" fill=\"#000000\" fill-opacity=\"1.0\" r=\"150\" stroke=\"#000000\" stroke-width=\"1\" /><circle cx=\"250.0\" cy=\"100.0\" fill=\"#ff0000\" fill-opacity=\"1.0\" r=\"25\" stroke=\"#000000\" stroke-opacity=\"0.0\" stroke-width=\"1\" /><circle cx=\"250.0\" cy=\"400.0\" fill=\"#ff0000\" fill-opacity=\"1.0\" r=\"25\" stroke=\"#000000\" stroke-opacity=\"0.0\" stroke-width=\"1\" /><circle cx=\"100.0\" cy=\"250.0\" fill=\"#ff0000\" fill-opacity=\"1.0\" r=\"25\" stroke=\"#000000\" stroke-opacity=\"0.0\" stroke-width=\"1\" /><circle cx=\"400.0\" cy=\"250.0\" fill=\"#ff0000\" fill-opacity=\"1.0\" r=\"25\" stroke=\"#000000\" stroke-opacity=\"0.0\" stroke-width=\"1\" /><circle cx=\"141.44185718560334\" cy=\"141.44185718560334\" fill=\"#00ff00\" fill-opacity=\"1.0\" r=\"25\" stroke=\"#000000\" stroke-opacity=\"0.0\" stroke-width=\"1\" /><circle cx=\"141.44185718560334\" cy=\"358.55814281439666\" fill=\"#00ff00\" fill-opacity=\"1.0\" r=\"25\" stroke=\"#000000\" stroke-opacity=\"0.0\" stroke-width=\"1\" /><circle cx=\"358.55814281439666\" cy=\"141.44185718560334\" fill=\"#00ff00\" fill-opacity=\"1.0\" r=\"25\" stroke=\"#000000\" stroke-opacity=\"0.0\" stroke-width=\"1\" /><circle cx=\"358.55814281439666\" cy=\"358.55814281439666\" fill=\"#00ff00\" fill-opacity=\"1.0\" r=\"25\" stroke=\"#000000\" stroke-opacity=\"0.0\" stroke-width=\"1\" /></svg>"
      ],
      "text/plain": [
       "<Canvas (500, 500)>"
      ]
     },
     "execution_count": 2,
     "metadata": {},
     "output_type": "execute_result"
    }
   ],
   "source": [
    "import math\n",
    "import sys\n",
    "\n",
    "l=input(\"Largeur de l'écran : \")\n",
    "h=input(\"Hauteur de l'écran : \")\n",
    "l=int(l)\n",
    "h=int(h)\n",
    "r=150\n",
    "r2=25\n",
    "r1=r\n",
    "r3=r\n",
    "u=1/(1-math.e*sin(45))\n",
    "cv = Canvas((l,h))\n",
    "cv.drawFrame(white)\n",
    "cv.display()\n",
    "pause(1)\n",
    "e=Circle((l/2,h/2),r)\n",
    "e.setFill(black)\n",
    "a=h/2-r\n",
    "c1=Circle((l/2,a),r2)\n",
    "a=h/2+r\n",
    "c2=Circle((l/2,a),r2)\n",
    "a=l/2-r\n",
    "c3=Circle((a,h/2),r2)\n",
    "a=l/2+r\n",
    "c4=Circle((a,h/2),r2)\n",
    "a=h/2-cos(u)*r1\n",
    "b=l/2-cos(u)*r3\n",
    "c5=Circle((a,b),r2)\n",
    "a=h/2-cos(u)*r1\n",
    "b=l/2+cos(u)*r3\n",
    "c6=Circle((a,b),r2)\n",
    "a=h/2+cos(u)*r1\n",
    "b=l/2-cos(u)*r3\n",
    "c7=Circle((a,b),r2)\n",
    "a=h/2+cos(u)*r1\n",
    "b=l/2+cos(u)*r3\n",
    "c8=Circle((a,b),r2)\n",
    "\n",
    "c5.noStroke()\n",
    "c6.noStroke()\n",
    "c7.noStroke()\n",
    "c8.noStroke()\n",
    "c5.setFill(lime)\n",
    "c6.setFill(lime)\n",
    "c7.setFill(lime)\n",
    "c8.setFill(lime)\n",
    "c1.noStroke()\n",
    "c2.noStroke()\n",
    "c3.noStroke()\n",
    "c4.noStroke()\n",
    "c1.setFill(red)\n",
    "c2.setFill(red)\n",
    "c3.setFill(red)\n",
    "c4.setFill(red)\n",
    "cv.draw(e)\n",
    "cv.draw(c1)\n",
    "cv.draw(c2)\n",
    "cv.draw(c3)\n",
    "cv.draw(c4)\n",
    "cv.draw(c5)\n",
    "cv.draw(c6)\n",
    "cv.draw(c7)\n",
    "cv.draw(c8)\n"
   ]
  }
 ],
 "metadata": {
  "kernelspec": {
   "display_name": "Python 3 (ipykernel)",
   "language": "python",
   "name": "python3"
  },
  "language_info": {
   "codemirror_mode": {
    "name": "ipython",
    "version": 3
   },
   "file_extension": ".py",
   "mimetype": "text/x-python",
   "name": "python",
   "nbconvert_exporter": "python",
   "pygments_lexer": "ipython3",
   "version": "3.8.10"
  }
 },
 "nbformat": 4,
 "nbformat_minor": 5
}
