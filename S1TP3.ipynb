{
 "cells": [
  {
   "cell_type": "markdown",
   "id": "08b12b4d-e857-4dc5-ab73-89d8980f1e6a",
   "metadata": {},
   "source": [
    "<b><p style=\"text-align:center; font-family:verdana; font-size:220%;\"> Initiation au développement en Python</p></b>\n",
    "<div style=\"text-align: center\">\n",
    "    <img src=\"https://iut-info.univ-reims.fr/users/romaniuk/restricted/S1AlgoProg/ressources/Silly-Walk-monty-python.png\" alt=\"\" width=\"480\">\n",
    "</div>\n",
    "<b><p style=\"text-align:center; font-family:verdana; font-size:220%;\">TP3 Expressions booléennes et conditions (Partie 1)</p></b>"
   ]
  },
  {
   "cell_type": "markdown",
   "id": "22241000-929e-457e-bc70-24661e54c3f3",
   "metadata": {},
   "source": [
    "_**Indiquez ici votre nom et prénom :**_"
   ]
  },
  {
   "cell_type": "markdown",
   "id": "c40ae4ee-78b9-478d-8e66-9c9457110589",
   "metadata": {},
   "source": [
    "Cellule des importations à effectuer une fois  avant d'exécuter les cellules de code du TP :"
   ]
  },
  {
   "cell_type": "code",
   "execution_count": 1,
   "id": "2c9c625d-c850-4fcd-818c-de0602e56e1c",
   "metadata": {
    "tags": []
   },
   "outputs": [],
   "source": [
    "## EXECUTE ME FIRST! ##\n",
    "from random import *"
   ]
  },
  {
   "cell_type": "markdown",
   "id": "cdfb004d-267b-4c03-b051-05945c5fbe48",
   "metadata": {},
   "source": [
    "# 1. Booléens et opérateurs"
   ]
  },
  {
   "cell_type": "markdown",
   "id": "d7a78e80-31c1-47d4-803f-5c1b8098aee3",
   "metadata": {},
   "source": [
    "## 1.1 Expressions booléennes"
   ]
  },
  {
   "cell_type": "markdown",
   "id": "d48ed3ba-5fc9-44e9-b977-2b18815cd920",
   "metadata": {},
   "source": [
    "### 1.1.1 Oui ou non ?"
   ]
  },
  {
   "cell_type": "markdown",
   "id": "f7d030a6-d8f2-4108-b850-fcfbb55d9151",
   "metadata": {},
   "source": [
    "Indiquez si les expressions suivantes sont des expressions booléennes ou non."
   ]
  },
  {
   "cell_type": "code",
   "execution_count": null,
   "id": "a13db327-7db9-476e-9e79-dd1a6c3028e1",
   "metadata": {},
   "outputs": [],
   "source": [
    "i < j # i et j sont des variables de type int\n",
    "i = j\n",
    "i == j\n",
    "i % j\n",
    "saisie == input() # saisie est une variable de type str\n",
    "saisie = input()\n",
    "saisie <= input()\n",
    "bool(saisie)\n",
    "b = bool(saisie) \n",
    "True != b"
   ]
  },
  {
   "cell_type": "markdown",
   "id": "8e00e64c-bc93-4258-b6d4-1a0f672cc068",
   "metadata": {},
   "source": [
    "i<j : booléen\n",
    "i=j : non booléen\n",
    "i==j : booléen\n",
    "i%j : non booléen\n",
    "saisie == input() : booléen\n",
    "saisie = input() : non booléen\n",
    "saisie <= input() : booléen\n",
    "bool(saisie) : non booléen\n",
    "b = bool(saisie) : booléen\n",
    "True != b : booléen"
   ]
  },
  {
   "cell_type": "markdown",
   "id": "8329b765-208c-4eca-ae2e-6a42a7142902",
   "metadata": {},
   "source": [
    "### 1.1.2 Vrai ou faux ?"
   ]
  },
  {
   "cell_type": "markdown",
   "id": "88d125fa-7909-4b2f-b6bc-2bf3bdab173d",
   "metadata": {},
   "source": [
    "Évaluez les expressions booléennes suivantes :"
   ]
  },
  {
   "cell_type": "code",
   "execution_count": null,
   "id": "6ee0a356-5fbf-4114-b665-65a64dadfae6",
   "metadata": {},
   "outputs": [],
   "source": [
    "True == True\n",
    "True != True\n",
    "False == True\n",
    "False != True\n",
    "True or False\n",
    "True and False \n",
    "False or True or False\n",
    "False and True and True\n",
    "False == (True or False)\n",
    "(True or False) != False\n",
    "((True or False) != False) == True\n",
    "False != (False == (True or False))"
   ]
  },
  {
   "cell_type": "markdown",
   "id": "b67c15a4-0f26-4797-aaaa-12d063ec86c0",
   "metadata": {},
   "source": [
    "True\n",
    "False\n",
    "False\n",
    "True\n",
    "True\n",
    "False\n",
    "True\n",
    "False\n",
    "False\n",
    "True\n",
    "True\n",
    "False"
   ]
  },
  {
   "cell_type": "markdown",
   "id": "48c8bca4-405c-47be-92dc-924caff691c9",
   "metadata": {},
   "source": [
    "**Après avoir noté vos réponses,** vérifiez-les en évaluant les expressions dans la cellule suivante :"
   ]
  },
  {
   "cell_type": "code",
   "execution_count": 11,
   "id": "a8579568-ce34-47f3-95e5-7a37b1210230",
   "metadata": {},
   "outputs": [
    {
     "data": {
      "text/plain": [
       "False"
      ]
     },
     "execution_count": 11,
     "metadata": {},
     "output_type": "execute_result"
    }
   ],
   "source": [
    "True == True\n",
    "True != True\n",
    "False == True\n",
    "False != True\n",
    "True or False\n",
    "True and False \n",
    "False or True or False\n",
    "False and True and True\n",
    "False == (True or False)\n",
    "(True or False) != False\n",
    "((True or False) != False) == True\n",
    "False != (False == (True or False))\n"
   ]
  },
  {
   "cell_type": "markdown",
   "id": "53cb766e-e855-4035-bc89-213a5ba66c72",
   "metadata": {},
   "source": [
    "## 1.2 Opérateurs de comparaison  entre nombres"
   ]
  },
  {
   "cell_type": "markdown",
   "id": "60a46578-feff-47d3-88a3-59ef1383d229",
   "metadata": {},
   "source": [
    "Les types numériques disposent de plusieurs opérateurs de comparaison : `== != < <= > >=` qui retournent un booléen, ils permettent donc d’écrire des expressions booléennes. Évaluez les expressions booléennes suivantes :"
   ]
  },
  {
   "cell_type": "code",
   "execution_count": null,
   "id": "d62bbe86-447f-44d4-8cb8-a25f9b78b8b8",
   "metadata": {},
   "outputs": [],
   "source": [
    "0 == 0\n",
    "0 != 0\n",
    "3 == 3.0\n",
    "3.14 == 3.1459\n",
    "1.23 < 2.34\n",
    "1.23 <= 2.34\n",
    "1 + 2 > 1 + 2\n",
    "1 + 2 >= 1 + 2\n",
    "(1 == 2) or (1 != 2)\n",
    "(1 == 2) and (1 != 2)\n",
    "(-1 <= 0) and (0 <= 1)\n",
    "(f <= -1) and (f >= 1) # f est un float quelconque"
   ]
  },
  {
   "cell_type": "markdown",
   "id": "f71c38b9-57ce-48bd-97de-11e77adaaa8b",
   "metadata": {},
   "source": [
    "True\n",
    "False\n",
    "True\n",
    "False\n",
    "True\n",
    "True\n",
    "False\n",
    "True\n",
    "True\n",
    "False\n",
    "True\n",
    "False"
   ]
  },
  {
   "cell_type": "markdown",
   "id": "f726857e-ca65-45bf-a7cf-d207bcc7910b",
   "metadata": {},
   "source": [
    "**Après avoir noté vos réponses,** vérifiez-les (quand c'est possible) en évaluant les expressions dans la cellule suivante :"
   ]
  },
  {
   "cell_type": "code",
   "execution_count": 15,
   "id": "9849e403-13f8-4756-ae9a-08a924aaf4c5",
   "metadata": {
    "scrolled": false
   },
   "outputs": [
    {
     "data": {
      "text/plain": [
       "True"
      ]
     },
     "execution_count": 15,
     "metadata": {},
     "output_type": "execute_result"
    }
   ],
   "source": [
    "3==3.0\n"
   ]
  },
  {
   "cell_type": "markdown",
   "id": "145aaa44-7129-46a2-8023-45947d8d3065",
   "metadata": {},
   "source": [
    "## 1.3 Intervalles"
   ]
  },
  {
   "cell_type": "markdown",
   "id": "b0a5534c-d435-49cf-9b1c-4971c9c1f2be",
   "metadata": {},
   "source": [
    "L'appartenance d'un nombre `i` à un intervalle `[ j ; k ]` peut se traduire par deux inégalités de la façon suivante en Python :\n",
    "```python\n",
    "j <= i <= k\n",
    "```"
   ]
  },
  {
   "cell_type": "markdown",
   "id": "82eb14d4-e0fc-415a-8cae-fb887cdf0be8",
   "metadata": {},
   "source": [
    "Néanmoins il est préférable de séparer ces deux inégalités pour obtenir une expression booléenne plus standard :\n",
    "```python\n",
    "j <= i and i <= k\n",
    "```"
   ]
  },
  {
   "cell_type": "markdown",
   "id": "7dc40a8c-c4fb-486d-82cd-d24d9a6b7124",
   "metadata": {},
   "source": [
    "Voici une série d'inégalités que vous devez séparer en des expressions booléennes correctes réunies par l'opérateur `and` et donnant au final une expression équivalente."
   ]
  },
  {
   "cell_type": "code",
   "execution_count": null,
   "id": "214a78eb-02f3-4235-8597-5c81f33a6bd0",
   "metadata": {},
   "outputs": [],
   "source": [
    "10 < i <= 15\n",
    "-2 < i < 0\n",
    "5 > i >= -5\n",
    "0 <= i < j <= 2"
   ]
  },
  {
   "cell_type": "code",
   "execution_count": null,
   "id": "73d314ea-8320-45d9-8719-15e0a75eba06",
   "metadata": {},
   "outputs": [],
   "source": [
    "10 < i and i <=15\n",
    "-2 < i and i <0\n",
    "5 > i and i >=-5\n",
    "0 <= i and i < j and j <= 2"
   ]
  },
  {
   "cell_type": "markdown",
   "id": "9e493f3d-1ee6-4e2e-b935-1ad9f4d5f561",
   "metadata": {},
   "source": [
    "## 1.4 Questions"
   ]
  },
  {
   "cell_type": "markdown",
   "id": "2665121d-f164-407e-aa1c-0bd3cc845a1c",
   "metadata": {},
   "source": [
    "Donnez les expressions booléennes correspondant à ces questions :\n",
    "\n",
    "1. Le nombre i est-il égal au nombre j ?\n",
    "\n",
    "1. Le nombre i est-il différent de la somme des nombres j et k ?\n",
    "\n",
    "1. Le produit entre les nombres j et k est-il inférieur strictement à leur division ?\n",
    "\n",
    "1. Le booléen b est-il faux ?\n",
    "\n",
    "1. Les booléens b et c sont-ils vrais tous les deux ?\n",
    "\n",
    "1. L’un au moins des booléens b et c est-il vrai ?\n",
    "\n",
    "1. Le nombre entier i est-il à la fois pair et négatif ou nul ?\n",
    "\n",
    "1. Le nombre i est-il dans l’intervalle [ 1 ; 10 ] ?\n",
    "\n",
    "1. Le nombre 4 est-il à l’extérieur de l’intervalle [ i ; i + 1 [ ?\n",
    "\n",
    "1. Le booléen b est-il vrai si et seulement si le booléen c l’est aussi ? "
   ]
  },
  {
   "cell_type": "code",
   "execution_count": 4,
   "id": "83abb3f4-dcae-4fab-a512-4797a307a023",
   "metadata": {},
   "outputs": [],
   "source": [
    "i == j\n",
    "i != j+k\n",
    "j*k < j/k\n",
    "b == False\n",
    "b == True and c == True\n",
    "b == True or c == True\n",
    "int(i/2) == i/2 and i <= 0\n",
    "1 <= i and i<= 10\n",
    "4 < i or i+1 >= 4\n",
    "(b == True) == (c==True)\n"
   ]
  },
  {
   "cell_type": "markdown",
   "id": "5fb7632c-9bac-411c-b332-02e064d558bb",
   "metadata": {},
   "source": [
    "## 1.5 Évaluation paresseuse"
   ]
  },
  {
   "cell_type": "markdown",
   "id": "bdd2f257-39b8-40c0-a9b2-4d99b84ad3de",
   "metadata": {},
   "source": [
    "### 1.5.1 Le bon ordre"
   ]
  },
  {
   "cell_type": "markdown",
   "id": "06ac078a-a7a1-43b7-a315-d4ec410d1d83",
   "metadata": {},
   "source": [
    "L’évaluation paresseuse peut jouer un rôle important dans certains cas. Par exemple, trouvez quelle est la différence entre les deux expressions suivantes, et en conséquence précisez celle qu’il faut employer de préférence.\n",
    "```python\n",
    "(a / b == 2) and (b != 0)\n",
    "(b != 0) and (a / b == 2)\n",
    "```"
   ]
  },
  {
   "cell_type": "markdown",
   "id": "91515704-c7d6-4c82-a3c0-63ac877fdb73",
   "metadata": {},
   "source": [
    "La deuxième car b doit être différent de 0 avant de pouvoir diviser a"
   ]
  },
  {
   "cell_type": "markdown",
   "id": "a9b1c299-34ba-49c4-b67a-7b0ef6cabc3c",
   "metadata": {},
   "source": [
    "### 1.5.2 Superflu"
   ]
  },
  {
   "cell_type": "markdown",
   "id": "a5c80452-7d15-4814-ba28-a588104f2b34",
   "metadata": {},
   "source": [
    "Soient les expressions booléennes suivantes :\n",
    "\n",
    "1. ```False or True ```               \n",
    "1. ```False and True ``` \n",
    "1. ```False or True or False  ```\n",
    "1. ```True and False and True   ```\n",
    "1. ```False or True and False  ```\n",
    "1. ```False and True or False  ```\n",
    "1. ```(False or True) and False```\n",
    "1. ```False and (True or False)```\n",
    "1. ```False or False and True  ```\n",
    "1. ```False and False or True  ```\n",
    "1. ```(False or False) and True```\n",
    "1. ```False and (False or True)```\n",
    "\n",
    "Dans la cellule de code ci-dessous, recopiez ces expressions booléennes. En appliquant le principe de l’évaluation paresseuse, supprimez dans ces expressions les parties superflues qui ne seront pas évaluées. Attention aux expressions sans parenthèse !\n"
   ]
  },
  {
   "cell_type": "code",
   "execution_count": 5,
   "id": "4d1b2cf7-a761-41c4-8461-3943e87aad1a",
   "metadata": {},
   "outputs": [],
   "source": [
    "True\n",
    "False\n",
    "True\n",
    "False\n",
    "False\n",
    "False\n",
    "False\n",
    "False\n",
    "False\n",
    "True\n",
    "True\n",
    "False"
   ]
  },
  {
   "cell_type": "markdown",
   "id": "5f60d26b-034e-4b10-aabe-24db3ae5dc3e",
   "metadata": {},
   "source": [
    "# 2. Instructions conditionnelles simples : `if ... else` "
   ]
  },
  {
   "cell_type": "markdown",
   "id": "73d5a3d1-a164-4d2c-843c-b6dc7e0f73ba",
   "metadata": {},
   "source": [
    "## 2.1 Réduction"
   ]
  },
  {
   "cell_type": "markdown",
   "id": "77372645-9ab3-4c68-b358-5d1b0ac0f4e0",
   "metadata": {},
   "source": [
    "Un marchand de légumes en gros propose une réduction de 5% quand le montant de la commande d'un article atteint ou dépasse 50 euros. Écrivez un ensemble d'instructions qui, à partir d'un prix tiré aléatoirement entre 10 et 250.99 exclu, détermine le prix réel que devra payer le client. Le prix réel n'ira pas au delà du centime en terme de précision.  "
   ]
  },
  {
   "cell_type": "code",
   "execution_count": 77,
   "id": "2397f24a-d192-44be-8a5f-525700c654fb",
   "metadata": {},
   "outputs": [
    {
     "name": "stdout",
     "output_type": "stream",
     "text": [
      "Prix hors réductions 106.37\n",
      "Prix avec réductions 101.05\n"
     ]
    }
   ],
   "source": [
    "prix = randint(1000,25098)/100\n",
    "print (\"Prix hors réductions\",prix)\n",
    "if prix >= 50:\n",
    "    prix = 95 * prix\n",
    "    prix=int(prix)/100\n",
    "print (\"Prix avec réductions\",prix)\n"
   ]
  },
  {
   "cell_type": "markdown",
   "id": "ad775b15-9f12-485f-8311-6565de2a0922",
   "metadata": {},
   "source": [
    "## 2.2 Pari simple"
   ]
  },
  {
   "cell_type": "markdown",
   "id": "430f4e26-7e70-474e-9188-3be81e6cc2e6",
   "metadata": {},
   "source": [
    "Écrivez un ensemble d'instruction qui permettent de tirer un nombre au hasard entre 0 et 9 (inclus) et de demander ensuite à l'utilisateur de le deviner en un seul essai. Voici un exemple d'affichage de deux exécutions de cette méthode :\n",
    "\n",
    "Vous pariez sur quel nombre entre 0 et 9 ? 4\n",
    "Perdu... il fallait jouer 1 et pas 4\n",
    "\n",
    "Vous pariez sur quel nombre entre 0 et 9 ? 5\n",
    "Bravo !"
   ]
  },
  {
   "cell_type": "code",
   "execution_count": 100,
   "id": "38eeefee-e4da-4284-bda3-29d91d33d6ab",
   "metadata": {},
   "outputs": [
    {
     "name": "stdout",
     "output_type": "stream",
     "text": [
      "Vous pariez sur quel nombre entre 0 et 9 ? 1\n",
      "Bravo!\n"
     ]
    }
   ],
   "source": [
    "nombre = randint(0,9)\n",
    "devin = input(\"Vous pariez sur quel nombre entre 0 et 9 ? \")\n",
    "devin = int(devin)\n",
    "if nombre == devin :\n",
    "    print(\"Bravo!\")\n",
    "else :\n",
    "    print(\"Perdu... il fallait jouer \",nombre,\" et pas \",devin)"
   ]
  }
 ],
 "metadata": {
  "kernelspec": {
   "display_name": "Python 3",
   "language": "python",
   "name": "python3"
  },
  "language_info": {
   "codemirror_mode": {
    "name": "ipython",
    "version": 3
   },
   "file_extension": ".py",
   "mimetype": "text/x-python",
   "name": "python",
   "nbconvert_exporter": "python",
   "pygments_lexer": "ipython3",
   "version": "3.8.10"
  }
 },
 "nbformat": 4,
 "nbformat_minor": 5
}
