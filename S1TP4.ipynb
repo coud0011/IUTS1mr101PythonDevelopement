{
 "cells": [
  {
   "cell_type": "markdown",
   "id": "08b12b4d-e857-4dc5-ab73-89d8980f1e6a",
   "metadata": {},
   "source": [
    "<b><p style=\"text-align:center; font-family:verdana; font-size:220%;\"> Initiation au développement en Python</p></b>\n",
    "<div style=\"text-align: center\">\n",
    "    <img src=\"https://iut-info.univ-reims.fr/users/romaniuk/restricted/S1AlgoProg/ressources/Silly-Walk-monty-python.png\" alt=\"\" width=\"480\">\n",
    "</div>\n",
    "<b><p style=\"text-align:center; font-family:verdana; font-size:220%;\">TP4 Expressions booléennes et conditions (Partie 2)</p></b>"
   ]
  },
  {
   "cell_type": "markdown",
   "id": "22241000-929e-457e-bc70-24661e54c3f3",
   "metadata": {},
   "source": [
    "_**Indiquez ici votre nom et prénom :**_"
   ]
  },
  {
   "cell_type": "markdown",
   "id": "c40ae4ee-78b9-478d-8e66-9c9457110589",
   "metadata": {},
   "source": [
    "Cellule des importations à effectuer une fois  avant d'exécuter les cellules de code du TP :"
   ]
  },
  {
   "cell_type": "code",
   "execution_count": 32,
   "id": "2c9c625d-c850-4fcd-818c-de0602e56e1c",
   "metadata": {
    "tags": []
   },
   "outputs": [],
   "source": [
    "## EXECUTE ME FIRST! ##\n",
    "from random import *\n",
    "from dutgraphics import *"
   ]
  },
  {
   "cell_type": "markdown",
   "id": "fc6fa8b2-cf7a-4c6e-be37-7a1ed957aa88",
   "metadata": {},
   "source": [
    "# 1. Instructions conditionnelles : `if ... else` et `elif`"
   ]
  },
  {
   "cell_type": "markdown",
   "id": "4b065a59-01d5-4787-bc8d-60a942f9fba7",
   "metadata": {},
   "source": [
    "## 1.1 Au cinéma"
   ]
  },
  {
   "cell_type": "markdown",
   "id": "7e2ea381-8976-466a-b04f-82d36215eb52",
   "metadata": {},
   "source": [
    "Ecrivez un ensemble d'instructions permettant dans un premier temps de saisir l'âge du client ainsi que l'âge minimum pour voir le film. Si le client a plus de 70 ans ou moins de 21 ans il a le droit au tarif réduit, s'il est plus jeune que l'âge requis il ne peut pas aller voir le film et dans tout les autres cas il bénéficie du tarif normal. Ce programme affichera en fonction des cas : `\"Tarif réduit\"`, `\"Tarif normal\"` ou `\"Vous êtes trop jeune\"`.\n",
    "\n",
    "Proposez une solution efficace (un minium de tests devra être effectué) et conviviale pour l'utilisateur. La solution fera appel à l'instruction conditionnelle `if ... else`."
   ]
  },
  {
   "cell_type": "code",
   "execution_count": 6,
   "id": "1c8610da-6c16-4677-9db6-408ad15afe78",
   "metadata": {},
   "outputs": [
    {
     "name": "stdout",
     "output_type": "stream",
     "text": [
      "Entrez l'age du client : 80\n",
      "Entrez l'age minimum requis pour voir le film : 5\n",
      "Tarif réduit\n"
     ]
    }
   ],
   "source": [
    "ageclient = input(\"Entrez l'age du client : \")\n",
    "agefilm = input(\"Entrez l'age minimum requis pour voir le film : \")\n",
    "agefilm = int(agefilm)\n",
    "ageclient = int(ageclient)\n",
    "if ageclient < agefilm :\n",
    "    print (\"Vous êtes trop jeune\")\n",
    "else :\n",
    "    if 21 >= ageclient or ageclient >= 70:\n",
    "        print(\"Tarif réduit\")\n",
    "    else :\n",
    "        print(\"Tarif normal\")"
   ]
  },
  {
   "cell_type": "markdown",
   "id": "dc6bc18c-35e7-458e-b0b1-c799a25c9a86",
   "metadata": {},
   "source": [
    "Proposez maintenant une solution à ce problème utilisant l'instruction conditionnelle `elif`."
   ]
  },
  {
   "cell_type": "code",
   "execution_count": 10,
   "id": "31d179ad-4051-4eb6-a95b-1a2584876f6e",
   "metadata": {},
   "outputs": [
    {
     "name": "stdout",
     "output_type": "stream",
     "text": [
      "Entrez l'age du client : 80\n",
      "Entrez l'age minimum requis pour voir le film : 12\n",
      "Tarif réduit\n"
     ]
    }
   ],
   "source": [
    "ageclient = input(\"Entrez l'age du client : \")\n",
    "agefilm = input(\"Entrez l'age minimum requis pour voir le film : \")\n",
    "agefilm = int(agefilm)\n",
    "ageclient = int(ageclient)\n",
    "if ageclient < agefilm :\n",
    "    print (\"Vous êtes trop jeune\")\n",
    "elif 21 >= ageclient or ageclient >= 70:\n",
    "    print(\"Tarif réduit\")\n",
    "else :\n",
    "    print(\"Tarif normal\")"
   ]
  },
  {
   "cell_type": "markdown",
   "id": "706f9128-205c-48ca-893a-711b1e16adb9",
   "metadata": {},
   "source": [
    "## 1.2 Pari protégé"
   ]
  },
  {
   "cell_type": "markdown",
   "id": "530c6b77-3aa2-4b14-9a55-4d62313bce92",
   "metadata": {},
   "source": [
    "Écrivez un ensemble d'instruction qui permettent de tirer un nombre au hasard entre 0 et 9 (inclus) et de demander ensuite à l'utilisateur de le deviner en un seul essai. Si l'utilisateur saisit un nombre en dehors de l'intervalle prévu `[0;9]`, le pari est annulé. Voici un exemple d'affichage de trois exécutions de cette ensemble d'instructions :\n",
    "\n",
    "    Vous pariez sur quel nombre entre 0 et 9 ? 4\n",
    "    Perdu... il fallait jouer 0 et pas 4\n",
    "\n",
    "    Vous pariez sur quel nombre entre 0 et 9 ? 11\n",
    "    Le pari est annulé.\n",
    "\n",
    "    Vous pariez sur quel nombre entre 0 et 9 ? 4\n",
    "    Bravo !"
   ]
  },
  {
   "cell_type": "markdown",
   "id": "c7a0190c-778c-43d1-bef0-e77e74c123ed",
   "metadata": {},
   "source": [
    "Proposez une solution efficace (un minium de tests devra être effectué) qui fera appel à l'instruction conditionnelle `elif`."
   ]
  },
  {
   "cell_type": "code",
   "execution_count": 18,
   "id": "7cb01527-f969-4b3a-b7a5-40c0da02aade",
   "metadata": {},
   "outputs": [
    {
     "name": "stdout",
     "output_type": "stream",
     "text": [
      "Vous pariez sur quel nombre entre 0 et 9 ? 8\n",
      "Bravo!\n"
     ]
    }
   ],
   "source": [
    "nombre = randint(0,9)\n",
    "devin = input(\"Vous pariez sur quel nombre entre 0 et 9 ? \")\n",
    "devin = int(devin)\n",
    "if devin < 0 or devin > 9 :\n",
    "    print(\"Le pari est annulé.\")\n",
    "elif nombre == devin :\n",
    "    print(\"Bravo!\")\n",
    "else :\n",
    "    print(\"Perdu... il fallait jouer \",nombre,\" et pas \",devin)"
   ]
  },
  {
   "cell_type": "markdown",
   "id": "fb380401-23fc-4829-96f0-49485bade582",
   "metadata": {},
   "source": [
    "## 1.3 Plus de réductions"
   ]
  },
  {
   "cell_type": "markdown",
   "id": "33be9095-28e3-4671-83d6-27eb722f6429",
   "metadata": {},
   "source": [
    "Le marchand de légumes étend ses réductions : 5% si le montant de la commande atteint ou dépasse 50 euros, 15% s’il atteint ou dépasse 100 euros, 25% s’il atteint ou dépasse 200 euros. Écrivez un ensemble d'instructions qui, à partir d'un prix tiré aléatoirement entre 10 et 599.99 exclu, détermine le prix réel que devra payer le client. Le prix réel n'ira pas au delà du centime en terme de précision.\n",
    "\n",
    "Proposez une solution efficace (un minium de tests devra être effectué) qui fera appel à l'instruction conditionnelle `if ... else`."
   ]
  },
  {
   "cell_type": "code",
   "execution_count": 40,
   "id": "d23332b1-f779-411c-92b7-662d4dc68b58",
   "metadata": {},
   "outputs": [
    {
     "name": "stdout",
     "output_type": "stream",
     "text": [
      "Prix hors réductions 20.12\n",
      "Prix avec réductions 20.12\n"
     ]
    }
   ],
   "source": [
    "prix = randint(1000,59998)/100\n",
    "print (\"Prix hors réductions\",prix)\n",
    "if prix >= 200:\n",
    "    prix = 75 * prix\n",
    "    prix =int(prix)/100\n",
    "elif prix >= 100:\n",
    "    prix = 85 * prix\n",
    "    prix = int(prix)/100\n",
    "elif prix >= 50:\n",
    "    prix = 95 * prix\n",
    "    prix = int(prix)/100\n",
    "print (\"Prix avec réductions\",prix)\n"
   ]
  },
  {
   "cell_type": "markdown",
   "id": "70c21779-f435-4cb9-9ac8-b616db6dede6",
   "metadata": {},
   "source": [
    "## 1.4 Année bissextile ?"
   ]
  },
  {
   "cell_type": "markdown",
   "id": "0474a80c-19b8-4db9-990c-4122c0864056",
   "metadata": {},
   "source": [
    "On souhaite déterminer si une année tirée aléatoirement entre 0 et 2021 est bissextile ou ne l'est pas. Proposer une solution efficace à ce problème.\n",
    "\n",
    "> Rappel : une année bissextile est divisible par 4 mais non divisible pas 100 ou divisible par 400."
   ]
  },
  {
   "cell_type": "code",
   "execution_count": 76,
   "id": "e0a1cf1a-0937-4742-996f-6c7bdbce8318",
   "metadata": {},
   "outputs": [
    {
     "name": "stdout",
     "output_type": "stream",
     "text": [
      "L'année  1200  est bissextile.\n"
     ]
    }
   ],
   "source": [
    "annee=randint(0,2021)\n",
    "annee=float(annee)\n",
    "if annee/4 == int(annee/4) and annee/100 != int(annee/100):\n",
    "    bi=True\n",
    "elif annee/400 == int(annee/400):\n",
    "    bi=True\n",
    "else:\n",
    "    bi=False\n",
    "annee=int(annee)\n",
    "if bi==True:\n",
    "    print (\"L'année \",annee,\" est bissextile.\")\n",
    "else:\n",
    "    print (\"L'année \",annee,\"n'est pas bissextile\")"
   ]
  },
  {
   "cell_type": "markdown",
   "id": "c4d42da4-e0e1-4c61-a871-b99c20b789b4",
   "metadata": {
    "tags": []
   },
   "source": [
    "# 2. Autour du minimum"
   ]
  },
  {
   "cell_type": "markdown",
   "id": "70307b60-88e8-45f4-8199-7c87bc05e54c",
   "metadata": {},
   "source": [
    "## 2.1 Le minimum ?"
   ]
  },
  {
   "cell_type": "markdown",
   "id": "53734d40-3a78-4a84-bf25-0987e551db36",
   "metadata": {},
   "source": [
    "Exécutez le programme suivant. Que réalise-t-il ? L'initialisation de la première variable est-elle judicieuse ? "
   ]
  },
  {
   "cell_type": "code",
   "execution_count": 79,
   "id": "f33d54ed-f8be-4e3e-ad7e-231e989bc774",
   "metadata": {},
   "outputs": [
    {
     "name": "stdout",
     "output_type": "stream",
     "text": [
      "Saisissez un nombre entier : 80\n",
      "Saisissez un nombre entier : 1\n",
      "Le minimim entre 80 et 1 est : 1\n"
     ]
    }
   ],
   "source": [
    "min = 0\n",
    "\n",
    "nb1 = int(input(\"Saisissez un nombre entier : \"))\n",
    "nb2 = int(input(\"Saisissez un nombre entier : \"))\n",
    "\n",
    "if nb1 < nb2:\n",
    "    min = nb1\n",
    "else :\n",
    "    min = nb2\n",
    "  \n",
    "print(f\"Le minimim entre {nb1} et {nb2} est : {min}\")"
   ]
  },
  {
   "cell_type": "markdown",
   "id": "d74be087-1be2-4e3b-908e-f8570ac6a691",
   "metadata": {},
   "source": [
    "La première initialisation ne sert à rien en l'état."
   ]
  },
  {
   "cell_type": "markdown",
   "id": "98d5f426-4a88-4ed8-844f-58ed60d10dfe",
   "metadata": {},
   "source": [
    "En prenant en considération la dernière question modifiez le programme précédent afin de faire disparaitre le `else` dans le programme précédent. "
   ]
  },
  {
   "cell_type": "code",
   "execution_count": 80,
   "id": "15307cf8-65b2-4ccd-adc0-ed4e367d507d",
   "metadata": {},
   "outputs": [
    {
     "name": "stdout",
     "output_type": "stream",
     "text": [
      "Saisissez un nombre entier : 5\n",
      "Saisissez un nombre entier : 5\n",
      "Le minimim entre 5 et 5 est : 5\n"
     ]
    }
   ],
   "source": [
    "nb1 = int(input(\"Saisissez un nombre entier : \"))\n",
    "nb2 = int(input(\"Saisissez un nombre entier : \"))\n",
    "\n",
    "min = nb2\n",
    "if nb1 < nb2:\n",
    "    min = nb1\n",
    "  \n",
    "print(f\"Le minimim entre {nb1} et {nb2} est : {min}\")"
   ]
  },
  {
   "cell_type": "markdown",
   "id": "92d2c116-5c52-4581-a9cb-b1a872c8ab1e",
   "metadata": {},
   "source": [
    "## 2.2 Minimum de 3 entiers"
   ]
  },
  {
   "cell_type": "markdown",
   "id": "65ac7d68-4fb1-4c0a-957d-40b7fd75e3a1",
   "metadata": {},
   "source": [
    "On souhaiterait modifier le programme précédent afin qu'il produise la rendu suivant : \n",
    "\n",
    "    Recherche du minimum \n",
    "\n",
    "    Saisissez un nombre entier : -9         \n",
    "    Saisissez un nombre entier : 9874352\n",
    "    Saisissez un nombre entier : -241\n",
    "    Le minimum parmi les nombres que vous avez saisis est : -241\n",
    "    \n",
    "Proposez une solution à ce problème en utilisant l'instruction conditionnelle `if ... else`."
   ]
  },
  {
   "cell_type": "code",
   "execution_count": null,
   "id": "5fe318f7-fe5d-4941-b83e-952577d50044",
   "metadata": {},
   "outputs": [],
   "source": [
    "print(\"Recherche du minimum \")\n",
    "print(\" \")\n",
    "nb1 = int(input(\"Saisissez un nombre entier : \"))\n",
    "nb2 = int(input(\"Saisissez un nombre entier : \"))\n",
    "nb3 = int(input(\"Saisissez un nombre entier : \"))\n",
    "\n",
    "min = nb3\n",
    "if nb1 <= nb2 and nb1 < nb3:\n",
    "    min = nb1\n",
    "elif nb2 < nb1 and nb2 < nb3:\n",
    "    min = nb2\n",
    "  \n",
    "print(f\"Le minimim entre {nb1} et {nb2} et {nb3} est : {min}\")"
   ]
  },
  {
   "cell_type": "markdown",
   "id": "c90588c3-c6d6-47f0-9b90-28a921c6ad89",
   "metadata": {},
   "source": [
    "Dans le pire des cas combien de tests effectue votre solution ?"
   ]
  },
  {
   "cell_type": "markdown",
   "id": "5cb56690-c87f-4836-b733-b63fd8fbd57d",
   "metadata": {},
   "source": [
    "4 tests"
   ]
  },
  {
   "cell_type": "markdown",
   "id": "4e1bd2c7-8f67-41d2-a448-2c1b022ef3b7",
   "metadata": {},
   "source": [
    "Ce programme devrait effectuer au plus 2 tests dans le pire des cas. Modifier votre solution si ce n'est pas le cas."
   ]
  },
  {
   "cell_type": "code",
   "execution_count": 7,
   "id": "8764318a-4a21-435e-9be5-3ece2400abb5",
   "metadata": {},
   "outputs": [
    {
     "name": "stdout",
     "output_type": "stream",
     "text": [
      "Recherche du minimum \n",
      " \n",
      "Saisissez un nombre entier : 15\n",
      "Saisissez un nombre entier : 10\n",
      "Saisissez un nombre entier : 10\n",
      "Le minimim entre 15 et 10 et 10 est : 10\n"
     ]
    }
   ],
   "source": [
    "print(\"Recherche du minimum \")\n",
    "print(\" \")\n",
    "nb1 = int(input(\"Saisissez un nombre entier : \"))\n",
    "nb2 = int(input(\"Saisissez un nombre entier : \"))\n",
    "nb3 = int(input(\"Saisissez un nombre entier : \"))\n",
    "\n",
    "min = nb3\n",
    "if nb1 <= nb2:\n",
    "    if nb1 <= nb3 :\n",
    "        min = nb1\n",
    "elif nb2 < nb3:\n",
    "    min = nb2\n",
    "  \n",
    "print(f\"Le minimim entre {nb1} et {nb2} et {nb3} est : {min}\")"
   ]
  },
  {
   "cell_type": "markdown",
   "id": "fb03f5b6-9506-404c-95d6-b51f85bfad67",
   "metadata": {},
   "source": [
    "## 2.3 Minimum de 5 entiers"
   ]
  },
  {
   "cell_type": "markdown",
   "id": "e931c99b-e4cd-4283-adff-ee837387a166",
   "metadata": {},
   "source": [
    "On souhaiterait modifier le programme précédent afin qu'il produise la rendu suivant : \n",
    "\n",
    "    Recherche du minimum\n",
    "    Saisissez un nombre entier : 5\n",
    "    Saisissez un nombre entier : -9\n",
    "    Saisissez un nombre entier : 45\n",
    "    Saisissez un nombre entier : -96\n",
    "    Saisissez un nombre entier : 52\n",
    "    Le minimum parmi les nombres que vous avez saisis est : -96\n",
    "    \n",
    "Proposez une solution à ce problème en utilisant l'instruction conditionnelle `if ... else`. La solution proposée devra effectuer au maximum 4 tests.   "
   ]
  },
  {
   "cell_type": "code",
   "execution_count": 8,
   "id": "1475aaf7-f30f-4742-b2e7-58abca60414d",
   "metadata": {},
   "outputs": [
    {
     "name": "stdout",
     "output_type": "stream",
     "text": [
      "Recherche du minimum \n",
      " \n",
      "Saisissez un nombre entier : 5\n",
      "Saisissez un nombre entier : 10\n",
      "Saisissez un nombre entier : 29\n",
      "Saisissez un nombre entier : 21\n",
      "Saisissez un nombre entier : 8\n",
      "Le minimim entre 5, 10, 29, 21 et 8 est : 5\n"
     ]
    }
   ],
   "source": [
    "print(\"Recherche du minimum \")\n",
    "print(\" \")\n",
    "nb1 = int(input(\"Saisissez un nombre entier : \"))\n",
    "nb2 = int(input(\"Saisissez un nombre entier : \"))\n",
    "nb3 = int(input(\"Saisissez un nombre entier : \"))\n",
    "nb4 = int(input(\"Saisissez un nombre entier : \"))\n",
    "nb5 = int(input(\"Saisissez un nombre entier : \"))\n",
    "\n",
    "min = nb5\n",
    "if nb1 <= nb2:\n",
    "    if nb1 <= nb3 :\n",
    "        if nb1 <= nb4:\n",
    "            if nb1 <= nb5:\n",
    "                min = nb1\n",
    "        elif nb4 <= nb5:\n",
    "            min = nb4\n",
    "    elif nb3 <= nb4:\n",
    "        if nb3 <= nb5:\n",
    "            min = nb3\n",
    "    elif nb4 <= nb5:\n",
    "        min = nb4\n",
    "elif nb2 <= nb3:\n",
    "    if nb2 <= nb4:\n",
    "        if nb2 <= nb5:\n",
    "            min = nb2\n",
    "        elif nb4 <= nb5:\n",
    "            min = nb4\n",
    "    elif nb4 <= nb5:\n",
    "        min = nb4\n",
    "elif nb3 <= nb4:\n",
    "    if nb3 <= nb5:\n",
    "        min = nb3\n",
    "elif nb4 <= nb5:\n",
    "    min = nb4\n",
    "print(f\"Le minimim entre {nb1}, {nb2}, {nb3}, {nb4} et {nb5} est : {min}\")"
   ]
  },
  {
   "cell_type": "markdown",
   "id": "1301fc66-dd52-4b9f-8325-7569693e56c5",
   "metadata": {},
   "source": [
    "# 3 Ordonner des nombres"
   ]
  },
  {
   "cell_type": "markdown",
   "id": "7543918c-7dff-4ac6-8a87-d05691fc4410",
   "metadata": {},
   "source": [
    "## 3.1 Ordonner 2 nombres"
   ]
  },
  {
   "cell_type": "markdown",
   "id": "47403d49-229a-4764-91b7-fecf5eb39f44",
   "metadata": {},
   "source": [
    "On souhaiterait disposer d'un programme qui produit la rendu suivant : \n",
    "\n",
    "\n",
    "    Ordre croissant - une histoire d'affichage\n",
    "\n",
    "    Saisissez un nombre reel : 6.5\n",
    "    Saisissez un nombre reel : 1.0\n",
    "\n",
    "    Voici l'affichage dans l'ordre croissant des nombres saisis : \n",
    "    1\n",
    "    6.5\n",
    "    \n",
    "Proposez un programme qui permette d'obtenir ce résultat. Ce programme effectuera au maximum 1 test. "
   ]
  },
  {
   "cell_type": "code",
   "execution_count": 11,
   "id": "6fb9625c-e68c-455a-a422-002c5d7ec75d",
   "metadata": {},
   "outputs": [
    {
     "name": "stdout",
     "output_type": "stream",
     "text": [
      "Ordre croissant - une histoire d'affichage \n",
      " \n",
      "Saisissez un nombre réel : 5\n",
      "Saisissez un nombre réel : 5\n",
      "Voici l'affichage dans l'ordre croissant des nombre saisis :\n",
      "5\n",
      "5\n"
     ]
    }
   ],
   "source": [
    "print(\"Ordre croissant - une histoire d'affichage \")\n",
    "print(\" \")\n",
    "nb1 = int(input(\"Saisissez un nombre réel : \"))\n",
    "nb2 = int(input(\"Saisissez un nombre réel : \"))\n",
    "\n",
    "if nb1 > nb2:\n",
    "    print(\"Voici l'affichage dans l'ordre croissant des nombre saisis :\")\n",
    "    print(nb2)\n",
    "    print(nb1)\n",
    "else:\n",
    "    print(\"Voici l'affichage dans l'ordre croissant des nombre saisis :\")\n",
    "    print(nb1)\n",
    "    print(nb2)"
   ]
  },
  {
   "cell_type": "markdown",
   "id": "1f3e84e9-5723-4eb8-90af-394a9dfb3a12",
   "metadata": {
    "tags": []
   },
   "source": [
    "Combien existe-t-il de possibilités d'ordonner 2 nombres ?"
   ]
  },
  {
   "cell_type": "markdown",
   "id": "ce8df5ba-7fce-4db3-bb9e-6a575e1cea8c",
   "metadata": {
    "tags": []
   },
   "source": [
    "2 : dans un sens et dans l'autre"
   ]
  },
  {
   "cell_type": "markdown",
   "id": "d5b90d46-08a3-475c-97a2-e99fd87d81a9",
   "metadata": {},
   "source": [
    "## 3.1 Ordonner 3 nombres"
   ]
  },
  {
   "cell_type": "markdown",
   "id": "a1621c9a-d651-4bc7-9dd1-0c7f4b433a01",
   "metadata": {},
   "source": [
    "Voici une trace d'exécution illustrant le fonctionnement du programme dans le cas de 3 nombres saisis :\n",
    "\n",
    "    Ordre croissant - une histoire d'affichage\n",
    "    \n",
    "    Saisissez un nombre reel : 6.5\n",
    "    Saisissez un nombre reel : 1.0\n",
    "    Saisissez un nombre reel : 9.2\n",
    "    \n",
    "    Voici l'affichage dans l'ordre croissant des nombres saisis : \n",
    "    1\n",
    "    6.5\n",
    "    9.2\n",
    "    \n",
    "Proposez un programme qui permette d'obtenir ce résultat. Ce programme effectuera au maximum 3 tests."
   ]
  },
  {
   "cell_type": "code",
   "execution_count": 26,
   "id": "c249d74b-384b-40ad-9b77-0c0b889d3925",
   "metadata": {
    "scrolled": true
   },
   "outputs": [
    {
     "name": "stdout",
     "output_type": "stream",
     "text": [
      "Ordre croissant - une histoire d'affichage \n",
      " \n",
      "Saisissez un nombre réel : 1\n",
      "Saisissez un nombre réel : 3\n",
      "Saisissez un nombre réel : 2\n",
      "Voici l'affichage dans l'ordre croissant des nombre saisis :\n",
      "1\n",
      "2\n",
      "3\n"
     ]
    }
   ],
   "source": [
    "print(\"Ordre croissant - une histoire d'affichage \")\n",
    "print(\" \")\n",
    "nb1 = int(input(\"Saisissez un nombre réel : \"))\n",
    "nb2 = int(input(\"Saisissez un nombre réel : \"))\n",
    "nb3 = int(input(\"Saisissez un nombre réel : \"))\n",
    "a=nb1\n",
    "b=nb2\n",
    "c=nb3\n",
    "if nb1 > nb2:\n",
    "    if nb2 > nb3:\n",
    "        a=nb3\n",
    "        b=nb2\n",
    "        c=nb1\n",
    "    else:\n",
    "        a=nb2\n",
    "        b=nb1\n",
    "        c=nb3\n",
    "elif nb2 > nb3:\n",
    "    if nb1 > nb3:\n",
    "        a=nb3\n",
    "        b=nb1\n",
    "        c=nb2\n",
    "    else :\n",
    "        a=nb1\n",
    "        b=nb3\n",
    "        c=nb2\n",
    "elif nb3 < nb1:\n",
    "    a=nb3\n",
    "    b=nb1\n",
    "    c=nb2\n",
    "print(\"Voici l'affichage dans l'ordre croissant des nombre saisis :\")\n",
    "print(a)\n",
    "print(b)\n",
    "print(c)"
   ]
  },
  {
   "cell_type": "markdown",
   "id": "92e3c818-fbdb-416b-9d23-4cb291c8a1f3",
   "metadata": {
    "tags": []
   },
   "source": [
    "Combien existe-t-il de possibilités d'ordonner 3 nombres ?"
   ]
  },
  {
   "cell_type": "markdown",
   "id": "9d1d3ce6-a0ff-40f5-a475-6fabc59c7263",
   "metadata": {
    "tags": []
   },
   "source": [
    "Il existe 6 possiblités d'ordonner 3 nombres"
   ]
  },
  {
   "cell_type": "markdown",
   "id": "943a9d6d-672a-48d1-a598-8f9c55349eea",
   "metadata": {
    "tags": []
   },
   "source": [
    "Combien existe-t-il de possibilités d'ordonner `n` nombres ?"
   ]
  },
  {
   "cell_type": "markdown",
   "id": "0a0b6463-3600-4074-b243-a61868447409",
   "metadata": {
    "tags": []
   },
   "source": [
    "n!"
   ]
  },
  {
   "cell_type": "markdown",
   "id": "3f66c8ed-707b-4dfd-ba83-7684290a4279",
   "metadata": {},
   "source": [
    "# 4 Comparer des nombres réels"
   ]
  },
  {
   "cell_type": "markdown",
   "id": "6caee428-7f68-47c6-a60c-91c114f0dcce",
   "metadata": {},
   "source": [
    "## 4.1 Solution intuitive"
   ]
  },
  {
   "cell_type": "markdown",
   "id": "1d26f391-52ad-41ef-8311-ed0d356e1c76",
   "metadata": {},
   "source": [
    "Voici le programme suivant :\n",
    "    \n",
    "```python\n",
    "nb1 = 4.698 * 5.9996 / 58.2574\n",
    "nb2 = 4.698 / 58.2574 * 5.9996\n",
    "if nb1 == nb2 :\n",
    "    print(\"nb1 et nb2 sont égaux\")\n",
    "else :\n",
    "    print(\"nb1 et nb2 sont différents\")\n",
    "```\n",
    "\n",
    "Quel sera l'affichage produit selon vous ?"
   ]
  },
  {
   "cell_type": "markdown",
   "id": "e662ae6d-3b08-4be3-95c4-ce3ca829247e",
   "metadata": {
    "tags": []
   },
   "source": [
    "nb1 et nb2 sont égaux"
   ]
  },
  {
   "cell_type": "markdown",
   "id": "7b5a5df7-c099-447c-b338-5ad0c4aa6df6",
   "metadata": {},
   "source": [
    "Copier et exécuter le programme ci-dessus. Que constatez vous ?"
   ]
  },
  {
   "cell_type": "code",
   "execution_count": 27,
   "id": "b5ca54d0-091d-4f39-a319-f5fff99c1fcc",
   "metadata": {},
   "outputs": [
    {
     "name": "stdout",
     "output_type": "stream",
     "text": [
      "nb1 et nb2 sont différents\n"
     ]
    }
   ],
   "source": [
    "nb1 = 4.698 * 5.9996 / 58.2574\n",
    "nb2 = 4.698 / 58.2574 * 5.9996\n",
    "if nb1 == nb2 :\n",
    "    print(\"nb1 et nb2 sont égaux\")\n",
    "else :\n",
    "    print(\"nb1 et nb2 sont différents\")"
   ]
  },
  {
   "cell_type": "markdown",
   "id": "476eb6a5-fdb2-4c40-9d1d-f4bfd353b88a",
   "metadata": {
    "tags": []
   },
   "source": [
    "nb1 et nb2 sont différents\n",
    "l'ordre de priorité n'est pas respecté?"
   ]
  },
  {
   "cell_type": "markdown",
   "id": "96b8dc9f-d4fd-4ec2-8d4f-8c14567aeff3",
   "metadata": {},
   "source": [
    "Afin de vérifier votre hypothèse afficher `nb1` et `nb2`."
   ]
  },
  {
   "cell_type": "code",
   "execution_count": 28,
   "id": "02f25aff-264f-433e-be10-687616c1cf51",
   "metadata": {},
   "outputs": [
    {
     "name": "stdout",
     "output_type": "stream",
     "text": [
      "nb1 et nb2 sont différents\n",
      "0.4838204382619204\n",
      "0.48382043826192045\n"
     ]
    }
   ],
   "source": [
    "nb1 = 4.698 * 5.9996 / 58.2574\n",
    "nb2 = 4.698 / 58.2574 * 5.9996\n",
    "if nb1 == nb2 :\n",
    "    print(\"nb1 et nb2 sont égaux\")\n",
    "else :\n",
    "    print(\"nb1 et nb2 sont différents\")\n",
    "print(nb1)\n",
    "print(nb2)"
   ]
  },
  {
   "cell_type": "markdown",
   "id": "070ad7ab-d440-4ed6-8b84-7af943a2b419",
   "metadata": {},
   "source": [
    "Que constatez vous ?"
   ]
  },
  {
   "cell_type": "markdown",
   "id": "7d1c2564-3f1c-4c95-bf3e-11ed75d4c2dd",
   "metadata": {
    "tags": []
   },
   "source": [
    "l'arrondi est différent => ils sot différents"
   ]
  },
  {
   "cell_type": "markdown",
   "id": "088f735d-8188-4c3e-89a4-95a9b8c8caac",
   "metadata": {},
   "source": [
    "> En **mathématique**, les nombres réels ont une valeur __exacte__ et identique quel que soir l'ordre dans lequel vous effectuerez les opérations pour les obtenir. En **informatique**, un nombre réel est en réalité le **résultat d'un calcul** (se référer au cours MR103). Ceci veut dire que sa valeur est très proche de la réalité, mais une marge d'erreur peut avoir une impact sur le contenu de la variable. Il est ainsi important de ne jamais comparer deux réels avec l'opérateur `==`. Par ailleurs l'ordre des opérations a de l'importance. Il est recommandé de faire en sorte que vos calculs soient effectués en un minimum d'opérations."
   ]
  },
  {
   "cell_type": "markdown",
   "id": "38d410be-e2cc-4309-8ed4-1bdf75d276c2",
   "metadata": {},
   "source": [
    "## 4. Comparer pour de vrai"
   ]
  },
  {
   "cell_type": "markdown",
   "id": "0f9d53e2-7051-499f-b3d5-38b4d6ecb10f",
   "metadata": {},
   "source": [
    "Revenons sur l'exemple précédent en autorisant une marge d'erreur entre les de réels de l'odre de $10^{-5}$. Voici le programme suivant :"
   ]
  },
  {
   "cell_type": "markdown",
   "id": "0123c512-b8d8-41fe-9551-8fc2d5d012d1",
   "metadata": {},
   "source": [
    "```python \n",
    "nb1 = 4.698 * 5.9996 / 58.2574\n",
    "nb2 = 4.698 / 58.2574 * 5.9996\n",
    "if abs(nb1 - nb2) <= 10**-5 :\n",
    "    print(\"nb1 et nb2 sont égaux\")\n",
    "else :\n",
    "    print(\"nb1 et nb2 sont différents\")\n",
    "```\n",
    "\n",
    "Quel sera l'affichage produit selon vous ? Expliquez la condition du `if`."
   ]
  },
  {
   "cell_type": "markdown",
   "id": "44c7a1e8-8ec0-4aaa-8a2f-0f922588354b",
   "metadata": {
    "tags": []
   },
   "source": [
    "nb1 et nb2 sont égaux, if permet de voir si nb1 et nb2 sont égaux à 10 puissance -5 près"
   ]
  },
  {
   "cell_type": "markdown",
   "id": "11b2c79c-8db6-44fa-9221-c2d25e35845a",
   "metadata": {},
   "source": [
    "Vérifiez votre réponse."
   ]
  },
  {
   "cell_type": "code",
   "execution_count": 29,
   "id": "8e11e146-cc77-47c5-9729-111f6448da26",
   "metadata": {},
   "outputs": [
    {
     "name": "stdout",
     "output_type": "stream",
     "text": [
      "nb1 et nb2 sont égaux\n"
     ]
    }
   ],
   "source": [
    "nb1 = 4.698 * 5.9996 / 58.2574\n",
    "nb2 = 4.698 / 58.2574 * 5.9996\n",
    "if abs(nb1 - nb2) <= 10**-5 :\n",
    "    print(\"nb1 et nb2 sont égaux\")\n",
    "else :\n",
    "    print(\"nb1 et nb2 sont différents\")"
   ]
  },
  {
   "cell_type": "markdown",
   "id": "d0adf6b4-c9e1-434b-8322-a4921fc86777",
   "metadata": {},
   "source": [
    "# 5 Comparer des chaînes de caractères"
   ]
  },
  {
   "cell_type": "markdown",
   "id": "8caf5699-34aa-4f87-8592-24764990e84e",
   "metadata": {},
   "source": [
    "## 5.1 Que fait la cette fonction ?"
   ]
  },
  {
   "cell_type": "markdown",
   "id": "c863b36c-16cf-422b-9960-b15e4fd1ecdc",
   "metadata": {},
   "source": [
    "Exécutez la cellule suivante :"
   ]
  },
  {
   "cell_type": "code",
   "execution_count": 33,
   "id": "2920b2ff-bfcc-4e89-8003-6443d80e33f9",
   "metadata": {},
   "outputs": [],
   "source": [
    "def transformRandomNumber() -> str:\n",
    "    i = randint(0, 5)\n",
    "    number = \"CINQ\"\n",
    "    if i == 0:\n",
    "        number = \"ZERO\"\n",
    "    else:\n",
    "        if i == 1:\n",
    "            number = \"UN\"\n",
    "        else:\n",
    "            if i == 2:\n",
    "                number = \"DEUX\"\n",
    "            else:\n",
    "                if i == 3:\n",
    "                    number = \"TROIS\"\n",
    "                else:\n",
    "                    if i == 4:\n",
    "                        number = \"QUATRE\"\n",
    "                   \n",
    "    return number"
   ]
  },
  {
   "cell_type": "markdown",
   "id": "9923fa3d-208b-44f8-8b76-8043489ef3b2",
   "metadata": {},
   "source": [
    "Vous disposez désormais de la fonction `transformRandomNumber` qui ne prend rien en paramètres et qui retourne une chaîne de caractères. Appeler plusiers fois cette fonction pour comprendre ce qu'elle fait."
   ]
  },
  {
   "cell_type": "code",
   "execution_count": 57,
   "id": "43eef957-089c-4a00-9d01-083a2c31d7a0",
   "metadata": {},
   "outputs": [
    {
     "data": {
      "text/plain": [
       "'QUATRE'"
      ]
     },
     "execution_count": 57,
     "metadata": {},
     "output_type": "execute_result"
    }
   ],
   "source": [
    "transformRandomNumber()"
   ]
  },
  {
   "cell_type": "markdown",
   "id": "d1fbe6c0-d15c-4c13-a86f-2933dc70f547",
   "metadata": {},
   "source": [
    "Que fait la fonction `transformRandomNumber` et quelles sont les différentes valeurs quelle peut générer ?"
   ]
  },
  {
   "cell_type": "markdown",
   "id": "0890ee45-6404-48b8-ae7d-b2a24871c64f",
   "metadata": {
    "tags": []
   },
   "source": [
    "elle renvoie un nombre aléatoire entre 0 et 5 sous la forme de son écriture "
   ]
  },
  {
   "cell_type": "markdown",
   "id": "06620fb8-ec29-42aa-adf8-80fd8849d094",
   "metadata": {},
   "source": [
    "## 5.2 Comparer deux chaînes de caractères "
   ]
  },
  {
   "cell_type": "markdown",
   "id": "8c7a4450-61a0-4441-b10b-c23d3db22bc3",
   "metadata": {},
   "source": [
    "Écrivez un programme qui tire aléatoirement deux chaînes de caractères \"chiffre\" (`\"ZERO\"` etc.) et affiche si la première est supérieure, inférieure ou égale à la seconde (au sens lexicographique).\n",
    "\n",
    "Exemple d'affichage produit :\n",
    "\n",
    "    CINQ est inférieur à ZERO\n",
    "    QUATRE est supérieur à DEUX\n",
    "    ZERO est supérieur à TROIS\n",
    "    CINQ est égal à CINQ\n",
    "    \n",
    "Vous noterez que les mathématiques sont un peu malmenées...    "
   ]
  },
  {
   "cell_type": "code",
   "execution_count": 63,
   "id": "7272731c-9620-446d-8a54-a800324f24a2",
   "metadata": {},
   "outputs": [
    {
     "name": "stdout",
     "output_type": "stream",
     "text": [
      "UN est supérieur à QUATRE\n"
     ]
    }
   ],
   "source": [
    "nb1=transformRandomNumber()\n",
    "nb2=transformRandomNumber()\n",
    "comp=\"inférieur\"\n",
    "if nb1 > nb2:\n",
    "    comp=\"supérieur\"\n",
    "elif nb2 == nb1:\n",
    "    comp=\"égal\"\n",
    "print(f\"{nb1} est {comp} à {nb2}\")"
   ]
  },
  {
   "cell_type": "markdown",
   "id": "b602e8bf-7126-4292-9d7a-f3fe5106daf8",
   "metadata": {},
   "source": [
    "# 6 Tests et objets graphiques"
   ]
  },
  {
   "cell_type": "markdown",
   "id": "976ea521-90eb-4055-9a2d-9bdd109212ae",
   "metadata": {},
   "source": [
    "## 6.1 Cercle ou rectangle ?"
   ]
  },
  {
   "cell_type": "markdown",
   "id": "02c57128-ffb7-4a7a-9e39-7c9ddb7cd2b9",
   "metadata": {},
   "source": [
    "Demandez à l'utilisateur de saisir le nom de la figure qu'il souhaite afficher : cercle ou rectangle. Passez en majuscules la chaîne de caractère saisie.\n",
    "\n",
    "Si la saisie de correspond ni à `\"RECTANGLE\"` ni à `\"CERCLE\"` affichez **\"Figure inconnue\"**.\n",
    "\n",
    "Dans le cas contraire creez une fenêtre noire dont les dimension seront tirées aléatoirement entre 400 et 700. S'il s'agit d'un rectangle créez un rectangle de couleur `lime` qui sera centré et aura pour hauteur $1/3$ de la hauteur de la fenêtre et pour largeur $1/2$ de la largeur de la fenêtre. S'il s'agit d'un cercle créez un cercle de couleur `cyan` qui sera entièrement dans la fenêtre et sera positionné en haut à droite de cette fenêtre. Il aura pour diamètre $1/4$ de la plus petite valeur entre les deux dimensions de la fenêtre. \n",
    "\n",
    "La solution proposée devra effectuer le moins de tests possible, mais il est recommandé d'utiliser un minimum de constantes et un maximum de variables."
   ]
  },
  {
   "cell_type": "code",
   "execution_count": 92,
   "id": "edf3ce09-1893-4431-aebf-d867a82fefb4",
   "metadata": {},
   "outputs": [
    {
     "name": "stdout",
     "output_type": "stream",
     "text": [
      "Saisissez le nom de la figure à dessiner : cerCle\n"
     ]
    },
    {
     "data": {
      "image/svg+xml": [
       "<svg baseProfile=\"full\" height=\"500\" version=\"1.1\" width=\"500\" xmlns=\"http://www.w3.org/2000/svg\" xmlns:ev=\"http://www.w3.org/2001/xml-events\" xmlns:xlink=\"http://www.w3.org/1999/xlink\"><defs /><rect fill=\"#ffffff\" fill-opacity=\"1.0\" height=\"500\" stroke=\"#000000\" stroke-width=\"1\" width=\"500\" x=\"0\" y=\"0\" /><circle cx=\"437.5\" cy=\"62.5\" fill=\"#00ffff\" fill-opacity=\"1.0\" r=\"62.5\" stroke=\"#000000\" stroke-width=\"1\" /></svg>"
      ],
      "text/plain": [
       "<Canvas (500, 500)>"
      ]
     },
     "metadata": {},
     "output_type": "display_data"
    }
   ],
   "source": [
    "fig=input(\"Saisissez le nom de la figure à dessiner : \")\n",
    "fig=fig.upper()\n",
    "l=500\n",
    "c=500\n",
    "cv.clear\n",
    "cv = Canvas((l,c))\n",
    "cv.drawFrame(white)\n",
    "cv.clear\n",
    "if fig==\"RECTANGLE\":\n",
    "    o=1/3*c\n",
    "    p=1/2*l\n",
    "    q=c/2-p/2\n",
    "    z=l/2-o/2\n",
    "    r = Rectangle((q,z),(p,o))\n",
    "    r.setFill(lime)\n",
    "    cv.draw(r)\n",
    "if fig==\"CERCLE\":\n",
    "    p=l\n",
    "    if l > c:\n",
    "        p=c\n",
    "    o=1/8*p\n",
    "    r=Circle((l-o,o),o)\n",
    "    r.setFill(cyan)\n",
    "    cv.draw(r)\n",
    "else:\n",
    "    print(\"Figure inconnue\")\n",
    "cv.display()"
   ]
  },
  {
   "cell_type": "markdown",
   "id": "cbcfd0dc-b9d1-423c-b38c-f5f9c9ca1167",
   "metadata": {},
   "source": [
    "## 6.2 Tirez aléatoirement un booléen"
   ]
  },
  {
   "cell_type": "markdown",
   "id": "ffb17fce-b24e-4cd9-9bf5-dc076257a1bb",
   "metadata": {},
   "source": [
    "On souhaite disposer d'un programme qui permet de tirer aléatoirement une valeur booléenne : `True` ou `False`. Vous disposer pour ceci des fonction `random`  ou `randint`. Proposer une solution qui permet d'obtenir un valeur booléenne aléatoire.\n",
    "\n",
    "> L'utilisation de listes ou encore de la fonction `choice` n'est pas autorisée"
   ]
  },
  {
   "cell_type": "code",
   "execution_count": 108,
   "id": "a647d40a-87f6-4942-86c7-21e5e47f9aac",
   "metadata": {},
   "outputs": [
    {
     "name": "stdout",
     "output_type": "stream",
     "text": [
      "False\n"
     ]
    }
   ],
   "source": [
    "r=randint(0,1)\n",
    "s=True\n",
    "if r==0:\n",
    "    s=False\n",
    "print(s)"
   ]
  },
  {
   "cell_type": "markdown",
   "id": "4f567603-f1e7-44eb-9867-5320b4712b10",
   "metadata": {},
   "source": [
    "Compléter le programme précédent afin d'afficher la couleur rouge si le booléen est à vrai et la couleur magenta sinon."
   ]
  },
  {
   "cell_type": "code",
   "execution_count": 199,
   "id": "ce67a1c3-aa55-4ad0-b64e-5140d93ec83b",
   "metadata": {
    "scrolled": true
   },
   "outputs": [
    {
     "data": {
      "image/svg+xml": [
       "<svg baseProfile=\"full\" height=\"42\" version=\"1.1\" width=\"42\" xmlns=\"http://www.w3.org/2000/svg\" xmlns:ev=\"http://www.w3.org/2001/xml-events\" xmlns:xlink=\"http://www.w3.org/1999/xlink\"><defs /><circle cx=\"21\" cy=\"21\" fill=\"#ff0000\" fill-opacity=\"1.0\" r=\"20\" stroke=\"#000000\" stroke-width=\"1\" /></svg>"
      ],
      "text/plain": [
       "<Canvas (42, 42)>"
      ]
     },
     "metadata": {},
     "output_type": "display_data"
    },
    {
     "name": "stdout",
     "output_type": "stream",
     "text": [
      "True\n"
     ]
    }
   ],
   "source": [
    "r=randint(0,1)\n",
    "s=True\n",
    "if r==0:\n",
    "    s=False\n",
    "    magenta.draw()\n",
    "else:\n",
    "    red.draw()\n",
    "print (s)"
   ]
  }
 ],
 "metadata": {
  "kernelspec": {
   "display_name": "Python 3",
   "language": "python",
   "name": "python3"
  },
  "language_info": {
   "codemirror_mode": {
    "name": "ipython",
    "version": 3
   },
   "file_extension": ".py",
   "mimetype": "text/x-python",
   "name": "python",
   "nbconvert_exporter": "python",
   "pygments_lexer": "ipython3",
   "version": "3.8.10"
  }
 },
 "nbformat": 4,
 "nbformat_minor": 5
}
