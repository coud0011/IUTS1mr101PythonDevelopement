{
 "cells": [
  {
   "cell_type": "markdown",
   "id": "08b12b4d-e857-4dc5-ab73-89d8980f1e6a",
   "metadata": {},
   "source": [
    "<b><p style=\"text-align:center; font-family:verdana; font-size:220%;\"> Initiation au développement en Python</p></b>\n",
    "<div style=\"text-align: center\">\n",
    "    <img src=\"https://iut-info.univ-reims.fr/users/romaniuk/restricted/S1AlgoProg/ressources/Silly-Walk-monty-python.png\" alt=\"\" width=\"480\">\n",
    "</div>\n",
    "<b><p style=\"text-align:center; font-family:verdana; font-size:220%;\">TP8 Complémentaire <BR><i>\"And Now for Something Completely Different\"</i> </p></b>"
   ]
  },
  {
   "cell_type": "markdown",
   "id": "22241000-929e-457e-bc70-24661e54c3f3",
   "metadata": {},
   "source": [
    "_**Indiquez ici votre nom et prénom :**_"
   ]
  },
  {
   "cell_type": "markdown",
   "id": "c40ae4ee-78b9-478d-8e66-9c9457110589",
   "metadata": {},
   "source": [
    "Cellule des importations à effectuer une fois  avant d'exécuter les cellules de code du TP :"
   ]
  },
  {
   "cell_type": "code",
   "execution_count": 8,
   "id": "2c9c625d-c850-4fcd-818c-de0602e56e1c",
   "metadata": {},
   "outputs": [],
   "source": [
    "## EXECUTE ME FIRST! ##\n",
    "from random import *\n",
    "from dutgraphics import *\n",
    "import dutgraphics"
   ]
  },
  {
   "cell_type": "markdown",
   "id": "f8ecdb25-b56a-4638-987a-7cc2190b5ab5",
   "metadata": {},
   "source": [
    "# Plan\n",
    "* [1. Images](#1.-Images)\n",
    "\t* [1.1 La classe Picture](#1.1-La-classe-Picture)\n",
    "\t* [1.2 Chronomètre](#1.2-Chronomètre)\n",
    "* [2. Puissance 4](#2.-Puissance-4)\n",
    "* [3. Casse-briques](#3.-Casse-briques)\n",
    "\t* [3.1 Version automatique](#3.1-Version-automatique)\n",
    "\t* [3.2 Version clavier](#3.2-Version-clavier)\n",
    "* [4. Le Pendu](#4.-Le-Pendu)\n",
    "\t* [4.1 Règle du jeu](#4.1-Règle-du-jeu)\n",
    "\t* [4.2 Version texte](#4.2-Version-texte)\n",
    "\t* [4.3 Version graphique](#4.3-Version-graphique)"
   ]
  },
  {
   "cell_type": "markdown",
   "id": "6c9de681-b24e-4a12-8f62-e945bb471fe2",
   "metadata": {},
   "source": [
    "L'ordre des exercices n'est pas imposé. Vous veillerez à coder la solution dans une fonction même si ce n'ets pas indiqué dans l'énoncé. N'hésitez pas à découper chaque problème et à créer des fonctions qui permettent de le simplifier."
   ]
  },
  {
   "cell_type": "markdown",
   "id": "6b19faa0-2053-47f2-85e5-33ad23c60da6",
   "metadata": {},
   "source": [
    "# 1. Images"
   ]
  },
  {
   "cell_type": "markdown",
   "id": "9388efce-83d4-453f-9a8f-be30a2d09a53",
   "metadata": {},
   "source": [
    "## 1.1 La classe Picture"
   ]
  },
  {
   "cell_type": "markdown",
   "id": "035a42c3-4f12-4e9f-83c1-ad82d7753420",
   "metadata": {},
   "source": [
    "Le constructeur de `Picture` demande trois arguments identifiés : `start` pour la position de l'image et `size` pour sa dimension, sous la forme de deux couples `(x, y)` et `(largeur, hauteur)`, et `href` pour le nom de fichier complet (avec son chemin) de l'image à afficher :\n",
    "    \n",
    "```python\n",
    "img = Picture(dutgraphics._url+'house.png', (200, 10) , (200, 150))\n",
    "```"
   ]
  },
  {
   "cell_type": "markdown",
   "id": "6cdee497-237b-462c-951f-2b30562c0837",
   "metadata": {},
   "source": [
    ">La variable `dutgraphics._url` contient l'adresse des images utilisées dans les exercices."
   ]
  },
  {
   "cell_type": "markdown",
   "id": "900afb31-b6af-4dab-8708-387752a3bfd9",
   "metadata": {},
   "source": [
    "Si `p` est une instance de `Picture`, elle dispose des méthodes suivantes :\n",
    "\n",
    "`p.draw(cv)`\n",
    "> Dessine l'image `p` sur le canevas `cv`  passé en argument. C'est équivalent à `cv.draw(p)`\n",
    "\n",
    "`p.undraw()`\n",
    "> Supprime l'image `p`. \n",
    "\n",
    "`p.moveToTop()`\n",
    "> Place l'image `p` au premier plan.\n",
    "\n",
    "`p.moveToBottom()`\n",
    "> Place l'image `p` au dernier plan."
   ]
  },
  {
   "cell_type": "markdown",
   "id": "e9355ef2-7180-4988-b1e5-a86b31d2c9f2",
   "metadata": {},
   "source": [
    "Voici un exemple d'utilisation d'instances de la classe `Picture` pour recréer une version du dessin de la maison utilisé auparavant.\n",
    "\n",
    "<div align=center><img src=\"https://iut-info.univ-reims.fr/users/romaniuk/restricted/S1AlgoProg/ressources/autremaison.png\" alt=\"autremaison\" width=\"300\"></div>"
   ]
  },
  {
   "cell_type": "code",
   "execution_count": 2,
   "id": "0e52a77b-347d-46f8-ae71-6f7465e0bb6c",
   "metadata": {},
   "outputs": [
    {
     "data": {
      "image/svg+xml": [
       "<svg baseProfile=\"full\" height=\"400\" version=\"1.1\" width=\"600\" xmlns=\"http://www.w3.org/2000/svg\" xmlns:ev=\"http://www.w3.org/2001/xml-events\" xmlns:xlink=\"http://www.w3.org/1999/xlink\"><defs /><image fill=\"#800080\" height=\"267\" stroke=\"#000000\" stroke-width=\"1\" width=\"600\" x=\"0\" xlink:href=\"https://iut-info.univ-reims.fr/users/collard/dutgraphics/images/sky.png\" y=\"0\" /><image fill=\"#800080\" height=\"133\" stroke=\"#000000\" stroke-width=\"1\" width=\"600\" x=\"0\" xlink:href=\"https://iut-info.univ-reims.fr/users/collard/dutgraphics/images/ground.png\" y=\"267\" /><image fill=\"#800080\" height=\"200\" stroke=\"#000000\" stroke-width=\"1\" width=\"80\" x=\"50\" xlink:href=\"https://iut-info.univ-reims.fr/users/collard/dutgraphics/images/house.png\" y=\"150\" /><image fill=\"#800080\" height=\"200\" stroke=\"#000000\" stroke-width=\"1\" width=\"100\" x=\"0\" xlink:href=\"https://iut-info.univ-reims.fr/users/collard/dutgraphics/images/house.png\" y=\"180\" /><image fill=\"#800080\" height=\"200\" stroke=\"#000000\" stroke-width=\"1\" width=\"200\" x=\"120\" xlink:href=\"https://iut-info.univ-reims.fr/users/collard/dutgraphics/images/house.png\" y=\"180\" /><image fill=\"#800080\" height=\"200\" stroke=\"#000000\" stroke-width=\"1\" width=\"120\" x=\"0\" xlink:href=\"https://iut-info.univ-reims.fr/users/collard/dutgraphics/images/cloud.png\" y=\"0\" /><image fill=\"#800080\" height=\"200\" stroke=\"#000000\" stroke-width=\"1\" width=\"200\" x=\"100\" xlink:href=\"https://iut-info.univ-reims.fr/users/collard/dutgraphics/images/cloud.png\" y=\"10\" /><image fill=\"#800080\" height=\"200\" stroke=\"#000000\" stroke-width=\"1\" width=\"160\" x=\"430\" xlink:href=\"https://iut-info.univ-reims.fr/users/collard/dutgraphics/images/tree.png\" y=\"120\" /><image fill=\"#800080\" height=\"200\" stroke=\"#000000\" stroke-width=\"1\" width=\"180\" x=\"400\" xlink:href=\"https://iut-info.univ-reims.fr/users/collard/dutgraphics/images/tree.png\" y=\"130\" /><image fill=\"#800080\" height=\"200\" stroke=\"#000000\" stroke-width=\"1\" width=\"200\" x=\"300\" xlink:href=\"https://iut-info.univ-reims.fr/users/collard/dutgraphics/images/tree.png\" y=\"150\" /></svg>"
      ],
      "text/plain": [
       "<Canvas (600, 400)>"
      ]
     },
     "metadata": {},
     "output_type": "display_data"
    }
   ],
   "source": [
    "def exemplePicture() -> None:\n",
    "    # adresse commune de toutes les images\n",
    "    dir = dutgraphics._url\n",
    "    canvas = Canvas(size=(600, 400))\n",
    "    canvas.draw(Picture(dir+'sky.png', (0, 0), (600, 267)))\n",
    "    canvas.draw(Picture(dir+'ground.png', (0, 267), (600, 133)))\n",
    "    canvas.draw(Picture(dir+'house.png', (50, 150), (80, 200)))\n",
    "    canvas.draw(Picture(dir+'house.png', (0, 180), (100, 200)))\n",
    "    canvas.draw(Picture(dir+'house.png', (120, 180), (200, 200)))\n",
    "    canvas.draw(Picture(dir+'cloud.png', (0, 0), (120, 200)))\n",
    "    canvas.draw(Picture(dir+'cloud.png', (100, 10), (200, 200)))\n",
    "    canvas.draw(Picture(dir+'tree.png', (430, 120), (160, 200)))\n",
    "    canvas.draw(Picture(dir+'tree.png', (400, 130), (180, 200)))\n",
    "    canvas.draw(Picture(dir+'tree.png', (300, 150), (200, 200)))\n",
    "    canvas.display()\n",
    "    return None\n",
    "\n",
    "exemplePicture()"
   ]
  },
  {
   "cell_type": "markdown",
   "id": "8de5c5d2-2f5c-40c9-82b2-261a93850014",
   "metadata": {},
   "source": [
    "## 1.2 Chronomètre"
   ]
  },
  {
   "cell_type": "markdown",
   "id": "df4205e7-c45d-45c8-8a2c-a88a54f50481",
   "metadata": {},
   "source": [
    "Vous devez reproduire l'affichage d'un chronomètre de 1 à 59 secondes, comme dans la figure ci-dessous :\n",
    "\n",
    "<div align=center><img src=\"https://iut-info.univ-reims.fr/users/romaniuk/restricted/S1AlgoProg/ressources/chrono.gif\" alt=\"\" width=\"150\"></div>\n",
    "\n",
    "Pour réaliser cet affichage vous disposez (dans le répertoire indiqué) des 10 images des chiffres nommées `0.png` `1.png` `2.png` ... `9.png`"
   ]
  },
  {
   "cell_type": "code",
   "execution_count": 14,
   "id": "8c7a28aa-9d08-439f-855a-3b1237c29fd4",
   "metadata": {},
   "outputs": [
    {
     "data": {
      "image/svg+xml": [
       "<svg baseProfile=\"full\" height=\"105\" version=\"1.1\" width=\"128\" xmlns=\"http://www.w3.org/2000/svg\" xmlns:ev=\"http://www.w3.org/2001/xml-events\" xmlns:xlink=\"http://www.w3.org/1999/xlink\"><defs /><rect fill=\"#000000\" fill-opacity=\"1.0\" height=\"105\" stroke=\"#000000\" stroke-width=\"1\" width=\"128\" x=\"0\" y=\"0\" /><image fill=\"#800080\" height=\"105\" stroke=\"#000000\" stroke-width=\"1\" width=\"64\" x=\"64\" xlink:href=\"https://iut-info.univ-reims.fr/users/collard/dutgraphics/images/0.png\" y=\"0\" /><image fill=\"#800080\" height=\"105\" stroke=\"#000000\" stroke-width=\"1\" width=\"64\" x=\"64\" xlink:href=\"https://iut-info.univ-reims.fr/users/collard/dutgraphics/images/1.png\" y=\"0\" /><image fill=\"#800080\" height=\"105\" stroke=\"#000000\" stroke-width=\"1\" width=\"64\" x=\"64\" xlink:href=\"https://iut-info.univ-reims.fr/users/collard/dutgraphics/images/2.png\" y=\"0\" /><image fill=\"#800080\" height=\"105\" stroke=\"#000000\" stroke-width=\"1\" width=\"64\" x=\"64\" xlink:href=\"https://iut-info.univ-reims.fr/users/collard/dutgraphics/images/3.png\" y=\"0\" /><image fill=\"#800080\" height=\"105\" stroke=\"#000000\" stroke-width=\"1\" width=\"64\" x=\"64\" xlink:href=\"https://iut-info.univ-reims.fr/users/collard/dutgraphics/images/4.png\" y=\"0\" /><image fill=\"#800080\" height=\"105\" stroke=\"#000000\" stroke-width=\"1\" width=\"64\" x=\"64\" xlink:href=\"https://iut-info.univ-reims.fr/users/collard/dutgraphics/images/5.png\" y=\"0\" /><image fill=\"#800080\" height=\"105\" stroke=\"#000000\" stroke-width=\"1\" width=\"64\" x=\"64\" xlink:href=\"https://iut-info.univ-reims.fr/users/collard/dutgraphics/images/6.png\" y=\"0\" /><image fill=\"#800080\" height=\"105\" stroke=\"#000000\" stroke-width=\"1\" width=\"64\" x=\"64\" xlink:href=\"https://iut-info.univ-reims.fr/users/collard/dutgraphics/images/7.png\" y=\"0\" /><image fill=\"#800080\" height=\"105\" stroke=\"#000000\" stroke-width=\"1\" width=\"64\" x=\"64\" xlink:href=\"https://iut-info.univ-reims.fr/users/collard/dutgraphics/images/8.png\" y=\"0\" /><image fill=\"#800080\" height=\"105\" stroke=\"#000000\" stroke-width=\"1\" width=\"64\" x=\"64\" xlink:href=\"https://iut-info.univ-reims.fr/users/collard/dutgraphics/images/0.png\" y=\"0\" /><image fill=\"#800080\" height=\"105\" stroke=\"#000000\" stroke-width=\"1\" width=\"64\" x=\"64\" xlink:href=\"https://iut-info.univ-reims.fr/users/collard/dutgraphics/images/1.png\" y=\"0\" /><image fill=\"#800080\" height=\"105\" stroke=\"#000000\" stroke-width=\"1\" width=\"64\" x=\"64\" xlink:href=\"https://iut-info.univ-reims.fr/users/collard/dutgraphics/images/2.png\" y=\"0\" /><image fill=\"#800080\" height=\"105\" stroke=\"#000000\" stroke-width=\"1\" width=\"64\" x=\"64\" xlink:href=\"https://iut-info.univ-reims.fr/users/collard/dutgraphics/images/3.png\" y=\"0\" /><image fill=\"#800080\" height=\"105\" stroke=\"#000000\" stroke-width=\"1\" width=\"64\" x=\"64\" xlink:href=\"https://iut-info.univ-reims.fr/users/collard/dutgraphics/images/4.png\" y=\"0\" /><image fill=\"#800080\" height=\"105\" stroke=\"#000000\" stroke-width=\"1\" width=\"64\" x=\"64\" xlink:href=\"https://iut-info.univ-reims.fr/users/collard/dutgraphics/images/5.png\" y=\"0\" /><image fill=\"#800080\" height=\"105\" stroke=\"#000000\" stroke-width=\"1\" width=\"64\" x=\"64\" xlink:href=\"https://iut-info.univ-reims.fr/users/collard/dutgraphics/images/6.png\" y=\"0\" /><image fill=\"#800080\" height=\"105\" stroke=\"#000000\" stroke-width=\"1\" width=\"64\" x=\"64\" xlink:href=\"https://iut-info.univ-reims.fr/users/collard/dutgraphics/images/7.png\" y=\"0\" /><image fill=\"#800080\" height=\"105\" stroke=\"#000000\" stroke-width=\"1\" width=\"64\" x=\"64\" xlink:href=\"https://iut-info.univ-reims.fr/users/collard/dutgraphics/images/8.png\" y=\"0\" /><image fill=\"#800080\" height=\"105\" stroke=\"#000000\" stroke-width=\"1\" width=\"64\" x=\"64\" xlink:href=\"https://iut-info.univ-reims.fr/users/collard/dutgraphics/images/0.png\" y=\"0\" /><image fill=\"#800080\" height=\"105\" stroke=\"#000000\" stroke-width=\"1\" width=\"64\" x=\"64\" xlink:href=\"https://iut-info.univ-reims.fr/users/collard/dutgraphics/images/1.png\" y=\"0\" /><image fill=\"#800080\" height=\"105\" stroke=\"#000000\" stroke-width=\"1\" width=\"64\" x=\"64\" xlink:href=\"https://iut-info.univ-reims.fr/users/collard/dutgraphics/images/2.png\" y=\"0\" /><image fill=\"#800080\" height=\"105\" stroke=\"#000000\" stroke-width=\"1\" width=\"64\" x=\"64\" xlink:href=\"https://iut-info.univ-reims.fr/users/collard/dutgraphics/images/3.png\" y=\"0\" /><image fill=\"#800080\" height=\"105\" stroke=\"#000000\" stroke-width=\"1\" width=\"64\" x=\"64\" xlink:href=\"https://iut-info.univ-reims.fr/users/collard/dutgraphics/images/4.png\" y=\"0\" /><image fill=\"#800080\" height=\"105\" stroke=\"#000000\" stroke-width=\"1\" width=\"64\" x=\"64\" xlink:href=\"https://iut-info.univ-reims.fr/users/collard/dutgraphics/images/5.png\" y=\"0\" /><image fill=\"#800080\" height=\"105\" stroke=\"#000000\" stroke-width=\"1\" width=\"64\" x=\"64\" xlink:href=\"https://iut-info.univ-reims.fr/users/collard/dutgraphics/images/6.png\" y=\"0\" /><image fill=\"#800080\" height=\"105\" stroke=\"#000000\" stroke-width=\"1\" width=\"64\" x=\"64\" xlink:href=\"https://iut-info.univ-reims.fr/users/collard/dutgraphics/images/7.png\" y=\"0\" /><image fill=\"#800080\" height=\"105\" stroke=\"#000000\" stroke-width=\"1\" width=\"64\" x=\"64\" xlink:href=\"https://iut-info.univ-reims.fr/users/collard/dutgraphics/images/8.png\" y=\"0\" /><image fill=\"#800080\" height=\"105\" stroke=\"#000000\" stroke-width=\"1\" width=\"64\" x=\"64\" xlink:href=\"https://iut-info.univ-reims.fr/users/collard/dutgraphics/images/0.png\" y=\"0\" /><image fill=\"#800080\" height=\"105\" stroke=\"#000000\" stroke-width=\"1\" width=\"64\" x=\"64\" xlink:href=\"https://iut-info.univ-reims.fr/users/collard/dutgraphics/images/1.png\" y=\"0\" /><image fill=\"#800080\" height=\"105\" stroke=\"#000000\" stroke-width=\"1\" width=\"64\" x=\"64\" xlink:href=\"https://iut-info.univ-reims.fr/users/collard/dutgraphics/images/2.png\" y=\"0\" /><image fill=\"#800080\" height=\"105\" stroke=\"#000000\" stroke-width=\"1\" width=\"64\" x=\"64\" xlink:href=\"https://iut-info.univ-reims.fr/users/collard/dutgraphics/images/3.png\" y=\"0\" /><image fill=\"#800080\" height=\"105\" stroke=\"#000000\" stroke-width=\"1\" width=\"64\" x=\"64\" xlink:href=\"https://iut-info.univ-reims.fr/users/collard/dutgraphics/images/4.png\" y=\"0\" /><image fill=\"#800080\" height=\"105\" stroke=\"#000000\" stroke-width=\"1\" width=\"64\" x=\"64\" xlink:href=\"https://iut-info.univ-reims.fr/users/collard/dutgraphics/images/5.png\" y=\"0\" /><image fill=\"#800080\" height=\"105\" stroke=\"#000000\" stroke-width=\"1\" width=\"64\" x=\"64\" xlink:href=\"https://iut-info.univ-reims.fr/users/collard/dutgraphics/images/6.png\" y=\"0\" /><image fill=\"#800080\" height=\"105\" stroke=\"#000000\" stroke-width=\"1\" width=\"64\" x=\"64\" xlink:href=\"https://iut-info.univ-reims.fr/users/collard/dutgraphics/images/7.png\" y=\"0\" /><image fill=\"#800080\" height=\"105\" stroke=\"#000000\" stroke-width=\"1\" width=\"64\" x=\"64\" xlink:href=\"https://iut-info.univ-reims.fr/users/collard/dutgraphics/images/8.png\" y=\"0\" /><image fill=\"#800080\" height=\"105\" stroke=\"#000000\" stroke-width=\"1\" width=\"64\" x=\"64\" xlink:href=\"https://iut-info.univ-reims.fr/users/collard/dutgraphics/images/0.png\" y=\"0\" /><image fill=\"#800080\" height=\"105\" stroke=\"#000000\" stroke-width=\"1\" width=\"64\" x=\"64\" xlink:href=\"https://iut-info.univ-reims.fr/users/collard/dutgraphics/images/1.png\" y=\"0\" /><image fill=\"#800080\" height=\"105\" stroke=\"#000000\" stroke-width=\"1\" width=\"64\" x=\"64\" xlink:href=\"https://iut-info.univ-reims.fr/users/collard/dutgraphics/images/2.png\" y=\"0\" /><image fill=\"#800080\" height=\"105\" stroke=\"#000000\" stroke-width=\"1\" width=\"64\" x=\"64\" xlink:href=\"https://iut-info.univ-reims.fr/users/collard/dutgraphics/images/3.png\" y=\"0\" /><image fill=\"#800080\" height=\"105\" stroke=\"#000000\" stroke-width=\"1\" width=\"64\" x=\"64\" xlink:href=\"https://iut-info.univ-reims.fr/users/collard/dutgraphics/images/4.png\" y=\"0\" /><image fill=\"#800080\" height=\"105\" stroke=\"#000000\" stroke-width=\"1\" width=\"64\" x=\"64\" xlink:href=\"https://iut-info.univ-reims.fr/users/collard/dutgraphics/images/5.png\" y=\"0\" /><image fill=\"#800080\" height=\"105\" stroke=\"#000000\" stroke-width=\"1\" width=\"64\" x=\"64\" xlink:href=\"https://iut-info.univ-reims.fr/users/collard/dutgraphics/images/6.png\" y=\"0\" /><image fill=\"#800080\" height=\"105\" stroke=\"#000000\" stroke-width=\"1\" width=\"64\" x=\"64\" xlink:href=\"https://iut-info.univ-reims.fr/users/collard/dutgraphics/images/7.png\" y=\"0\" /><image fill=\"#800080\" height=\"105\" stroke=\"#000000\" stroke-width=\"1\" width=\"64\" x=\"64\" xlink:href=\"https://iut-info.univ-reims.fr/users/collard/dutgraphics/images/8.png\" y=\"0\" /><image fill=\"#800080\" height=\"105\" stroke=\"#000000\" stroke-width=\"1\" width=\"64\" x=\"0\" xlink:href=\"https://iut-info.univ-reims.fr/users/collard/dutgraphics/images/5.png\" y=\"0\" /><image fill=\"#800080\" height=\"105\" stroke=\"#000000\" stroke-width=\"1\" width=\"64\" x=\"64\" xlink:href=\"https://iut-info.univ-reims.fr/users/collard/dutgraphics/images/0.png\" y=\"0\" /><image fill=\"#800080\" height=\"105\" stroke=\"#000000\" stroke-width=\"1\" width=\"64\" x=\"64\" xlink:href=\"https://iut-info.univ-reims.fr/users/collard/dutgraphics/images/1.png\" y=\"0\" /><image fill=\"#800080\" height=\"105\" stroke=\"#000000\" stroke-width=\"1\" width=\"64\" x=\"64\" xlink:href=\"https://iut-info.univ-reims.fr/users/collard/dutgraphics/images/2.png\" y=\"0\" /><image fill=\"#800080\" height=\"105\" stroke=\"#000000\" stroke-width=\"1\" width=\"64\" x=\"64\" xlink:href=\"https://iut-info.univ-reims.fr/users/collard/dutgraphics/images/3.png\" y=\"0\" /><image fill=\"#800080\" height=\"105\" stroke=\"#000000\" stroke-width=\"1\" width=\"64\" x=\"64\" xlink:href=\"https://iut-info.univ-reims.fr/users/collard/dutgraphics/images/4.png\" y=\"0\" /><image fill=\"#800080\" height=\"105\" stroke=\"#000000\" stroke-width=\"1\" width=\"64\" x=\"64\" xlink:href=\"https://iut-info.univ-reims.fr/users/collard/dutgraphics/images/5.png\" y=\"0\" /><image fill=\"#800080\" height=\"105\" stroke=\"#000000\" stroke-width=\"1\" width=\"64\" x=\"64\" xlink:href=\"https://iut-info.univ-reims.fr/users/collard/dutgraphics/images/6.png\" y=\"0\" /><image fill=\"#800080\" height=\"105\" stroke=\"#000000\" stroke-width=\"1\" width=\"64\" x=\"64\" xlink:href=\"https://iut-info.univ-reims.fr/users/collard/dutgraphics/images/7.png\" y=\"0\" /><image fill=\"#800080\" height=\"105\" stroke=\"#000000\" stroke-width=\"1\" width=\"64\" x=\"64\" xlink:href=\"https://iut-info.univ-reims.fr/users/collard/dutgraphics/images/8.png\" y=\"0\" /><image fill=\"#800080\" height=\"105\" stroke=\"#000000\" stroke-width=\"1\" width=\"64\" x=\"64\" xlink:href=\"https://iut-info.univ-reims.fr/users/collard/dutgraphics/images/9.png\" y=\"0\" /></svg>"
      ],
      "text/plain": [
       "<Canvas (128, 105)>"
      ]
     },
     "metadata": {},
     "output_type": "display_data"
    }
   ],
   "source": [
    "def chrono(nbreRepetitions: int) -> None:\n",
    "    # répertoire commun de toutes les images\n",
    "    dir = dutgraphics._url\n",
    "    # taille des images de chiffre\n",
    "    w = 64\n",
    "    h = 105\n",
    "\n",
    "    cv=Canvas((128,105))\n",
    "    cv.drawFrame(black)\n",
    "    L=['0.png','1.png','2.png','3.png','4.png','5.png','6.png','7.png','8.png','9.png']\n",
    "    \n",
    "    for i in range(6):\n",
    "        dizaine = Picture(dutgraphics._url+L[i], (0, 0) , (w, h))\n",
    "        cv.draw(dizaine)\n",
    "        for j in range(10):\n",
    "            unite = Picture(dutgraphics._url+L[j], (64, 0) , (w, h))\n",
    "            cv.draw(unite)\n",
    "            cv.displayPause(1)\n",
    "        cv.undraw(dizaine)  \n",
    "        cv.undraw(unite)\n",
    "    \n",
    "    \n",
    "    return None\n",
    "\n",
    "chrono(nbreRepetitions = 1)\n"
   ]
  },
  {
   "cell_type": "markdown",
   "id": "c8011b8b-46cc-43bb-bef0-404b5a125848",
   "metadata": {},
   "source": [
    "[Retour au plan](#Plan)"
   ]
  },
  {
   "cell_type": "markdown",
   "id": "c297d607-8ac5-498a-b87e-7cb7eb44b011",
   "metadata": {},
   "source": [
    "# 2. Puissance 4"
   ]
  },
  {
   "cell_type": "markdown",
   "id": "8b78909f-82b5-4c3e-86d7-df5d1f508cfc",
   "metadata": {},
   "source": [
    "Le but de l’exercice est de créer un programme permettant à un utilisateur de jouer au jeu Puissance\n",
    "4.\n",
    "\n",
    "<div align=center><img src=\"https://iut-info.univ-reims.fr/users/romaniuk/restricted/S1AlgoProg/ressources/puissance4.png\" alt=\"Image absente\" width=\"\" ></div>\n",
    "\n",
    "Rappel du jeu (source article Puissance 4 de Wikipédia en français) : le but est d’aligner 4 pions\n",
    "sur une grille comptant 6 rangées et 7 colonnes. Chaque joueur dispose de 21 pions d’une couleur (en\n",
    "général jaune ou rouge). Tour à tour les deux joueurs placent un pion dans la colonne de leur choix,\n",
    "le pion coulisse alors jusqu’à la position la plus basse possible dans ladite colonne suite à quoi c’est à\n",
    "l’adversaire de jouer. Le vainqueur est le joueur qui réalise le premier un alignement (horizontal, vertical\n",
    "ou diagonal) d’au moins quatre pions de sa couleur. Si alors que toutes les cases de la grille de jeu sont\n",
    "remplies aucun des deux joueurs n’a réalisé un tel alignement, la partie est déclarée nulle.\n",
    "\n",
    "Le choix de la colonne où ajouter un pion se fera au clavier. Prévoyez une touche pour arrêter le jeu. Vous pouvez prévoir aussi que la taille du plateau soit configurable (paramètres au lancement du jeu).\n",
    "\n",
    "La partie la plus longue à coder est la vérification d'un alignement : gardez-la pour la fin."
   ]
  },
  {
   "cell_type": "code",
   "execution_count": 19,
   "id": "f34a048c-ed0e-4436-818c-dfbdf0062064",
   "metadata": {},
   "outputs": [
    {
     "name": "stdout",
     "output_type": "stream",
     "text": [
      "[[[False, False, False], [False, False, False], [False, False, False], [False, False, False], [False, False, False], [False, False, False]], [[False, False, False], [False, False, False], [False, False, False], [False, False, False], [False, False, False], [False, False, False]], [[False, False, False], [False, False, False], [False, False, False], [False, False, False], [False, False, False], [False, False, False]], [[False, False, False], [False, False, False], [False, False, False], [False, False, False], [False, False, False], [False, False, False]], [[False, False, False], [False, False, False], [False, False, False], [False, False, False], [False, False, False], [False, False, False]], [[False, False, False], [False, False, False], [False, False, False], [False, False, False], [False, False, False], [False, False, False]], [[False, False, False], [False, False, False], [False, False, False], [False, False, False], [False, False, False], [False, False, False]]]\n"
     ]
    }
   ],
   "source": [
    "def initialisationPlateau(nbLignes : int, nbColonnes : int, taille : int) -> Canvas : #taille donne le rayon d'une case du plateau\n",
    "    plateau = Canvas((nbColonnes*(taille*2.125),nbLignes*(taille*2.125)))\n",
    "    plateau.drawFrame(blue)\n",
    "    ecart=taille*1.1\n",
    "    ponderation=taille*2.1\n",
    "    for i in range(nbLignes):\n",
    "        for j in range(nbColonnes):\n",
    "            cercleVide=Circle((ecart+ponderation*j,ecart+ponderation*i),taille)\n",
    "            cercleVide.setFill(white)\n",
    "            cercleVide.draw(plateau)\n",
    "    \n",
    "    return plateau\n",
    "\n",
    "def creationListePosition(nbLignes : int, nbColonnes : int) -> list :\n",
    "    listePos=[]\n",
    "    for i in range(nbColonnes):\n",
    "        listeColN=[]\n",
    "        for j in range(nbLignes):\n",
    "            listeColN.append([False,False,False])\n",
    "        listePos.append(listeColN)\n",
    "    return(listePos)\n",
    "\n",
    "\n",
    "\n",
    "\n",
    "def tourdejeu(listePos : list, couleur : str, taille : int, plateau : Canvas) -> list :\n",
    "    print(f\"C'est au joueur {couleur} de placer son pion.\")\n",
    "    validation=0\n",
    "    numCol=0\n",
    "    while validation != 5:\n",
    "        listeLigne=listPos[numcol]\n",
    "        positionsCol=listeLigne[0]\n",
    "        iterateur=0\n",
    "        while not positionsCol[iterateur]:\n",
    "            iterateur+=1\n",
    "        affichageCercleJ(taille, numCol, iterateur, couleur, plateau)\n",
    "            \n",
    "    \n",
    "\n",
    "def affichageCercleJ(taille : int, numCol : int, iterateur : int, couleur : str, plateau : Canvas) -> Circle:\n",
    "        ecart=taille*1.1\n",
    "        ponderation=taille*2.1\n",
    "        caseRemplie=Circle((ecart+ponderation*numCol, ecart+ponderation*iterateur),taille)\n",
    "        caseRemplie.setColor(couleur)\n",
    "        caseRemplie.draw(plateau)\n",
    "        plateau.displayPause(0.5)\n",
    "    \n",
    "    \n",
    "    \n",
    "    \n",
    "cv = initialisationPlateau(6, 7, 20)\n",
    "listePos=creationListePosition(6, 7)\n"
   ]
  },
  {
   "cell_type": "markdown",
   "id": "a6851404-1dc9-409c-a97e-80ee1687cdb2",
   "metadata": {},
   "source": [
    "[Retour au plan](#Plan)"
   ]
  },
  {
   "cell_type": "markdown",
   "id": "8bedaab3-6eec-490b-8995-53bf508ae930",
   "metadata": {},
   "source": [
    "# 3. Casse-briques"
   ]
  },
  {
   "cell_type": "markdown",
   "id": "9ec9e05c-6c39-454c-af29-169f5feda109",
   "metadata": {},
   "source": [
    "## 3.1 Version automatique"
   ]
  },
  {
   "cell_type": "markdown",
   "id": "135fb0d6-cb2b-4435-b489-2f9f6742dce6",
   "metadata": {},
   "source": [
    "L'exercice consiste à programmer une \"balle\" qui va rebondir sur les bords d'un canevas. La direction de chaque rebond sera aléatoire (mais en assurant que la balle reste dans le canevas). Dans le canevas seront dessinés des carrés qui disparaîtront lorsque la balle les traversera. Le programme s'arrête après un nombre défini de rebonds ou lorsque tous les carrés ont disparu.\n",
    "\n",
    "<div align=center><img src=\"https://iut-info.univ-reims.fr/users/romaniuk/restricted/S1AlgoProg/ressources/casseBriques.gif\" alt=\"image absente\" width=\"200\"></div>\n",
    "\n",
    "Pour la détection de collision on suppose que le cercle représentant la balle est plus petit que les carrés. Les classes `Circle` et `Rectangle` disposent des méthodes `getP1()` et `getP2()` retournant une instance de `Point` représentant respectivement leur coin supérieur gauche et leur coin inférieur droit. La classe `Point` dispose des accesseurs `getX()` et `getY()`."
   ]
  },
  {
   "cell_type": "code",
   "execution_count": 9,
   "id": "09d3c282-329d-4879-a98c-4939eda71ebc",
   "metadata": {},
   "outputs": [],
   "source": [
    "# Tapez votre code ici"
   ]
  },
  {
   "cell_type": "markdown",
   "id": "bc9eef3a-be96-4838-b2e9-8a3c7fdc4d36",
   "metadata": {},
   "source": [
    "## 3.2 Version clavier"
   ]
  },
  {
   "cell_type": "markdown",
   "id": "d288f2b3-81ef-4fcf-a989-67621a987f7b",
   "metadata": {},
   "source": [
    "Pour ajouter un peu d'interactivité au casse-briques, la direction et la distance parcourue par la balle seront saisies par l'utilisateur au clavier.\n",
    "\n",
    "<div align=center><img src=\"https://iut-info.univ-reims.fr/users/romaniuk/restricted/S1AlgoProg/ressources/casseBriques.png\" alt=\"image absente\" width=\"400\"></div>\n",
    "\n",
    "Les carrés pourront avoir des points, la distance et le nombre de coups seront comptabilisés aussi de manière à afficher un bilan en fin de partie. \n",
    "\n",
    "    Nombre de points : 15\n",
    "    Nombre de coups : 8\n",
    "    Distance totale : 1200\n",
    "    Merci d'avoir joué !"
   ]
  },
  {
   "cell_type": "code",
   "execution_count": null,
   "id": "33f6f488-211a-4889-85be-2dfc9f40dcc8",
   "metadata": {},
   "outputs": [],
   "source": [
    "# Tapez votre code ici"
   ]
  },
  {
   "cell_type": "markdown",
   "id": "c823ac55-de95-42a7-af09-1fb71bef8f06",
   "metadata": {},
   "source": [
    "[Retour au plan](#Plan)"
   ]
  },
  {
   "cell_type": "markdown",
   "id": "8abcc287-9e44-4420-bf53-4cd7295f45aa",
   "metadata": {},
   "source": [
    "# 4. Le Pendu"
   ]
  },
  {
   "cell_type": "markdown",
   "id": "e1027c05-8e36-4ca2-9067-fde3e4193cc3",
   "metadata": {},
   "source": [
    "## 4.1 Règle du jeu"
   ]
  },
  {
   "cell_type": "markdown",
   "id": "b928a5b7-2718-4650-805c-584e19bd8ba1",
   "metadata": {},
   "source": [
    "Il s'agit pour l'utilisateur de deviner un mot tiré au hasard en proposant des lettres un nombre maximum de fois (10 essais en général). N'oubliez pas de prévoir un caractère hors alphabet pour quitter le jeu.\n",
    "\n",
    "Vous pouvez réaliser ce jeu en mode texte ou en mode graphique. Dans la version graphique le nombre d'essais sans succès est représenté par le dessin progressif d'un pendu : quand le dessin est terminé, la partie est perdue. \n",
    "\n",
    "Pour tirer un mot au hasard de 4 à 9 lettres, téléchargez et enregistrez dans votre répertoire cette [liste de mots](https://iut-info.univ-reims.fr/users/romaniuk/restricted/S1AlgoProg/ressources/mots_pendu.txt), et utilisez la fonction suivante fournie :"
   ]
  },
  {
   "cell_type": "code",
   "execution_count": null,
   "id": "cd05ab47-f691-4e6c-b4f4-87b182a43441",
   "metadata": {},
   "outputs": [],
   "source": [
    "def getMotMystere(nbLettres: int) -> str:\n",
    "    \"\"\"\n",
    "    Cette fonction retourne un mot au hasard d'une longueur nbLettres entre 4 et 9 \n",
    "    dans un fichier texte fourni.\n",
    "    Les caractères utilisés sont ABCDEFGHIJKLMNOPQRSTUVWXYZ\n",
    "    \"\"\"\n",
    "    # lire le fichier dans un string\n",
    "    fichier = open(\"mots_pendu.txt\",'r')\n",
    "    liste = fichier.read()\n",
    "    fichier.close()\n",
    "    # transformer le string en liste\n",
    "    liste = liste.split('\\n')\n",
    "    # conserver les mots avec le nombre de lettres voulu\n",
    "    tmp = []\n",
    "    for m in liste:\n",
    "        if len(m) == nbLettres:\n",
    "            tmp.append(m)\n",
    "    # tirer au hasard et retourner\n",
    "    return choice(tmp)"
   ]
  },
  {
   "cell_type": "markdown",
   "id": "aae82983-07c5-4c7f-8ac5-95b1da11ab97",
   "metadata": {},
   "source": [
    "## 4.2 Version texte"
   ]
  },
  {
   "cell_type": "markdown",
   "id": "048f1cd9-6dd9-4a10-9218-4c81a457e644",
   "metadata": {},
   "source": [
    "Voici la trace d'une exécution du jeu (le caractère `*` sert à quitter) :\n",
    "\n",
    "    Combien de lettres (entre 4 et 9) ? 6\n",
    "    ......\n",
    "    Lettres possibles : *ABCDEFGHIJKLMNOPQRSTUVWXYZ\n",
    "    Lettre ? (il reste 10 essais) A\n",
    "    Lettres possibles : *BCDEFGHIJKLMNOPQRSTUVWXYZ\n",
    "    ......\n",
    "    Lettre ? (il reste 9 essais) O\n",
    "    Lettres possibles : *BCDEFGHIJKLMNPQRSTUVWXYZ\n",
    "    ....O.\n",
    "    Lettre ? (il reste 9 essais) P\n",
    "    Lettres possibles : *BCDEFGHIJKLMNQRSTUVWXYZ\n",
    "    P...O.\n",
    "    Lettre ? (il reste 9 essais) E\n",
    "    Lettres possibles : *BCDFGHIJKLMNQRSTUVWXYZ\n",
    "    P...O.\n",
    "    Lettre ? (il reste 8 essais) H\n",
    "    Lettres possibles : *BCDFGIJKLMNQRSTUVWXYZ\n",
    "    P..HO.\n",
    "    Lettre ? (il reste 8 essais) T\n",
    "    Lettres possibles : *BCDFGIJKLMNQRSUVWXYZ\n",
    "    P.THO.\n",
    "    Lettre ? (il reste 8 essais) B\n",
    "    Lettres possibles : *CDFGIJKLMNQRSUVWXYZ\n",
    "    P.THO.\n",
    "    Lettre ? (il reste 7 essais) Y\n",
    "    Lettres possibles : *CDFGIJKLMNQRSUVWXZ\n",
    "    PYTHO.\n",
    "    Lettre ? (il reste 7 essais) 555\n",
    "    Une seule lettre !\n",
    "    Lettre ? (il reste 7 essais) 5\n",
    "    Lettre impossible ou déjà jouée...\n",
    "    Lettre ? (il reste 7 essais) N\n",
    "    Lettres possibles : *CDFGIJKLMQRSUVWXZ\n",
    "    PYTHON\n",
    "    Bravo c'est gagné !\n"
   ]
  },
  {
   "cell_type": "code",
   "execution_count": null,
   "id": "52b5acdd-a4a4-4762-bba6-bc7580efa333",
   "metadata": {},
   "outputs": [],
   "source": [
    "# Tapez votre code ici"
   ]
  },
  {
   "cell_type": "markdown",
   "id": "1188fc6b-85aa-4b1f-a8e0-5c54a263b7c2",
   "metadata": {},
   "source": [
    "## 4.3 Version graphique"
   ]
  },
  {
   "cell_type": "markdown",
   "id": "bde15b2b-4f63-418e-a930-b8fe10f326e8",
   "metadata": {},
   "source": [
    "<div align=center><img src=\"https://iut-info.univ-reims.fr/users/romaniuk/restricted/S1AlgoProg/ressources/jeupendu.gif\" alt=\"image absente\" width=\"400\"></div>\n",
    "\n",
    "Pour réaliser cette version graphique du jeu vous allez utiliser la classe `Picture` et des images accessibles en ligne dans le répertoire `dutgraphics._url`.\n",
    "\n",
    "> Vous pouvez essayer de conserver la version texte dans cette nouvelle version, et passer un paramètre booléen qui permet de passer d'une version à l'autre.\n",
    "\n",
    "Vous avez besoin de dessiner différentes parties du jeu.\n",
    "\n",
    "- Le fond : l'image de fond se nomme `pendu.png`. Elle se place en `(0, 0)`  et sa dimension est `(800, 450)`.\n",
    "\n",
    "<div align=center><img src=\"https://iut-info.univ-reims.fr/users/romaniuk/restricted/S1AlgoProg/ressources/pendu.png\" alt=\"image absente\" width=\"400\" ></div>\n",
    "\n",
    "- Le pendu : les 11 images successives du pendu ont pour nom `\"pendu1.png\" \"pendu2.png\" \"pendu3.png\"` etc. Elles se placent en `(0, 0)`  et leur dimension est `(234, 401)`.\n",
    "\n",
    "<div align=center><img src=\"https://iut-info.univ-reims.fr/users/romaniuk/restricted/S1AlgoProg/ressources/showGallows.png\" alt=\"image absente\" width=\"\"></div>\n",
    "\n",
    "- Les lettres : chaque lettre correspond à un fichier sous la forme `\"ImageA.png\" \"ImageB.png\" \"ImageC.png\"` etc. Les lettres au début du jeu apparaissent dans une zone de l'écran (la place n'est pas imposée). Quand une lettre est proposée, elle doit disparaître de la liste initiale, et apparaître le cas échéant à sa place dans le mot à deviner (sur le trait correspondant). Leur dimension est `(120, 120)`.\n",
    "\n",
    "<div align=center><img src=\"https://iut-info.univ-reims.fr/users/romaniuk/restricted/S1AlgoProg/ressources/letters.png\" alt=\"image absente\" width=\"\" ></div>\n",
    "\n",
    "- Les traits représentant les lettres du mot à deviner : leur nombre dépend du nombre de lettres choisi. Deux images sont disponibles `\"trait1.png\" \"trait2.png\"` de dimension `(50, 7)`. La place n'est pas imposée (mais évidemmet les lettres du mot devinées se placent au dessus).\n",
    "\n",
    "<div align=center><img src=\"https://iut-info.univ-reims.fr/users/romaniuk/restricted/S1AlgoProg/ressources/traits.png\" alt=\"image absente\" width=\"\" ></div>\n",
    "\n",
    "- L'affichage \"gagné\" : l'image du mot \"GAGNÉ !\" correspond au fichier `\"win.png\"` de dimension `(400, 284)`. Vous la placez où vous voulez.\n",
    "\n",
    "<div align=center><img src=\"https://iut-info.univ-reims.fr/users/romaniuk/restricted/S1AlgoProg/ressources/win.png\" alt=\"image absente\" width=\"300\" ></div>\n",
    "\n",
    "- L'affichage \"perdu\" : pour indiquer que le joueur a perdu la lettre \"R\" va se placer au-dessus de la lettre \"N\" du mot \"PENDU\".\n",
    "\n",
    "<div align=center><img src=\"https://iut-info.univ-reims.fr/users/romaniuk/restricted/S1AlgoProg/ressources/perdu.png\" alt=\"image absente\" width=\"300\" ></div>"
   ]
  },
  {
   "cell_type": "code",
   "execution_count": null,
   "id": "c96789f9-fd4a-4ee0-b050-e0d6f49fc048",
   "metadata": {},
   "outputs": [],
   "source": [
    "# Tapez votre code ici\n",
    "\n",
    "\n",
    "pendu(graphics=True)"
   ]
  },
  {
   "cell_type": "markdown",
   "id": "04a7a9d9-bb22-4b1d-adee-e7983a0f2166",
   "metadata": {},
   "source": [
    "[Retour au plan](#Plan)"
   ]
  }
 ],
 "metadata": {
  "kernelspec": {
   "display_name": "Python 3 (ipykernel)",
   "language": "python",
   "name": "python3"
  },
  "language_info": {
   "codemirror_mode": {
    "name": "ipython",
    "version": 3
   },
   "file_extension": ".py",
   "mimetype": "text/x-python",
   "name": "python",
   "nbconvert_exporter": "python",
   "pygments_lexer": "ipython3",
   "version": "3.8.10"
  }
 },
 "nbformat": 4,
 "nbformat_minor": 5
}
