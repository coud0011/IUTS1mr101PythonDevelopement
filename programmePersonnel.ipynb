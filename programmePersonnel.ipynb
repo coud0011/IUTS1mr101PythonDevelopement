{
 "cells": [
  {
   "cell_type": "code",
   "execution_count": 3,
   "id": "9d610714",
   "metadata": {
    "scrolled": true
   },
   "outputs": [
    {
     "name": "stdout",
     "output_type": "stream",
     "text": [
      "J-P : Alors ce séjour d'un an au québec c'était bien?\n",
      "toi : ça allait\n",
      "J-P : Ah oui d'accord!\n",
      "J-P : Je pense que tes parents doivent t'attendre... Allez bonne chance!\n",
      "\n"
     ]
    }
   ],
   "source": [
    "from dutgraphics import *\n",
    "name=input(\"What's your name?\")\n",
    "nationality=bool(input(\"You are french, True or False?\"))\n",
    "if nationality==False:\n",
    "    nationality=bool(input(\"You aren't sure, True or False?\"))\n",
    "    if nationality==False:\n",
    "        print(\"It's false you are french!\")\n",
    "print(\"On va donc parler en français maintenant.\")\n",
    "pause(3)\n",
    "print(\"C'est parti, bonne chance...\")\n",
    "print(\"J-P : \",\"Salut \",name,\"! Comment ça va?!\")\n",
    "humeur=input(\"Répondez à la question de J-P : toi : \")\n",
    "print(\"J-P : Hey! Mais moi aussi je me sens\",humeur,\"!!!\")\n",
    "pause(1.5)\n",
    "print(\"J-P : C'est génial que tu sois de retour!\")\n",
    "pause(1.5)\n",
    "print(\"J-P : Alors ce séjour d'un an au québec c'était bien?\")\n",
    "appréséjour=input(\"toi : \")\n",
    "print(\"J-P : Ah oui d'accord!\")\n",
    "print(\"J-P : Je pense que tes parents doivent t'attendre... Allez bonne chance!\")\n",
    "t=0\n",
    "while t==0:\n",
    "    dir=input(\"Où voulez-vous aller? \\nA - Chez vous\\nB - A la brasserie du coin\\nC - A l'hôtel où vous dormirez ce soir\\nD - Au bar du quartier retrouver vos amis\\n\")\n",
    "    if dir==D:\n",
    "        print(\"Aïe le bar est fermé pour congé annuel!\")\n",
    "        continue\n",
    "    elif dir==C:\n",
    "        print(\"\")"
   ]
  },
  {
   "cell_type": "code",
   "execution_count": null,
   "id": "dd27425e",
   "metadata": {},
   "outputs": [],
   "source": []
  }
 ],
 "metadata": {
  "kernelspec": {
   "display_name": "Python 3",
   "language": "python",
   "name": "python3"
  },
  "language_info": {
   "codemirror_mode": {
    "name": "ipython",
    "version": 3
   },
   "file_extension": ".py",
   "mimetype": "text/x-python",
   "name": "python",
   "nbconvert_exporter": "python",
   "pygments_lexer": "ipython3",
   "version": "3.8.10"
  }
 },
 "nbformat": 4,
 "nbformat_minor": 5
}
