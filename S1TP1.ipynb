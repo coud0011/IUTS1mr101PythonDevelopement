{
 "cells": [
  {
   "cell_type": "markdown",
   "id": "08b12b4d-e857-4dc5-ab73-89d8980f1e6a",
   "metadata": {},
   "source": [
    "<b><p style=\"text-align:center; font-family:verdana; font-size:220%;\"> Initiation au développement en Python</p></b>\n",
    "<div style=\"text-align: center\">\n",
    "    <img src=\"https://iut-info.univ-reims.fr/users/romaniuk/restricted/S1AlgoProg/ressources/Silly-Walk-monty-python.png\" alt=\"\" width=\"480\">\n",
    "</div>\n",
    "<b><p style=\"text-align:center; font-family:verdana; font-size:220%;\">TP 1 Variables, expressions et instructions</p></b>"
   ]
  },
  {
   "cell_type": "markdown",
   "id": "84a85f35-ea9a-47fa-9356-80bf7381e88b",
   "metadata": {},
   "source": [
    "Indiquez ici votre nom et prénom :\n",
    "\n",
    "    .Axel.     .COUDROT.  \n",
    "\n",
    "Cette cellule est une cellule de texte. Elle débutera tous les sujets de TP pour permettre à votre encadrant de TP d'identifier votre travail.\n",
    "\n",
    ">Pour éditer cette cellule, sélectionnez-la à la souris : son bord gauche devient un trait bleu. Appuyez sur `<Entrée>` : le trait passe au vert. Vous pouvez alors taper votre texte. Une fois terminé, tapez sur `<maj-Entrée>`.\n",
    "\n",
    ">Vous pouvez vous repérer avec le numéro de ligne dans le code. S'il n'est pas visible, utilisez la commande `Toggle Line Numbers`du menu `View`."
   ]
  },
  {
   "cell_type": "markdown",
   "id": "4e765b75-0d42-49af-abb1-8c4df8cf90ff",
   "metadata": {},
   "source": [
    "# Plan\n",
    "* [1. Prise en mains d'un notebook Jupyter (30 min)](#1.-Prise-en-mains-d'un-notebook-Jupyter-%2830-min%29)\n",
    "\t* [1.1 Cellules](#1.1-Cellules)\n",
    "\t* [1.2 Problème d'exécution](#1.2-Problème-d'exécution)\n",
    "\t* [1.3 Affichage](#1.3-Affichage)\n",
    "\t* [1.4 Sauvegarde](#1.4-Sauvegarde)\n",
    "* [2. Types, affectation et variables (30 min)](#2.-Types,-affectation-et-variables-%2830-min%29)\n",
    "\t* [2.1 Rappels du cours](#2.1-Rappels-du-cours)\n",
    "\t* [2.2 Exercices](#2.2-Exercices)\n",
    "\t\t* [2.2.1 Trois variables](#2.2.1-Trois-variables)\n",
    "\t\t* [2.2.2 Suppression](#2.2.2-Suppression)\n",
    "\t\t* [2.2.3 Permutation](#2.2.3-Permutation)\n",
    "* [3. Entrées-sorties (60 min)](#3.-Entrées-sorties-%2860-min%29)\n",
    "\t* [3.1 Affichage](#3.1-Affichage)\n",
    "\t\t* [3.1.1 Rappels](#3.1.1-Rappels)\n",
    "\t\t* [3.1.2 Print](#3.1.2-Print)\n",
    "\t\t* [3.1.3 Print (bis)](#3.1.3-Print-%28bis%29)\n",
    "\t\t\t* [3.1.3.1 Un argument identifié](#3.1.3.1-Un-argument-identifié)\n",
    "\t\t\t* [3.1.3.2 Autre argument identifié](#3.1.3.2-Autre-argument-identifié)\n",
    "\t\t\t* [3.1.3.3 Deux arguments identifiés](#3.1.3.3-Deux-arguments-identifiés)\n",
    "\t* [3.2 Saisie](#3.2-Saisie)\n",
    "\t\t* [3.2.1 Rappels](#3.2.1-Rappels)\n",
    "\t\t* [3.2.2 Hello](#3.2.2-Hello)\n",
    "\t\t* [3.2.3 Mots](#3.2.3-Mots)\n",
    "\t\t* [3.2.4 Mots (bis)](#3.2.4-Mots-%28bis%29)\n",
    "\t\t* [3.2.5 Mots (ter)](#3.2.5-Mots-%28ter%29)\n",
    "\t\t* [3.2.6 Indice de masse corporelle](#3.2.6-Indice-de-masse-corporelle)\n",
    "\t\t* [3.2.7 Arrondi](#3.2.7-Arrondi)\n",
    "* [4. Un peu d'aléatoire (60 min)](#4.-Un-peu-d'aléatoire-%2860-min%29)\n",
    "\t* [4.1 Rappels](#4.1-Rappels)\n",
    "\t* [4.2 Exercices](#4.2-Exercices)\n",
    "\t\t* [4.2.1 Calculs  aléatoires](#4.2.1-Calculs--aléatoires)\n",
    "\t\t\t* [4.2.1.1 Somme et moyenne](#4.2.1.1-Somme-et-moyenne)\n",
    "\t\t\t* [4.2.1.2 Une seule variable](#4.2.1.2-Une-seule-variable)\n",
    "\t\t* [4.2.2 Au magasin](#4.2.2-Au-magasin)\n",
    "\t\t* [4.2.3 Combats  aléatoires](#4.2.3-Combats--aléatoires)\n",
    "\t\t\t* [4.2.3.1 Judo](#4.2.3.1-Judo)\n",
    "\t\t\t* [4.2.3.2 Boxe](#4.2.3.2-Boxe)\n",
    "* [5. Expressions et instructions (60 min)](#5.-Expressions-et-instructions-%2860-min%29)\n",
    "\t* [5.1 Expressions](#5.1-Expressions)\n",
    "\t* [5.2 Instructions](#5.2-Instructions)\n",
    "\t* [5.3 Ordre des instructions](#5.3-Ordre-des-instructions)\n",
    "\t* [5.4 Appel de fonctions](#5.4-Appel-de-fonctions)"
   ]
  },
  {
   "cell_type": "markdown",
   "id": "f7fe4528-3452-4c9b-a3a8-7be6e34b8dd9",
   "metadata": {},
   "source": [
    "# 1. Prise en mains d'un notebook Jupyter (30 min)"
   ]
  },
  {
   "cell_type": "markdown",
   "id": "144beba3-ff6a-49a4-b905-313874d984a3",
   "metadata": {},
   "source": [
    "## 1.1 Cellules"
   ]
  },
  {
   "cell_type": "markdown",
   "id": "f2022764-dbff-47b5-8815-b7a1f6c43c44",
   "metadata": {},
   "source": [
    "Un notebook Jupyter se compose de **cellules** individuelles pouvant contenir du **code** Python ou du **texte** (avec formatage Markdown). \n",
    "\n",
    "Vous travaillerez principalement dans des cellules de code qui sont représentées de la façon suivante :"
   ]
  },
  {
   "cell_type": "code",
   "execution_count": null,
   "id": "41381107-4294-4704-9b97-c5550af4a31c",
   "metadata": {},
   "outputs": [],
   "source": [
    "# Tapez votre code ici"
   ]
  },
  {
   "cell_type": "markdown",
   "id": "7f67d9a6-ef82-49c2-a72d-775d891df2e3",
   "metadata": {},
   "source": [
    "Cette cellule est en lecture seule. Seules les cellules dans lesquelles vous aurez à taper du code seront modifiables.\n",
    "\n",
    "Notez son préfixe **`In [ ] :`** qui la différencie des cellules de texte. Le nombre entre les crochets indique l'ordre d'exécution de la cellule (ou rien si la cellule n'a pas été exécutée) : tout ce qui est fait dans les cellules de code reste en mémoire, connaître leur ordre d'exécution est donc utile pour comprendre certains résultats.\n",
    "\n",
    "Vous aurez aussi à répondre à des questions dans des cellules de texte signalées ainsi :"
   ]
  },
  {
   "cell_type": "markdown",
   "id": "aa2ca23f-37be-40e9-8337-11bf87c39f1c",
   "metadata": {},
   "source": [
    "_**Tapez votre réponse ici**_"
   ]
  },
  {
   "cell_type": "markdown",
   "id": "ecc93eb9-aeec-4729-abbd-e12ed29eac80",
   "metadata": {},
   "source": [
    "Pour effectivement taper votre réponse il faudra double-cliquer dans une cellule, ou alors la sélectionner par un clic de souris puis taper la touche `<Entrée>`. Le trait à gauche de la cellule sera alors de couleur verte et non bleue. La couleur bleue signale le mode \"commande\", la couleur verte le mode \"édition\". Pour revenir en mode commande il faut taper `<Echap>` ou cliquer en dehors de la cellule.\n",
    "\n",
    "Mode commande :\n",
    "<img src=\"https://iut-info.univ-reims.fr/users/valette/public/images/command_mode.png\" alt=\"Image absente\" width=\"600\" align=\"center\">\n",
    "\n",
    "Mode édition :\n",
    "<img src=\"https://iut-info.univ-reims.fr/users/valette/public/images/edit_mode.png\" alt=\"Image absente\" width=\"600\" align=\"center\">\n",
    "\n",
    "> **Attention !** En mode commande beaucoup de raccourcis clavier existent : **pour éviter toute fausse manoeuvre vérifiez toujours que vous êtes en mode édition avant de taper au clavier !**\n",
    "\n",
    "Pour **exécuter le code** Python d'une cellule, il faut taper `<maj-Entrée>` ou `<ctrl-Entrée>` quand la cellule est sélectionnée. \n",
    "\n",
    "> **Note :** `<maj-Entrée>` exécute une cellule et passe à la suivante, ce qui rend possible l'exécution de plusieurs cellules à la suite. Il est aussi possible de taper `<ctrl-Entrée>`. Dans ce cas, le curseur reste dans la cellule après l'exécution.\n",
    "\n",
    "En guise d'exercice, exécutez les deux cellules suivantes."
   ]
  },
  {
   "cell_type": "code",
   "execution_count": null,
   "id": "ddb0b747-cdd6-46f6-adb4-d48969d6be82",
   "metadata": {},
   "outputs": [],
   "source": [
    "15 + 24"
   ]
  },
  {
   "cell_type": "code",
   "execution_count": null,
   "id": "10cadcb0-4bc3-4bf9-bced-4b9d720e952e",
   "metadata": {},
   "outputs": [],
   "source": [
    "'And now for something completely different...'"
   ]
  },
  {
   "cell_type": "markdown",
   "id": "55bdd1ab-74b2-4ae6-8992-3409128b9a5f",
   "metadata": {},
   "source": [
    "Une ligne **`Out[ ] :`** devrait être apparue en dessous de chaque cellule, affichant le résultat de l'évaluation de *la dernière expression* qu'elle contient. C'est la reproduction du comportement de l'interpréteur Python en ligne de commande.\n",
    "\n",
    "Tout ce qui est créé en mémoire lors de l'exécution d'une cellule reste en mémoire et peut donc être réutilisé. En conséquence, l'ordre d'exécution des cellules a une importance capitale, c'est pourquoi il est indiqué entre les crochets qui suivent **`In`**.\n",
    "\n",
    "Par exemple, la cellule suivante provoque une erreur indiquant que `not_defined` n'est ... pas défini :"
   ]
  },
  {
   "cell_type": "code",
   "execution_count": null,
   "id": "395cbff9-49c6-4f34-be9d-c2368d964828",
   "metadata": {},
   "outputs": [],
   "source": [
    "not_defined"
   ]
  },
  {
   "cell_type": "markdown",
   "id": "1f93a1a1-d9cd-4b5d-91af-dee5bcbf8773",
   "metadata": {},
   "source": [
    "En revanche, si vous exécutez auparavant la cellule suivante, l'erreur disparaîtra."
   ]
  },
  {
   "cell_type": "code",
   "execution_count": null,
   "id": "face9d56-c5d4-45a2-b12b-d1d3cd6f0910",
   "metadata": {},
   "outputs": [],
   "source": [
    "not_defined = 'defined'"
   ]
  },
  {
   "cell_type": "markdown",
   "id": "f77331c3-6f1c-42df-95e6-1c27c314fbf8",
   "metadata": {},
   "source": [
    "Pour reproduire l'erreur il faudra supprimer la variable de la mémoire avec le mot réservé `del` :"
   ]
  },
  {
   "cell_type": "code",
   "execution_count": null,
   "id": "0eca5018-c486-492a-ab7a-055c46ab98e3",
   "metadata": {},
   "outputs": [],
   "source": [
    "del not_defined"
   ]
  },
  {
   "cell_type": "markdown",
   "id": "505d78ab-90f8-49e0-84c0-f565c0d75a97",
   "metadata": {},
   "source": [
    "[Retour au plan](#Plan)"
   ]
  },
  {
   "cell_type": "markdown",
   "id": "0a50effe-8222-49e6-89f7-d70a063b3785",
   "metadata": {
    "tags": []
   },
   "source": [
    "## 1.2 Problème d'exécution"
   ]
  },
  {
   "cell_type": "markdown",
   "id": "6116da4a-8641-49f0-95dd-0ada100944fc",
   "metadata": {},
   "source": [
    "Si une exécution provoque un problème qui \"bloque\" le notebook (par exemple une boucle infinie...), vous pouvez interrompre ou redémarrer le \"noyau\" (_kernel_) :\n",
    "\n",
    "- menu `Kernel` commande `Interrupt`\n",
    "- menu `Kernel` commande `Restart`\n",
    "\n",
    "Si le noyau est redémarré la mémoire du notebook sera vidée.\n",
    "\n",
    "Ces commandes correspondent aux boutons suivants dans la barre d'outils : \n",
    "\n",
    "<img src=\"https://iut-info.univ-reims.fr/users/valette/public/images/boutons.png\" alt=\"Image absente\" width=\"100\" align=\"center\">"
   ]
  },
  {
   "cell_type": "markdown",
   "id": "ce48821f-ab76-4073-9bdd-d4680105f11b",
   "metadata": {},
   "source": [
    "[Retour au plan](#Plan)"
   ]
  },
  {
   "cell_type": "markdown",
   "id": "3091dcb6-5fbb-4a54-b5c5-cd970bae37db",
   "metadata": {},
   "source": [
    "## 1.3 Affichage"
   ]
  },
  {
   "cell_type": "markdown",
   "id": "ca66b051-9ae6-449b-9c0e-fa24e6cf3a06",
   "metadata": {},
   "source": [
    "Si plusieurs expressions sont présentes dans une cellule, seule la valeur de la dernière sera affichée par l'interpréteur. Faites le test avec la cellule suivante :"
   ]
  },
  {
   "cell_type": "code",
   "execution_count": null,
   "id": "512765b3-9308-4d80-8a06-fb1a8b356c41",
   "metadata": {},
   "outputs": [],
   "source": [
    "15 + 24\n",
    "'coucou'\n",
    "3.1516 ** 100\n",
    "\"dernière expression\" + \" de la \" + \"cellule\""
   ]
  },
  {
   "cell_type": "markdown",
   "id": "3a807ec7-a410-420b-b662-b076662da4e2",
   "metadata": {},
   "source": [
    "Pour afficher vous utiliserez plutôt la fonction `print()` en mettant entre les parenthèses ce que vous voulez afficher, comme dans la cellule suivante :"
   ]
  },
  {
   "cell_type": "code",
   "execution_count": null,
   "id": "a92eabb1-055a-4522-b903-ed045f253109",
   "metadata": {},
   "outputs": [],
   "source": [
    "print(15 + 24)\n",
    "print('coucou')\n",
    "print(3.1516 ** 100)\n",
    "print(\"dernière expression\" + \" de la \" + \"cellule\")"
   ]
  },
  {
   "cell_type": "markdown",
   "id": "fb40cb11-8059-4b60-8999-8547d8726eb1",
   "metadata": {},
   "source": [
    "Notez les différences avec la cellule précédente quand vous l'exécutez :\n",
    "- toutes les expressions ont été affichées\n",
    "- les chaînes de caractères n'ont plus d'apostrophes\n",
    "- il n'y a plus de préfixe **`Out[ ] :`** ce qui indique que c'est l'affichage demandé par le code avec `print()` et non celui de l'interpréteur\n",
    "\n",
    "Dans les solutions que vous allez proposer il vous est demande **de ne pas utiliser** le processus utilisé par l'interpréteur (**`Out[ ]`**) !"
   ]
  },
  {
   "cell_type": "markdown",
   "id": "b8cb6cfc-9575-46c5-84a5-4e353b087ffa",
   "metadata": {},
   "source": [
    "[Retour au plan](#Plan)"
   ]
  },
  {
   "cell_type": "markdown",
   "id": "8eac78ae-f2b7-4d2d-9808-7b01f5774799",
   "metadata": {},
   "source": [
    "## 1.4 Sauvegarde"
   ]
  },
  {
   "cell_type": "markdown",
   "id": "c32d9fd8-6681-4273-b872-ea32086625bf",
   "metadata": {},
   "source": [
    "Un notebook contient à la fois l'énoncé du TP et votre code ou vos réponses. Comme tout est modifiable et que vous n'êtes pas à l'abri d'une fausse manœuvre, en cas de besoin (par exemple si vous effacez une partie d'un énoncé) une version HTML en lecture seule de ce notebook est disponible sur [la page d'accueil de ce cours](https://iut-info.univ-reims.fr/users/valette/restricted/AlgoProgS1/index.html). Un lien est également présent au début du sujet.\n",
    "\n",
    "Dès que vous avez terminé un exercice, n'oubliez pas de sauvegarder votre notebook (raccourci `<ctrl - S>`). Jupyter effectue également par défaut des sauvegardes à intervalle régulier (2 minutes par défaut). Pour revenir à un état précédent de votre fichier, vous pouvez utiliser la commande `Revert to Checkpoint` du menu `File` *(à manipuler avec précaution)*.  \n",
    "\n",
    "Votre encadrant de TP vous précisera comment il souhaite récupérer votre travail : différentes exportations sont possibles (voir `File\\Download as`).\n",
    "\n",
    "[Retour au plan](#Plan)"
   ]
  },
  {
   "cell_type": "markdown",
   "id": "9e65fcbe-ccc5-46fc-b3e5-562492f99929",
   "metadata": {},
   "source": [
    "# 2. Types, affectation et variables (30 min)"
   ]
  },
  {
   "cell_type": "markdown",
   "id": "3eddcfa7-00a8-4267-9f23-6f084ecef762",
   "metadata": {},
   "source": [
    "## 2.1 Rappels du cours"
   ]
  },
  {
   "cell_type": "markdown",
   "id": "57c0d214-4556-4f6d-8355-f2fc92ff504c",
   "metadata": {},
   "source": [
    "Quels sont les types de données que nous connaissons jusqu'à maintenant ?"
   ]
  },
  {
   "cell_type": "markdown",
   "id": "4f1f215a-ec64-453a-b621-9f10791dc678",
   "metadata": {},
   "source": [
    "Les entiers, les flottants, les chaînes de caractères. Mais il y a aussi les booléens"
   ]
  },
  {
   "cell_type": "markdown",
   "id": "d6b3daae-8108-4e08-b637-c5dc437853f8",
   "metadata": {},
   "source": [
    "La fonction `type()` permet de connaître le type d'une donnée. Exécuter une cellule contenant `type(donnée)` va afficher le type de la donnée entre les parenthèses.\n",
    "\n",
    "Testez cette fonction dans les 3 cellules suivantes avec successivement un nombre entier, un nombre réel, une chaîne de caractères. "
   ]
  },
  {
   "cell_type": "code",
   "execution_count": null,
   "id": "7c76487f-0187-4ad4-b1bd-74ae523f5a07",
   "metadata": {},
   "outputs": [],
   "source": [
    "type(5348)"
   ]
  },
  {
   "cell_type": "code",
   "execution_count": null,
   "id": "47b0178d-f1d6-4e14-9c15-fc2c56433ef2",
   "metadata": {},
   "outputs": [],
   "source": [
    "type(84964.14984)"
   ]
  },
  {
   "cell_type": "code",
   "execution_count": null,
   "id": "72537971-463a-49b4-bb22-653348ffac94",
   "metadata": {},
   "outputs": [],
   "source": [
    "type('je suis sur la lune')"
   ]
  },
  {
   "cell_type": "markdown",
   "id": "11ce081b-e7fa-4668-98be-40c25116f26f",
   "metadata": {},
   "source": [
    "Les données doivent pouvoir être manipulées : pour cela on y accède grâce à un nom, une **variable**. L'opération qui consiste à associer une donnée à un nom de variable s'appelle **l'affectation**. La cellule suivante montre la création de trois variables par trois affectations :"
   ]
  },
  {
   "cell_type": "code",
   "execution_count": null,
   "id": "22ab06c4-0aad-4322-a49c-9ecc13a900d9",
   "metadata": {},
   "outputs": [],
   "source": [
    "i = 123\n",
    "f = 3.14\n",
    "s = 'hello'"
   ]
  },
  {
   "cell_type": "markdown",
   "id": "1c83a34b-12cc-4645-b8e4-1f614c97043a",
   "metadata": {},
   "source": [
    "[Retour au plan](#Plan)"
   ]
  },
  {
   "cell_type": "markdown",
   "id": "b5363f1b-6f84-470a-a368-b0d7a8870e90",
   "metadata": {},
   "source": [
    "## 2.2 Exercices"
   ]
  },
  {
   "cell_type": "markdown",
   "id": "9f3ea907-9250-4c72-a2c8-df8702d6793c",
   "metadata": {},
   "source": [
    "### 2.2.1 Trois variables"
   ]
  },
  {
   "cell_type": "markdown",
   "id": "7778e6b2-b01f-4275-8645-e83809f3e817",
   "metadata": {},
   "source": [
    "Dans la cellule de code suivante :\n",
    "\n",
    "1. Affectez trois variables avec des valeurs des trois types que vous connaissez.\n",
    "1. Affichez avec `print()` les valeurs de ces trois variables.\n",
    "1. Modifiez ces variables par une autre affectation - vous pouvez changer de type.\n",
    "1. Réaffichez-les."
   ]
  },
  {
   "cell_type": "code",
   "execution_count": null,
   "id": "fcad0b0e-7d49-41a3-a85f-875fb791e020",
   "metadata": {},
   "outputs": [],
   "source": [
    "ent=25\n",
    "flott=5.23\n",
    "chaî='hello world'\n",
    "print(ent,'  ',flott,'  ',chaî)\n",
    "ent=flott\n",
    "flott=chaî\n",
    "chaî='ent'\n",
    "print(ent,'  ',flott,'  ',chaî)"
   ]
  },
  {
   "cell_type": "markdown",
   "id": "e5ea5e31-d722-4b53-b795-6cb858e18d3b",
   "metadata": {},
   "source": [
    "[Retour au plan](#Plan)"
   ]
  },
  {
   "cell_type": "markdown",
   "id": "2199cda5-fdc6-4140-96c2-7c63b2153100",
   "metadata": {},
   "source": [
    "### 2.2.2 Suppression"
   ]
  },
  {
   "cell_type": "markdown",
   "id": "37d69a5e-1d25-4545-88de-6451e68c3e5b",
   "metadata": {},
   "source": [
    "1. Supprimez une des variables précédentes avec `del`\n",
    "1. Essayez de l'afficher\n",
    "1. Expliquez en commentaire le résultat obtenu\n",
    "1. Quand pourra-t-on réutiliser cette variable ? Donnez un exemple de réutilisation.\n",
    "1. Supprimez toutes les variables que vous avez créées.\n",
    "\n",
    "Répondez en commentaires dans votre code.\n",
    "\n",
    "Rappel : un commentaire commence par `#`."
   ]
  },
  {
   "cell_type": "code",
   "execution_count": null,
   "id": "bfb6315f-1d09-4c2c-8813-f1764ac7425a",
   "metadata": {
    "scrolled": true,
    "tags": []
   },
   "outputs": [],
   "source": [
    "del ent\n",
    "print(ent)\n",
    "#la variable ent a été supprimée elle ne relie donc plus à une valeur donc l'affichée donne une erreur\n",
    "#pour réutiliser la valeur il faudra lui réaffecter un nombre : \n",
    "ent=25\n",
    "print(ent)\n",
    "del ent,flott,chaî"
   ]
  },
  {
   "cell_type": "markdown",
   "id": "265a19db-4e61-4f43-ba30-78bc637158ce",
   "metadata": {
    "tags": []
   },
   "source": [
    "[Retour au plan](#Plan)"
   ]
  },
  {
   "cell_type": "markdown",
   "id": "0fb24ea7-f11f-4077-b091-fec13bde7080",
   "metadata": {},
   "source": [
    "### 2.2.3 Permutation"
   ]
  },
  {
   "cell_type": "markdown",
   "id": "17354971-6292-4f8a-8796-5e7358634ae8",
   "metadata": {},
   "source": [
    "1. Affectez deux valeurs différentes (de même type ou non) à deux variables `a` et `b`.\n",
    "1. Affichez-les.\n",
    "1. En supposant que vous ne connaissez pas ces valeurs, donnez le code permutant la valeur de `a` et la valeur de `b`.\n",
    "1. Affichez-les pour vérifier.\n",
    "1. Supprimez-les."
   ]
  },
  {
   "cell_type": "code",
   "execution_count": null,
   "id": "a14b1f07-6cb3-4f0e-9a94-ea40268074f0",
   "metadata": {
    "tags": []
   },
   "outputs": [],
   "source": [
    "a=10\n",
    "b=1\n",
    "print(a,' ',b)\n",
    "c=b\n",
    "b=a\n",
    "a=c\n",
    "print(a,' ',b)\n",
    "del a,b"
   ]
  },
  {
   "cell_type": "markdown",
   "id": "faf8440a-98c6-41c4-bbd5-02e86716d6f4",
   "metadata": {
    "tags": []
   },
   "source": [
    "[Retour au plan](#Plan)"
   ]
  },
  {
   "cell_type": "markdown",
   "id": "2f054d30-94d9-4977-9ada-bcebede8f19d",
   "metadata": {
    "tags": []
   },
   "source": [
    "# 3. Entrées-sorties (60 min)"
   ]
  },
  {
   "cell_type": "markdown",
   "id": "d9f30d47-c12e-4e41-88c2-f21bc2164fd2",
   "metadata": {
    "tags": []
   },
   "source": [
    "## 3.1 Affichage"
   ]
  },
  {
   "cell_type": "markdown",
   "id": "1b97a69f-0cde-437d-8cce-4ba00d18bc2e",
   "metadata": {},
   "source": [
    "### 3.1.1 Rappels"
   ]
  },
  {
   "cell_type": "markdown",
   "id": "7308f0e9-3b1a-41bb-8501-a85f99dd225d",
   "metadata": {},
   "source": [
    "Comme vous l'avez vu, pour afficher du texte à l'écran vous utiliserez la fonction `print()` en mettant entre les parenthèses ce que vous voulez afficher.\n",
    "\n",
    "La fonction `print()` peut prendre plusieurs arguments anonymes (c'est-à-dire valeurs seulement), séparés par une virgule. Par exemple :"
   ]
  },
  {
   "cell_type": "code",
   "execution_count": null,
   "id": "bbe7a19b-30a5-4135-9270-873a38202de3",
   "metadata": {},
   "outputs": [],
   "source": [
    "print('Always', 'Look on', 'the Bright', 'Side of Life')"
   ]
  },
  {
   "cell_type": "markdown",
   "id": "a9a04c2d-c38f-4b87-975e-7ed8c903f986",
   "metadata": {},
   "source": [
    "Vous avez remarqué à l'exécution qu'un espace `' '` ou `\" \"` est automatiquement ajouté entre chaque argument. Ce comportement peut être modifié par l'ajout d'un _argument identifié_ par le nom `sep`, de type `str`, de la façon suivante :\n",
    "```python\n",
    "print('mots','à','afficher', sep='nouveau séparateur')\n",
    "```"
   ]
  },
  {
   "cell_type": "markdown",
   "id": "bb0f190b-4c73-4777-9a58-8af49351d400",
   "metadata": {},
   "source": [
    "Par exemple :"
   ]
  },
  {
   "cell_type": "code",
   "execution_count": null,
   "id": "06b422cd-d485-49d8-8b57-a99ce16a0858",
   "metadata": {},
   "outputs": [],
   "source": [
    "print('Always', 'Look on', 'the Bright', 'Side of Life', sep='/---/')"
   ]
  },
  {
   "cell_type": "markdown",
   "id": "a51d3713-5279-4a85-9886-76d655a09205",
   "metadata": {},
   "source": [
    "D'autre part, dans le cas de plusieurs instructions `print()` à la suite, le passage à la ligne est automatique. Par exemple :"
   ]
  },
  {
   "cell_type": "code",
   "execution_count": null,
   "id": "dc59594f-c9b8-48e0-b1a4-d58de1d3025c",
   "metadata": {},
   "outputs": [],
   "source": [
    "print('Always')\n",
    "print('Look on')\n",
    "print('the Bright')\n",
    "print('Side of Life')"
   ]
  },
  {
   "cell_type": "markdown",
   "id": "b6d5f666-25e1-40eb-b5b9-e8180ef344b4",
   "metadata": {},
   "source": [
    "Ce comportement peut être modifié par l'ajout d'un _argument identifié_ par le nom `end`, de type `str`, de la façon suivante :\n",
    "```python\n",
    "print('phrase à afficher', end='nouvelle fin de print')\n",
    "```"
   ]
  },
  {
   "cell_type": "markdown",
   "id": "6996b37b-bc0b-4c0f-8621-2f598a529896",
   "metadata": {},
   "source": [
    "Par exemple :"
   ]
  },
  {
   "cell_type": "code",
   "execution_count": null,
   "id": "25953a0d-42d5-4aaa-b6a2-650b1ab4b485",
   "metadata": {},
   "outputs": [],
   "source": [
    "print('Always', end='\\n***************\\n')\n",
    "print('Look on', end='\\n***************\\n')\n",
    "print('the Bright', end='\\n***************\\n')\n",
    "print('Side of Life', end='\\n***************\\n')"
   ]
  },
  {
   "cell_type": "markdown",
   "id": "6a0b50f3-da21-4761-8bbe-6f71aad46245",
   "metadata": {},
   "source": [
    "Note : le caractère spécial `'\\n'` permet d'insérer une fin de ligne dans une chaîne de caractères."
   ]
  },
  {
   "cell_type": "code",
   "execution_count": null,
   "id": "ec38ee7e-279f-45e3-b433-83281f006fcb",
   "metadata": {},
   "outputs": [],
   "source": [
    "print(\"Exemple\\n\\n\\nFin d'exemple\")"
   ]
  },
  {
   "cell_type": "markdown",
   "id": "599ab4d1-b8dd-438b-acb3-6b559b219690",
   "metadata": {},
   "source": [
    "[Retour au plan](#Plan)"
   ]
  },
  {
   "cell_type": "markdown",
   "id": "1faeaa47-2dfe-46cf-b488-4196ae6f448f",
   "metadata": {},
   "source": [
    "### 3.1.2 Print"
   ]
  },
  {
   "cell_type": "markdown",
   "id": "bdfd3cbb-adb6-4c5b-b6d9-323484ad05c5",
   "metadata": {},
   "source": [
    "Indiquez ce que va afficher chaque instruction suivante (sans l'exécuter).\n",
    "\n",
    "```python\n",
    "print('a', 'b', 'c')\n",
    "```"
   ]
  },
  {
   "cell_type": "markdown",
   "id": "a312d12c-3ba9-4b4f-ab5c-3aa8b33ade8d",
   "metadata": {},
   "source": [
    "a b c"
   ]
  },
  {
   "cell_type": "markdown",
   "id": "d93ab98b-1782-47fe-b28e-37e2fe185576",
   "metadata": {},
   "source": [
    "```python\n",
    "print('a'+'b'+'c')\n",
    "```"
   ]
  },
  {
   "cell_type": "markdown",
   "id": "a30d89db-cbf1-49bf-8fc9-621518a2a57c",
   "metadata": {
    "tags": []
   },
   "source": [
    "abc"
   ]
  },
  {
   "cell_type": "markdown",
   "id": "04c511f0-ef46-4a0c-adfd-8e663a04586f",
   "metadata": {},
   "source": [
    "```python\n",
    "print('a', 'b', 'c', sep=' - ')\n",
    "```"
   ]
  },
  {
   "cell_type": "markdown",
   "id": "98d66577-9e98-40b3-bc12-81af35a6fffe",
   "metadata": {
    "tags": []
   },
   "source": [
    "a - b - c"
   ]
  },
  {
   "cell_type": "markdown",
   "id": "02d227ac-2a23-4275-af44-bd146ccc2ea4",
   "metadata": {},
   "source": [
    "```python\n",
    "print('a', 'b', 'c', sep='')\n",
    "```"
   ]
  },
  {
   "cell_type": "markdown",
   "id": "14b01cd6-0417-4bf1-a592-c35bb182744c",
   "metadata": {},
   "source": [
    "abc"
   ]
  },
  {
   "cell_type": "markdown",
   "id": "277e48cd-6ddd-4f2b-bf9e-28e6c62718fc",
   "metadata": {},
   "source": [
    "```python\n",
    "print('a'+'b'+'c', sep=' + ')\n",
    "```"
   ]
  },
  {
   "cell_type": "markdown",
   "id": "dc94aebd-8c03-4590-ae7b-ca1473aeaa60",
   "metadata": {},
   "source": [
    "abc"
   ]
  },
  {
   "cell_type": "markdown",
   "id": "5a8197bc-e97a-4f42-8847-7283744fe874",
   "metadata": {},
   "source": [
    "**Autocorrection :** reportez les instructions de l'exercice dans la cellule ci-dessous pour vérifier vos réponses."
   ]
  },
  {
   "cell_type": "code",
   "execution_count": null,
   "id": "d3820456-e70e-4eed-a1f4-8c27f0871eb2",
   "metadata": {},
   "outputs": [],
   "source": [
    "print('a', 'b', 'c')\n",
    "print('a'+'b'+'c')\n",
    "print('a', 'b', 'c', sep=' - ')\n",
    "print('a', 'b', 'c', sep='')\n",
    "print('a'+'b'+'c', sep=' + ')"
   ]
  },
  {
   "cell_type": "markdown",
   "id": "e1209973-6383-40f2-90ad-2ab75e11fcab",
   "metadata": {},
   "source": [
    "[Retour au plan](#Plan)"
   ]
  },
  {
   "cell_type": "markdown",
   "id": "f6273d19-56c5-4f69-89b4-4626abfa5124",
   "metadata": {},
   "source": [
    "### 3.1.3 Print (bis)"
   ]
  },
  {
   "cell_type": "markdown",
   "id": "5f52552e-1cc9-4af3-a9a3-91a23e0eb4b3",
   "metadata": {},
   "source": [
    "#### 3.1.3.1 Un argument identifié"
   ]
  },
  {
   "cell_type": "markdown",
   "id": "28ba7c4a-f1b3-42b5-ba9f-5fe26ac1b82f",
   "metadata": {},
   "source": [
    "On veut que l'instruction suivante :\n",
    "```python\n",
    "print(123, 456, 789)\n",
    "```"
   ]
  },
  {
   "cell_type": "markdown",
   "id": "a40598d0-20d7-48f7-b2ee-83262a812e8a",
   "metadata": {},
   "source": [
    "produise l'affichage :\n",
    "\n",
    "    123456789\n",
    "    \n",
    "Ajoutez un argument à l'instruction pour obtenir ce résultat."
   ]
  },
  {
   "cell_type": "code",
   "execution_count": null,
   "id": "a564a50b-f179-4d63-bc7c-d88c4b681833",
   "metadata": {},
   "outputs": [],
   "source": [
    "print(123, 456, 789, sep='')"
   ]
  },
  {
   "cell_type": "markdown",
   "id": "28be7a99-4d5d-432f-b6e6-a44005bd677a",
   "metadata": {},
   "source": [
    "#### 3.1.3.2 Autre argument identifié"
   ]
  },
  {
   "cell_type": "markdown",
   "id": "dc81f624-8213-4c29-9fff-393ed68acfcf",
   "metadata": {},
   "source": [
    "On veut que la suite d'instructions suivante :\n",
    "```python\n",
    "print('Always')\n",
    "print('Look on')\n",
    "print('the Bright')\n",
    "print('Side of Life')\n",
    "```"
   ]
  },
  {
   "cell_type": "markdown",
   "id": "b80f786e-4f75-499d-8421-a2bbd924d707",
   "metadata": {},
   "source": [
    "produise l'affichage :\n",
    "\n",
    "    Always Look on \n",
    "    the Bright Side of Life\n",
    "    \n",
    "Modifiez les instructions sans modifier les chaînes de caractères mais en ajoutant judicieusement un argument pour obtenir ce résultat."
   ]
  },
  {
   "cell_type": "code",
   "execution_count": null,
   "id": "008ebdbe-7622-4399-9a15-431b7bc32c23",
   "metadata": {
    "scrolled": true
   },
   "outputs": [],
   "source": [
    "print('Always',end=' ')\n",
    "print('Look on')\n",
    "print('the Bright',end=' ')\n",
    "print('Side of Life')"
   ]
  },
  {
   "cell_type": "markdown",
   "id": "f3540cfc-574d-4aac-af8e-24eac609a494",
   "metadata": {},
   "source": [
    "#### 3.1.3.3 Deux arguments identifiés"
   ]
  },
  {
   "cell_type": "markdown",
   "id": "e385ce36-e46c-4517-b02b-d3d47b7f2cf9",
   "metadata": {},
   "source": [
    "On veut que la suite d'instructions suivante :\n",
    "```python\n",
    "print('a', 'b', 'c', 'd')\n",
    "print('a', 'b', 'c', 'd')\n",
    "print('a', 'b', 'c', 'd')\n",
    "```"
   ]
  },
  {
   "cell_type": "markdown",
   "id": "2554e215-43af-4195-9cb3-7812f41f44bc",
   "metadata": {},
   "source": [
    "produise l'affichage :\n",
    "\n",
    "    a # b # c # d ------ a() b() c() d ++++++ a ... b ... c ... d FIN \n",
    "    \n",
    "En utilisant _uniquement_ les arguments identifiés par `sep` et `end` modifiez les 4 instructions `print()` ci-dessus pour obtenir ce résultat."
   ]
  },
  {
   "cell_type": "code",
   "execution_count": null,
   "id": "411fa23f-ee69-4de2-9847-6819f169081c",
   "metadata": {},
   "outputs": [],
   "source": [
    "print('a', 'b', 'c', 'd',sep=' # ',end=' ------ ')\n",
    "print('a', 'b', 'c', 'd',sep='() ',end=' ++++++ ')\n",
    "print('a', 'b', 'c', 'd',sep=' ... ',end=' FIN')"
   ]
  },
  {
   "cell_type": "markdown",
   "id": "9f6bf9f2-3c75-4ff3-82f9-3fb2c725dab7",
   "metadata": {},
   "source": [
    "[Retour au plan](#Plan)"
   ]
  },
  {
   "cell_type": "markdown",
   "id": "514c7140-0a88-4101-9f09-71530f0f3a06",
   "metadata": {},
   "source": [
    "## 3.2 Saisie"
   ]
  },
  {
   "cell_type": "markdown",
   "id": "46f6281c-a6e1-4157-9b4f-72cc5d7daee8",
   "metadata": {},
   "source": [
    "Vous pouvez obtenir une saisie à partir du clavier avec la fonction `input()`. Exécutez par exemple la cellule suivante :"
   ]
  },
  {
   "cell_type": "markdown",
   "id": "e39d53cd-6f60-4b50-ba43-e8978b613727",
   "metadata": {},
   "source": [
    "```python\n",
    "nom = input(\"Quel est votre nom ? \")\n",
    "```"
   ]
  },
  {
   "cell_type": "markdown",
   "id": "f7aeee95-5f8f-451d-b042-3c6d17719673",
   "metadata": {},
   "source": [
    "Remarquez que cette fonction prend un unique argument (entre parenthèses) qui correspond au message affiché avant la saisie.\n",
    "\n",
    "Évidemment, il est nécessaire d'affecter la saisie à une variable pour pouvoir l'utiliser une fois la saisie effectuée."
   ]
  },
  {
   "cell_type": "code",
   "execution_count": null,
   "id": "b0f89404-6542-4218-9588-0d60f9d0f0bc",
   "metadata": {},
   "outputs": [],
   "source": [
    "nom = input(prompt=\"Quel est votre nom ? \")\n",
    "print(nom, \"c'est\", nom)"
   ]
  },
  {
   "cell_type": "markdown",
   "id": "d7d85d47-9a7d-4552-836b-632092deaaaa",
   "metadata": {},
   "source": [
    "Saisissez à présent un nombre entier :"
   ]
  },
  {
   "cell_type": "code",
   "execution_count": null,
   "id": "8fcb5765-3b0a-442e-8014-83840d266baa",
   "metadata": {},
   "outputs": [],
   "source": [
    "age = input(\"Quel est votre âge ? \")\n",
    "print(age)"
   ]
  },
  {
   "cell_type": "markdown",
   "id": "701a8534-aa75-4aab-ba33-867e951df0aa",
   "metadata": {},
   "source": [
    "En comparant les résultats des deux exemples précédents nous aurons tendance à conclure que `nom` est une chaîne de caractères (str) et que `age` est un entier (int). Vérifions-le en exécutant les instrutions suivantes."
   ]
  },
  {
   "cell_type": "code",
   "execution_count": null,
   "id": "7889ff4b-67e1-4117-b78d-e98c3631011a",
   "metadata": {},
   "outputs": [],
   "source": [
    "print (type(nom))\n",
    "print (type(age))"
   ]
  },
  {
   "cell_type": "markdown",
   "id": "294495c3-44dc-433d-92ad-136588fb8143",
   "metadata": {},
   "source": [
    "`age` n'est donc pas un nombre (`int`) mais une chaîne de caractères (`str`). Si dans votre code vous l'utilisez comme un nombre, vous provoquerez une erreur, comme dans la cellule suivante."
   ]
  },
  {
   "cell_type": "code",
   "execution_count": null,
   "id": "0eab1331-c312-4e7b-b622-c15d95241c9a",
   "metadata": {},
   "outputs": [],
   "source": [
    "age = input(prompt=\"Quel est votre âge ? \")           # age est un str\n",
    "print('Il y a 10 ans vous aviez :', age - 10, 'ans')  # la soustraction est impossible"
   ]
  },
  {
   "cell_type": "markdown",
   "id": "f6ff7d25-e871-4cd9-8521-5b23fcac9b29",
   "metadata": {},
   "source": [
    "Si dans votre code vous avez besoin de la saisie d'un nombre il faudra procéder à un *cast* (transtypage en français) de la saisie en `ìnt` ou en `float` de la façon suivante."
   ]
  },
  {
   "cell_type": "code",
   "execution_count": null,
   "id": "45ae04ec-b61f-4323-b65d-9147a35e6b5b",
   "metadata": {},
   "outputs": [],
   "source": [
    "age = input(prompt=\"Quel est votre âge ? \")          # age est un str\n",
    "age = int(age)                                       # cast en int\n",
    "print('Il y a 10 ans vous aviez :', age - 10, 'ans') # la soustraction est possible"
   ]
  },
  {
   "cell_type": "markdown",
   "id": "6aa08199-c9c8-4885-be4f-5877661269df",
   "metadata": {},
   "source": [
    "Relancez la cellule suivante pour vérifier que le changement de type a bien été effectué."
   ]
  },
  {
   "cell_type": "code",
   "execution_count": null,
   "id": "507805b7-5b8b-44d1-8ad2-cb983aa2182f",
   "metadata": {},
   "outputs": [],
   "source": [
    "print (type(nom))\n",
    "print (type(age))"
   ]
  },
  {
   "cell_type": "markdown",
   "id": "da13528c-e02c-44c3-81e9-77417f364e64",
   "metadata": {},
   "source": [
    "[Retour au plan](#Plan)"
   ]
  },
  {
   "cell_type": "markdown",
   "id": "ca847362-7f25-432a-bcbd-df782a2e8de4",
   "metadata": {},
   "source": [
    "### 3.2.3 Mots"
   ]
  },
  {
   "cell_type": "markdown",
   "id": "c36944eb-685e-4b43-af5a-d60cde5ed14b",
   "metadata": {},
   "source": [
    "Codez un programme affichant la concaténation de deux mots saisis sur l'entrée standard, une fois dans l'ordre de leur saisie et une fois dans l'ordre inverse. On ne veut pas d'espace entre les mots. Plusieurs solutions sont possibles pour l'affichage, essayez d'en donner deux.\n",
    "\n",
    "Exemple de trace d'exécution :\n",
    "\n",
    "    Saisissez un mot : abc\n",
    "    Saisissez un mot : def\n",
    "    abcdef\n",
    "    defabc"
   ]
  },
  {
   "cell_type": "code",
   "execution_count": null,
   "id": "cee6cb7e-822b-4714-822e-8cd28d5b6bcd",
   "metadata": {
    "scrolled": true
   },
   "outputs": [],
   "source": [
    "a=input(\"Ecrivez 'gel hydro-'\")\n",
    "b=input(\"Ecrivez 'alcoolique'\")\n",
    "print(a+b)"
   ]
  },
  {
   "cell_type": "markdown",
   "id": "5d871261-deea-4d76-8363-159200024811",
   "metadata": {},
   "source": [
    "### 3.2.4 Mots (bis)"
   ]
  },
  {
   "cell_type": "markdown",
   "id": "4c85d570-312c-4aa1-8e59-7e97ce7a8b5f",
   "metadata": {
    "tags": []
   },
   "source": [
    "Trouvez omment afficher la concaténation de deux mots saisis sur l'entrée standard dans l'ordre de leur saisie _avec une seule variable_.\n"
   ]
  },
  {
   "cell_type": "code",
   "execution_count": null,
   "id": "bcd028ea-3eab-4152-92f3-57fcf0c2070c",
   "metadata": {
    "tags": []
   },
   "outputs": [],
   "source": [
    "a=input(\"Ecrivez 'gel hydro-'\")+input(\"Ecrivez 'alcoolique'\")\n",
    "print(a)"
   ]
  },
  {
   "cell_type": "markdown",
   "id": "f481549d-8b94-4b06-89ca-e30bfffc4f93",
   "metadata": {},
   "source": [
    "### 3.2.5 Mots (ter)"
   ]
  },
  {
   "cell_type": "markdown",
   "id": "7c550c38-63e4-4bd4-b77e-767732e6e374",
   "metadata": {},
   "source": [
    "Trouvez comment afficher la concaténation de deux mots saisis sur l'entrée standard dans l'ordre de leur saisie _sans aucune variable_."
   ]
  },
  {
   "cell_type": "code",
   "execution_count": null,
   "id": "4d586f74-8ec3-4ac1-be92-b473a76fdb22",
   "metadata": {},
   "outputs": [],
   "source": [
    "print(input(\"Ecrivez 'gel hydro-'\")+input(\"Ecrivez 'alcoolique'\"))"
   ]
  },
  {
   "cell_type": "markdown",
   "id": "c9611d70-a4c1-42ae-aed3-65055cc5d27c",
   "metadata": {},
   "source": [
    "[Retour au plan](#Plan)"
   ]
  },
  {
   "cell_type": "markdown",
   "id": "512d9286-e91e-44d4-a14b-6a267c3cac37",
   "metadata": {},
   "source": [
    "### 3.2.6 Indice de masse corporelle"
   ]
  },
  {
   "cell_type": "markdown",
   "id": "a4194a8e-fc65-4158-ba78-c70cd024c27b",
   "metadata": {},
   "source": [
    "1. Procédez à la saisie du poids de l'utilisateur en kg (nombre réel).\n",
    "1. Procédez à la saisie de la taille de l'utilisateur en cm (nombre entier).\n",
    "1. Affichez l'IMC de l'utilisateur (nombre réel) dont la formule est pour un poids en kilos et une taille *en mètres* : \n",
    "\n",
    "$$IMC = \\frac{poids}{taille^2}$$\n",
    "\n",
    "Exemple de trace d'exécution :\n",
    "\n",
    "    Quel est votre poids en kg ? 90\n",
    "    Quelle est votre taille en cm ? 185\n",
    "    Votre IMC est de 26.296566837107374"
   ]
  },
  {
   "cell_type": "code",
   "execution_count": null,
   "id": "23885d48-94a2-4f34-ba3e-225ad1e1dd4f",
   "metadata": {},
   "outputs": [],
   "source": [
    "p=input(\"Quel est votre poids en kg ?\")\n",
    "t=input(\"Quel est votre taille en cm ?\")\n",
    "p=float(p)\n",
    "t=float(t)\n",
    "t=t/100\n",
    "IMC=p/(t*t)\n",
    "print(IMC)"
   ]
  },
  {
   "cell_type": "markdown",
   "id": "50ab61b3-8c6c-488a-996e-63e893341cb6",
   "metadata": {},
   "source": [
    "[Retour au plan](#Plan)"
   ]
  },
  {
   "cell_type": "markdown",
   "id": "8fdebefb-5e01-452d-934f-7f42e1627d65",
   "metadata": {},
   "source": [
    "### 3.2.7 Arrondi"
   ]
  },
  {
   "cell_type": "markdown",
   "id": "89cd3b51-784c-4866-941c-cb9bc96abfd1",
   "metadata": {},
   "source": [
    "Vous avez remarqué que l'affichage d'un `float()` avec `print()` peut comporter beaucoup de décimales. Une façon de limiter ces décimales est d'utiliser la fonction `round()` comme dans la cellule suivante. Exécutez-la pour comprendre comment fonctionne `round()` et quels sont ses paramètres."
   ]
  },
  {
   "cell_type": "code",
   "execution_count": null,
   "id": "dae7e925-5085-4f1b-b898-618dbca98487",
   "metadata": {},
   "outputs": [],
   "source": [
    "pi = 3.14159265359\n",
    "print(pi)\n",
    "print(round(pi , 4))\n",
    "print(round(pi , 2))\n",
    "print(round(pi))"
   ]
  },
  {
   "cell_type": "markdown",
   "id": "e0261cb2-c3f9-48fd-a2b2-e67ca4675add",
   "metadata": {},
   "source": [
    "Reprenez votre calcul d'IMC et limitez son affichage à deux décimales maximum.\n",
    "\n",
    "Exemple de trace d'exécution :\n",
    "\n",
    "    Quel est votre poids en kg ? 90\n",
    "    Quelle est votre taille en cm ? 185\n",
    "    Votre IMC est de 26.3"
   ]
  },
  {
   "cell_type": "code",
   "execution_count": null,
   "id": "37759348-6f2d-4ef7-aa7c-d210ef1fe03c",
   "metadata": {},
   "outputs": [],
   "source": [
    "p=input(\"Quel est votre poids en kg ?\")\n",
    "t=input(\"Quel est votre taille en cm ?\")\n",
    "p=float(p)\n",
    "t=float(t)\n",
    "t=t/100\n",
    "IMC=p/(t*t)\n",
    "print(round(IMC , 2))"
   ]
  },
  {
   "cell_type": "markdown",
   "id": "2ed68d86-76c6-4d88-ae08-04a6a27d6f8a",
   "metadata": {},
   "source": [
    "[Retour au plan](#Plan)"
   ]
  },
  {
   "cell_type": "markdown",
   "id": "621f1451-e3e2-4d16-bce8-5c784e3c3a06",
   "metadata": {},
   "source": [
    "# 4. Un peu d'aléatoire (60 min)"
   ]
  },
  {
   "cell_type": "markdown",
   "id": "3d35f1ba-5266-4e69-98fc-ba8a78ad7383",
   "metadata": {},
   "source": [
    "Il est intéressant pour réaliser certains algorithmes de disposer de tirages (pseudo-)aléatoires de nombres entiers ou réels. Vous utiliserez pour cela deux fonctions :\n",
    "- `random()` qui retourne un nombre réel (`float`) entre `0.0` inclus et `1.0` exclu\n",
    "- `randint(a,b)` qui retourne un entier (`ìnt`) entre `a` et `b` inclus"
   ]
  },
  {
   "cell_type": "code",
   "execution_count": null,
   "id": "feacaa1d-8a9f-4c9f-b4a7-fc7b919617d4",
   "metadata": {},
   "outputs": [],
   "source": [
    "# exemple de tirage aléatoire entre 0 et 1\n",
    "nombre = random()\n",
    "print(nombre)\n",
    "# si vous obtenez une erreur c'est normal : lire ci-dessous !"
   ]
  },
  {
   "cell_type": "markdown",
   "id": "371a2f0c-f5b9-46d9-bfe7-a4a6a5bc0a6b",
   "metadata": {},
   "source": [
    "Si vous exécutez la cellule précédente, vous devriez provoquer l'affichage d'une erreur d'exécution car l'interpréteur ne connaît pas `random()` : pour cela il faut **l'importer** à partir du module où il est défini en ajoutant la ligne suivante :                             "
   ]
  },
  {
   "cell_type": "code",
   "execution_count": 1,
   "id": "74da57a4-185c-43bd-8a8c-9e322fcbbcec",
   "metadata": {},
   "outputs": [],
   "source": [
    "from random import *"
   ]
  },
  {
   "cell_type": "markdown",
   "id": "3b226676-e5c8-40c6-9449-465374155533",
   "metadata": {},
   "source": [
    "Si vous l'exécutez vous pouvez ensuite utiliser `random()` et `randint(a,b)` comme dans la cellule ci-dessous. "
   ]
  },
  {
   "cell_type": "code",
   "execution_count": null,
   "id": "d3c33c7c-ae92-43cc-8531-6bcabe5e0297",
   "metadata": {},
   "outputs": [],
   "source": [
    "reel = random()\n",
    "print(\"exemple de tirage aléatoire entre 0 et 1 :\", reel)\n",
    "entier = randint(10, 100)\n",
    "print(\"exemple de tirage aléatoire entre 10 et 100 :\", entier)"
   ]
  },
  {
   "cell_type": "markdown",
   "id": "506d47f2-4014-426a-8989-3a5a60060690",
   "metadata": {},
   "source": [
    "Autre possibilité :"
   ]
  },
  {
   "cell_type": "code",
   "execution_count": null,
   "id": "20edfb91-21d7-4a0e-b20e-a8c06abcb290",
   "metadata": {},
   "outputs": [],
   "source": [
    "print(\"exemple de tirage aléatoire entre 0 et 1 :\", random())\n",
    "print(\"exemple de tirage aléatoire entre 10 et 100 :\", randint(10, 100))"
   ]
  },
  {
   "cell_type": "markdown",
   "id": "9eff4286-660b-4101-bc72-441b085a7afb",
   "metadata": {},
   "source": [
    "Vous pouvez aussi maintenant exécuter la première cellule utilisant `random`, l'importation (comme toutes les autres instructions) restant en mémoire du notebook.\n",
    "\n",
    "> **Note :** vous n'aurez pas à savoir les importations nécessaires pour faire les différents exercices. Au début de chaque sujet de TP une cellule spécifique contiendra ces importations : il suffira de l'exécuter une fois avant de faire le TP et si vous redémarrez le noyau."
   ]
  },
  {
   "cell_type": "markdown",
   "id": "61f859a6-93f2-4dc9-a0a8-5ae29b69f474",
   "metadata": {},
   "source": [
    "[Retour au plan](#Plan)"
   ]
  },
  {
   "cell_type": "markdown",
   "id": "15a61cbe-e631-4b51-bd98-d0c491eb2574",
   "metadata": {},
   "source": [
    "## 4.2 Exercices"
   ]
  },
  {
   "cell_type": "markdown",
   "id": "d66e0695-07d5-4b01-87c6-8ee3d84c5c95",
   "metadata": {},
   "source": [
    "### 4.2.1 Calculs  aléatoires"
   ]
  },
  {
   "cell_type": "markdown",
   "id": "504d8e28-8f42-4590-ab6e-43cc6bf7dec5",
   "metadata": {},
   "source": [
    "#### 4.2.1.1 Somme et moyenne"
   ]
  },
  {
   "cell_type": "markdown",
   "id": "c6c135c6-0958-469b-a754-9e60ee750fd8",
   "metadata": {},
   "source": [
    "Codez un programme affichant la somme puis la moyenne d'un entier aléatoire compris entre 10 et 100 inclus et d'un autre entier saisi sur l'entrée standard. L'entier aléatoire sera affiché avant les calculs.\n",
    "\n",
    "Exemple de trace d'exécution :\n",
    "\n",
    "    entier aléatoire 56\n",
    "    Saisissez un entier : 123\n",
    "    somme 179\n",
    "    moyenne 89.5"
   ]
  },
  {
   "cell_type": "code",
   "execution_count": null,
   "id": "5d3d7514-6d8f-4d2f-af9e-1abcd4e6b8fa",
   "metadata": {},
   "outputs": [],
   "source": [
    "a=randint(10,100)\n",
    "print(\"entier aléatoire \",a)\n",
    "b=input(\"Saisissez un entier : \")\n",
    "b=int(b)\n",
    "s=a+b\n",
    "print(\"somme \",s)\n",
    "print(\"moyenne \",s/2)"
   ]
  },
  {
   "cell_type": "markdown",
   "id": "0392e136-fbc7-4381-b663-815a247599a9",
   "metadata": {},
   "source": [
    "#### 4.2.1.2 Une seule variable"
   ]
  },
  {
   "cell_type": "markdown",
   "id": "e3d47830-b7f9-4c6d-9fee-33e91840879b",
   "metadata": {},
   "source": [
    "Même exercice que le précédent mais essayez de n'utiliser qu'une seule variable."
   ]
  },
  {
   "cell_type": "code",
   "execution_count": null,
   "id": "cbbf3bd6-6995-4d04-a637-b1f0571a3323",
   "metadata": {},
   "outputs": [],
   "source": [
    "a=randint(10,100)+int(input(\"Saisissez un entier : \"))\n",
    "print(\"somme\", a)\n",
    "print(\"moyenne\", a/2)"
   ]
  },
  {
   "cell_type": "markdown",
   "id": "33f23a96-96d6-44e0-93ad-ec2441a8f765",
   "metadata": {},
   "source": [
    "[Retour au plan](#Plan)"
   ]
  },
  {
   "cell_type": "markdown",
   "id": "12cd7d0b-cb6e-45b5-a060-84bc6f57470d",
   "metadata": {},
   "source": [
    "### 4.2.2 Au magasin"
   ]
  },
  {
   "cell_type": "markdown",
   "id": "77519f32-34fc-43e0-9a85-37071776e0a3",
   "metadata": {},
   "source": [
    "Codez un programme tirant au sort le prix au kilo d'un article (nombre réel compris entre 1 euro inclus et 50 euros exclu), faisant saisir le  poids de cet article en grammes (nombre entier), puis affichant le prix à payer (nombre réel) sous la forme : `prixAuKg * poidsEnKg = prix`.\n",
    "\n",
    "Le poids sera affiché avec au plus 3 décimales et les prix avec au plus 2 décimales.\n",
    "\n",
    "Exemple de trace d'exécution :\n",
    "\n",
    "    Poids en grammes : 125\n",
    "    Prix : 19.04 * 0.125 = 2.38"
   ]
  },
  {
   "cell_type": "code",
   "execution_count": 3,
   "id": "005f271a-bc83-4fee-a1b8-1a8ebac56f95",
   "metadata": {
    "scrolled": true
   },
   "outputs": [
    {
     "name": "stdout",
     "output_type": "stream",
     "text": [
      "Poids en grammes : 1522\n",
      "prix :  64.30781659858596  €\n"
     ]
    }
   ],
   "source": [
    "prixAuKg=random()*49+1\n",
    "poidsEnKg=int(input(\"Poids en grammes : \"))/1000\n",
    "print(\"prix : \",prixAuKg * poidsEnKg,\" €\")"
   ]
  },
  {
   "cell_type": "markdown",
   "id": "c0023dd7-fe22-4e4e-93d2-806d8e303995",
   "metadata": {},
   "source": [
    "### 4.2.3 Combats  aléatoires"
   ]
  },
  {
   "cell_type": "markdown",
   "id": "b2779695-7e4a-4a06-adff-9a0868a1d945",
   "metadata": {},
   "source": [
    "#### 4.2.3.1 Judo"
   ]
  },
  {
   "cell_type": "markdown",
   "id": "4a678bb6-dd99-4bb7-ac61-1fd06a212050",
   "metadata": {},
   "source": [
    "Pour une simulation de combat de judo vous devez tirer au sort le poids des deux judokas. Ils doivent être dans la même catégorie, donc peser entre 70 kg inclus et 78 kg exclu. Tirez les deux poids aléatoirement et affichez-les en kg avec une précision ne dépassant pas le gramme."
   ]
  },
  {
   "cell_type": "code",
   "execution_count": 5,
   "id": "a41da24b-5092-49c3-9769-31da430eb230",
   "metadata": {},
   "outputs": [
    {
     "name": "stdout",
     "output_type": "stream",
     "text": [
      "poids du premier judoka :  77.92\n",
      "poids du deuxième judoka :  76.387\n"
     ]
    }
   ],
   "source": [
    "a=random()*8+70\n",
    "b=random()*8+70\n",
    "print(\"poids du premier judoka : \",round(a,3))\n",
    "print(\"poids du deuxième judoka : \",round(b,3))"
   ]
  },
  {
   "cell_type": "markdown",
   "id": "cfa8dd0f-4045-4701-ba79-e9720a76fde9",
   "metadata": {},
   "source": [
    "#### 4.2.3.2 Boxe"
   ]
  },
  {
   "cell_type": "markdown",
   "id": "77f56c90-bc8b-4eae-88a2-aa8194b19f74",
   "metadata": {},
   "source": [
    "Même problème mais cette fois pour deux boxeurs. Les poids en boxe étant originellement en livres, les limites à respecter ne sont pas des nombres entiers : 76.2 kg inclus et 79.3 kg exclu."
   ]
  },
  {
   "cell_type": "code",
   "execution_count": 6,
   "id": "fb1f0596-9339-435e-a4e9-3a92d0ac65e4",
   "metadata": {},
   "outputs": [
    {
     "name": "stdout",
     "output_type": "stream",
     "text": [
      "poids du premier boxeur :  78.938\n",
      "poids du deuxième boxeur :  77.795\n"
     ]
    }
   ],
   "source": [
    "a=random()*3.1+76.2\n",
    "b=random()*3.1+76.2\n",
    "print(\"poids du premier boxeur : \",round(a,3))\n",
    "print(\"poids du deuxième boxeur : \",round(b,3))"
   ]
  },
  {
   "cell_type": "markdown",
   "id": "dd2112b2-9e06-4559-8a91-de896fdf0f9e",
   "metadata": {},
   "source": [
    "[Retour au plan](#Plan)"
   ]
  },
  {
   "cell_type": "markdown",
   "id": "a3f55f27-ac3e-4315-a147-5c298b9461e1",
   "metadata": {},
   "source": [
    "# 5. Expressions et instructions (60 min)"
   ]
  },
  {
   "cell_type": "markdown",
   "id": "b64c4987-e8ac-40af-902a-771eda921d3c",
   "metadata": {},
   "source": [
    "Une expression est une construction constituée de variables, d'opérateurs et/ou d'appels de fonctions, conforme à la syntaxe du langage de programmation et qui donne après son évaluation une valeur unique d'un type défini. \n",
    "\n",
    "> **Rappel** : nous connaissons pour le moment les types `int`, `float` et `str`.\n",
    "\n",
    "Voici une série d'expressions :"
   ]
  },
  {
   "cell_type": "markdown",
   "id": "2f264068-386c-491c-9f82-f576ffb32bf2",
   "metadata": {},
   "source": [
    "```python\n",
    "0  \n",
    "3.14  \n",
    "\"hello\"  \n",
    "1 + 2\n",
    "1 + 2.0\n",
    "3 + (5 / 2)\n",
    "(3 + 5) / 2\n",
    "3 + 5 / 2\n",
    "1 / 2\n",
    "1 // 2\n",
    "7 % 3\n",
    "'Cou'\n",
    "\"Cou\" + \"cou\"\n",
    "\"1\" + '2'\n",
    "1 + float('2')\n",
    "randint(0, 10)\n",
    "random()\n",
    "\n",
    "```"
   ]
  },
  {
   "cell_type": "markdown",
   "id": "ea60f1c9-56ee-4e1d-924f-b0e9fe1c700f",
   "metadata": {},
   "source": [
    "Donnez dans la cellule suivante le type et la valeur (quand c'est possible) de chacune des expressions précédentes."
   ]
  },
  {
   "cell_type": "markdown",
   "id": "55f0bb08-cecf-42a2-a129-6ea674dffe9b",
   "metadata": {},
   "source": [
    "int 0\n",
    "float 3.14\n",
    "str hello\n",
    "int 3\n",
    "float 3.0\n",
    "float 5.5\n",
    "float 4.0\n",
    "float 5.5\n",
    "float 0.5\n",
    "int 0\n",
    "int 1\n",
    "str Cou\n",
    "str Coucou\n",
    "str 12\n",
    "float 3.0\n",
    "int ?\n",
    "float ?"
   ]
  },
  {
   "cell_type": "markdown",
   "id": "ed891209-4e37-4b9c-b171-0a91ef224b27",
   "metadata": {},
   "source": [
    "**Autocorrection :** vous pouvez obtenir la valeur d'une expression en la reportant dans une cellule de code puis en l'exécutant : l'interpréteur va évaluer l'expression et afficher sa valeur. \n",
    "\n",
    "Vous pouvez vérifier le type d'une expression grâce à la fonction ```type()``` en plaçant l'expression entre les parenthèses dans la cellule puis en l'exécutant, et l'affichant ensuite grâce à la fonction ```print()```.\n",
    "\n",
    "Utilisez la cellule suivante pour vérifier vos réponses de l'exercice. Faites l'exercice sérieusement et essayez de répondre sans utiliser l'interpréteur !"
   ]
  },
  {
   "cell_type": "code",
   "execution_count": 8,
   "id": "0a2da697-d3db-4802-bf4b-830cbb8f3d4f",
   "metadata": {},
   "outputs": [
    {
     "name": "stdout",
     "output_type": "stream",
     "text": [
      "<class 'int'> 0\n",
      "<class 'float'> 3.14\n",
      "<class 'str'> hello\n",
      "<class 'int'> 3\n",
      "<class 'float'> 3.0\n",
      "<class 'float'> 5.5\n",
      "<class 'float'> 4.0\n",
      "<class 'float'> 5.5\n",
      "<class 'float'> 0.5\n",
      "<class 'int'> 0\n",
      "<class 'int'> 1\n",
      "<class 'str'> Cou\n",
      "<class 'str'> Coucou\n",
      "<class 'str'> 12\n",
      "<class 'float'> 3.0\n",
      "<class 'int'> 5\n",
      "<class 'float'> 0.6208979873526508\n"
     ]
    }
   ],
   "source": [
    "print(type(0),0)  \n",
    "print(type(3.14),3.14)\n",
    "print(type(\"hello\"),\"hello\")  \n",
    "print(type(1 + 2),1 + 2)\n",
    "print(type(1 + 2.0),1 + 2.0)\n",
    "print(type(3 + (5 / 2)),3 + (5 / 2))\n",
    "print(type((3 + 5) / 2),(3 + 5) / 2)\n",
    "print(type(3 + 5 / 2),3 + 5 / 2)\n",
    "print(type(1 / 2),1 / 2)\n",
    "print(type(1 // 2),1 // 2)\n",
    "print(type(7 % 3),7 % 3)\n",
    "print(type('Cou'),'Cou')\n",
    "print(type(\"Cou\" + \"cou\"),\"Cou\" + \"cou\")\n",
    "print(type(\"1\" + '2'),\"1\" + '2')\n",
    "print(type(1 + float('2')),1 + float('2'))\n",
    "print(type(randint(0, 10)),randint(0, 10))\n",
    "print(type(random()),random())"
   ]
  },
  {
   "cell_type": "markdown",
   "id": "a0d97f06-fe9b-4458-9595-67a306a07f1a",
   "metadata": {},
   "source": [
    "> **Attention**, si la cellule comporte plusieurs expressions, seule l'évaluation de la dernière expression sera affichée si vous n'utilisez pas la fonction ```print()```.\n",
    "\n",
    "> **Rappel** : pour utiliser les fonctions ```random()``` et `randint()` il faut avoir effectué l'importation suivante : "
   ]
  },
  {
   "cell_type": "code",
   "execution_count": 9,
   "id": "c41fdd47-9168-4ea3-82ef-d5b659b8d611",
   "metadata": {},
   "outputs": [],
   "source": [
    "from random import *"
   ]
  },
  {
   "cell_type": "markdown",
   "id": "2abf7c6d-66c0-4d8e-b4a3-c971c51d30f7",
   "metadata": {},
   "source": [
    "[Retour au plan](#Plan)"
   ]
  },
  {
   "cell_type": "markdown",
   "id": "740f88c8-8fca-4f89-9dd0-032a5fdb5bfb",
   "metadata": {},
   "source": [
    "## 5.2 Instructions"
   ]
  },
  {
   "cell_type": "markdown",
   "id": "da1aa65a-28a7-4439-bfcd-d4f04de268ba",
   "metadata": {},
   "source": [
    "Une instruction peut être comprise comme une phrase, une consigne qui doit être exécutée, construite le plus souvent à partir d'une ou plusieurs expressions.\n",
    "\n",
    "Voici une suite d'instructions."
   ]
  },
  {
   "cell_type": "markdown",
   "id": "1b9c48ee-1e53-42f1-b52d-d94b85eb5dcc",
   "metadata": {},
   "source": [
    "```python\n",
    "a = 3\n",
    "b = a\n",
    "c = 1 + 2\n",
    "a = b / c\n",
    "a = 3 + (5 / 2)\n",
    "b = (a + c) * 4\n",
    "a = int(input(prompt=\"Un entier : \"))\n",
    "d = random()\n",
    "d = random() + randint(0, 5)\n",
    "print(\"Coucou\")\n",
    "print(\"Cou\" + \"cou\")\n",
    "print(a)\n",
    "print(a % b)\n",
    "```"
   ]
  },
  {
   "cell_type": "markdown",
   "id": "696e4fba-213e-44b0-a913-39522657d588",
   "metadata": {},
   "source": [
    "Traduisez en langage usuel dans la cellule suivante ces différentes instructions en précisant bien dans l'ordre toutes les opérations effectuées. "
   ]
  },
  {
   "cell_type": "markdown",
   "id": "2e3a6097-1a79-4dd9-937e-e64777565b5e",
   "metadata": {},
   "source": [
    "affecte 3 à a\n",
    "affecte la valeur de a à b\n",
    "affecter 1+2 à c donc affecte 3 à c\n",
    "affecte la valeur de b divisée par la valeur de c à a c-à-d 3/3 donc 1\n",
    "affecte la valeur 3+(5/2) à a soit 5.5\n",
    "affecte la valeur de a + la valeur de c divisées pas 4 soit 8.5/4 soit 2.125\n",
    "affecte un entier rentré par l'utilisateur à a\n",
    "affecte un nombre aléatoire entre 0 inclu et 1 exclu à d\n",
    "affecte un nombre aléatoire entre 0 inclu et 1 exclu + un entier aléatoire entre 0 et 5\n",
    "affiche Coucou\n",
    "affiche Coucou\n",
    "affiche la valeur de a soit la valeur rentrée par l'utilisateur\n",
    "affiche le reste de la division euclidienne de la valeur de a et de la valeur de b"
   ]
  },
  {
   "cell_type": "markdown",
   "id": "13f475f8-2df6-4326-a952-78932d1d57c1",
   "metadata": {},
   "source": [
    "[Retour au plan](#Plan)"
   ]
  },
  {
   "cell_type": "markdown",
   "id": "e72a236b-4b7d-44e7-8797-1a2f36d46647",
   "metadata": {},
   "source": [
    "## 5.3 Ordre des instructions"
   ]
  },
  {
   "cell_type": "markdown",
   "id": "b9da269c-b84e-4410-b086-a2cfbe06e045",
   "metadata": {},
   "source": [
    "Soit le code (ne l'exécutez pas pour le moment) :"
   ]
  },
  {
   "cell_type": "code",
   "execution_count": 10,
   "id": "a997381e-2034-431f-82c7-1768afd416f1",
   "metadata": {},
   "outputs": [
    {
     "ename": "NameError",
     "evalue": "name 'jour' is not defined",
     "output_type": "error",
     "traceback": [
      "\u001b[0;31m---------------------------------------------------------------------------\u001b[0m",
      "\u001b[0;31mNameError\u001b[0m                                 Traceback (most recent call last)",
      "\u001b[0;32m<ipython-input-10-bd33fd81bece>\u001b[0m in \u001b[0;36m<module>\u001b[0;34m\u001b[0m\n\u001b[0;32m----> 1\u001b[0;31m \u001b[0mprint\u001b[0m\u001b[0;34m(\u001b[0m\u001b[0;34m\"Nous sommes le :\"\u001b[0m\u001b[0;34m,\u001b[0m \u001b[0mjour\u001b[0m\u001b[0;34m,\u001b[0m \u001b[0mmois\u001b[0m\u001b[0;34m,\u001b[0m \u001b[0mannee\u001b[0m\u001b[0;34m)\u001b[0m\u001b[0;34m\u001b[0m\u001b[0;34m\u001b[0m\u001b[0m\n\u001b[0m\u001b[1;32m      2\u001b[0m \u001b[0mjour\u001b[0m \u001b[0;34m=\u001b[0m \u001b[0minput\u001b[0m\u001b[0;34m(\u001b[0m\u001b[0mprompt\u001b[0m\u001b[0;34m=\u001b[0m\u001b[0;34m\"Saisissez le jour : \"\u001b[0m\u001b[0;34m)\u001b[0m\u001b[0;34m\u001b[0m\u001b[0;34m\u001b[0m\u001b[0m\n\u001b[1;32m      3\u001b[0m \u001b[0mmois\u001b[0m \u001b[0;34m=\u001b[0m \u001b[0minput\u001b[0m\u001b[0;34m(\u001b[0m\u001b[0mprompt\u001b[0m\u001b[0;34m=\u001b[0m\u001b[0;34m\"Saisissez le mois : \"\u001b[0m\u001b[0;34m)\u001b[0m\u001b[0;34m\u001b[0m\u001b[0;34m\u001b[0m\u001b[0m\n\u001b[1;32m      4\u001b[0m \u001b[0mannee\u001b[0m \u001b[0;34m=\u001b[0m \u001b[0minput\u001b[0m\u001b[0;34m(\u001b[0m\u001b[0mprompt\u001b[0m\u001b[0;34m=\u001b[0m\u001b[0;34m\"Saisissez l'année : \"\u001b[0m\u001b[0;34m)\u001b[0m\u001b[0;34m\u001b[0m\u001b[0;34m\u001b[0m\u001b[0m\n",
      "\u001b[0;31mNameError\u001b[0m: name 'jour' is not defined"
     ]
    }
   ],
   "source": [
    "print(\"Nous sommes le :\", jour, mois, annee)\n",
    "jour = input(prompt=\"Saisissez le jour : \")\n",
    "mois = input(prompt=\"Saisissez le mois : \")\n",
    "annee = input(prompt=\"Saisissez l'année : \")"
   ]
  },
  {
   "cell_type": "markdown",
   "id": "85a9f3fe-1a8c-4a9f-9a78-161ff669a524",
   "metadata": {},
   "source": [
    "1) Que devrait réaliser ce programme ?"
   ]
  },
  {
   "cell_type": "markdown",
   "id": "82cd63c6-aa68-4d85-8bef-991ad5f4471d",
   "metadata": {},
   "source": [
    "Il devrait afficher la date en commençant par le jour et en finnissant par l'année"
   ]
  },
  {
   "cell_type": "markdown",
   "id": "a951c54c-9ff6-4c7d-9119-384558aea0ef",
   "metadata": {},
   "source": [
    "2) Pour quelle raison l'ordre des instructions ne produira pas le résultat attendu ?"
   ]
  },
  {
   "cell_type": "markdown",
   "id": "d69dbae2-4a1b-4406-9ca5-6a0d42d90125",
   "metadata": {},
   "source": [
    "Lorsque le code essaye d'afficher la date il ne trouvera pas les valeurs du jour, du mois et de l'année. Car à ce moment là ils ne sont pas définis."
   ]
  },
  {
   "cell_type": "markdown",
   "id": "f207aec2-c4d9-4deb-8174-d6a569a2d7ce",
   "metadata": {},
   "source": [
    "3) Vérifiez votre hypothèse en demandant une exécution de la cellule puis en lisant le message d'erreur.\n",
    "\n",
    "4) Corrigez l'erreur dans la cellule suivante jusqu'à avoir une exécution réussie."
   ]
  },
  {
   "cell_type": "code",
   "execution_count": 11,
   "id": "87468af5-7e79-4e82-a3d8-d5b6fb6398cd",
   "metadata": {},
   "outputs": [
    {
     "name": "stdout",
     "output_type": "stream",
     "text": [
      "Saisissez le jour : 06\n",
      "Saisissez le mois : septembre\n",
      "Saisissez l'année : 2022\n",
      "Nous sommes le : 06 septembre 2022\n"
     ]
    }
   ],
   "source": [
    "jour = input(prompt=\"Saisissez le jour : \")\n",
    "mois = input(prompt=\"Saisissez le mois : \")\n",
    "annee = input(prompt=\"Saisissez l'année : \")\n",
    "print(\"Nous sommes le :\", jour, mois, annee)"
   ]
  },
  {
   "cell_type": "markdown",
   "id": "1f49f99a-b4b8-40b7-a864-810f477bbff2",
   "metadata": {},
   "source": [
    "5) Réalisez le même travail pour ce programme : \n",
    "```python\n",
    "print(a, \"*\", b, \"=\", p)\n",
    "a = float(input(prompt=\"Saisissez un nombre réel : \"))\n",
    "p = a * b\n",
    "b = int(input(prompt=\"Saisissez un entier : \"))\n",
    "```"
   ]
  },
  {
   "cell_type": "code",
   "execution_count": 12,
   "id": "ed8ab75c-154a-438b-8ddd-6bd498ee6af4",
   "metadata": {},
   "outputs": [
    {
     "name": "stdout",
     "output_type": "stream",
     "text": [
      "Saisissez un nombre réel : 3.141\n",
      "Saisissez un entier : 5\n",
      "3.141 * 5 = 15.705\n"
     ]
    }
   ],
   "source": [
    "a = float(input(prompt=\"Saisissez un nombre réel : \"))\n",
    "b = int(input(prompt=\"Saisissez un entier : \"))\n",
    "p = a * b\n",
    "print(a, \"*\", b, \"=\", p)"
   ]
  },
  {
   "cell_type": "markdown",
   "id": "fc406b08-6dac-41f8-9db2-09daed776333",
   "metadata": {},
   "source": [
    "[Retour au plan](#Plan)"
   ]
  },
  {
   "cell_type": "markdown",
   "id": "81fd89cb-d7bc-4693-92d1-38bf590f6f27",
   "metadata": {},
   "source": [
    "## 5.4 Appel de fonctions"
   ]
  },
  {
   "cell_type": "markdown",
   "id": "1879df9b-ae92-4654-97ee-e52f6db17544",
   "metadata": {},
   "source": [
    "Une instruction peut être un \"appel de fonction\". Vous avez déjà utilisé plusieurs fonctions : `random()`, `randint()`, `round()`, `type()`, `input()`, `print()`... Certaines fonctions sont intégrées nativement dans le langage Python, d'autres nécessitent une importation d'un module fourni par un tiers. \n",
    "\n",
    "Dans ces TP nous utiliserons régulièrement un module nommé `dutgraphics`. Appelez par exemple la fonction `homeSweetHome()` (sans argument dans les parenthèses) dans la cellule suivante (après l'importation) et exécutez-la."
   ]
  },
  {
   "cell_type": "code",
   "execution_count": 13,
   "id": "fa344d1e-45a8-4f37-8010-e5073f56a503",
   "metadata": {},
   "outputs": [
    {
     "data": {
      "image/svg+xml": [
       "<svg baseProfile=\"full\" height=\"400\" version=\"1.1\" width=\"600\" xmlns=\"http://www.w3.org/2000/svg\" xmlns:ev=\"http://www.w3.org/2001/xml-events\" xmlns:xlink=\"http://www.w3.org/1999/xlink\"><defs /><image fill=\"#800080\" height=\"133\" stroke=\"#000000\" stroke-width=\"1\" width=\"600\" x=\"0\" xlink:href=\"https://iut-info.univ-reims.fr/users/valette/public/images/ground.png\" y=\"267\" /><image fill=\"#800080\" height=\"267\" stroke=\"#000000\" stroke-width=\"1\" width=\"600\" x=\"0\" xlink:href=\"https://iut-info.univ-reims.fr/users/valette/public/images/sky.png\" y=\"0\" /><ellipse cx=\"100\" cy=\"60\" fill=\"#ffff00\" rx=\"40\" ry=\"40\" stroke=\"#ffff00\" stroke-width=\"1\" /><image fill=\"#800080\" height=\"268\" stroke=\"#000000\" stroke-width=\"1\" width=\"272\" x=\"325\" xlink:href=\"https://iut-info.univ-reims.fr/users/valette/public/images/house.png\" y=\"120\" /><image fill=\"#800080\" height=\"123\" stroke=\"#000000\" stroke-width=\"1\" width=\"203\" x=\"64\" xlink:href=\"https://iut-info.univ-reims.fr/users/valette/public/images/cloud.png\" y=\"41\" /><image fill=\"#800080\" height=\"240\" stroke=\"#000000\" stroke-width=\"1\" width=\"150\" x=\"106\" xlink:href=\"https://iut-info.univ-reims.fr/users/valette/public/images/tree.png\" y=\"97\" /><image fill=\"#800080\" height=\"240\" stroke=\"#000000\" stroke-width=\"1\" width=\"150\" x=\"13\" xlink:href=\"https://iut-info.univ-reims.fr/users/valette/public/images/tree.png\" y=\"160\" /><text fill=\"#ffff00\" stroke=\"#ffff00\" stroke-width=\"1\" x=\"300\" y=\"40\">Home Sweet Home</text></svg>"
      ],
      "text/plain": [
       "<Canvas (600, 400)>"
      ]
     },
     "metadata": {},
     "output_type": "display_data"
    }
   ],
   "source": [
    "# importation (à n'effectuer qu'une seule fois dans le notebook)\n",
    "from dutgraphics import *\n",
    "homeSweetHome()"
   ]
  },
  {
   "cell_type": "markdown",
   "id": "c433ed47-9e5c-4408-a5e7-5b3484cceca7",
   "metadata": {},
   "source": [
    "En fait la fonction `homeSweetHome()` est composée de plusieurs appels de fonctions plus élémentaires dont voici la liste :\n",
    "```python\n",
    "dessineMaison()\n",
    "dessineSoleil()\n",
    "dessineTexte()\n",
    "dessineArbreDevant()\n",
    "dessineNuage()\n",
    "dessineArbreDerriere()\n",
    "dessineCiel()\n",
    "dessineSol()\n",
    "```"
   ]
  },
  {
   "cell_type": "markdown",
   "id": "142da946-c935-4a79-b5ca-11e1ba5d7b6d",
   "metadata": {},
   "source": [
    "Leur nom est assez explicite pour éviter de préciser leur rôle, néanmoins vous pouvez, si vous voulez, les tester une par une en les appelant dans la cellule suivante. \n",
    "\n",
    "Attention si vous avez exécuté la cellule précédente, le dessin reste en mémoire. Pour l'effacer il suffit d'appeler la fonction  `clear()`avant tout autre dessin.\n",
    "\n",
    "Au final le but de l'exercice est d'utiliser ces fontions pour reproduire le dessin obtenu par l'appel à `homeSweetHome()`. La seule (légère) difficulté de ce travail est d'appeler les fonctions dans le bon ordre, car l'ordre des instructions a une grande importance dans l'exécution d'un code, et un mauvais choix peut aboutir à ce genre de résultat : \n",
    "<div style=\"text-align: center\">\n",
    "    <img src=\"https://iut-info.univ-reims.fr/users/romaniuk/restricted/S1AlgoProg/ressources/maison.png\" alt=\"\" width=\"400\">\n",
    "</div>"
   ]
  },
  {
   "cell_type": "code",
   "execution_count": 7,
   "id": "435f3719-a59d-4662-b8f3-7f45fbe19841",
   "metadata": {
    "scrolled": true
   },
   "outputs": [
    {
     "data": {
      "image/svg+xml": [
       "<svg baseProfile=\"full\" height=\"400\" version=\"1.1\" width=\"600\" xmlns=\"http://www.w3.org/2000/svg\" xmlns:ev=\"http://www.w3.org/2001/xml-events\" xmlns:xlink=\"http://www.w3.org/1999/xlink\"><defs /><image fill=\"#800080\" height=\"133\" stroke=\"#000000\" stroke-width=\"1\" width=\"600\" x=\"0\" xlink:href=\"https://iut-info.univ-reims.fr/users/valette/public/images/ground.png\" y=\"267\" /><image fill=\"#800080\" height=\"267\" stroke=\"#000000\" stroke-width=\"1\" width=\"600\" x=\"0\" xlink:href=\"https://iut-info.univ-reims.fr/users/valette/public/images/sky.png\" y=\"0\" /><image fill=\"#800080\" height=\"268\" stroke=\"#000000\" stroke-width=\"1\" width=\"272\" x=\"325\" xlink:href=\"https://iut-info.univ-reims.fr/users/valette/public/images/house.png\" y=\"120\" /><ellipse cx=\"100\" cy=\"60\" fill=\"#ffff00\" rx=\"40\" ry=\"40\" stroke=\"#ffff00\" stroke-width=\"1\" /><text fill=\"#ffff00\" stroke=\"#ffff00\" stroke-width=\"1\" x=\"300\" y=\"40\">Home Sweet Home</text><image fill=\"#800080\" height=\"123\" stroke=\"#000000\" stroke-width=\"1\" width=\"203\" x=\"64\" xlink:href=\"https://iut-info.univ-reims.fr/users/valette/public/images/cloud.png\" y=\"41\" /><image fill=\"#800080\" height=\"240\" stroke=\"#000000\" stroke-width=\"1\" width=\"150\" x=\"106\" xlink:href=\"https://iut-info.univ-reims.fr/users/valette/public/images/tree.png\" y=\"97\" /><image fill=\"#800080\" height=\"240\" stroke=\"#000000\" stroke-width=\"1\" width=\"150\" x=\"13\" xlink:href=\"https://iut-info.univ-reims.fr/users/valette/public/images/tree.png\" y=\"160\" /></svg>"
      ],
      "text/plain": [
       "<Canvas (600, 400)>"
      ]
     },
     "metadata": {},
     "output_type": "display_data"
    }
   ],
   "source": [
    "# importation (à n'effectuer qu'une seule fois dans le notebook)\n",
    "from dutgraphics import *\n",
    "# efface tous les dessins précédents\n",
    "clear()\n",
    "dessineSol()\n",
    "dessineCiel()\n",
    "dessineMaison()\n",
    "dessineSoleil()\n",
    "dessineTexte()\n",
    "dessineNuage()\n",
    "dessineArbreDerriere()\n",
    "dessineArbreDevant()"
   ]
  },
  {
   "cell_type": "markdown",
   "id": "21024010-09f1-4cb8-99b6-e9e396d20ee0",
   "metadata": {},
   "source": [
    "Si vous voulez avoir le temps de différencier les différents appels de fonction, vous disposez d'une autre fonction qui permet de faire une pause à l'exécution entre deux instructions. Il s'agit de la fonction `pause()` qui accepte un argument anonyme : la durée en secondes de la pause désirée (type `float`).\n",
    "\n",
    "Reprenez les dessins de l'exercice précédent en ajoutant une pause d'une seconde entre chaque appel de fonction.\n",
    "<div style=\"text-align: center\">\n",
    "    <img src=\"https://iut-info.univ-reims.fr/users/romaniuk/restricted/S1AlgoProg/ressources/homepause.gif\" alt=\"\" width=\"400\">\n",
    "</div>    "
   ]
  },
  {
   "cell_type": "code",
   "execution_count": 8,
   "id": "05baf0ac-b651-465a-9bef-d22d777348bc",
   "metadata": {},
   "outputs": [
    {
     "data": {
      "image/svg+xml": [
       "<svg baseProfile=\"full\" height=\"400\" version=\"1.1\" width=\"600\" xmlns=\"http://www.w3.org/2000/svg\" xmlns:ev=\"http://www.w3.org/2001/xml-events\" xmlns:xlink=\"http://www.w3.org/1999/xlink\"><defs /><image fill=\"#800080\" height=\"133\" stroke=\"#000000\" stroke-width=\"1\" width=\"600\" x=\"0\" xlink:href=\"https://iut-info.univ-reims.fr/users/valette/public/images/ground.png\" y=\"267\" /><image fill=\"#800080\" height=\"267\" stroke=\"#000000\" stroke-width=\"1\" width=\"600\" x=\"0\" xlink:href=\"https://iut-info.univ-reims.fr/users/valette/public/images/sky.png\" y=\"0\" /><image fill=\"#800080\" height=\"268\" stroke=\"#000000\" stroke-width=\"1\" width=\"272\" x=\"325\" xlink:href=\"https://iut-info.univ-reims.fr/users/valette/public/images/house.png\" y=\"120\" /><ellipse cx=\"100\" cy=\"60\" fill=\"#ffff00\" rx=\"40\" ry=\"40\" stroke=\"#ffff00\" stroke-width=\"1\" /><text fill=\"#ffff00\" stroke=\"#ffff00\" stroke-width=\"1\" x=\"300\" y=\"40\">Home Sweet Home</text><image fill=\"#800080\" height=\"123\" stroke=\"#000000\" stroke-width=\"1\" width=\"203\" x=\"64\" xlink:href=\"https://iut-info.univ-reims.fr/users/valette/public/images/cloud.png\" y=\"41\" /><image fill=\"#800080\" height=\"240\" stroke=\"#000000\" stroke-width=\"1\" width=\"150\" x=\"106\" xlink:href=\"https://iut-info.univ-reims.fr/users/valette/public/images/tree.png\" y=\"97\" /><image fill=\"#800080\" height=\"240\" stroke=\"#000000\" stroke-width=\"1\" width=\"150\" x=\"13\" xlink:href=\"https://iut-info.univ-reims.fr/users/valette/public/images/tree.png\" y=\"160\" /></svg>"
      ],
      "text/plain": [
       "<Canvas (600, 400)>"
      ]
     },
     "metadata": {},
     "output_type": "display_data"
    }
   ],
   "source": [
    "# importation (à n'effectuer qu'une seule fois dans le notebook)\n",
    "from dutgraphics import *\n",
    "# efface tous les dessins précédents\n",
    "clear()\n",
    "pause(1)\n",
    "dessineSol()\n",
    "pause(1)\n",
    "dessineCiel()\n",
    "pause(1)\n",
    "dessineMaison()\n",
    "pause(1)\n",
    "dessineSoleil()\n",
    "pause(1)\n",
    "dessineTexte()\n",
    "pause(1)\n",
    "dessineNuage()\n",
    "pause(1)\n",
    "dessineArbreDerriere()\n",
    "pause(1)\n",
    "dessineArbreDevant()"
   ]
  },
  {
   "cell_type": "markdown",
   "id": "987a411e-1225-4097-b648-4a036284f9fb",
   "metadata": {},
   "source": [
    "[Retour au plan](#Plan)"
   ]
  }
 ],
 "metadata": {
  "kernelspec": {
   "display_name": "Python 3",
   "language": "python",
   "name": "python3"
  },
  "language_info": {
   "codemirror_mode": {
    "name": "ipython",
    "version": 3
   },
   "file_extension": ".py",
   "mimetype": "text/x-python",
   "name": "python",
   "nbconvert_exporter": "python",
   "pygments_lexer": "ipython3",
   "version": "3.8.10"
  }
 },
 "nbformat": 4,
 "nbformat_minor": 5
}
