{
 "cells": [
  {
   "cell_type": "markdown",
   "id": "08b12b4d-e857-4dc5-ab73-89d8980f1e6a",
   "metadata": {},
   "source": [
    "<b><p style=\"text-align:center; font-family:verdana; font-size:220%;\"> Initiation au développement en Python</p></b>\n",
    "<div style=\"text-align: center\">\n",
    "    <img src=\"https://iut-info.univ-reims.fr/users/romaniuk/restricted/S1AlgoProg/ressources/Silly-Walk-monty-python.png\" alt=\"\" width=\"480\">\n",
    "</div>\n",
    "<b><p style=\"text-align:center; font-family:verdana; font-size:220%;\">TP6 Fonctions</p></b>"
   ]
  },
  {
   "cell_type": "markdown",
   "id": "22241000-929e-457e-bc70-24661e54c3f3",
   "metadata": {},
   "source": [
    "Coudrot Axel"
   ]
  },
  {
   "cell_type": "markdown",
   "id": "c40ae4ee-78b9-478d-8e66-9c9457110589",
   "metadata": {},
   "source": [
    "Cellule des importations à effectuer une fois  avant d'exécuter les cellules de code du TP :"
   ]
  },
  {
   "cell_type": "code",
   "execution_count": 1,
   "id": "2c9c625d-c850-4fcd-818c-de0602e56e1c",
   "metadata": {
    "tags": []
   },
   "outputs": [],
   "source": [
    "## EXECUTE ME FIRST! ##\n",
    "from random import *\n",
    "from dutgraphics import *"
   ]
  },
  {
   "cell_type": "markdown",
   "id": "751cfe12-6259-40f0-8e83-a9810eef93dd",
   "metadata": {},
   "source": [
    "# 1. Rappels"
   ]
  },
  {
   "cell_type": "markdown",
   "id": "1fe15f4c-0093-422a-90f3-a376de2cfc2a",
   "metadata": {},
   "source": [
    "## 1.1 Prototype"
   ]
  },
  {
   "cell_type": "markdown",
   "id": "29f0c9fb-b181-4e4e-aa33-cb249ff2723b",
   "metadata": {},
   "source": [
    "Quand vous devrez coder une fonction, vous commencerez par donner son **prototype**.\n",
    "\n",
    "Les prototypes que vous devrez écrire donneront trois types d'informations :\n",
    "1. le nom de la fonction\n",
    "2. de 0 à N paramètres formels avec pour chacun un nom et un type\n",
    "1. le type de son retour (ou `None` si la fonction ne retourne rien)\n",
    "\n",
    "Le formalisme à respecter sera le suivant :\n",
    "\n",
    "```python\n",
    "nomDeFonction(nom1: type1, nom2: type2) -> typeRetour \n",
    "```"
   ]
  },
  {
   "cell_type": "markdown",
   "id": "cc382fa7-b637-4d27-ba01-2d79687723fc",
   "metadata": {},
   "source": [
    "Quelques exemples de prototypes :\n",
    "```python\n",
    "printName() -> None                       # fonction sans paramètre ni retour\n",
    "getNote() -> float                        # fonction sans paramètre avec un retour de type float\n",
    "printMean(name: str, notes: list) -> None # fonction avec 2 paramètres sans retour\n",
    "getMean(name: str, notes: list) -> str    # fonction avec 2 paramètres avec un retour de type str\n",
    "```"
   ]
  },
  {
   "cell_type": "markdown",
   "id": "811594d0-ea33-4d54-a1e9-300562b322fa",
   "metadata": {},
   "source": [
    "## 1.2 Définition d'une fonction"
   ]
  },
  {
   "cell_type": "markdown",
   "id": "d861ce52-9e13-43ec-943d-83936237f3a3",
   "metadata": {},
   "source": [
    "Coder une fonction est synonyme de donner sa définition qui se partage en 3 parties :\n",
    "1. `def` suivi du prototype suivi de `:`\n",
    "1. le code de la fonction, indenté par rapport à sa ligne de prototype\n",
    "1. `return` suivi du retour de la fonction (ou `None` si la fonction ne retourne rien), cette ligne est indentée également et marque la fin de la fonction\n",
    "\n",
    "Voici un exemple de fonction. Observez l'indentation du code (obtenue par la touche de tabulation) et la dernière ligne de la définition commençant toujours par `return`. Ensuite répondez aux questions qui suivent le code."
   ]
  },
  {
   "cell_type": "code",
   "execution_count": 4,
   "id": "fe5ffa80-3181-4d1e-8b8e-229bc8d9c989",
   "metadata": {},
   "outputs": [],
   "source": [
    "def printNameMean(name: str, notes: list) -> None:\n",
    "    # calcul de la moyenne\n",
    "    m = 0\n",
    "    for n in notes:\n",
    "        m = m + n\n",
    "    m = m/len(notes)\n",
    "    # affichage\n",
    "    print(name, ':', m)\n",
    "    return None"
   ]
  },
  {
   "cell_type": "markdown",
   "id": "f927a708-665f-4172-b3f0-874bca4c0bbc",
   "metadata": {},
   "source": [
    "Indiquez dans la cellule ci-dessous :\n",
    "1. le nom de la fonction\n",
    "1. le nombre de paramètres\n",
    "1. le nom et le type de chaque paramètre\n",
    "1. le type de retour (ou \"pas de retour\" le cas échéant)"
   ]
  },
  {
   "cell_type": "markdown",
   "id": "ad5d654d-ccbd-4f86-9fad-9cc3e6258710",
   "metadata": {},
   "source": [
    "1. printNameMean\n",
    "2. 2 paramètres\n",
    "3. name de type string et notes de type liste\n",
    "4. pas de retour"
   ]
  },
  {
   "cell_type": "markdown",
   "id": "1d712b03-23f6-401f-b0bb-2664153d42f0",
   "metadata": {},
   "source": [
    "Voici une autre fonction :"
   ]
  },
  {
   "cell_type": "code",
   "execution_count": 3,
   "id": "2235a9b8-7751-4925-813e-20af74017847",
   "metadata": {},
   "outputs": [],
   "source": [
    "def getNameMean(name: str, notes: list) -> str:\n",
    "    # calcul de la moyenne\n",
    "    m = 0\n",
    "    for n in notes:\n",
    "        m = m + n\n",
    "    m = m/len(notes)\n",
    "    # concaténation\n",
    "    s = name + ' : ' + str(m)\n",
    "    return s"
   ]
  },
  {
   "cell_type": "markdown",
   "id": "5e2308a6-87c6-48f6-a821-acd0a2c42eb7",
   "metadata": {},
   "source": [
    "Indiquez dans la cellule ci-dessous :\n",
    "1. le nom de la fonction\n",
    "2. le nombre de paramètres\n",
    "3. le nom et le type de chaque paramètre\n",
    "4. le type de retour (ou \"pas de retour\" le cas échéant)"
   ]
  },
  {
   "cell_type": "markdown",
   "id": "2580e2a0-232c-41d9-9ab7-600a9100b0b9",
   "metadata": {},
   "source": [
    "1. getNameMean\n",
    "2. 2 paramètres\n",
    "3. name de type string et notes de type liste\n",
    "4. retourne une string"
   ]
  },
  {
   "cell_type": "markdown",
   "id": "9fb28de0-6c21-489e-a3fb-22a6d67da576",
   "metadata": {},
   "source": [
    "## 1.3 Utilisation d'une fonction"
   ]
  },
  {
   "cell_type": "markdown",
   "id": "47cbda93-a787-4cb6-9ae0-dcf7713c1f25",
   "metadata": {},
   "source": [
    "Pour utiliser une fonction il faut **l'appeler** depuis une autre partie du code.\n",
    "\n",
    "- Si une fonction retourne quelque chose, il faut utiliser ce retour : dans une affectation, un affichage, etc.\n",
    "- On passe à la fonction autant d'arguments qu'elle attend de paramètres : ces arguments peuvent être des valeurs, des noms de variable, des résultats d'opération, des retours de fonction.\n",
    "\n",
    "Exemples d'appel des fonctions définies précédemment (n'oubliez pas d'exécuter auparavant les cellules précédentes pour définir ces fonctions en mémoire) :"
   ]
  },
  {
   "cell_type": "code",
   "execution_count": 5,
   "id": "fece5fdb-9076-4710-a965-cb1bca304b95",
   "metadata": {},
   "outputs": [
    {
     "name": "stdout",
     "output_type": "stream",
     "text": [
      "Bart Simpson : 10.72\n",
      "Etudiant ? Tom daret\n",
      "Tom daret : 4.54\n"
     ]
    }
   ],
   "source": [
    "# appel avec des données comme arguments\n",
    "printNameMean('Bart Simpson', [9.5, 8.8, 20.4, 2.5, 12.4])\n",
    "# affectations de variables\n",
    "student = input('Etudiant ? ')\n",
    "yourNotes = [0.5, 6.8, 0.6, 0.6, 14.2]\n",
    "# appel avec des variables comme arguments\n",
    "# et stockage du retour de la fonction dans une variable\n",
    "mean = getNameMean(student, yourNotes)\n",
    "# affichage du retour\n",
    "print(mean)"
   ]
  },
  {
   "cell_type": "markdown",
   "id": "e4ba0f4c-55ef-4080-a694-a69276485eaa",
   "metadata": {},
   "source": [
    "**Remarque :** à l'appel d'une fonction, tout se passe comme si les affectations des arguments présentes dans les parenthèses de l'appel étaient \"copiées\" au début de la fonction.\n",
    "\n",
    "Ainsi exécuter `printNameMean('Bart Simpson', [9.5, 8.8, 20.4, 2.5, 12.4])` revient à ajouter au début de la fonction les affectations des deux paramètres entre les parenthèses :\n",
    "\n",
    "```python\n",
    "# exécution de printNameMean('Bart Simpson', [9.5, 8.8, 20.4, 2.5, 12.4])\n",
    "    # ajout fictif des affectations des deux paramètres en début de fonction\n",
    "    name='Bart Simpson'\n",
    "    notes=[9.5, 8.8, 20.4, 2.5, 12.4])\n",
    "    # calcul de la moyenne\n",
    "    m = 0\n",
    "    for n in notes:\n",
    "        m = m + n\n",
    "    m = m/len(notes)\n",
    "    # affichage\n",
    "    print(name, ':', m)\n",
    "    return None\n",
    "```"
   ]
  },
  {
   "cell_type": "markdown",
   "id": "3ce7671a-ad70-4f60-a443-3f3a7a4c8b4b",
   "metadata": {},
   "source": [
    "## 1.4 Visibilité des variables et des paramètres"
   ]
  },
  {
   "cell_type": "markdown",
   "id": "f731c6ff-2e3c-4c88-a2bd-791cc2f01bb4",
   "metadata": {},
   "source": [
    "Une variable créée dans une fonction est invisible en dehors de cette fonction. Elle est appelée \"variable locale\".\n",
    "\n",
    "Dans le code suivant, la ligne 7 provoque une erreur car la variable `i` n'est visible que dans la fonction `printi()` et cette ligne est en dehors de la fonction.\n",
    "\n",
    "Tout se passe comme si la fonction était terminée par `del i` : une variable créée dans une fonction est supprimée à la fin de la fonction."
   ]
  },
  {
   "cell_type": "code",
   "execution_count": 2,
   "id": "0374330b-34f9-4cb3-ba64-5cbb721943f7",
   "metadata": {},
   "outputs": [
    {
     "name": "stdout",
     "output_type": "stream",
     "text": [
      "1\n"
     ]
    },
    {
     "ename": "NameError",
     "evalue": "name 'i' is not defined",
     "output_type": "error",
     "traceback": [
      "\u001b[0;31m---------------------------------------------------------------------------\u001b[0m",
      "\u001b[0;31mNameError\u001b[0m                                 Traceback (most recent call last)",
      "\u001b[0;32m<ipython-input-2-bde3c4fb9d66>\u001b[0m in \u001b[0;36m<module>\u001b[0;34m\u001b[0m\n\u001b[1;32m      5\u001b[0m \u001b[0;34m\u001b[0m\u001b[0m\n\u001b[1;32m      6\u001b[0m \u001b[0mprinti\u001b[0m\u001b[0;34m(\u001b[0m\u001b[0;34m)\u001b[0m\u001b[0;34m\u001b[0m\u001b[0;34m\u001b[0m\u001b[0m\n\u001b[0;32m----> 7\u001b[0;31m \u001b[0mprint\u001b[0m\u001b[0;34m(\u001b[0m\u001b[0mi\u001b[0m\u001b[0;34m)\u001b[0m \u001b[0;31m# i est inconnu ici\u001b[0m\u001b[0;34m\u001b[0m\u001b[0;34m\u001b[0m\u001b[0m\n\u001b[0m",
      "\u001b[0;31mNameError\u001b[0m: name 'i' is not defined"
     ]
    }
   ],
   "source": [
    "def printi() -> None:\n",
    "    i = 1\n",
    "    print(i)\n",
    "    return None\n",
    "\n",
    "printi()\n",
    "print(i) # i est inconnu ici"
   ]
  },
  {
   "cell_type": "markdown",
   "id": "10b3041c-4ed4-4300-8ffd-1e4d4311f22e",
   "metadata": {},
   "source": [
    "La visibilité des paramètres d'une fonction est la même que celle de ses variables : en dehors de la fonction, les paramètres sont invisibles.\n",
    "\n",
    "Dans le code suivant, la ligne 6 provoque une erreur car le paramètre `i` n'est visible que dans la fonction `printi()`.\n",
    "\n",
    "Là encore, tout se passe comme si la fonction était terminée par `del i` : un paramètre d'une fonction est supprimé à la fin de la fonction."
   ]
  },
  {
   "cell_type": "code",
   "execution_count": 7,
   "id": "846383d3-599d-4c44-8e30-d598df00222a",
   "metadata": {},
   "outputs": [
    {
     "name": "stdout",
     "output_type": "stream",
     "text": [
      "13\n"
     ]
    },
    {
     "ename": "NameError",
     "evalue": "name 'i' is not defined",
     "output_type": "error",
     "traceback": [
      "\u001b[0;31m---------------------------------------------------------------------------\u001b[0m",
      "\u001b[0;31mNameError\u001b[0m                                 Traceback (most recent call last)",
      "\u001b[0;32m<ipython-input-7-d19e4f6617d9>\u001b[0m in \u001b[0;36m<module>\u001b[0;34m\u001b[0m\n\u001b[1;32m      4\u001b[0m \u001b[0;34m\u001b[0m\u001b[0m\n\u001b[1;32m      5\u001b[0m \u001b[0mprinti\u001b[0m\u001b[0;34m(\u001b[0m\u001b[0mi\u001b[0m\u001b[0;34m=\u001b[0m\u001b[0;36m13\u001b[0m\u001b[0;34m)\u001b[0m \u001b[0;31m# ATTENTION : i n'est pas une variable, c'est le nom du paramètre !\u001b[0m\u001b[0;34m\u001b[0m\u001b[0;34m\u001b[0m\u001b[0m\n\u001b[0;32m----> 6\u001b[0;31m \u001b[0mprint\u001b[0m\u001b[0;34m(\u001b[0m\u001b[0mi\u001b[0m\u001b[0;34m)\u001b[0m     \u001b[0;31m# i est inconnu ici\u001b[0m\u001b[0;34m\u001b[0m\u001b[0;34m\u001b[0m\u001b[0m\n\u001b[0m",
      "\u001b[0;31mNameError\u001b[0m: name 'i' is not defined"
     ]
    }
   ],
   "source": [
    "def printi(i: int) -> None:\n",
    "    print(i)\n",
    "    return None\n",
    "\n",
    "printi(i=13) # ATTENTION : i n'est pas une variable, c'est le nom du paramètre !\n",
    "print(i)     # i est inconnu ici"
   ]
  },
  {
   "cell_type": "markdown",
   "id": "a4ded295-bcc4-4b6f-bff6-369428c97fa6",
   "metadata": {},
   "source": [
    "**Important :** en Python, dans une fonction, la réaffectation d'un paramètre de cette fonction n'a aucun effet en dehors de la fonction elle-même, exactement comme pour une variable locale. Pour éviter toute confusion, **ne modifiez pas les paramètres** ! Utilisez-les seulement en lecture seule.\n",
    "\n",
    "Dans le code suivant, `i` est modifié dans la fonction, mais ça n'a aucun effet sur la variable `a` du code appelant."
   ]
  },
  {
   "cell_type": "code",
   "execution_count": 8,
   "id": "0e7a01ea-a5af-4ccc-aab0-4b6fd2a75474",
   "metadata": {},
   "outputs": [
    {
     "name": "stdout",
     "output_type": "stream",
     "text": [
      "13\n",
      "0\n",
      "13\n"
     ]
    }
   ],
   "source": [
    "def printi(i: int) -> None:\n",
    "    print(i)\n",
    "    i = 0 # i change de valeur\n",
    "    print(i)\n",
    "    return None\n",
    "\n",
    "a = 13\n",
    "printi(a)\n",
    "print(a)  # a ne change pas de valeur"
   ]
  },
  {
   "cell_type": "markdown",
   "id": "84f3ec89-84c0-420f-b1f8-dc83ef16cb39",
   "metadata": {},
   "source": [
    "## 1.5 Factorisation"
   ]
  },
  {
   "cell_type": "markdown",
   "id": "d9cd6f27-98b6-45a9-91de-e38595dcb58d",
   "metadata": {},
   "source": [
    "Quand un code comporte des suites d'instructions identiques, pour en améliorer la lisibilité et la maintenance, il faut procéder à leur **factorisation** : les rassembler dans une fonction.\n",
    "\n",
    "Par exemple, on peut constater que le calcul de la moyenne est identique dans les deux fonctions `printNameMean()` et `getNameMean()`, on peut donc le factoriser en créant une autre fonction :"
   ]
  },
  {
   "cell_type": "code",
   "execution_count": 9,
   "id": "f27ca553-bed3-470c-8212-2e4a2f1fdad6",
   "metadata": {},
   "outputs": [],
   "source": [
    "def getMean(notes: list) -> float:\n",
    "    # calcul de la moyenne\n",
    "    m = 0\n",
    "    for n in notes:\n",
    "        m = m + n\n",
    "    m = m/len(notes)\n",
    "    return m"
   ]
  },
  {
   "cell_type": "markdown",
   "id": "96c57d49-47b4-488e-9abb-028a9b00b939",
   "metadata": {},
   "source": [
    "Les deux premières fonctions se simplifient alors par l'appel de `getMean()`:"
   ]
  },
  {
   "cell_type": "code",
   "execution_count": 10,
   "id": "772b9e32-8e01-4ea2-b142-f2d9452410b2",
   "metadata": {},
   "outputs": [],
   "source": [
    "def printNameMean(name: str, notes: list) -> None:\n",
    "    # calcul de la moyenne\n",
    "    m = getMean(notes)\n",
    "    # affichage\n",
    "    print(name, ':', m)\n",
    "    return None\n",
    "\n",
    "def getNameMean(name: str, notes: list) -> str:\n",
    "    # calcul de la moyenne\n",
    "    m = getMean(notes)\n",
    "    # concaténation\n",
    "    s = name + ' : ' + str(m)\n",
    "    return s"
   ]
  },
  {
   "cell_type": "markdown",
   "id": "6a024284-b413-4cf5-b5c0-250a0f1badc9",
   "metadata": {},
   "source": [
    "## 1.6 Simplifications Python"
   ]
  },
  {
   "cell_type": "markdown",
   "id": "cc922f0b-9122-4d82-92c4-b09cb299fd31",
   "metadata": {},
   "source": [
    "Python autorise une simplification du prototype des fonctions, sans aucune mention de type. Il vous est demandé de ne *jamais* utiliser cette simplification : tous les types devront être précisés dans les prototypes de vos fonctions.\n",
    "\n",
    "De même lorsqu'une fonction ne retourne rien, la terminer par `return None` n'est pas nécessaire. Il vous est demandé de ne *jamais* utiliser cette simplification : toutes les fonctions que vous codez devront se terminer par un `return`. \n",
    "\n",
    "Enfin il vous est interdit d'utiliser plus d'un `return` dans une fonction (chose permise par le langage).\n",
    "\n",
    "En résumé :\n",
    "\n",
    "1. **Toujours préciser les types des paramètres et du retour dans le prototype d'une fonction**\n",
    "1. **Toujours terminer une fonction par un `return` qui doit être unique**"
   ]
  },
  {
   "cell_type": "markdown",
   "id": "6ffe2b33-2ccf-416c-9b13-6a5b4dc15fd7",
   "metadata": {},
   "source": [
    "## 1.7 Méthodes"
   ]
  },
  {
   "cell_type": "markdown",
   "id": "417ec09c-8a85-4d3f-8949-ef0629b16cd6",
   "metadata": {},
   "source": [
    "Une classe peut posséder des fonctions : on parle alors de **méthodes**. Leur utilisation est identique à celle des fonctions, à part le fait qu'elles s'appliquent à une instance selon la syntaxe vue dans le TP précédent `unObjet.uneMethode()`. Par exemple pour la classe `Rectangle`:\n",
    "\n",
    "```python\n",
    "# instanciation d'un rectangle avec le constructeur\n",
    "rect = Rectangle((0, 0),(20, 100))  # appel avec deux arguments identifiés\n",
    "# utilisation de la méthode move sur l'instance rect\n",
    "rect.move(100, 40)  # appel avec deux arguments anonymes\n",
    "```"
   ]
  },
  {
   "cell_type": "markdown",
   "id": "2564041a-4c8c-4b61-af1a-8a519d430ba2",
   "metadata": {},
   "source": [
    "Dans les TP de ce module il ne vous sera pas demandé de créer des méthodes, seulement de les utiliser."
   ]
  },
  {
   "cell_type": "markdown",
   "id": "9167935d-d975-4d8f-93d9-25d2c5b18784",
   "metadata": {},
   "source": [
    "## 1.8 Documentation"
   ]
  },
  {
   "cell_type": "markdown",
   "id": "b06634d5-a73d-43ae-b7c3-0f15df7076f5",
   "metadata": {},
   "source": [
    "Pour documenter une fonction, il faut commencer son code, juste après la ligne donnant le prototype, par un commentaire encadré par un couple de triple apostrophes ou guillemets.\n",
    "\n",
    "Exemples de fonctions documentées :"
   ]
  },
  {
   "cell_type": "code",
   "execution_count": 12,
   "id": "c024140e-0508-4197-9e51-024621036e25",
   "metadata": {},
   "outputs": [],
   "source": [
    "def getMean(notes: list) -> float:\n",
    "    \"\"\"\n",
    "    Calcul de la moyenne\n",
    "    paramètres :\n",
    "        notes : liste de notes (float)\n",
    "    retour : \n",
    "        moyenne des notes contenues dans la liste notes\n",
    "    \"\"\"\n",
    "    # calcul de la moyenne\n",
    "    m = 0\n",
    "    for n in notes:\n",
    "        m = m + n\n",
    "    m = m/len(notes)\n",
    "    return m\n",
    "\n",
    "def printNameMean(name: str, notes: list) -> None:\n",
    "    '''\n",
    "    Exemple de fonction avec 2 paramètres sans retour \n",
    "    paramètres :\n",
    "        name : nom de l'étudiant\n",
    "        notes : liste de ses notes (float)\n",
    "    Cette fonction affiche le nom et la moyenne des notes\n",
    "    ''' \n",
    "    # calcul de la moyenne\n",
    "    m = getMean(notes)\n",
    "    # affichage\n",
    "    print(name,':',m)\n",
    "    return None\n",
    "\n",
    "def getNameMean(name: str, notes: list) -> str:\n",
    "    \"\"\"\n",
    "    Exemple de fonction avec 2 paramètres avec un retour de type str\n",
    "    paramètres :\n",
    "        name : nom de l'étudiant\n",
    "        notes : liste de ses notes (float)\n",
    "    retour : \n",
    "        une chaîne de caractères composée du nom et de la moyenne des notes\n",
    "    \"\"\"\n",
    "    # calcul de la moyenne\n",
    "    m = getMean(notes)\n",
    "    # concaténation\n",
    "    s = name + ' : ' + str(m)\n",
    "    return s"
   ]
  },
  {
   "cell_type": "markdown",
   "id": "9dab3c26-2d72-49e0-bd2d-11afea11be69",
   "metadata": {},
   "source": [
    "Cette documentation s'affichera avec en plus le prototype de la fonction à l'appel de `help()` :"
   ]
  },
  {
   "cell_type": "code",
   "execution_count": 13,
   "id": "fce8a62b-1443-4380-97e5-c169667fecf3",
   "metadata": {},
   "outputs": [
    {
     "name": "stdout",
     "output_type": "stream",
     "text": [
      "Help on function getMean in module __main__:\n",
      "\n",
      "getMean(notes: list) -> float\n",
      "    Calcul de la moyenne\n",
      "    paramètres :\n",
      "        notes : liste de notes (float)\n",
      "    retour : \n",
      "        moyenne des notes contenues dans la liste notes\n",
      "\n",
      "Help on function printNameMean in module __main__:\n",
      "\n",
      "printNameMean(name: str, notes: list) -> None\n",
      "    Exemple de fonction avec 2 paramètres sans retour \n",
      "    paramètres :\n",
      "        name : nom de l'étudiant\n",
      "        notes : liste de ses notes (float)\n",
      "    Cette fonction affiche le nom et la moyenne des notes\n",
      "\n",
      "Help on function getNameMean in module __main__:\n",
      "\n",
      "getNameMean(name: str, notes: list) -> str\n",
      "    Exemple de fonction avec 2 paramètres avec un retour de type str\n",
      "    paramètres :\n",
      "        name : nom de l'étudiant\n",
      "        notes : liste de ses notes (float)\n",
      "    retour : \n",
      "        une chaîne de caractères composée du nom et de la moyenne des notes\n",
      "\n"
     ]
    }
   ],
   "source": [
    "# affichage des documentations des fonctions précédentes\n",
    "help(getMean)\n",
    "help(printNameMean)\n",
    "help(getNameMean)"
   ]
  },
  {
   "cell_type": "markdown",
   "id": "8e1cc4e0-ae3e-4003-a895-197f4a50924f",
   "metadata": {},
   "source": [
    "# 2. Généralités"
   ]
  },
  {
   "cell_type": "markdown",
   "id": "323510b4-b244-4360-8a6c-50cd530d5125",
   "metadata": {},
   "source": [
    "## 2.1 Prototypes"
   ]
  },
  {
   "cell_type": "markdown",
   "id": "b0eaba38-c789-46a3-a727-4e40be65099b",
   "metadata": {},
   "source": [
    "### 2.1.1 Lecture"
   ]
  },
  {
   "cell_type": "markdown",
   "id": "f2eef823-6d5d-4187-bd34-b220c109d4cd",
   "metadata": {},
   "source": [
    "Pour les trois prototypes suivants, indiquez : le nom de la fonction, le nom et le type de chaque paramètre, le type de retour de la fonction. \n",
    "```python\n",
    "dessiner(rec: Rectangle) -> None\n",
    "getInfos(message: str, delai: float) -> str\n",
    "creerListe(taille: int) -> list\n",
    "```"
   ]
  },
  {
   "cell_type": "markdown",
   "id": "1621b1d4-4ada-475b-8de5-0d3025f03c1c",
   "metadata": {},
   "source": [
    "dessiner : paramètres : rec(rectangle canvas), pas de retour\n",
    "getInfos : paramètres : message(str), retour : str\n",
    "creerListe : paramètres : taille(int), retour : liste"
   ]
  },
  {
   "cell_type": "markdown",
   "id": "6b2f065a-e204-40fe-8680-baa4c3b1216f",
   "metadata": {},
   "source": [
    "Pour chacune de ces fonctions donnez un exemple d'appel compatible avec son prototype. \n",
    "\n",
    ">N'oubliez pas d'utiliser les retours !"
   ]
  },
  {
   "cell_type": "code",
   "execution_count": 15,
   "id": "1dc2f882-507c-49cf-88c1-cb69099d68c1",
   "metadata": {},
   "outputs": [
    {
     "name": "stdout",
     "output_type": "stream",
     "text": [
      "Votre nom ? axel\n"
     ]
    },
    {
     "data": {
      "text/plain": [
       "'axel'"
      ]
     },
     "execution_count": 15,
     "metadata": {},
     "output_type": "execute_result"
    }
   ],
   "source": [
    "r=Rectangle((10,20),(100,100))\n",
    "dessiner(r)\n",
    "resp=getInfos(\"Toi = moi? \", 55)\n",
    "liste de note = creerListe(20)"
   ]
  },
  {
   "cell_type": "markdown",
   "id": "6dffcd23-32cf-4538-93ae-06ba6d561c89",
   "metadata": {},
   "source": [
    "### 2.1.2 Écriture"
   ]
  },
  {
   "cell_type": "markdown",
   "id": "2b686737-52b7-46ad-bc33-536caea78c3e",
   "metadata": {},
   "source": [
    "Donnez le **prototype seul** des fonctions suivantes (leur code n'est pas demandé). Vous choisirez comme nom de chacun des paramètres un nom représentatif du rôle de ce paramètre.\n",
    "\n",
    "1) Une fonction qui doit afficher le reste de la division de deux entiers passés en paramètres, et retourner le quotient."
   ]
  },
  {
   "cell_type": "code",
   "execution_count": null,
   "id": "b6f4c56b-4d65-49c4-8f33-f6b1e7c142f3",
   "metadata": {},
   "outputs": [],
   "source": [
    "afficheResteRetourneQuotientDivEuclid(divisé : int, diviseur:int) -> int"
   ]
  },
  {
   "cell_type": "markdown",
   "id": "911c7626-5ec2-4d09-870c-f981d1a46d5d",
   "metadata": {},
   "source": [
    "2) Une fonction qui affiche l'indice de masse corporel (IMC) d'une personne dont le nom est passé en paramètre à partir de sa taille en cm et de son poids en kg également passés en paramètre."
   ]
  },
  {
   "cell_type": "code",
   "execution_count": null,
   "id": "ee885750-d0d5-4931-bf7b-a3103d61a086",
   "metadata": {},
   "outputs": [],
   "source": [
    "afficheIMC(nomPersonne : string, taille : int, poids : int) -> float"
   ]
  },
  {
   "cell_type": "markdown",
   "id": "a54b8aeb-c4b8-4666-bf59-597b908c87fc",
   "metadata": {},
   "source": [
    "3) Une fonction qui doit transmettre par courrier électronique les `N` premiers fichiers d'un répertoire : le nombre de fichiers, l'adresse email, le nom du répertoire sont passés en paramètre."
   ]
  },
  {
   "cell_type": "code",
   "execution_count": null,
   "id": "6fd3f5ed-71f0-49db-af02-b7b77eb9cf3e",
   "metadata": {},
   "outputs": [],
   "source": [
    "envoieNFichierParMail(nombreFichiers : int, mail : str, nomRep : str) -> None"
   ]
  },
  {
   "cell_type": "markdown",
   "id": "43548c67-a8bc-46f1-91cc-26f00d031150",
   "metadata": {},
   "source": [
    "4) Une fonction qui retourne le nombre de caractères d'une phrase passée en paramètre s'il ne dépasse pas un certain maximum passé en paramètre, ou qui retourne -1 dans le cas contraire. "
   ]
  },
  {
   "cell_type": "code",
   "execution_count": null,
   "id": "895153f4-45e3-44b7-9657-6a1b8643a824",
   "metadata": {},
   "outputs": [],
   "source": [
    "retourneNbCaractèresAvecMaximum(phrase : str, maximum : int) -> int"
   ]
  },
  {
   "cell_type": "markdown",
   "id": "fde609a8-9e65-4cfb-b2db-995b94a89d09",
   "metadata": {},
   "source": [
    "## 2.2 Visibilité des variables et des paramètres"
   ]
  },
  {
   "cell_type": "markdown",
   "id": "a9803ade-621b-4f3d-99bc-cf155cc9c3f9",
   "metadata": {},
   "source": [
    "Soit la fonction :\n",
    "\n",
    "```python\n",
    "def myFunction(a: str, b: int, c: float) -> None:\n",
    "    d = \"Coucou\"\n",
    "    e = -1\n",
    "    f = 0.07\n",
    "    print(a,b,c,d,e,f)\n",
    "    return None\n",
    "```"
   ]
  },
  {
   "cell_type": "markdown",
   "id": "5f314ff7-5530-4581-89e0-ec00f61d835e",
   "metadata": {},
   "source": [
    "1. Donnez le nom et le type de ses paramètres.\n",
    "2. Donnez le nom et le type de ses variables locales."
   ]
  },
  {
   "cell_type": "markdown",
   "id": "788ac636-18a5-4107-8c12-f0028da1d17e",
   "metadata": {},
   "source": [
    "1. a est une string, b est un entier, c est un réel.\n",
    "2. d est une string, e est un entier, f est un réel."
   ]
  },
  {
   "cell_type": "markdown",
   "id": "b2324d4f-3e48-4583-b35e-5ff0e1fda840",
   "metadata": {},
   "source": [
    "Soient les fonctions :\n",
    "\n",
    "<img src=\"https://iut-info.univ-reims.fr/users/romaniuk/restricted/S1AlgoProg/ressources/exerciceFonction.png\" alt=\"Image absente\" align=\"center\">\n",
    "\n",
    "En appliquant le principe de visibilité des variables et des paramètres d'une fonction, indiquez dans la cellule ci-dessous les lignes incorrectes en donnant une explication. \n",
    "\n",
    ">**Attention !** Faites bien la différence à l'appel d'une fonction entre le nom d'un paramètre et l'argument correspondant. Le nom du paramètre (à gauche du signe `=`) n'a pas à correspondre à une variable existante, en revanche si l'argument (à droite du signe `=`) est une variable, elle doit exister."
   ]
  },
  {
   "cell_type": "markdown",
   "id": "de1ea67c-1279-4dfd-910e-55408f61083c",
   "metadata": {},
   "source": [
    ".7. u non défini\n",
    ".13. f non défini dans cette fonction\n",
    ".14. d non défini\n",
    ".15. s non défini"
   ]
  },
  {
   "cell_type": "markdown",
   "id": "b74b6c40-97b3-4b05-943f-3e93f89ca6ea",
   "metadata": {},
   "source": [
    "## 2.3 Factorisation"
   ]
  },
  {
   "cell_type": "markdown",
   "id": "1a47148c-ccfb-413c-a4a6-71f060fd49e0",
   "metadata": {},
   "source": [
    "Soit la fonction `informations()` donnée dans la cellule ci-dessous.\n",
    "\n",
    "Comprenez ce qu'elle fait, exécutez la cellule pour vérifier."
   ]
  },
  {
   "cell_type": "code",
   "execution_count": 3,
   "id": "86971c0e-abea-4c3a-a639-f4bbc83ec7c5",
   "metadata": {
    "scrolled": true
   },
   "outputs": [
    {
     "name": "stdout",
     "output_type": "stream",
     "text": [
      "Information 1\n",
      "Quel est votre nom ? coudrot\n",
      "Information 2\n",
      "Quel est votre prénom ? axel\n",
      "Information 3\n",
      "Quelle est votre profession ? none\n",
      "Information 4\n",
      "Quelle est votre ville ? vlf\n",
      "Information 5\n",
      "Quel est votre âge ? 17\n",
      "coudrot\n",
      "axel\n",
      "none\n",
      "vlf\n",
      "17\n"
     ]
    }
   ],
   "source": [
    "def informations() -> None:\n",
    "    infos = []\n",
    "    print('Information 1')\n",
    "    info = input(prompt='Quel est votre nom ? ')\n",
    "    infos.append(info)\n",
    "    print('Information 2')\n",
    "    info = input(prompt='Quel est votre prénom ? ')\n",
    "    infos.append(info)\n",
    "    print('Information 3')\n",
    "    info = input(prompt='Quelle est votre profession ? ')\n",
    "    infos.append(info)\n",
    "    print('Information 4')\n",
    "    info = input(prompt='Quelle est votre ville ? ')\n",
    "    infos.append(info)\n",
    "    print('Information 5')\n",
    "    info = input(prompt='Quel est votre âge ? ')\n",
    "    infos.append(info)\n",
    "    for info in infos:\n",
    "        print(info)\n",
    "    return None\n",
    "\n",
    "# appel de la fonction pour test\n",
    "informations()"
   ]
  },
  {
   "cell_type": "markdown",
   "id": "3c6ec6c0-405e-4c95-9247-49556de1bdf0",
   "metadata": {},
   "source": [
    "Vous remarquez un certain nombre de répétitions d'instructions semblables. Essayez de les factoriser au maximum dans une autre fonction nommée `ajouterInfos()`, de manière à simplifier la fonction `informations()`. \n",
    "\n",
    "C'est à vous de déterminer les paramètres et le retour de la nouvelle fonction. Une fois cette fonction définie, recodez `informations()` et testez."
   ]
  },
  {
   "cell_type": "code",
   "execution_count": 4,
   "id": "56d574be-1560-41d4-90bf-58031ea8488e",
   "metadata": {},
   "outputs": [
    {
     "name": "stdout",
     "output_type": "stream",
     "text": [
      "Information 1\n",
      "Quelle est votre nom ? COUDROT\n",
      "Information 2\n",
      "Quelle est votre prénom ? Axel\n",
      "Information 3\n",
      "Quelle est votre profession ? none\n",
      "Information 4\n",
      "Quelle est votre ville ? VLF\n",
      "Information 5\n",
      "Quelle est votre âge ? 17\n",
      "COUDROT\n",
      "Axel\n",
      "none\n",
      "VLF\n",
      "17\n"
     ]
    }
   ],
   "source": [
    "# définissez ajouterInfos()\n",
    "def ajouterInfos(nbinfo : int, question : str) -> str:\n",
    "    print(f'Information {nbinfo}')\n",
    "    info = input(prompt=f'Quelle est votre {question} ? ')\n",
    "    return info\n",
    "\n",
    "# modifiez informations() en utilisant ajouterInfos()\n",
    "# essayez de ne pas modifier le code donné\n",
    "def informations() -> None:\n",
    "    infos = []\n",
    "    questions=['nom','prénom','profession','ville','âge']\n",
    "    for i in range(5):\n",
    "        info=ajouterInfos(i+1, questions[i])\n",
    "        infos.append(info)\n",
    "    for info in infos:\n",
    "        print(info)\n",
    "    return None\n",
    "\n",
    "\n",
    "# test de la fonction\n",
    "informations()"
   ]
  },
  {
   "cell_type": "markdown",
   "id": "f482e640-6730-47d7-9e0d-2457f114d318",
   "metadata": {},
   "source": [
    "# 3. Listes et chaînes de caractères"
   ]
  },
  {
   "cell_type": "markdown",
   "id": "8373231d-7bc4-49ce-85f8-7382827e0c05",
   "metadata": {},
   "source": [
    "## 3.1 Création"
   ]
  },
  {
   "cell_type": "markdown",
   "id": "93d1c0b2-520c-46c2-898a-37651b6ef9e8",
   "metadata": {},
   "source": [
    "Définissez une fonction `getRandomList()` retournant une liste composée d'entiers tirés aléatoirement. La taille de la liste, le minimum et le maximum des tirages aléatoires sont passés en paramètres. Donnez un exemple d'utilisation."
   ]
  },
  {
   "cell_type": "code",
   "execution_count": 6,
   "id": "243c04e7-f7ca-42e6-8899-1f64705baabd",
   "metadata": {},
   "outputs": [
    {
     "name": "stdout",
     "output_type": "stream",
     "text": [
      "[7, 4, 1, 16, 0, 5, 13, 18, 6, 15]\n"
     ]
    }
   ],
   "source": [
    "def getRandomList(length : int, min : int, max : int) -> list:\n",
    "    Liste = []\n",
    "    for i in range(length):\n",
    "        Liste.append(randint(min,max))\n",
    "    return Liste\n",
    "print(getRandomList(10,0,20))"
   ]
  },
  {
   "cell_type": "markdown",
   "id": "3cdf7856-eff0-4c7f-b464-c1eb855cf88b",
   "metadata": {},
   "source": [
    "## 3.2 Échange"
   ]
  },
  {
   "cell_type": "markdown",
   "id": "69832cad-3ba7-4118-be24-30c021dbb2a9",
   "metadata": {},
   "source": [
    "Définissez une fonction `swap()` qui va modifier une liste passée en paramètre en intervertissant deux de ses éléments. Un exemple d'utilisation (que vous ne devez pas modifier) est fourni dans la cellule ci-dessous, vous devez l'exécuter avant de tester votre solution."
   ]
  },
  {
   "cell_type": "code",
   "execution_count": 78,
   "id": "7e96f991-bc7e-4161-8514-8bcfb2a42bd7",
   "metadata": {},
   "outputs": [],
   "source": [
    "# fonction de test non modifiable : à exécuter en premier\n",
    "def testSwap() -> None:\n",
    "    letters = ['A', 'B', 'C', 'D', 'E', 'F']\n",
    "    print(\"Avant inversion : \\t\\t\", letters) # normalement ['A', 'B', 'C', 'D', 'E', 'F']\n",
    "    # inversion des éléments 0 et 3\n",
    "    swap(letters, 0, 3)\n",
    "    # affichage\n",
    "    print(\"Après première inversion : \\t\", letters) # normalement ['D', 'B', 'C', 'A', 'E', 'F']\n",
    "    # retour à la liste originale\n",
    "    swap(letters, 0, 3)\n",
    "    # affichage\n",
    "    print(\"Après seconde inversion : \\t\", letters) # normalement ['A', 'B', 'C', 'D', 'E', 'F']\n",
    "    return None"
   ]
  },
  {
   "cell_type": "markdown",
   "id": "51f48882-a028-44a3-b30b-eae82d814361",
   "metadata": {},
   "source": [
    "Codez votre fonction `swap()` dans la cellule ci-dessous. Vous devez déduire le prototype de la fonction d'après son utilisation dans `testSwap()`."
   ]
  },
  {
   "cell_type": "code",
   "execution_count": 81,
   "id": "be6df925-2018-421b-8382-f65f0a924928",
   "metadata": {},
   "outputs": [
    {
     "name": "stdout",
     "output_type": "stream",
     "text": [
      "Avant inversion : \t\t ['A', 'B', 'C', 'D', 'E', 'F']\n",
      "Après première inversion : \t ['D', 'B', 'C', 'A', 'E', 'F']\n",
      "Après seconde inversion : \t ['A', 'B', 'C', 'D', 'E', 'F']\n"
     ]
    }
   ],
   "source": [
    "def swap(letters : list, el1 : int, el2 : int) -> list:\n",
    "    a=letters[el1]\n",
    "    letters[el1]=letters[el2]\n",
    "    letters[el2]=a\n",
    "    return letters\n",
    "\n",
    "# appel de la fonction de test\n",
    "testSwap()"
   ]
  },
  {
   "cell_type": "markdown",
   "id": "9a2b5de2-ab0b-4356-a1b1-4668b3850508",
   "metadata": {},
   "source": [
    "# 4. Dessins"
   ]
  },
  {
   "cell_type": "markdown",
   "id": "efc5cfba-b9bd-485f-9cdc-1c19fb9fdde0",
   "metadata": {},
   "source": [
    "## 4.1 Maison (encore)"
   ]
  },
  {
   "cell_type": "markdown",
   "id": "06f98b24-7b57-49f1-a987-c211c63585fb",
   "metadata": {},
   "source": [
    "Les paramètres permettent d'écrire des fonctions plus génériques, plus souples à utiliser. Comme exemple vous allez reprendre le dessin d'une maison qui faisait l'objet d'exercices précédents.\n",
    "\n",
    "Au lieu de devoir utiliser 8 fonctions pour dessiner les différentes parties de l'image comme à la fin du TP1, vous disposez maintenant d'une seule fonction `dessine()` qui accepte un argument identifié par `dessin` : une chaîne de caractères (`str`) correspondant à une commande de dessin, parmi les suivantes : \n",
    "\n",
    "    \"soleil\" \"nuage\" \"arbre derrière\" \"arbre devant\" \"texte\" \"maison\" \"sol\" \"ciel\"\n",
    "\n",
    "Exemple d'utilisation : `dessine(dessin=\"soleil\")`\n",
    "\n",
    "Écrivez une fonction `voirMaison()`, sans paramètre ni retour, utilisant uniquement la fonction `dessine()` et qui doit produire l'image suivante à l'exécution. \n",
    "\n",
    "<div align = \"middle\" > <img src=\"https://iut-info.univ-reims.fr/users/romaniuk/restricted/S1AlgoProg/ressources/home.png\" alt=\"Image absente\" width=\"400\"></div>\n",
    "                                                                                                                                    "
   ]
  },
  {
   "cell_type": "code",
   "execution_count": 11,
   "id": "bc1a5d74-df89-4b5b-bab8-200aa698d9af",
   "metadata": {},
   "outputs": [
    {
     "data": {
      "image/svg+xml": [
       "<svg baseProfile=\"full\" height=\"400\" version=\"1.1\" width=\"600\" xmlns=\"http://www.w3.org/2000/svg\" xmlns:ev=\"http://www.w3.org/2001/xml-events\" xmlns:xlink=\"http://www.w3.org/1999/xlink\"><defs /><image fill=\"#800080\" height=\"267\" stroke=\"#000000\" stroke-width=\"1\" width=\"600\" x=\"0\" xlink:href=\"https://iut-info.univ-reims.fr/users/collard/dutgraphics/images/sky.png\" y=\"0\" /><image fill=\"#800080\" height=\"133\" stroke=\"#000000\" stroke-width=\"1\" width=\"600\" x=\"0\" xlink:href=\"https://iut-info.univ-reims.fr/users/collard/dutgraphics/images/ground.png\" y=\"267\" /><text fill=\"#ffff00\" stroke=\"#ffff00\" stroke-width=\"1\" x=\"300\" y=\"40\">Home Sweet Home</text><image fill=\"#800080\" height=\"268\" stroke=\"#000000\" stroke-width=\"1\" width=\"272\" x=\"325\" xlink:href=\"https://iut-info.univ-reims.fr/users/collard/dutgraphics/images/house.png\" y=\"120\" /><ellipse cx=\"100\" cy=\"60\" fill=\"#ffff00\" rx=\"40\" ry=\"40\" stroke=\"#ffff00\" stroke-width=\"1\" /><image fill=\"#800080\" height=\"123\" stroke=\"#000000\" stroke-width=\"1\" width=\"203\" x=\"64\" xlink:href=\"https://iut-info.univ-reims.fr/users/collard/dutgraphics/images/cloud.png\" y=\"41\" /><image fill=\"#800080\" height=\"240\" stroke=\"#000000\" stroke-width=\"1\" width=\"150\" x=\"106\" xlink:href=\"https://iut-info.univ-reims.fr/users/collard/dutgraphics/images/tree.png\" y=\"97\" /><image fill=\"#800080\" height=\"240\" stroke=\"#000000\" stroke-width=\"1\" width=\"150\" x=\"13\" xlink:href=\"https://iut-info.univ-reims.fr/users/collard/dutgraphics/images/tree.png\" y=\"160\" /></svg>"
      ],
      "text/plain": [
       "<Canvas (600, 400)>"
      ]
     },
     "metadata": {},
     "output_type": "display_data"
    }
   ],
   "source": [
    "def voirMaison() -> None:\n",
    "    L=[\"ciel\",\"sol\",\"texte\",\"maison\",\"soleil\",\"nuage\",\"arbre derrière\",\"arbre devant\"]\n",
    "    for el in L:\n",
    "        dessine(el)\n",
    "\n",
    "# test\n",
    "voirMaison()    "
   ]
  },
  {
   "cell_type": "markdown",
   "id": "d61260e8-92cd-40cd-9f76-bfdc9ac18f95",
   "metadata": {},
   "source": [
    "### 4.1.2 Le retour"
   ]
  },
  {
   "cell_type": "markdown",
   "id": "a760e031-f2eb-4fe0-aa08-bb900c8836e2",
   "metadata": {},
   "source": [
    "La fonction `dessine()` retourne un message de succès ou d'erreur selon la validité de la commande passée en argument.\n",
    "\n",
    "Utilisez la cellule suivante pour afficher le retour de la fonction quand la commande de dessin est invalide (elle est invalide si elle ne fait pas partie de la liste des commandes de dessin donnée)."
   ]
  },
  {
   "cell_type": "code",
   "execution_count": 12,
   "id": "a608827a-8558-4f06-b060-8f37d307a632",
   "metadata": {},
   "outputs": [
    {
     "data": {
      "text/plain": [
       "'Cette commande de dessin n\\'est pas reconnue.\\nLes commandes valides sont : \"soleil\" \"nuage\" \"arbre\" \"arbre derrière\"\\n\"arbre devant\" \"texte\" \"maison\" \"sol\" \"ciel\"'"
      ]
     },
     "execution_count": 12,
     "metadata": {},
     "output_type": "execute_result"
    }
   ],
   "source": [
    "dessine(5)"
   ]
  },
  {
   "cell_type": "markdown",
   "id": "04b25f96-a25a-4263-a1a7-9a2575978504",
   "metadata": {},
   "source": [
    "Reprenez votre fonction `voirMaison()` dans la cellule ci-dessous pour afficher le retour de *tous les appels* de cette fonction. \n",
    "\n",
    ">Remarque : chaque nouveau dessin efface le précédent, y compris les messages de `print()`. Trouvez un moyen pour stocker tous les messages de retour et les afficher seulement *après* le dernier dessin."
   ]
  },
  {
   "cell_type": "code",
   "execution_count": 17,
   "id": "6d035b85-62a2-444e-a69c-a8a873314dd6",
   "metadata": {},
   "outputs": [
    {
     "data": {
      "image/svg+xml": [
       "<svg baseProfile=\"full\" height=\"400\" version=\"1.1\" width=\"600\" xmlns=\"http://www.w3.org/2000/svg\" xmlns:ev=\"http://www.w3.org/2001/xml-events\" xmlns:xlink=\"http://www.w3.org/1999/xlink\"><defs /><image fill=\"#800080\" height=\"267\" stroke=\"#000000\" stroke-width=\"1\" width=\"600\" x=\"0\" xlink:href=\"https://iut-info.univ-reims.fr/users/collard/dutgraphics/images/sky.png\" y=\"0\" /><image fill=\"#800080\" height=\"133\" stroke=\"#000000\" stroke-width=\"1\" width=\"600\" x=\"0\" xlink:href=\"https://iut-info.univ-reims.fr/users/collard/dutgraphics/images/ground.png\" y=\"267\" /><text fill=\"#ffff00\" stroke=\"#ffff00\" stroke-width=\"1\" x=\"300\" y=\"40\">Home Sweet Home</text><image fill=\"#800080\" height=\"268\" stroke=\"#000000\" stroke-width=\"1\" width=\"272\" x=\"325\" xlink:href=\"https://iut-info.univ-reims.fr/users/collard/dutgraphics/images/house.png\" y=\"120\" /><ellipse cx=\"100\" cy=\"60\" fill=\"#ffff00\" rx=\"40\" ry=\"40\" stroke=\"#ffff00\" stroke-width=\"1\" /><image fill=\"#800080\" height=\"123\" stroke=\"#000000\" stroke-width=\"1\" width=\"203\" x=\"64\" xlink:href=\"https://iut-info.univ-reims.fr/users/collard/dutgraphics/images/cloud.png\" y=\"41\" /><image fill=\"#800080\" height=\"240\" stroke=\"#000000\" stroke-width=\"1\" width=\"150\" x=\"106\" xlink:href=\"https://iut-info.univ-reims.fr/users/collard/dutgraphics/images/tree.png\" y=\"97\" /><image fill=\"#800080\" height=\"240\" stroke=\"#000000\" stroke-width=\"1\" width=\"150\" x=\"13\" xlink:href=\"https://iut-info.univ-reims.fr/users/collard/dutgraphics/images/tree.png\" y=\"160\" /><image fill=\"#800080\" height=\"267\" stroke=\"#000000\" stroke-width=\"1\" width=\"600\" x=\"0\" xlink:href=\"https://iut-info.univ-reims.fr/users/collard/dutgraphics/images/sky.png\" y=\"0\" /><image fill=\"#800080\" height=\"133\" stroke=\"#000000\" stroke-width=\"1\" width=\"600\" x=\"0\" xlink:href=\"https://iut-info.univ-reims.fr/users/collard/dutgraphics/images/ground.png\" y=\"267\" /><text fill=\"#ffff00\" stroke=\"#ffff00\" stroke-width=\"1\" x=\"300\" y=\"40\">Home Sweet Home</text><image fill=\"#800080\" height=\"268\" stroke=\"#000000\" stroke-width=\"1\" width=\"272\" x=\"325\" xlink:href=\"https://iut-info.univ-reims.fr/users/collard/dutgraphics/images/house.png\" y=\"120\" /><ellipse cx=\"100\" cy=\"60\" fill=\"#ffff00\" rx=\"40\" ry=\"40\" stroke=\"#ffff00\" stroke-width=\"1\" /><image fill=\"#800080\" height=\"123\" stroke=\"#000000\" stroke-width=\"1\" width=\"203\" x=\"64\" xlink:href=\"https://iut-info.univ-reims.fr/users/collard/dutgraphics/images/cloud.png\" y=\"41\" /><image fill=\"#800080\" height=\"240\" stroke=\"#000000\" stroke-width=\"1\" width=\"150\" x=\"106\" xlink:href=\"https://iut-info.univ-reims.fr/users/collard/dutgraphics/images/tree.png\" y=\"97\" /><image fill=\"#800080\" height=\"240\" stroke=\"#000000\" stroke-width=\"1\" width=\"150\" x=\"13\" xlink:href=\"https://iut-info.univ-reims.fr/users/collard/dutgraphics/images/tree.png\" y=\"160\" /><image fill=\"#800080\" height=\"267\" stroke=\"#000000\" stroke-width=\"1\" width=\"600\" x=\"0\" xlink:href=\"https://iut-info.univ-reims.fr/users/collard/dutgraphics/images/sky.png\" y=\"0\" /><image fill=\"#800080\" height=\"133\" stroke=\"#000000\" stroke-width=\"1\" width=\"600\" x=\"0\" xlink:href=\"https://iut-info.univ-reims.fr/users/collard/dutgraphics/images/ground.png\" y=\"267\" /><text fill=\"#ffff00\" stroke=\"#ffff00\" stroke-width=\"1\" x=\"300\" y=\"40\">Home Sweet Home</text><image fill=\"#800080\" height=\"268\" stroke=\"#000000\" stroke-width=\"1\" width=\"272\" x=\"325\" xlink:href=\"https://iut-info.univ-reims.fr/users/collard/dutgraphics/images/house.png\" y=\"120\" /><ellipse cx=\"100\" cy=\"60\" fill=\"#ffff00\" rx=\"40\" ry=\"40\" stroke=\"#ffff00\" stroke-width=\"1\" /><image fill=\"#800080\" height=\"123\" stroke=\"#000000\" stroke-width=\"1\" width=\"203\" x=\"64\" xlink:href=\"https://iut-info.univ-reims.fr/users/collard/dutgraphics/images/cloud.png\" y=\"41\" /><image fill=\"#800080\" height=\"240\" stroke=\"#000000\" stroke-width=\"1\" width=\"150\" x=\"106\" xlink:href=\"https://iut-info.univ-reims.fr/users/collard/dutgraphics/images/tree.png\" y=\"97\" /><image fill=\"#800080\" height=\"240\" stroke=\"#000000\" stroke-width=\"1\" width=\"150\" x=\"13\" xlink:href=\"https://iut-info.univ-reims.fr/users/collard/dutgraphics/images/tree.png\" y=\"160\" /><image fill=\"#800080\" height=\"267\" stroke=\"#000000\" stroke-width=\"1\" width=\"600\" x=\"0\" xlink:href=\"https://iut-info.univ-reims.fr/users/collard/dutgraphics/images/sky.png\" y=\"0\" /><image fill=\"#800080\" height=\"133\" stroke=\"#000000\" stroke-width=\"1\" width=\"600\" x=\"0\" xlink:href=\"https://iut-info.univ-reims.fr/users/collard/dutgraphics/images/ground.png\" y=\"267\" /><text fill=\"#ffff00\" stroke=\"#ffff00\" stroke-width=\"1\" x=\"300\" y=\"40\">Home Sweet Home</text><image fill=\"#800080\" height=\"268\" stroke=\"#000000\" stroke-width=\"1\" width=\"272\" x=\"325\" xlink:href=\"https://iut-info.univ-reims.fr/users/collard/dutgraphics/images/house.png\" y=\"120\" /><ellipse cx=\"100\" cy=\"60\" fill=\"#ffff00\" rx=\"40\" ry=\"40\" stroke=\"#ffff00\" stroke-width=\"1\" /><image fill=\"#800080\" height=\"123\" stroke=\"#000000\" stroke-width=\"1\" width=\"203\" x=\"64\" xlink:href=\"https://iut-info.univ-reims.fr/users/collard/dutgraphics/images/cloud.png\" y=\"41\" /><image fill=\"#800080\" height=\"240\" stroke=\"#000000\" stroke-width=\"1\" width=\"150\" x=\"106\" xlink:href=\"https://iut-info.univ-reims.fr/users/collard/dutgraphics/images/tree.png\" y=\"97\" /><image fill=\"#800080\" height=\"240\" stroke=\"#000000\" stroke-width=\"1\" width=\"150\" x=\"13\" xlink:href=\"https://iut-info.univ-reims.fr/users/collard/dutgraphics/images/tree.png\" y=\"160\" /><image fill=\"#800080\" height=\"267\" stroke=\"#000000\" stroke-width=\"1\" width=\"600\" x=\"0\" xlink:href=\"https://iut-info.univ-reims.fr/users/collard/dutgraphics/images/sky.png\" y=\"0\" /><image fill=\"#800080\" height=\"133\" stroke=\"#000000\" stroke-width=\"1\" width=\"600\" x=\"0\" xlink:href=\"https://iut-info.univ-reims.fr/users/collard/dutgraphics/images/ground.png\" y=\"267\" /><text fill=\"#ffff00\" stroke=\"#ffff00\" stroke-width=\"1\" x=\"300\" y=\"40\">Home Sweet Home</text><image fill=\"#800080\" height=\"268\" stroke=\"#000000\" stroke-width=\"1\" width=\"272\" x=\"325\" xlink:href=\"https://iut-info.univ-reims.fr/users/collard/dutgraphics/images/house.png\" y=\"120\" /><ellipse cx=\"100\" cy=\"60\" fill=\"#ffff00\" rx=\"40\" ry=\"40\" stroke=\"#ffff00\" stroke-width=\"1\" /><image fill=\"#800080\" height=\"123\" stroke=\"#000000\" stroke-width=\"1\" width=\"203\" x=\"64\" xlink:href=\"https://iut-info.univ-reims.fr/users/collard/dutgraphics/images/cloud.png\" y=\"41\" /><image fill=\"#800080\" height=\"240\" stroke=\"#000000\" stroke-width=\"1\" width=\"150\" x=\"106\" xlink:href=\"https://iut-info.univ-reims.fr/users/collard/dutgraphics/images/tree.png\" y=\"97\" /><image fill=\"#800080\" height=\"240\" stroke=\"#000000\" stroke-width=\"1\" width=\"150\" x=\"13\" xlink:href=\"https://iut-info.univ-reims.fr/users/collard/dutgraphics/images/tree.png\" y=\"160\" /><image fill=\"#800080\" height=\"267\" stroke=\"#000000\" stroke-width=\"1\" width=\"600\" x=\"0\" xlink:href=\"https://iut-info.univ-reims.fr/users/collard/dutgraphics/images/sky.png\" y=\"0\" /><image fill=\"#800080\" height=\"133\" stroke=\"#000000\" stroke-width=\"1\" width=\"600\" x=\"0\" xlink:href=\"https://iut-info.univ-reims.fr/users/collard/dutgraphics/images/ground.png\" y=\"267\" /><text fill=\"#ffff00\" stroke=\"#ffff00\" stroke-width=\"1\" x=\"300\" y=\"40\">Home Sweet Home</text><image fill=\"#800080\" height=\"268\" stroke=\"#000000\" stroke-width=\"1\" width=\"272\" x=\"325\" xlink:href=\"https://iut-info.univ-reims.fr/users/collard/dutgraphics/images/house.png\" y=\"120\" /><ellipse cx=\"100\" cy=\"60\" fill=\"#ffff00\" rx=\"40\" ry=\"40\" stroke=\"#ffff00\" stroke-width=\"1\" /><image fill=\"#800080\" height=\"123\" stroke=\"#000000\" stroke-width=\"1\" width=\"203\" x=\"64\" xlink:href=\"https://iut-info.univ-reims.fr/users/collard/dutgraphics/images/cloud.png\" y=\"41\" /><image fill=\"#800080\" height=\"240\" stroke=\"#000000\" stroke-width=\"1\" width=\"150\" x=\"106\" xlink:href=\"https://iut-info.univ-reims.fr/users/collard/dutgraphics/images/tree.png\" y=\"97\" /><image fill=\"#800080\" height=\"240\" stroke=\"#000000\" stroke-width=\"1\" width=\"150\" x=\"13\" xlink:href=\"https://iut-info.univ-reims.fr/users/collard/dutgraphics/images/tree.png\" y=\"160\" /></svg>"
      ],
      "text/plain": [
       "<Canvas (600, 400)>"
      ]
     },
     "metadata": {},
     "output_type": "display_data"
    },
    {
     "name": "stdout",
     "output_type": "stream",
     "text": [
      "ciel dessiné,  sol dessiné,  texte dessiné,  maison dessinée,  soleil dessiné,  nuage dessiné,  arbre derrière dessiné,  arbre devant dessiné,  "
     ]
    }
   ],
   "source": [
    "def voirMaison() -> None:\n",
    "    L=[\"ciel\",\"sol\",\"texte\",\"maison\",\"soleil\",\"nuage\",\"arbre derrière\",\"arbre devant\"]\n",
    "    retours=[]\n",
    "    for el in L:\n",
    "        retours.append(dessine(el))\n",
    "    for retour in retours:\n",
    "        print(retour, end=',  ')\n",
    "# test\n",
    "voirMaison()    "
   ]
  },
  {
   "cell_type": "markdown",
   "id": "10c62965-29a8-4b4b-9467-eb2a0442564c",
   "metadata": {},
   "source": [
    "### 4.1.3 Deux autres arguments"
   ]
  },
  {
   "cell_type": "markdown",
   "id": "316d4010-7007-49fb-acd5-8e2f5fa70e78",
   "metadata": {},
   "source": [
    "Affichez la documentation de la fonction `dessine()`."
   ]
  },
  {
   "cell_type": "code",
   "execution_count": 64,
   "id": "420f3fcd-288b-4131-b82b-66063afa8cb7",
   "metadata": {},
   "outputs": [
    {
     "data": {
      "image/svg+xml": [
       "<svg baseProfile=\"full\" height=\"400\" version=\"1.1\" width=\"600\" xmlns=\"http://www.w3.org/2000/svg\" xmlns:ev=\"http://www.w3.org/2001/xml-events\" xmlns:xlink=\"http://www.w3.org/1999/xlink\"><defs /><image fill=\"#800080\" height=\"267\" stroke=\"#000000\" stroke-width=\"1\" width=\"600\" x=\"0\" xlink:href=\"https://iut-info.univ-reims.fr/users/collard/dutgraphics/images/sky.png\" y=\"0\" /><image fill=\"#800080\" height=\"133\" stroke=\"#000000\" stroke-width=\"1\" width=\"600\" x=\"0\" xlink:href=\"https://iut-info.univ-reims.fr/users/collard/dutgraphics/images/ground.png\" y=\"267\" /><text fill=\"#ffff00\" stroke=\"#ffff00\" stroke-width=\"1\" x=\"300\" y=\"40\">Home Sweet Home</text><image fill=\"#800080\" height=\"268\" stroke=\"#000000\" stroke-width=\"1\" width=\"272\" x=\"325\" xlink:href=\"https://iut-info.univ-reims.fr/users/collard/dutgraphics/images/house.png\" y=\"120\" /><ellipse cx=\"100\" cy=\"60\" fill=\"#ffff00\" rx=\"40\" ry=\"40\" stroke=\"#ffff00\" stroke-width=\"1\" /><image fill=\"#800080\" height=\"123\" stroke=\"#000000\" stroke-width=\"1\" width=\"203\" x=\"64\" xlink:href=\"https://iut-info.univ-reims.fr/users/collard/dutgraphics/images/cloud.png\" y=\"41\" /><image fill=\"#800080\" height=\"240\" stroke=\"#000000\" stroke-width=\"1\" width=\"150\" x=\"106\" xlink:href=\"https://iut-info.univ-reims.fr/users/collard/dutgraphics/images/tree.png\" y=\"97\" /><image fill=\"#800080\" height=\"240\" stroke=\"#000000\" stroke-width=\"1\" width=\"150\" x=\"13\" xlink:href=\"https://iut-info.univ-reims.fr/users/collard/dutgraphics/images/tree.png\" y=\"160\" /><image fill=\"#800080\" height=\"267\" stroke=\"#000000\" stroke-width=\"1\" width=\"600\" x=\"0\" xlink:href=\"https://iut-info.univ-reims.fr/users/collard/dutgraphics/images/sky.png\" y=\"0\" /><image fill=\"#800080\" height=\"133\" stroke=\"#000000\" stroke-width=\"1\" width=\"600\" x=\"0\" xlink:href=\"https://iut-info.univ-reims.fr/users/collard/dutgraphics/images/ground.png\" y=\"267\" /><text fill=\"#ffff00\" stroke=\"#ffff00\" stroke-width=\"1\" x=\"300\" y=\"40\">Home Sweet Home</text><image fill=\"#800080\" height=\"268\" stroke=\"#000000\" stroke-width=\"1\" width=\"272\" x=\"325\" xlink:href=\"https://iut-info.univ-reims.fr/users/collard/dutgraphics/images/house.png\" y=\"120\" /><ellipse cx=\"100\" cy=\"60\" fill=\"#ffff00\" rx=\"40\" ry=\"40\" stroke=\"#ffff00\" stroke-width=\"1\" /><image fill=\"#800080\" height=\"123\" stroke=\"#000000\" stroke-width=\"1\" width=\"203\" x=\"64\" xlink:href=\"https://iut-info.univ-reims.fr/users/collard/dutgraphics/images/cloud.png\" y=\"41\" /><image fill=\"#800080\" height=\"240\" stroke=\"#000000\" stroke-width=\"1\" width=\"150\" x=\"106\" xlink:href=\"https://iut-info.univ-reims.fr/users/collard/dutgraphics/images/tree.png\" y=\"97\" /><image fill=\"#800080\" height=\"240\" stroke=\"#000000\" stroke-width=\"1\" width=\"150\" x=\"13\" xlink:href=\"https://iut-info.univ-reims.fr/users/collard/dutgraphics/images/tree.png\" y=\"160\" /><image fill=\"#800080\" height=\"267\" stroke=\"#000000\" stroke-width=\"1\" width=\"600\" x=\"0\" xlink:href=\"https://iut-info.univ-reims.fr/users/collard/dutgraphics/images/sky.png\" y=\"0\" /><image fill=\"#800080\" height=\"133\" stroke=\"#000000\" stroke-width=\"1\" width=\"600\" x=\"0\" xlink:href=\"https://iut-info.univ-reims.fr/users/collard/dutgraphics/images/ground.png\" y=\"267\" /><text fill=\"#ffff00\" stroke=\"#ffff00\" stroke-width=\"1\" x=\"300\" y=\"40\">Home Sweet Home</text><image fill=\"#800080\" height=\"268\" stroke=\"#000000\" stroke-width=\"1\" width=\"272\" x=\"325\" xlink:href=\"https://iut-info.univ-reims.fr/users/collard/dutgraphics/images/house.png\" y=\"120\" /><ellipse cx=\"100\" cy=\"60\" fill=\"#ffff00\" rx=\"40\" ry=\"40\" stroke=\"#ffff00\" stroke-width=\"1\" /><image fill=\"#800080\" height=\"123\" stroke=\"#000000\" stroke-width=\"1\" width=\"203\" x=\"64\" xlink:href=\"https://iut-info.univ-reims.fr/users/collard/dutgraphics/images/cloud.png\" y=\"41\" /><image fill=\"#800080\" height=\"240\" stroke=\"#000000\" stroke-width=\"1\" width=\"150\" x=\"106\" xlink:href=\"https://iut-info.univ-reims.fr/users/collard/dutgraphics/images/tree.png\" y=\"97\" /><image fill=\"#800080\" height=\"240\" stroke=\"#000000\" stroke-width=\"1\" width=\"150\" x=\"13\" xlink:href=\"https://iut-info.univ-reims.fr/users/collard/dutgraphics/images/tree.png\" y=\"160\" /><image fill=\"#800080\" height=\"267\" stroke=\"#000000\" stroke-width=\"1\" width=\"600\" x=\"0\" xlink:href=\"https://iut-info.univ-reims.fr/users/collard/dutgraphics/images/sky.png\" y=\"0\" /><image fill=\"#800080\" height=\"133\" stroke=\"#000000\" stroke-width=\"1\" width=\"600\" x=\"0\" xlink:href=\"https://iut-info.univ-reims.fr/users/collard/dutgraphics/images/ground.png\" y=\"267\" /><text fill=\"#ffff00\" stroke=\"#ffff00\" stroke-width=\"1\" x=\"300\" y=\"40\">Home Sweet Home</text><image fill=\"#800080\" height=\"268\" stroke=\"#000000\" stroke-width=\"1\" width=\"272\" x=\"325\" xlink:href=\"https://iut-info.univ-reims.fr/users/collard/dutgraphics/images/house.png\" y=\"120\" /><ellipse cx=\"100\" cy=\"60\" fill=\"#ffff00\" rx=\"40\" ry=\"40\" stroke=\"#ffff00\" stroke-width=\"1\" /><image fill=\"#800080\" height=\"123\" stroke=\"#000000\" stroke-width=\"1\" width=\"203\" x=\"64\" xlink:href=\"https://iut-info.univ-reims.fr/users/collard/dutgraphics/images/cloud.png\" y=\"41\" /><image fill=\"#800080\" height=\"240\" stroke=\"#000000\" stroke-width=\"1\" width=\"150\" x=\"106\" xlink:href=\"https://iut-info.univ-reims.fr/users/collard/dutgraphics/images/tree.png\" y=\"97\" /><image fill=\"#800080\" height=\"240\" stroke=\"#000000\" stroke-width=\"1\" width=\"150\" x=\"13\" xlink:href=\"https://iut-info.univ-reims.fr/users/collard/dutgraphics/images/tree.png\" y=\"160\" /><image fill=\"#800080\" height=\"267\" stroke=\"#000000\" stroke-width=\"1\" width=\"600\" x=\"0\" xlink:href=\"https://iut-info.univ-reims.fr/users/collard/dutgraphics/images/sky.png\" y=\"0\" /><image fill=\"#800080\" height=\"133\" stroke=\"#000000\" stroke-width=\"1\" width=\"600\" x=\"0\" xlink:href=\"https://iut-info.univ-reims.fr/users/collard/dutgraphics/images/ground.png\" y=\"267\" /><text fill=\"#ffff00\" stroke=\"#ffff00\" stroke-width=\"1\" x=\"300\" y=\"40\">Home Sweet Home</text><image fill=\"#800080\" height=\"268\" stroke=\"#000000\" stroke-width=\"1\" width=\"272\" x=\"325\" xlink:href=\"https://iut-info.univ-reims.fr/users/collard/dutgraphics/images/house.png\" y=\"120\" /><ellipse cx=\"100\" cy=\"60\" fill=\"#ffff00\" rx=\"40\" ry=\"40\" stroke=\"#ffff00\" stroke-width=\"1\" /><image fill=\"#800080\" height=\"123\" stroke=\"#000000\" stroke-width=\"1\" width=\"203\" x=\"64\" xlink:href=\"https://iut-info.univ-reims.fr/users/collard/dutgraphics/images/cloud.png\" y=\"41\" /><image fill=\"#800080\" height=\"240\" stroke=\"#000000\" stroke-width=\"1\" width=\"150\" x=\"106\" xlink:href=\"https://iut-info.univ-reims.fr/users/collard/dutgraphics/images/tree.png\" y=\"97\" /><image fill=\"#800080\" height=\"240\" stroke=\"#000000\" stroke-width=\"1\" width=\"150\" x=\"13\" xlink:href=\"https://iut-info.univ-reims.fr/users/collard/dutgraphics/images/tree.png\" y=\"160\" /><image fill=\"#800080\" height=\"267\" stroke=\"#000000\" stroke-width=\"1\" width=\"600\" x=\"0\" xlink:href=\"https://iut-info.univ-reims.fr/users/collard/dutgraphics/images/sky.png\" y=\"0\" /><image fill=\"#800080\" height=\"133\" stroke=\"#000000\" stroke-width=\"1\" width=\"600\" x=\"0\" xlink:href=\"https://iut-info.univ-reims.fr/users/collard/dutgraphics/images/ground.png\" y=\"267\" /><text fill=\"#ffff00\" stroke=\"#ffff00\" stroke-width=\"1\" x=\"300\" y=\"40\">Home Sweet Home</text><image fill=\"#800080\" height=\"268\" stroke=\"#000000\" stroke-width=\"1\" width=\"272\" x=\"325\" xlink:href=\"https://iut-info.univ-reims.fr/users/collard/dutgraphics/images/house.png\" y=\"120\" /><ellipse cx=\"100\" cy=\"60\" fill=\"#ffff00\" rx=\"40\" ry=\"40\" stroke=\"#ffff00\" stroke-width=\"1\" /><image fill=\"#800080\" height=\"123\" stroke=\"#000000\" stroke-width=\"1\" width=\"203\" x=\"64\" xlink:href=\"https://iut-info.univ-reims.fr/users/collard/dutgraphics/images/cloud.png\" y=\"41\" /><image fill=\"#800080\" height=\"240\" stroke=\"#000000\" stroke-width=\"1\" width=\"150\" x=\"106\" xlink:href=\"https://iut-info.univ-reims.fr/users/collard/dutgraphics/images/tree.png\" y=\"97\" /><image fill=\"#800080\" height=\"240\" stroke=\"#000000\" stroke-width=\"1\" width=\"150\" x=\"13\" xlink:href=\"https://iut-info.univ-reims.fr/users/collard/dutgraphics/images/tree.png\" y=\"160\" /><image fill=\"#800080\" height=\"267\" stroke=\"#000000\" stroke-width=\"1\" width=\"600\" x=\"0\" xlink:href=\"https://iut-info.univ-reims.fr/users/collard/dutgraphics/images/sky.png\" y=\"0\" /><image fill=\"#800080\" height=\"133\" stroke=\"#000000\" stroke-width=\"1\" width=\"600\" x=\"0\" xlink:href=\"https://iut-info.univ-reims.fr/users/collard/dutgraphics/images/ground.png\" y=\"267\" /><text fill=\"#ffff00\" stroke=\"#ffff00\" stroke-width=\"1\" x=\"474\" y=\"334\">Home Sweet Home</text><image fill=\"#800080\" height=\"268\" stroke=\"#000000\" stroke-width=\"1\" width=\"272\" x=\"247\" xlink:href=\"https://iut-info.univ-reims.fr/users/collard/dutgraphics/images/house.png\" y=\"170\" /><ellipse cx=\"381\" cy=\"142\" fill=\"#ffff00\" rx=\"40\" ry=\"40\" stroke=\"#ffff00\" stroke-width=\"1\" /><image fill=\"#800080\" height=\"123\" stroke=\"#000000\" stroke-width=\"1\" width=\"203\" x=\"390\" xlink:href=\"https://iut-info.univ-reims.fr/users/collard/dutgraphics/images/cloud.png\" y=\"120\" /><image fill=\"#800080\" height=\"240\" stroke=\"#000000\" stroke-width=\"1\" width=\"150\" x=\"106\" xlink:href=\"https://iut-info.univ-reims.fr/users/collard/dutgraphics/images/tree.png\" y=\"97\" /><image fill=\"#800080\" height=\"240\" stroke=\"#000000\" stroke-width=\"1\" width=\"150\" x=\"13\" xlink:href=\"https://iut-info.univ-reims.fr/users/collard/dutgraphics/images/tree.png\" y=\"160\" /><image fill=\"#800080\" height=\"267\" stroke=\"#000000\" stroke-width=\"1\" width=\"600\" x=\"0\" xlink:href=\"https://iut-info.univ-reims.fr/users/collard/dutgraphics/images/sky.png\" y=\"0\" /><image fill=\"#800080\" height=\"133\" stroke=\"#000000\" stroke-width=\"1\" width=\"600\" x=\"0\" xlink:href=\"https://iut-info.univ-reims.fr/users/collard/dutgraphics/images/ground.png\" y=\"267\" /><text fill=\"#ffff00\" stroke=\"#ffff00\" stroke-width=\"1\" x=\"495\" y=\"329\">Home Sweet Home</text><image fill=\"#800080\" height=\"268\" stroke=\"#000000\" stroke-width=\"1\" width=\"272\" x=\"333\" xlink:href=\"https://iut-info.univ-reims.fr/users/collard/dutgraphics/images/house.png\" y=\"147\" /><ellipse cx=\"355\" cy=\"288\" fill=\"#ffff00\" rx=\"40\" ry=\"40\" stroke=\"#ffff00\" stroke-width=\"1\" /><image fill=\"#800080\" height=\"123\" stroke=\"#000000\" stroke-width=\"1\" width=\"203\" x=\"341\" xlink:href=\"https://iut-info.univ-reims.fr/users/collard/dutgraphics/images/cloud.png\" y=\"343\" /><image fill=\"#800080\" height=\"240\" stroke=\"#000000\" stroke-width=\"1\" width=\"150\" x=\"106\" xlink:href=\"https://iut-info.univ-reims.fr/users/collard/dutgraphics/images/tree.png\" y=\"97\" /><image fill=\"#800080\" height=\"240\" stroke=\"#000000\" stroke-width=\"1\" width=\"150\" x=\"13\" xlink:href=\"https://iut-info.univ-reims.fr/users/collard/dutgraphics/images/tree.png\" y=\"160\" /><image fill=\"#800080\" height=\"267\" stroke=\"#000000\" stroke-width=\"1\" width=\"600\" x=\"0\" xlink:href=\"https://iut-info.univ-reims.fr/users/collard/dutgraphics/images/sky.png\" y=\"0\" /><image fill=\"#800080\" height=\"133\" stroke=\"#000000\" stroke-width=\"1\" width=\"600\" x=\"0\" xlink:href=\"https://iut-info.univ-reims.fr/users/collard/dutgraphics/images/ground.png\" y=\"267\" /><text fill=\"#ffff00\" stroke=\"#ffff00\" stroke-width=\"1\" x=\"235\" y=\"153\">Home Sweet Home</text><image fill=\"#800080\" height=\"268\" stroke=\"#000000\" stroke-width=\"1\" width=\"272\" x=\"154\" xlink:href=\"https://iut-info.univ-reims.fr/users/collard/dutgraphics/images/house.png\" y=\"154\" /><ellipse cx=\"474\" cy=\"131\" fill=\"#ffff00\" rx=\"40\" ry=\"40\" stroke=\"#ffff00\" stroke-width=\"1\" /><image fill=\"#800080\" height=\"123\" stroke=\"#000000\" stroke-width=\"1\" width=\"203\" x=\"343\" xlink:href=\"https://iut-info.univ-reims.fr/users/collard/dutgraphics/images/cloud.png\" y=\"64\" /><image fill=\"#800080\" height=\"240\" stroke=\"#000000\" stroke-width=\"1\" width=\"150\" x=\"106\" xlink:href=\"https://iut-info.univ-reims.fr/users/collard/dutgraphics/images/tree.png\" y=\"97\" /><image fill=\"#800080\" height=\"240\" stroke=\"#000000\" stroke-width=\"1\" width=\"150\" x=\"13\" xlink:href=\"https://iut-info.univ-reims.fr/users/collard/dutgraphics/images/tree.png\" y=\"160\" /><image fill=\"#800080\" height=\"267\" stroke=\"#000000\" stroke-width=\"1\" width=\"600\" x=\"0\" xlink:href=\"https://iut-info.univ-reims.fr/users/collard/dutgraphics/images/sky.png\" y=\"0\" /><image fill=\"#800080\" height=\"133\" stroke=\"#000000\" stroke-width=\"1\" width=\"600\" x=\"0\" xlink:href=\"https://iut-info.univ-reims.fr/users/collard/dutgraphics/images/ground.png\" y=\"267\" /><text fill=\"#ffff00\" stroke=\"#ffff00\" stroke-width=\"1\" x=\"326\" y=\"245\">Home Sweet Home</text><image fill=\"#800080\" height=\"268\" stroke=\"#000000\" stroke-width=\"1\" width=\"272\" x=\"466\" xlink:href=\"https://iut-info.univ-reims.fr/users/collard/dutgraphics/images/house.png\" y=\"279\" /><ellipse cx=\"351\" cy=\"72\" fill=\"#ffff00\" rx=\"40\" ry=\"40\" stroke=\"#ffff00\" stroke-width=\"1\" /><image fill=\"#800080\" height=\"123\" stroke=\"#000000\" stroke-width=\"1\" width=\"203\" x=\"328\" xlink:href=\"https://iut-info.univ-reims.fr/users/collard/dutgraphics/images/cloud.png\" y=\"251\" /><image fill=\"#800080\" height=\"240\" stroke=\"#000000\" stroke-width=\"1\" width=\"150\" x=\"106\" xlink:href=\"https://iut-info.univ-reims.fr/users/collard/dutgraphics/images/tree.png\" y=\"97\" /><image fill=\"#800080\" height=\"240\" stroke=\"#000000\" stroke-width=\"1\" width=\"150\" x=\"13\" xlink:href=\"https://iut-info.univ-reims.fr/users/collard/dutgraphics/images/tree.png\" y=\"160\" /><image fill=\"#800080\" height=\"267\" stroke=\"#000000\" stroke-width=\"1\" width=\"600\" x=\"0\" xlink:href=\"https://iut-info.univ-reims.fr/users/collard/dutgraphics/images/sky.png\" y=\"0\" /><image fill=\"#800080\" height=\"133\" stroke=\"#000000\" stroke-width=\"1\" width=\"600\" x=\"0\" xlink:href=\"https://iut-info.univ-reims.fr/users/collard/dutgraphics/images/ground.png\" y=\"267\" /><text fill=\"#ffff00\" stroke=\"#ffff00\" stroke-width=\"1\" x=\"294\" y=\"272\">Home Sweet Home</text><image fill=\"#800080\" height=\"268\" stroke=\"#000000\" stroke-width=\"1\" width=\"272\" x=\"456\" xlink:href=\"https://iut-info.univ-reims.fr/users/collard/dutgraphics/images/house.png\" y=\"235\" /><ellipse cx=\"471\" cy=\"144\" fill=\"#ffff00\" rx=\"40\" ry=\"40\" stroke=\"#ffff00\" stroke-width=\"1\" /><image fill=\"#800080\" height=\"123\" stroke=\"#000000\" stroke-width=\"1\" width=\"203\" x=\"345\" xlink:href=\"https://iut-info.univ-reims.fr/users/collard/dutgraphics/images/cloud.png\" y=\"295\" /><image fill=\"#800080\" height=\"240\" stroke=\"#000000\" stroke-width=\"1\" width=\"150\" x=\"106\" xlink:href=\"https://iut-info.univ-reims.fr/users/collard/dutgraphics/images/tree.png\" y=\"97\" /><image fill=\"#800080\" height=\"240\" stroke=\"#000000\" stroke-width=\"1\" width=\"150\" x=\"13\" xlink:href=\"https://iut-info.univ-reims.fr/users/collard/dutgraphics/images/tree.png\" y=\"160\" /><image fill=\"#800080\" height=\"267\" stroke=\"#000000\" stroke-width=\"1\" width=\"600\" x=\"0\" xlink:href=\"https://iut-info.univ-reims.fr/users/collard/dutgraphics/images/sky.png\" y=\"0\" /><image fill=\"#800080\" height=\"133\" stroke=\"#000000\" stroke-width=\"1\" width=\"600\" x=\"0\" xlink:href=\"https://iut-info.univ-reims.fr/users/collard/dutgraphics/images/ground.png\" y=\"267\" /><text fill=\"#ffff00\" stroke=\"#ffff00\" stroke-width=\"1\" x=\"338\" y=\"67\">Home Sweet Home</text><image fill=\"#800080\" height=\"268\" stroke=\"#000000\" stroke-width=\"1\" width=\"272\" x=\"314\" xlink:href=\"https://iut-info.univ-reims.fr/users/collard/dutgraphics/images/house.png\" y=\"68\" /><ellipse cx=\"338\" cy=\"178\" fill=\"#ffff00\" rx=\"40\" ry=\"40\" stroke=\"#ffff00\" stroke-width=\"1\" /><image fill=\"#800080\" height=\"123\" stroke=\"#000000\" stroke-width=\"1\" width=\"203\" x=\"180\" xlink:href=\"https://iut-info.univ-reims.fr/users/collard/dutgraphics/images/cloud.png\" y=\"57\" /><image fill=\"#800080\" height=\"240\" stroke=\"#000000\" stroke-width=\"1\" width=\"150\" x=\"106\" xlink:href=\"https://iut-info.univ-reims.fr/users/collard/dutgraphics/images/tree.png\" y=\"97\" /><image fill=\"#800080\" height=\"240\" stroke=\"#000000\" stroke-width=\"1\" width=\"150\" x=\"13\" xlink:href=\"https://iut-info.univ-reims.fr/users/collard/dutgraphics/images/tree.png\" y=\"160\" /><image fill=\"#800080\" height=\"267\" stroke=\"#000000\" stroke-width=\"1\" width=\"600\" x=\"0\" xlink:href=\"https://iut-info.univ-reims.fr/users/collard/dutgraphics/images/sky.png\" y=\"0\" /><image fill=\"#800080\" height=\"133\" stroke=\"#000000\" stroke-width=\"1\" width=\"600\" x=\"0\" xlink:href=\"https://iut-info.univ-reims.fr/users/collard/dutgraphics/images/ground.png\" y=\"267\" /><ellipse cx=\"113\" cy=\"103\" fill=\"#ffff00\" rx=\"40\" ry=\"40\" stroke=\"#ffff00\" stroke-width=\"1\" /><image fill=\"#800080\" height=\"123\" stroke=\"#000000\" stroke-width=\"1\" width=\"203\" x=\"377\" xlink:href=\"https://iut-info.univ-reims.fr/users/collard/dutgraphics/images/cloud.png\" y=\"264\" /><image fill=\"#800080\" height=\"240\" stroke=\"#000000\" stroke-width=\"1\" width=\"150\" x=\"106\" xlink:href=\"https://iut-info.univ-reims.fr/users/collard/dutgraphics/images/tree.png\" y=\"97\" /><image fill=\"#800080\" height=\"240\" stroke=\"#000000\" stroke-width=\"1\" width=\"150\" x=\"13\" xlink:href=\"https://iut-info.univ-reims.fr/users/collard/dutgraphics/images/tree.png\" y=\"160\" /><text fill=\"#ffff00\" stroke=\"#ffff00\" stroke-width=\"1\" x=\"401\" y=\"139\">Home Sweet Home</text><image fill=\"#800080\" height=\"268\" stroke=\"#000000\" stroke-width=\"1\" width=\"272\" x=\"356\" xlink:href=\"https://iut-info.univ-reims.fr/users/collard/dutgraphics/images/house.png\" y=\"296\" /><image fill=\"#800080\" height=\"267\" stroke=\"#000000\" stroke-width=\"1\" width=\"600\" x=\"0\" xlink:href=\"https://iut-info.univ-reims.fr/users/collard/dutgraphics/images/sky.png\" y=\"0\" /><image fill=\"#800080\" height=\"133\" stroke=\"#000000\" stroke-width=\"1\" width=\"600\" x=\"0\" xlink:href=\"https://iut-info.univ-reims.fr/users/collard/dutgraphics/images/ground.png\" y=\"267\" /><ellipse cx=\"345\" cy=\"319\" fill=\"#ffff00\" rx=\"40\" ry=\"40\" stroke=\"#ffff00\" stroke-width=\"1\" /><image fill=\"#800080\" height=\"123\" stroke=\"#000000\" stroke-width=\"1\" width=\"203\" x=\"112\" xlink:href=\"https://iut-info.univ-reims.fr/users/collard/dutgraphics/images/cloud.png\" y=\"142\" /><image fill=\"#800080\" height=\"240\" stroke=\"#000000\" stroke-width=\"1\" width=\"150\" x=\"106\" xlink:href=\"https://iut-info.univ-reims.fr/users/collard/dutgraphics/images/tree.png\" y=\"97\" /><image fill=\"#800080\" height=\"240\" stroke=\"#000000\" stroke-width=\"1\" width=\"150\" x=\"13\" xlink:href=\"https://iut-info.univ-reims.fr/users/collard/dutgraphics/images/tree.png\" y=\"160\" /><text fill=\"#ffff00\" stroke=\"#ffff00\" stroke-width=\"1\" x=\"276\" y=\"196\">Home Sweet Home</text><image fill=\"#800080\" height=\"268\" stroke=\"#000000\" stroke-width=\"1\" width=\"272\" x=\"418\" xlink:href=\"https://iut-info.univ-reims.fr/users/collard/dutgraphics/images/house.png\" y=\"54\" /><image fill=\"#800080\" height=\"267\" stroke=\"#000000\" stroke-width=\"1\" width=\"600\" x=\"0\" xlink:href=\"https://iut-info.univ-reims.fr/users/collard/dutgraphics/images/sky.png\" y=\"0\" /><image fill=\"#800080\" height=\"133\" stroke=\"#000000\" stroke-width=\"1\" width=\"600\" x=\"0\" xlink:href=\"https://iut-info.univ-reims.fr/users/collard/dutgraphics/images/ground.png\" y=\"267\" /><ellipse cx=\"447\" cy=\"120\" fill=\"#ffff00\" rx=\"40\" ry=\"40\" stroke=\"#ffff00\" stroke-width=\"1\" /><image fill=\"#800080\" height=\"123\" stroke=\"#000000\" stroke-width=\"1\" width=\"203\" x=\"131\" xlink:href=\"https://iut-info.univ-reims.fr/users/collard/dutgraphics/images/cloud.png\" y=\"218\" /><image fill=\"#800080\" height=\"240\" stroke=\"#000000\" stroke-width=\"1\" width=\"150\" x=\"106\" xlink:href=\"https://iut-info.univ-reims.fr/users/collard/dutgraphics/images/tree.png\" y=\"97\" /><image fill=\"#800080\" height=\"240\" stroke=\"#000000\" stroke-width=\"1\" width=\"150\" x=\"13\" xlink:href=\"https://iut-info.univ-reims.fr/users/collard/dutgraphics/images/tree.png\" y=\"160\" /><text fill=\"#ffff00\" stroke=\"#ffff00\" stroke-width=\"1\" x=\"512\" y=\"247\">Home Sweet Home</text><image fill=\"#800080\" height=\"268\" stroke=\"#000000\" stroke-width=\"1\" width=\"272\" x=\"329\" xlink:href=\"https://iut-info.univ-reims.fr/users/collard/dutgraphics/images/house.png\" y=\"343\" /><image fill=\"#800080\" height=\"267\" stroke=\"#000000\" stroke-width=\"1\" width=\"600\" x=\"0\" xlink:href=\"https://iut-info.univ-reims.fr/users/collard/dutgraphics/images/sky.png\" y=\"0\" /><image fill=\"#800080\" height=\"133\" stroke=\"#000000\" stroke-width=\"1\" width=\"600\" x=\"0\" xlink:href=\"https://iut-info.univ-reims.fr/users/collard/dutgraphics/images/ground.png\" y=\"267\" /><ellipse cx=\"403\" cy=\"168\" fill=\"#ffff00\" rx=\"40\" ry=\"40\" stroke=\"#ffff00\" stroke-width=\"1\" /><image fill=\"#800080\" height=\"123\" stroke=\"#000000\" stroke-width=\"1\" width=\"203\" x=\"497\" xlink:href=\"https://iut-info.univ-reims.fr/users/collard/dutgraphics/images/cloud.png\" y=\"131\" /><image fill=\"#800080\" height=\"240\" stroke=\"#000000\" stroke-width=\"1\" width=\"150\" x=\"106\" xlink:href=\"https://iut-info.univ-reims.fr/users/collard/dutgraphics/images/tree.png\" y=\"97\" /><image fill=\"#800080\" height=\"240\" stroke=\"#000000\" stroke-width=\"1\" width=\"150\" x=\"13\" xlink:href=\"https://iut-info.univ-reims.fr/users/collard/dutgraphics/images/tree.png\" y=\"160\" /><text fill=\"#ffff00\" stroke=\"#ffff00\" stroke-width=\"1\" x=\"540\" y=\"178\">Home Sweet Home</text><image fill=\"#800080\" height=\"268\" stroke=\"#000000\" stroke-width=\"1\" width=\"272\" x=\"114\" xlink:href=\"https://iut-info.univ-reims.fr/users/collard/dutgraphics/images/house.png\" y=\"231\" /><image fill=\"#800080\" height=\"267\" stroke=\"#000000\" stroke-width=\"1\" width=\"600\" x=\"0\" xlink:href=\"https://iut-info.univ-reims.fr/users/collard/dutgraphics/images/sky.png\" y=\"0\" /><image fill=\"#800080\" height=\"133\" stroke=\"#000000\" stroke-width=\"1\" width=\"600\" x=\"0\" xlink:href=\"https://iut-info.univ-reims.fr/users/collard/dutgraphics/images/ground.png\" y=\"267\" /><ellipse cx=\"211\" cy=\"123\" fill=\"#ffff00\" rx=\"40\" ry=\"40\" stroke=\"#ffff00\" stroke-width=\"1\" /><image fill=\"#800080\" height=\"123\" stroke=\"#000000\" stroke-width=\"1\" width=\"203\" x=\"387\" xlink:href=\"https://iut-info.univ-reims.fr/users/collard/dutgraphics/images/cloud.png\" y=\"345\" /><image fill=\"#800080\" height=\"240\" stroke=\"#000000\" stroke-width=\"1\" width=\"150\" x=\"106\" xlink:href=\"https://iut-info.univ-reims.fr/users/collard/dutgraphics/images/tree.png\" y=\"97\" /><image fill=\"#800080\" height=\"240\" stroke=\"#000000\" stroke-width=\"1\" width=\"150\" x=\"13\" xlink:href=\"https://iut-info.univ-reims.fr/users/collard/dutgraphics/images/tree.png\" y=\"160\" /><text fill=\"#ffff00\" stroke=\"#ffff00\" stroke-width=\"1\" x=\"232\" y=\"210\">Home Sweet Home</text><image fill=\"#800080\" height=\"268\" stroke=\"#000000\" stroke-width=\"1\" width=\"272\" x=\"468\" xlink:href=\"https://iut-info.univ-reims.fr/users/collard/dutgraphics/images/house.png\" y=\"342\" /><image fill=\"#800080\" height=\"267\" stroke=\"#000000\" stroke-width=\"1\" width=\"600\" x=\"0\" xlink:href=\"https://iut-info.univ-reims.fr/users/collard/dutgraphics/images/sky.png\" y=\"0\" /><image fill=\"#800080\" height=\"133\" stroke=\"#000000\" stroke-width=\"1\" width=\"600\" x=\"0\" xlink:href=\"https://iut-info.univ-reims.fr/users/collard/dutgraphics/images/ground.png\" y=\"267\" /><ellipse cx=\"518\" cy=\"72\" fill=\"#ffff00\" rx=\"40\" ry=\"40\" stroke=\"#ffff00\" stroke-width=\"1\" /><image fill=\"#800080\" height=\"123\" stroke=\"#000000\" stroke-width=\"1\" width=\"203\" x=\"303\" xlink:href=\"https://iut-info.univ-reims.fr/users/collard/dutgraphics/images/cloud.png\" y=\"141\" /><image fill=\"#800080\" height=\"240\" stroke=\"#000000\" stroke-width=\"1\" width=\"150\" x=\"106\" xlink:href=\"https://iut-info.univ-reims.fr/users/collard/dutgraphics/images/tree.png\" y=\"97\" /><image fill=\"#800080\" height=\"240\" stroke=\"#000000\" stroke-width=\"1\" width=\"150\" x=\"13\" xlink:href=\"https://iut-info.univ-reims.fr/users/collard/dutgraphics/images/tree.png\" y=\"160\" /><text fill=\"#ffff00\" stroke=\"#ffff00\" stroke-width=\"1\" x=\"330\" y=\"256\">Home Sweet Home</text><image fill=\"#800080\" height=\"268\" stroke=\"#000000\" stroke-width=\"1\" width=\"272\" x=\"186\" xlink:href=\"https://iut-info.univ-reims.fr/users/collard/dutgraphics/images/house.png\" y=\"56\" /><image fill=\"#800080\" height=\"267\" stroke=\"#000000\" stroke-width=\"1\" width=\"600\" x=\"0\" xlink:href=\"https://iut-info.univ-reims.fr/users/collard/dutgraphics/images/sky.png\" y=\"0\" /><image fill=\"#800080\" height=\"133\" stroke=\"#000000\" stroke-width=\"1\" width=\"600\" x=\"0\" xlink:href=\"https://iut-info.univ-reims.fr/users/collard/dutgraphics/images/ground.png\" y=\"267\" /><ellipse cx=\"53\" cy=\"180\" fill=\"#ffff00\" rx=\"40\" ry=\"40\" stroke=\"#ffff00\" stroke-width=\"1\" /><image fill=\"#800080\" height=\"123\" stroke=\"#000000\" stroke-width=\"1\" width=\"203\" x=\"270\" xlink:href=\"https://iut-info.univ-reims.fr/users/collard/dutgraphics/images/cloud.png\" y=\"256\" /><image fill=\"#800080\" height=\"240\" stroke=\"#000000\" stroke-width=\"1\" width=\"150\" x=\"106\" xlink:href=\"https://iut-info.univ-reims.fr/users/collard/dutgraphics/images/tree.png\" y=\"97\" /><image fill=\"#800080\" height=\"240\" stroke=\"#000000\" stroke-width=\"1\" width=\"150\" x=\"13\" xlink:href=\"https://iut-info.univ-reims.fr/users/collard/dutgraphics/images/tree.png\" y=\"160\" /><text fill=\"#ffff00\" stroke=\"#ffff00\" stroke-width=\"1\" x=\"107\" y=\"115\">Home Sweet Home</text><image fill=\"#800080\" height=\"268\" stroke=\"#000000\" stroke-width=\"1\" width=\"272\" x=\"179\" xlink:href=\"https://iut-info.univ-reims.fr/users/collard/dutgraphics/images/house.png\" y=\"185\" /><image fill=\"#800080\" height=\"267\" stroke=\"#000000\" stroke-width=\"1\" width=\"600\" x=\"0\" xlink:href=\"https://iut-info.univ-reims.fr/users/collard/dutgraphics/images/sky.png\" y=\"0\" /><image fill=\"#800080\" height=\"133\" stroke=\"#000000\" stroke-width=\"1\" width=\"600\" x=\"0\" xlink:href=\"https://iut-info.univ-reims.fr/users/collard/dutgraphics/images/ground.png\" y=\"267\" /><ellipse cx=\"132\" cy=\"210\" fill=\"#ffff00\" rx=\"40\" ry=\"40\" stroke=\"#ffff00\" stroke-width=\"1\" /><image fill=\"#800080\" height=\"123\" stroke=\"#000000\" stroke-width=\"1\" width=\"203\" x=\"503\" xlink:href=\"https://iut-info.univ-reims.fr/users/collard/dutgraphics/images/cloud.png\" y=\"303\" /><image fill=\"#800080\" height=\"240\" stroke=\"#000000\" stroke-width=\"1\" width=\"150\" x=\"106\" xlink:href=\"https://iut-info.univ-reims.fr/users/collard/dutgraphics/images/tree.png\" y=\"97\" /><image fill=\"#800080\" height=\"240\" stroke=\"#000000\" stroke-width=\"1\" width=\"150\" x=\"13\" xlink:href=\"https://iut-info.univ-reims.fr/users/collard/dutgraphics/images/tree.png\" y=\"160\" /><text fill=\"#ffff00\" stroke=\"#ffff00\" stroke-width=\"1\" x=\"255\" y=\"186\">Home Sweet Home</text><image fill=\"#800080\" height=\"268\" stroke=\"#000000\" stroke-width=\"1\" width=\"272\" x=\"120\" xlink:href=\"https://iut-info.univ-reims.fr/users/collard/dutgraphics/images/house.png\" y=\"297\" /><image fill=\"#800080\" height=\"267\" stroke=\"#000000\" stroke-width=\"1\" width=\"600\" x=\"0\" xlink:href=\"https://iut-info.univ-reims.fr/users/collard/dutgraphics/images/sky.png\" y=\"0\" /><image fill=\"#800080\" height=\"133\" stroke=\"#000000\" stroke-width=\"1\" width=\"600\" x=\"0\" xlink:href=\"https://iut-info.univ-reims.fr/users/collard/dutgraphics/images/ground.png\" y=\"267\" /><ellipse cx=\"465\" cy=\"60\" fill=\"#ffff00\" rx=\"40\" ry=\"40\" stroke=\"#ffff00\" stroke-width=\"1\" /><image fill=\"#800080\" height=\"123\" stroke=\"#000000\" stroke-width=\"1\" width=\"203\" x=\"388\" xlink:href=\"https://iut-info.univ-reims.fr/users/collard/dutgraphics/images/cloud.png\" y=\"220\" /><image fill=\"#800080\" height=\"240\" stroke=\"#000000\" stroke-width=\"1\" width=\"150\" x=\"106\" xlink:href=\"https://iut-info.univ-reims.fr/users/collard/dutgraphics/images/tree.png\" y=\"97\" /><image fill=\"#800080\" height=\"240\" stroke=\"#000000\" stroke-width=\"1\" width=\"150\" x=\"13\" xlink:href=\"https://iut-info.univ-reims.fr/users/collard/dutgraphics/images/tree.png\" y=\"160\" /><text fill=\"#ffff00\" stroke=\"#ffff00\" stroke-width=\"1\" x=\"230\" y=\"338\">Home Sweet Home</text><image fill=\"#800080\" height=\"268\" stroke=\"#000000\" stroke-width=\"1\" width=\"272\" x=\"114\" xlink:href=\"https://iut-info.univ-reims.fr/users/collard/dutgraphics/images/house.png\" y=\"217\" /><image fill=\"#800080\" height=\"267\" stroke=\"#000000\" stroke-width=\"1\" width=\"600\" x=\"0\" xlink:href=\"https://iut-info.univ-reims.fr/users/collard/dutgraphics/images/sky.png\" y=\"0\" /><image fill=\"#800080\" height=\"133\" stroke=\"#000000\" stroke-width=\"1\" width=\"600\" x=\"0\" xlink:href=\"https://iut-info.univ-reims.fr/users/collard/dutgraphics/images/ground.png\" y=\"267\" /><ellipse cx=\"355\" cy=\"163\" fill=\"#ffff00\" rx=\"40\" ry=\"40\" stroke=\"#ffff00\" stroke-width=\"1\" /><image fill=\"#800080\" height=\"123\" stroke=\"#000000\" stroke-width=\"1\" width=\"203\" x=\"130\" xlink:href=\"https://iut-info.univ-reims.fr/users/collard/dutgraphics/images/cloud.png\" y=\"244\" /><image fill=\"#800080\" height=\"240\" stroke=\"#000000\" stroke-width=\"1\" width=\"150\" x=\"106\" xlink:href=\"https://iut-info.univ-reims.fr/users/collard/dutgraphics/images/tree.png\" y=\"97\" /><image fill=\"#800080\" height=\"240\" stroke=\"#000000\" stroke-width=\"1\" width=\"150\" x=\"13\" xlink:href=\"https://iut-info.univ-reims.fr/users/collard/dutgraphics/images/tree.png\" y=\"160\" /><text fill=\"#ffff00\" stroke=\"#ffff00\" stroke-width=\"1\" x=\"148\" y=\"344\">Home Sweet Home</text><image fill=\"#800080\" height=\"268\" stroke=\"#000000\" stroke-width=\"1\" width=\"272\" x=\"254\" xlink:href=\"https://iut-info.univ-reims.fr/users/collard/dutgraphics/images/house.png\" y=\"94\" /><image fill=\"#800080\" height=\"267\" stroke=\"#000000\" stroke-width=\"1\" width=\"600\" x=\"0\" xlink:href=\"https://iut-info.univ-reims.fr/users/collard/dutgraphics/images/sky.png\" y=\"0\" /><image fill=\"#800080\" height=\"133\" stroke=\"#000000\" stroke-width=\"1\" width=\"600\" x=\"0\" xlink:href=\"https://iut-info.univ-reims.fr/users/collard/dutgraphics/images/ground.png\" y=\"267\" /><ellipse cx=\"243\" cy=\"132\" fill=\"#ffff00\" rx=\"40\" ry=\"40\" stroke=\"#ffff00\" stroke-width=\"1\" /><image fill=\"#800080\" height=\"123\" stroke=\"#000000\" stroke-width=\"1\" width=\"203\" x=\"534\" xlink:href=\"https://iut-info.univ-reims.fr/users/collard/dutgraphics/images/cloud.png\" y=\"186\" /><image fill=\"#800080\" height=\"240\" stroke=\"#000000\" stroke-width=\"1\" width=\"150\" x=\"106\" xlink:href=\"https://iut-info.univ-reims.fr/users/collard/dutgraphics/images/tree.png\" y=\"97\" /><image fill=\"#800080\" height=\"240\" stroke=\"#000000\" stroke-width=\"1\" width=\"150\" x=\"13\" xlink:href=\"https://iut-info.univ-reims.fr/users/collard/dutgraphics/images/tree.png\" y=\"160\" /><text fill=\"#ffff00\" stroke=\"#ffff00\" stroke-width=\"1\" x=\"344\" y=\"70\">Home Sweet Home</text><image fill=\"#800080\" height=\"268\" stroke=\"#000000\" stroke-width=\"1\" width=\"272\" x=\"228\" xlink:href=\"https://iut-info.univ-reims.fr/users/collard/dutgraphics/images/house.png\" y=\"285\" /><image fill=\"#800080\" height=\"267\" stroke=\"#000000\" stroke-width=\"1\" width=\"600\" x=\"0\" xlink:href=\"https://iut-info.univ-reims.fr/users/collard/dutgraphics/images/sky.png\" y=\"0\" /><image fill=\"#800080\" height=\"133\" stroke=\"#000000\" stroke-width=\"1\" width=\"600\" x=\"0\" xlink:href=\"https://iut-info.univ-reims.fr/users/collard/dutgraphics/images/ground.png\" y=\"267\" /><ellipse cx=\"207\" cy=\"105\" fill=\"#ffff00\" rx=\"40\" ry=\"40\" stroke=\"#ffff00\" stroke-width=\"1\" /><image fill=\"#800080\" height=\"123\" stroke=\"#000000\" stroke-width=\"1\" width=\"203\" x=\"149\" xlink:href=\"https://iut-info.univ-reims.fr/users/collard/dutgraphics/images/cloud.png\" y=\"277\" /><image fill=\"#800080\" height=\"240\" stroke=\"#000000\" stroke-width=\"1\" width=\"150\" x=\"106\" xlink:href=\"https://iut-info.univ-reims.fr/users/collard/dutgraphics/images/tree.png\" y=\"97\" /><image fill=\"#800080\" height=\"240\" stroke=\"#000000\" stroke-width=\"1\" width=\"150\" x=\"13\" xlink:href=\"https://iut-info.univ-reims.fr/users/collard/dutgraphics/images/tree.png\" y=\"160\" /><text fill=\"#ffff00\" stroke=\"#ffff00\" stroke-width=\"1\" x=\"317\" y=\"65\">Home Sweet Home</text><image fill=\"#800080\" height=\"268\" stroke=\"#000000\" stroke-width=\"1\" width=\"272\" x=\"475\" xlink:href=\"https://iut-info.univ-reims.fr/users/collard/dutgraphics/images/house.png\" y=\"339\" /><image fill=\"#800080\" height=\"267\" stroke=\"#000000\" stroke-width=\"1\" width=\"600\" x=\"0\" xlink:href=\"https://iut-info.univ-reims.fr/users/collard/dutgraphics/images/sky.png\" y=\"0\" /><image fill=\"#800080\" height=\"133\" stroke=\"#000000\" stroke-width=\"1\" width=\"600\" x=\"0\" xlink:href=\"https://iut-info.univ-reims.fr/users/collard/dutgraphics/images/ground.png\" y=\"267\" /><ellipse cx=\"508\" cy=\"83\" fill=\"#ffff00\" rx=\"40\" ry=\"40\" stroke=\"#ffff00\" stroke-width=\"1\" /><image fill=\"#800080\" height=\"123\" stroke=\"#000000\" stroke-width=\"1\" width=\"203\" x=\"233\" xlink:href=\"https://iut-info.univ-reims.fr/users/collard/dutgraphics/images/cloud.png\" y=\"347\" /><image fill=\"#800080\" height=\"240\" stroke=\"#000000\" stroke-width=\"1\" width=\"150\" x=\"106\" xlink:href=\"https://iut-info.univ-reims.fr/users/collard/dutgraphics/images/tree.png\" y=\"97\" /><image fill=\"#800080\" height=\"240\" stroke=\"#000000\" stroke-width=\"1\" width=\"150\" x=\"13\" xlink:href=\"https://iut-info.univ-reims.fr/users/collard/dutgraphics/images/tree.png\" y=\"160\" /><text fill=\"#ffff00\" stroke=\"#ffff00\" stroke-width=\"1\" x=\"526\" y=\"176\">Home Sweet Home</text><image fill=\"#800080\" height=\"268\" stroke=\"#000000\" stroke-width=\"1\" width=\"272\" x=\"104\" xlink:href=\"https://iut-info.univ-reims.fr/users/collard/dutgraphics/images/house.png\" y=\"216\" /><image fill=\"#800080\" height=\"267\" stroke=\"#000000\" stroke-width=\"1\" width=\"600\" x=\"0\" xlink:href=\"https://iut-info.univ-reims.fr/users/collard/dutgraphics/images/sky.png\" y=\"0\" /><image fill=\"#800080\" height=\"133\" stroke=\"#000000\" stroke-width=\"1\" width=\"600\" x=\"0\" xlink:href=\"https://iut-info.univ-reims.fr/users/collard/dutgraphics/images/ground.png\" y=\"267\" /><ellipse cx=\"76\" cy=\"86\" fill=\"#ffff00\" rx=\"40\" ry=\"40\" stroke=\"#ffff00\" stroke-width=\"1\" /><image fill=\"#800080\" height=\"123\" stroke=\"#000000\" stroke-width=\"1\" width=\"203\" x=\"497\" xlink:href=\"https://iut-info.univ-reims.fr/users/collard/dutgraphics/images/cloud.png\" y=\"211\" /><image fill=\"#800080\" height=\"240\" stroke=\"#000000\" stroke-width=\"1\" width=\"150\" x=\"106\" xlink:href=\"https://iut-info.univ-reims.fr/users/collard/dutgraphics/images/tree.png\" y=\"97\" /><image fill=\"#800080\" height=\"240\" stroke=\"#000000\" stroke-width=\"1\" width=\"150\" x=\"13\" xlink:href=\"https://iut-info.univ-reims.fr/users/collard/dutgraphics/images/tree.png\" y=\"160\" /><text fill=\"#ffff00\" stroke=\"#ffff00\" stroke-width=\"1\" x=\"129\" y=\"276\">Home Sweet Home</text><image fill=\"#800080\" height=\"268\" stroke=\"#000000\" stroke-width=\"1\" width=\"272\" x=\"453\" xlink:href=\"https://iut-info.univ-reims.fr/users/collard/dutgraphics/images/house.png\" y=\"149\" /><image fill=\"#800080\" height=\"267\" stroke=\"#000000\" stroke-width=\"1\" width=\"600\" x=\"0\" xlink:href=\"https://iut-info.univ-reims.fr/users/collard/dutgraphics/images/sky.png\" y=\"0\" /><image fill=\"#800080\" height=\"133\" stroke=\"#000000\" stroke-width=\"1\" width=\"600\" x=\"0\" xlink:href=\"https://iut-info.univ-reims.fr/users/collard/dutgraphics/images/ground.png\" y=\"267\" /><ellipse cx=\"172\" cy=\"198\" fill=\"#ffff00\" rx=\"40\" ry=\"40\" stroke=\"#ffff00\" stroke-width=\"1\" /><image fill=\"#800080\" height=\"123\" stroke=\"#000000\" stroke-width=\"1\" width=\"203\" x=\"357\" xlink:href=\"https://iut-info.univ-reims.fr/users/collard/dutgraphics/images/cloud.png\" y=\"168\" /><image fill=\"#800080\" height=\"240\" stroke=\"#000000\" stroke-width=\"1\" width=\"150\" x=\"106\" xlink:href=\"https://iut-info.univ-reims.fr/users/collard/dutgraphics/images/tree.png\" y=\"97\" /><image fill=\"#800080\" height=\"240\" stroke=\"#000000\" stroke-width=\"1\" width=\"150\" x=\"13\" xlink:href=\"https://iut-info.univ-reims.fr/users/collard/dutgraphics/images/tree.png\" y=\"160\" /><text fill=\"#ffff00\" stroke=\"#ffff00\" stroke-width=\"1\" x=\"79\" y=\"118\">Home Sweet Home</text><image fill=\"#800080\" height=\"268\" stroke=\"#000000\" stroke-width=\"1\" width=\"272\" x=\"420\" xlink:href=\"https://iut-info.univ-reims.fr/users/collard/dutgraphics/images/house.png\" y=\"90\" /><image fill=\"#800080\" height=\"267\" stroke=\"#000000\" stroke-width=\"1\" width=\"600\" x=\"0\" xlink:href=\"https://iut-info.univ-reims.fr/users/collard/dutgraphics/images/sky.png\" y=\"0\" /><image fill=\"#800080\" height=\"133\" stroke=\"#000000\" stroke-width=\"1\" width=\"600\" x=\"0\" xlink:href=\"https://iut-info.univ-reims.fr/users/collard/dutgraphics/images/ground.png\" y=\"267\" /><ellipse cx=\"528\" cy=\"279\" fill=\"#ffff00\" rx=\"40\" ry=\"40\" stroke=\"#ffff00\" stroke-width=\"1\" /><image fill=\"#800080\" height=\"123\" stroke=\"#000000\" stroke-width=\"1\" width=\"203\" x=\"417\" xlink:href=\"https://iut-info.univ-reims.fr/users/collard/dutgraphics/images/cloud.png\" y=\"337\" /><image fill=\"#800080\" height=\"240\" stroke=\"#000000\" stroke-width=\"1\" width=\"150\" x=\"106\" xlink:href=\"https://iut-info.univ-reims.fr/users/collard/dutgraphics/images/tree.png\" y=\"97\" /><image fill=\"#800080\" height=\"240\" stroke=\"#000000\" stroke-width=\"1\" width=\"150\" x=\"13\" xlink:href=\"https://iut-info.univ-reims.fr/users/collard/dutgraphics/images/tree.png\" y=\"160\" /><text fill=\"#ffff00\" stroke=\"#ffff00\" stroke-width=\"1\" x=\"347\" y=\"228\">Home Sweet Home</text><image fill=\"#800080\" height=\"268\" stroke=\"#000000\" stroke-width=\"1\" width=\"272\" x=\"516\" xlink:href=\"https://iut-info.univ-reims.fr/users/collard/dutgraphics/images/house.png\" y=\"279\" /><image fill=\"#800080\" height=\"267\" stroke=\"#000000\" stroke-width=\"1\" width=\"600\" x=\"0\" xlink:href=\"https://iut-info.univ-reims.fr/users/collard/dutgraphics/images/sky.png\" y=\"0\" /><image fill=\"#800080\" height=\"133\" stroke=\"#000000\" stroke-width=\"1\" width=\"600\" x=\"0\" xlink:href=\"https://iut-info.univ-reims.fr/users/collard/dutgraphics/images/ground.png\" y=\"267\" /><ellipse cx=\"244\" cy=\"221\" fill=\"#ffff00\" rx=\"40\" ry=\"40\" stroke=\"#ffff00\" stroke-width=\"1\" /><image fill=\"#800080\" height=\"123\" stroke=\"#000000\" stroke-width=\"1\" width=\"203\" x=\"84\" xlink:href=\"https://iut-info.univ-reims.fr/users/collard/dutgraphics/images/cloud.png\" y=\"331\" /><image fill=\"#800080\" height=\"240\" stroke=\"#000000\" stroke-width=\"1\" width=\"150\" x=\"106\" xlink:href=\"https://iut-info.univ-reims.fr/users/collard/dutgraphics/images/tree.png\" y=\"97\" /><image fill=\"#800080\" height=\"240\" stroke=\"#000000\" stroke-width=\"1\" width=\"150\" x=\"13\" xlink:href=\"https://iut-info.univ-reims.fr/users/collard/dutgraphics/images/tree.png\" y=\"160\" /><text fill=\"#ffff00\" stroke=\"#ffff00\" stroke-width=\"1\" x=\"398\" y=\"336\">Home Sweet Home</text><image fill=\"#800080\" height=\"268\" stroke=\"#000000\" stroke-width=\"1\" width=\"272\" x=\"389\" xlink:href=\"https://iut-info.univ-reims.fr/users/collard/dutgraphics/images/house.png\" y=\"100\" /><image fill=\"#800080\" height=\"267\" stroke=\"#000000\" stroke-width=\"1\" width=\"600\" x=\"0\" xlink:href=\"https://iut-info.univ-reims.fr/users/collard/dutgraphics/images/sky.png\" y=\"0\" /><image fill=\"#800080\" height=\"133\" stroke=\"#000000\" stroke-width=\"1\" width=\"600\" x=\"0\" xlink:href=\"https://iut-info.univ-reims.fr/users/collard/dutgraphics/images/ground.png\" y=\"267\" /><ellipse cx=\"366\" cy=\"160\" fill=\"#ffff00\" rx=\"40\" ry=\"40\" stroke=\"#ffff00\" stroke-width=\"1\" /><image fill=\"#800080\" height=\"123\" stroke=\"#000000\" stroke-width=\"1\" width=\"203\" x=\"442\" xlink:href=\"https://iut-info.univ-reims.fr/users/collard/dutgraphics/images/cloud.png\" y=\"155\" /><image fill=\"#800080\" height=\"240\" stroke=\"#000000\" stroke-width=\"1\" width=\"150\" x=\"106\" xlink:href=\"https://iut-info.univ-reims.fr/users/collard/dutgraphics/images/tree.png\" y=\"97\" /><image fill=\"#800080\" height=\"240\" stroke=\"#000000\" stroke-width=\"1\" width=\"150\" x=\"13\" xlink:href=\"https://iut-info.univ-reims.fr/users/collard/dutgraphics/images/tree.png\" y=\"160\" /><text fill=\"#ffff00\" stroke=\"#ffff00\" stroke-width=\"1\" x=\"210\" y=\"216\">Home Sweet Home</text><image fill=\"#800080\" height=\"268\" stroke=\"#000000\" stroke-width=\"1\" width=\"272\" x=\"362\" xlink:href=\"https://iut-info.univ-reims.fr/users/collard/dutgraphics/images/house.png\" y=\"65\" /><image fill=\"#800080\" height=\"267\" stroke=\"#000000\" stroke-width=\"1\" width=\"600\" x=\"0\" xlink:href=\"https://iut-info.univ-reims.fr/users/collard/dutgraphics/images/sky.png\" y=\"0\" /><image fill=\"#800080\" height=\"133\" stroke=\"#000000\" stroke-width=\"1\" width=\"600\" x=\"0\" xlink:href=\"https://iut-info.univ-reims.fr/users/collard/dutgraphics/images/ground.png\" y=\"267\" /><ellipse cx=\"530\" cy=\"169\" fill=\"#ffff00\" rx=\"40\" ry=\"40\" stroke=\"#ffff00\" stroke-width=\"1\" /><image fill=\"#800080\" height=\"123\" stroke=\"#000000\" stroke-width=\"1\" width=\"203\" x=\"81\" xlink:href=\"https://iut-info.univ-reims.fr/users/collard/dutgraphics/images/cloud.png\" y=\"243\" /><image fill=\"#800080\" height=\"240\" stroke=\"#000000\" stroke-width=\"1\" width=\"150\" x=\"106\" xlink:href=\"https://iut-info.univ-reims.fr/users/collard/dutgraphics/images/tree.png\" y=\"97\" /><image fill=\"#800080\" height=\"240\" stroke=\"#000000\" stroke-width=\"1\" width=\"150\" x=\"13\" xlink:href=\"https://iut-info.univ-reims.fr/users/collard/dutgraphics/images/tree.png\" y=\"160\" /><text fill=\"#ffff00\" stroke=\"#ffff00\" stroke-width=\"1\" x=\"483\" y=\"273\">Home Sweet Home</text><image fill=\"#800080\" height=\"268\" stroke=\"#000000\" stroke-width=\"1\" width=\"272\" x=\"248\" xlink:href=\"https://iut-info.univ-reims.fr/users/collard/dutgraphics/images/house.png\" y=\"281\" /><image fill=\"#800080\" height=\"267\" stroke=\"#000000\" stroke-width=\"1\" width=\"600\" x=\"0\" xlink:href=\"https://iut-info.univ-reims.fr/users/collard/dutgraphics/images/sky.png\" y=\"0\" /><image fill=\"#800080\" height=\"133\" stroke=\"#000000\" stroke-width=\"1\" width=\"600\" x=\"0\" xlink:href=\"https://iut-info.univ-reims.fr/users/collard/dutgraphics/images/ground.png\" y=\"267\" /><ellipse cx=\"508\" cy=\"281\" fill=\"#ffff00\" rx=\"40\" ry=\"40\" stroke=\"#ffff00\" stroke-width=\"1\" /><image fill=\"#800080\" height=\"123\" stroke=\"#000000\" stroke-width=\"1\" width=\"203\" x=\"103\" xlink:href=\"https://iut-info.univ-reims.fr/users/collard/dutgraphics/images/cloud.png\" y=\"203\" /><image fill=\"#800080\" height=\"240\" stroke=\"#000000\" stroke-width=\"1\" width=\"150\" x=\"106\" xlink:href=\"https://iut-info.univ-reims.fr/users/collard/dutgraphics/images/tree.png\" y=\"97\" /><image fill=\"#800080\" height=\"240\" stroke=\"#000000\" stroke-width=\"1\" width=\"150\" x=\"13\" xlink:href=\"https://iut-info.univ-reims.fr/users/collard/dutgraphics/images/tree.png\" y=\"160\" /><text fill=\"#ffff00\" stroke=\"#ffff00\" stroke-width=\"1\" x=\"526\" y=\"287\">Home Sweet Home</text><image fill=\"#800080\" height=\"268\" stroke=\"#000000\" stroke-width=\"1\" width=\"272\" x=\"402\" xlink:href=\"https://iut-info.univ-reims.fr/users/collard/dutgraphics/images/house.png\" y=\"288\" /><image fill=\"#800080\" height=\"267\" stroke=\"#000000\" stroke-width=\"1\" width=\"600\" x=\"0\" xlink:href=\"https://iut-info.univ-reims.fr/users/collard/dutgraphics/images/sky.png\" y=\"0\" /><image fill=\"#800080\" height=\"133\" stroke=\"#000000\" stroke-width=\"1\" width=\"600\" x=\"0\" xlink:href=\"https://iut-info.univ-reims.fr/users/collard/dutgraphics/images/ground.png\" y=\"267\" /><ellipse cx=\"166\" cy=\"281\" fill=\"#ffff00\" rx=\"40\" ry=\"40\" stroke=\"#ffff00\" stroke-width=\"1\" /><image fill=\"#800080\" height=\"123\" stroke=\"#000000\" stroke-width=\"1\" width=\"203\" x=\"167\" xlink:href=\"https://iut-info.univ-reims.fr/users/collard/dutgraphics/images/cloud.png\" y=\"191\" /><image fill=\"#800080\" height=\"240\" stroke=\"#000000\" stroke-width=\"1\" width=\"150\" x=\"106\" xlink:href=\"https://iut-info.univ-reims.fr/users/collard/dutgraphics/images/tree.png\" y=\"97\" /><image fill=\"#800080\" height=\"240\" stroke=\"#000000\" stroke-width=\"1\" width=\"150\" x=\"13\" xlink:href=\"https://iut-info.univ-reims.fr/users/collard/dutgraphics/images/tree.png\" y=\"160\" /><text fill=\"#ffff00\" stroke=\"#ffff00\" stroke-width=\"1\" x=\"229\" y=\"235\">Home Sweet Home</text><image fill=\"#800080\" height=\"268\" stroke=\"#000000\" stroke-width=\"1\" width=\"272\" x=\"82\" xlink:href=\"https://iut-info.univ-reims.fr/users/collard/dutgraphics/images/house.png\" y=\"268\" /><image fill=\"#800080\" height=\"267\" stroke=\"#000000\" stroke-width=\"1\" width=\"600\" x=\"0\" xlink:href=\"https://iut-info.univ-reims.fr/users/collard/dutgraphics/images/sky.png\" y=\"0\" /><image fill=\"#800080\" height=\"133\" stroke=\"#000000\" stroke-width=\"1\" width=\"600\" x=\"0\" xlink:href=\"https://iut-info.univ-reims.fr/users/collard/dutgraphics/images/ground.png\" y=\"267\" /><ellipse cx=\"532\" cy=\"145\" fill=\"#ffff00\" rx=\"40\" ry=\"40\" stroke=\"#ffff00\" stroke-width=\"1\" /><image fill=\"#800080\" height=\"123\" stroke=\"#000000\" stroke-width=\"1\" width=\"203\" x=\"411\" xlink:href=\"https://iut-info.univ-reims.fr/users/collard/dutgraphics/images/cloud.png\" y=\"167\" /><image fill=\"#800080\" height=\"240\" stroke=\"#000000\" stroke-width=\"1\" width=\"150\" x=\"106\" xlink:href=\"https://iut-info.univ-reims.fr/users/collard/dutgraphics/images/tree.png\" y=\"97\" /><image fill=\"#800080\" height=\"240\" stroke=\"#000000\" stroke-width=\"1\" width=\"150\" x=\"13\" xlink:href=\"https://iut-info.univ-reims.fr/users/collard/dutgraphics/images/tree.png\" y=\"160\" /><text fill=\"#ffff00\" stroke=\"#ffff00\" stroke-width=\"1\" x=\"173\" y=\"174\">Home Sweet Home</text><image fill=\"#800080\" height=\"268\" stroke=\"#000000\" stroke-width=\"1\" width=\"272\" x=\"101\" xlink:href=\"https://iut-info.univ-reims.fr/users/collard/dutgraphics/images/house.png\" y=\"177\" /><image fill=\"#800080\" height=\"267\" stroke=\"#000000\" stroke-width=\"1\" width=\"600\" x=\"0\" xlink:href=\"https://iut-info.univ-reims.fr/users/collard/dutgraphics/images/sky.png\" y=\"0\" /><image fill=\"#800080\" height=\"133\" stroke=\"#000000\" stroke-width=\"1\" width=\"600\" x=\"0\" xlink:href=\"https://iut-info.univ-reims.fr/users/collard/dutgraphics/images/ground.png\" y=\"267\" /><ellipse cx=\"410\" cy=\"197\" fill=\"#ffff00\" rx=\"40\" ry=\"40\" stroke=\"#ffff00\" stroke-width=\"1\" /><image fill=\"#800080\" height=\"123\" stroke=\"#000000\" stroke-width=\"1\" width=\"203\" x=\"205\" xlink:href=\"https://iut-info.univ-reims.fr/users/collard/dutgraphics/images/cloud.png\" y=\"156\" /><image fill=\"#800080\" height=\"240\" stroke=\"#000000\" stroke-width=\"1\" width=\"150\" x=\"106\" xlink:href=\"https://iut-info.univ-reims.fr/users/collard/dutgraphics/images/tree.png\" y=\"97\" /><image fill=\"#800080\" height=\"240\" stroke=\"#000000\" stroke-width=\"1\" width=\"150\" x=\"13\" xlink:href=\"https://iut-info.univ-reims.fr/users/collard/dutgraphics/images/tree.png\" y=\"160\" /><text fill=\"#ffff00\" stroke=\"#ffff00\" stroke-width=\"1\" x=\"550\" y=\"127\">Home Sweet Home</text><image fill=\"#800080\" height=\"268\" stroke=\"#000000\" stroke-width=\"1\" width=\"272\" x=\"545\" xlink:href=\"https://iut-info.univ-reims.fr/users/collard/dutgraphics/images/house.png\" y=\"110\" /></svg>"
      ],
      "text/plain": [
       "<Canvas (600, 400)>"
      ]
     },
     "metadata": {},
     "output_type": "display_data"
    }
   ],
   "source": [
    "def voirMaisonAutrement() -> None:\n",
    "    L=[\"ciel\",\"sol\",\"soleil\",\"nuage\",\"arbre derrière\",\"arbre devant\",\"texte\",\"maison\"]\n",
    "    for el in L:\n",
    "        if el==\"ciel\" or el==\"sol\":\n",
    "            dessine(el)\n",
    "        else:\n",
    "            dessine(el, randint(50,550), randint(100,300))\n",
    "voirMaisonAutrement()"
   ]
  },
  {
   "cell_type": "markdown",
   "id": "9a6042e3-9da3-4dbc-b225-944c15b24b3e",
   "metadata": {},
   "source": [
    "Déduisez de cette documentation les deux arguments à ajouter pour placer les dessins à l'endroit que vous désirez. Utilisez ces arguments pour créer votre version de la maison dans une fonction `voirMaisonAutrement()` avec des positions différentes pour les divers éléments, comme par exemple dans l'image suivante. Note : la taille de la fenêtre est de 600x400 pixels. \n",
    "\n",
    "<div align = \"middle\"><img src=\"https://iut-info.univ-reims.fr/users/romaniuk/restricted/S1AlgoProg/ressources/autremaison2.png\" alt=\"Image absente\" width=400 ></div>\n",
    "\n",
    ">Remarque : le sol et le ciel ne peuvent évidemment pas changer de position."
   ]
  },
  {
   "cell_type": "markdown",
   "id": "68779d90-0b41-44dc-a68c-5c1560cf4022",
   "metadata": {},
   "source": [
    "## 4.2 Couleurs (toujours)"
   ]
  },
  {
   "cell_type": "markdown",
   "id": "efa72ad8-1c94-4765-addb-b09b3952c2e2",
   "metadata": {},
   "source": [
    "### 4.2.1 Couleur aléatoire dans une liste"
   ]
  },
  {
   "cell_type": "markdown",
   "id": "fb40dc44-1086-44e6-b285-e6606b910248",
   "metadata": {},
   "source": [
    "Dans le TP2 nous vous avons proposé une liste de quelques instances de `Color` prédéfinies. Ces couleurs sont également regroupées dans une liste nommée `colorsdut`.Codez une fonction `getRandomColorDut()`sans paramètre et retournant une instance de `Color` tirée au sort dans cette liste. Testez votre fonction en affichant la couleur (méthode `draw()`)."
   ]
  },
  {
   "cell_type": "code",
   "execution_count": 263,
   "id": "634e4250-f85d-43b7-9614-625cff54b017",
   "metadata": {},
   "outputs": [
    {
     "data": {
      "image/svg+xml": [
       "<svg baseProfile=\"full\" height=\"42\" version=\"1.1\" width=\"42\" xmlns=\"http://www.w3.org/2000/svg\" xmlns:ev=\"http://www.w3.org/2001/xml-events\" xmlns:xlink=\"http://www.w3.org/1999/xlink\"><defs /><circle cx=\"21\" cy=\"21\" fill=\"#ff0000\" fill-opacity=\"1.0\" r=\"20\" stroke=\"#000000\" stroke-width=\"1\" /></svg>"
      ],
      "text/plain": [
       "<Canvas (42, 42)>"
      ]
     },
     "metadata": {},
     "output_type": "display_data"
    },
    {
     "data": {
      "image/svg+xml": [
       "<svg baseProfile=\"full\" height=\"50\" version=\"1.1\" width=\"50\" xmlns=\"http://www.w3.org/2000/svg\" xmlns:ev=\"http://www.w3.org/2001/xml-events\" xmlns:xlink=\"http://www.w3.org/1999/xlink\"><defs /><rect fill=\"#ff8000\" fill-opacity=\"1.0\" height=\"50\" stroke=\"#000000\" stroke-width=\"1\" width=\"50\" x=\"0\" y=\"0\" /></svg>"
      ],
      "text/plain": [
       "<Canvas (50, 50)>"
      ]
     },
     "metadata": {},
     "output_type": "display_data"
    }
   ],
   "source": [
    "def getRandomColorDut() -> None:\n",
    "    color=colorsdut[randint(0,len(colorsdut)-1)]\n",
    "    color.draw()\n",
    "getRandomColorDut()\n",
    "cv=Canvas((50,50))\n",
    "cv.drawFrame(orange)\n",
    "cv.display()"
   ]
  },
  {
   "cell_type": "markdown",
   "id": "e1e793e4-b3b2-42f6-a1bf-b57c9619ee9c",
   "metadata": {},
   "source": [
    "### 4.2.2 Fonction d'affichage"
   ]
  },
  {
   "cell_type": "markdown",
   "id": "de0d230b-f847-4943-a1c3-50b584e06cc7",
   "metadata": {
    "tags": []
   },
   "source": [
    "La méthode `draw()` de la classe `Color` nous montre une couleur, mais obligatoirement dans un cercle de dimension fixée. On veut maintenant pouvoir montrer une couleur dans un rectangle de dimensions quelconques.\n",
    "\n",
    "Pour cela codez la fonction `showColor()` prenant en paramètres une couleur, une largeur et une hauteur. Cette fonction créera un canevas respectant ces paramètres et l'affichera.\n",
    "\n",
    "Testez votre fonction avec différentes couleurs et dimensions. Essayez d'obtenir par exemple :\n",
    "\n",
    "<div align=\"center\"> <img src=\"https://iut-info.univ-reims.fr/users/romaniuk/restricted/S1AlgoProg/ressources/showColorRect.png\" alt=\"Image absente\" width=\"500\" > </div>\n",
    "\n",
    "Valeurs des arguments utilisés : `red 400 30 -- orange 40 40 -- lime 100 10 `"
   ]
  },
  {
   "cell_type": "code",
   "execution_count": 305,
   "id": "36af2c35-1bfd-43ef-b97b-98f5e4c3cc7f",
   "metadata": {},
   "outputs": [
    {
     "data": {
      "image/svg+xml": [
       "<svg baseProfile=\"full\" height=\"30\" version=\"1.1\" width=\"400\" xmlns=\"http://www.w3.org/2000/svg\" xmlns:ev=\"http://www.w3.org/2001/xml-events\" xmlns:xlink=\"http://www.w3.org/1999/xlink\"><defs /><rect fill=\"red\" fill-opacity=\"1.0\" height=\"30\" stroke=\"#000000\" stroke-width=\"1\" width=\"400\" x=\"0\" y=\"0\" /></svg>"
      ],
      "text/plain": [
       "<Canvas (400, 30)>"
      ]
     },
     "metadata": {},
     "output_type": "display_data"
    },
    {
     "data": {
      "image/svg+xml": [
       "<svg baseProfile=\"full\" height=\"40\" version=\"1.1\" width=\"40\" xmlns=\"http://www.w3.org/2000/svg\" xmlns:ev=\"http://www.w3.org/2001/xml-events\" xmlns:xlink=\"http://www.w3.org/1999/xlink\"><defs /><rect fill=\"orange\" fill-opacity=\"1.0\" height=\"40\" stroke=\"#000000\" stroke-width=\"1\" width=\"40\" x=\"0\" y=\"0\" /></svg>"
      ],
      "text/plain": [
       "<Canvas (40, 40)>"
      ]
     },
     "metadata": {},
     "output_type": "display_data"
    },
    {
     "data": {
      "image/svg+xml": [
       "<svg baseProfile=\"full\" height=\"10\" version=\"1.1\" width=\"100\" xmlns=\"http://www.w3.org/2000/svg\" xmlns:ev=\"http://www.w3.org/2001/xml-events\" xmlns:xlink=\"http://www.w3.org/1999/xlink\"><defs /><rect fill=\"lime\" fill-opacity=\"1.0\" height=\"10\" stroke=\"#000000\" stroke-width=\"1\" width=\"100\" x=\"0\" y=\"0\" /></svg>"
      ],
      "text/plain": [
       "<Canvas (100, 10)>"
      ]
     },
     "metadata": {},
     "output_type": "display_data"
    }
   ],
   "source": [
    "def showColor(color : str, x : int, y : int) -> None:\n",
    "    '''\n",
    "    Affiche un canvas avec la couleur en fond.\n",
    "    Paramètres : color : la couleur du canvas, x : la largeur et y la hauteur\n",
    "    '''\n",
    "    canva = Canvas((x,y)) \n",
    "    canva.drawFrame(color) \n",
    "    canva.display() \n",
    "showColor('red', 400, 30)\n",
    "showColor('orange', 40, 40)\n",
    "showColor('lime', 100, 10)"
   ]
  },
  {
   "cell_type": "markdown",
   "id": "fb8a429b-4357-4dc0-ac56-df3ad7efc16b",
   "metadata": {},
   "source": [
    "### 4.2.3 Affichage de couleurs aléatoires"
   ]
  },
  {
   "cell_type": "markdown",
   "id": "c6e80ee3-6fe8-4540-8ab9-38ebf86f2d9c",
   "metadata": {},
   "source": [
    "Créez une fonction `showRandomColors()` qui doit permettre d'afficher un nombre `n` rectangles de dimensions `width height`, ces trois valeurs étant passées en paramètres. La couleur de chaque rectangle sera aléatoire. Pensez à utiliser la fonction de l'exercice précédent. Testez votre fonction.\n",
    "\n",
    "Exemple pour 10 couleurs extraites de la liste `colorsdut` dans des rectangles de dimensions 500x10.\n",
    "\n",
    "<div align=\"center\"><img src=\"https://iut-info.univ-reims.fr/users/romaniuk/restricted/S1AlgoProg/ressources/showRandomColors.png\" alt=\"Image absente\" width=\"600\"> </div>"
   ]
  },
  {
   "cell_type": "code",
   "execution_count": 301,
   "id": "e47a0bc1-4e1a-4fd3-aa92-e00d7c43fa46",
   "metadata": {
    "scrolled": true
   },
   "outputs": [
    {
     "data": {
      "image/svg+xml": [
       "<svg baseProfile=\"full\" height=\"10\" version=\"1.1\" width=\"800\" xmlns=\"http://www.w3.org/2000/svg\" xmlns:ev=\"http://www.w3.org/2001/xml-events\" xmlns:xlink=\"http://www.w3.org/1999/xlink\"><defs /><rect fill=\"#000080\" fill-opacity=\"1.0\" height=\"10\" stroke=\"#000000\" stroke-width=\"1\" width=\"800\" x=\"0\" y=\"0\" /></svg>"
      ],
      "text/plain": [
       "<Canvas (800, 10)>"
      ]
     },
     "metadata": {},
     "output_type": "display_data"
    },
    {
     "data": {
      "image/svg+xml": [
       "<svg baseProfile=\"full\" height=\"10\" version=\"1.1\" width=\"800\" xmlns=\"http://www.w3.org/2000/svg\" xmlns:ev=\"http://www.w3.org/2001/xml-events\" xmlns:xlink=\"http://www.w3.org/1999/xlink\"><defs /><rect fill=\"#800000\" fill-opacity=\"1.0\" height=\"10\" stroke=\"#000000\" stroke-width=\"1\" width=\"800\" x=\"0\" y=\"0\" /></svg>"
      ],
      "text/plain": [
       "<Canvas (800, 10)>"
      ]
     },
     "metadata": {},
     "output_type": "display_data"
    },
    {
     "data": {
      "image/svg+xml": [
       "<svg baseProfile=\"full\" height=\"10\" version=\"1.1\" width=\"800\" xmlns=\"http://www.w3.org/2000/svg\" xmlns:ev=\"http://www.w3.org/2001/xml-events\" xmlns:xlink=\"http://www.w3.org/1999/xlink\"><defs /><rect fill=\"#00ffff\" fill-opacity=\"1.0\" height=\"10\" stroke=\"#000000\" stroke-width=\"1\" width=\"800\" x=\"0\" y=\"0\" /></svg>"
      ],
      "text/plain": [
       "<Canvas (800, 10)>"
      ]
     },
     "metadata": {},
     "output_type": "display_data"
    },
    {
     "data": {
      "image/svg+xml": [
       "<svg baseProfile=\"full\" height=\"10\" version=\"1.1\" width=\"800\" xmlns=\"http://www.w3.org/2000/svg\" xmlns:ev=\"http://www.w3.org/2001/xml-events\" xmlns:xlink=\"http://www.w3.org/1999/xlink\"><defs /><rect fill=\"#000080\" fill-opacity=\"1.0\" height=\"10\" stroke=\"#000000\" stroke-width=\"1\" width=\"800\" x=\"0\" y=\"0\" /></svg>"
      ],
      "text/plain": [
       "<Canvas (800, 10)>"
      ]
     },
     "metadata": {},
     "output_type": "display_data"
    },
    {
     "data": {
      "image/svg+xml": [
       "<svg baseProfile=\"full\" height=\"10\" version=\"1.1\" width=\"800\" xmlns=\"http://www.w3.org/2000/svg\" xmlns:ev=\"http://www.w3.org/2001/xml-events\" xmlns:xlink=\"http://www.w3.org/1999/xlink\"><defs /><rect fill=\"#808080\" fill-opacity=\"1.0\" height=\"10\" stroke=\"#000000\" stroke-width=\"1\" width=\"800\" x=\"0\" y=\"0\" /></svg>"
      ],
      "text/plain": [
       "<Canvas (800, 10)>"
      ]
     },
     "metadata": {},
     "output_type": "display_data"
    },
    {
     "data": {
      "image/svg+xml": [
       "<svg baseProfile=\"full\" height=\"10\" version=\"1.1\" width=\"800\" xmlns=\"http://www.w3.org/2000/svg\" xmlns:ev=\"http://www.w3.org/2001/xml-events\" xmlns:xlink=\"http://www.w3.org/1999/xlink\"><defs /><rect fill=\"#808080\" fill-opacity=\"1.0\" height=\"10\" stroke=\"#000000\" stroke-width=\"1\" width=\"800\" x=\"0\" y=\"0\" /></svg>"
      ],
      "text/plain": [
       "<Canvas (800, 10)>"
      ]
     },
     "metadata": {},
     "output_type": "display_data"
    },
    {
     "data": {
      "image/svg+xml": [
       "<svg baseProfile=\"full\" height=\"10\" version=\"1.1\" width=\"800\" xmlns=\"http://www.w3.org/2000/svg\" xmlns:ev=\"http://www.w3.org/2001/xml-events\" xmlns:xlink=\"http://www.w3.org/1999/xlink\"><defs /><rect fill=\"#0000ff\" fill-opacity=\"1.0\" height=\"10\" stroke=\"#000000\" stroke-width=\"1\" width=\"800\" x=\"0\" y=\"0\" /></svg>"
      ],
      "text/plain": [
       "<Canvas (800, 10)>"
      ]
     },
     "metadata": {},
     "output_type": "display_data"
    },
    {
     "data": {
      "image/svg+xml": [
       "<svg baseProfile=\"full\" height=\"10\" version=\"1.1\" width=\"800\" xmlns=\"http://www.w3.org/2000/svg\" xmlns:ev=\"http://www.w3.org/2001/xml-events\" xmlns:xlink=\"http://www.w3.org/1999/xlink\"><defs /><rect fill=\"#ffffff\" fill-opacity=\"1.0\" height=\"10\" stroke=\"#000000\" stroke-width=\"1\" width=\"800\" x=\"0\" y=\"0\" /></svg>"
      ],
      "text/plain": [
       "<Canvas (800, 10)>"
      ]
     },
     "metadata": {},
     "output_type": "display_data"
    },
    {
     "data": {
      "image/svg+xml": [
       "<svg baseProfile=\"full\" height=\"10\" version=\"1.1\" width=\"800\" xmlns=\"http://www.w3.org/2000/svg\" xmlns:ev=\"http://www.w3.org/2001/xml-events\" xmlns:xlink=\"http://www.w3.org/1999/xlink\"><defs /><rect fill=\"#ff8000\" fill-opacity=\"1.0\" height=\"10\" stroke=\"#000000\" stroke-width=\"1\" width=\"800\" x=\"0\" y=\"0\" /></svg>"
      ],
      "text/plain": [
       "<Canvas (800, 10)>"
      ]
     },
     "metadata": {},
     "output_type": "display_data"
    },
    {
     "data": {
      "image/svg+xml": [
       "<svg baseProfile=\"full\" height=\"10\" version=\"1.1\" width=\"800\" xmlns=\"http://www.w3.org/2000/svg\" xmlns:ev=\"http://www.w3.org/2001/xml-events\" xmlns:xlink=\"http://www.w3.org/1999/xlink\"><defs /><rect fill=\"#000080\" fill-opacity=\"1.0\" height=\"10\" stroke=\"#000000\" stroke-width=\"1\" width=\"800\" x=\"0\" y=\"0\" /></svg>"
      ],
      "text/plain": [
       "<Canvas (800, 10)>"
      ]
     },
     "metadata": {},
     "output_type": "display_data"
    }
   ],
   "source": [
    "def showRandomColors(n : int, width : int, height : int) -> None:\n",
    "    ''' \n",
    "    affiche n canvas de couleurs aléatoires de hauteur et largeurs égales entrées en paramètres\n",
    "    '''\n",
    "    for i in range(n):\n",
    "        color=colorsdut[randint(0,len(colorsdut)-1)]\n",
    "        showColor(color,width,height)\n",
    "showRandomColors(10, 800, 10)"
   ]
  },
  {
   "cell_type": "markdown",
   "id": "b0f01b60-9291-4897-818e-28d44ad8cf04",
   "metadata": {},
   "source": [
    "### 4.2.5 Documentation"
   ]
  },
  {
   "cell_type": "markdown",
   "id": "247207e0-7c0d-4e6a-a5f2-b35f22ccc85e",
   "metadata": {},
   "source": [
    "Documentez vos deux fonctions précédentes `showColor()` et `showRandomColors()`puis utilisez la cellule ci-dessous pour demander l'affichage ces documentations."
   ]
  },
  {
   "cell_type": "code",
   "execution_count": 310,
   "id": "7e302981-3167-4f14-91c2-18f17c11488b",
   "metadata": {},
   "outputs": [
    {
     "name": "stdout",
     "output_type": "stream",
     "text": [
      "Help on function showColor in module __main__:\n",
      "\n",
      "showColor(color: str, x: int, y: int) -> None\n",
      "    Affiche un canvas avec la couleur en fond.\n",
      "    Paramètres : color : la couleur du canvas, x : la largeur et y la hauteur\n",
      "\n",
      "Help on function showRandomColors in module __main__:\n",
      "\n",
      "showRandomColors(n: int, width: int, height: int) -> None\n",
      "    affiche n canvas de couleurs aléatoires de hauteur et largeurs égales entrées en paramètres\n",
      "\n"
     ]
    }
   ],
   "source": [
    "help(showColor)\n",
    "help(showRandomColors)"
   ]
  },
  {
   "cell_type": "markdown",
   "id": "86d5db7a-0deb-4410-b77f-8911626b9c37",
   "metadata": {},
   "source": [
    "# 5. Exercices complémentaires"
   ]
  },
  {
   "cell_type": "markdown",
   "id": "2dade50e-6845-427c-9310-ad7bc0754744",
   "metadata": {},
   "source": [
    "L'ordre de ces exercices facultatifs n'est pas imposé."
   ]
  },
  {
   "cell_type": "markdown",
   "id": "54961718-0a5c-4b69-b448-9875cb296b1b",
   "metadata": {},
   "source": [
    "## 5.1 Calculs"
   ]
  },
  {
   "cell_type": "markdown",
   "id": "44657928-da07-4611-af2e-dde449e8e539",
   "metadata": {},
   "source": [
    "### 5.1.1 Indice de masse corporelle"
   ]
  },
  {
   "cell_type": "markdown",
   "id": "1ffc19d6-3e98-439a-b005-f6e58c598c43",
   "metadata": {},
   "source": [
    "Codez une fonction qui prend en paramètre deux nombres avec deux décimales maximum calculée à partir des saisies préalablement faites par l'utilisateur. La fonction retourne retourne l'IMC. La formule est pour un poids en kilos et une taille *en mètres* : \n",
    "\n",
    "$$IMC = \\frac{poids}{taille^2}$$"
   ]
  },
  {
   "cell_type": "code",
   "execution_count": 313,
   "id": "108eabe8-fb83-412b-bffd-ae044bca0bba",
   "metadata": {},
   "outputs": [
    {
     "name": "stdout",
     "output_type": "stream",
     "text": [
      "Le poids est de 71 et la taille est de 181.\n",
      "L'imc est de 0.002167211013094838.\n",
      "Le poids est de 68.47 et la taille est de 169.45.\n",
      "L'imc est de 0.002384609015281332.\n",
      "Le poids est de 70.0 et la taille est de 169.99.\n",
      "L'imc est de 0.002422430312139039.\n"
     ]
    },
    {
     "data": {
      "text/plain": [
       "0.002422430312139039"
      ]
     },
     "execution_count": 313,
     "metadata": {},
     "output_type": "execute_result"
    }
   ],
   "source": [
    "def calculIMC(poids : float, taille : float) -> float:\n",
    "    poids=round(poids,2)\n",
    "    taille=round(taille,2)\n",
    "    print (f'Le poids est de {poids} et la taille est de {taille}.')\n",
    "    IMC=poids/(taille**2)\n",
    "    print (f\"L'imc est de {IMC}.\")\n",
    "    return IMC\n",
    "calculIMC(71,181)\n",
    "calculIMC(68.4654644,169.44646)\n",
    "calculIMC(69.9998,169.994848484848)"
   ]
  },
  {
   "cell_type": "markdown",
   "id": "82cb8ff6-2cab-46f8-8983-c7d24bc357d6",
   "metadata": {},
   "source": [
    "### 5.1.2 Boxe"
   ]
  },
  {
   "cell_type": "markdown",
   "id": "e1cab633-e734-421e-aae5-5a8571f5bc6f",
   "metadata": {},
   "source": [
    "Codez une fonction qui permet de tirer au hasard un poids dans une catégorie de boxe donnée : les informations passées à la fonction sont donc le poids minimum inclus et le poids maximum exclu à respecter. La fonction retourne un poids en kg avec une précision au gramme."
   ]
  },
  {
   "cell_type": "code",
   "execution_count": 52,
   "id": "c3d70616-a81a-4105-88ba-d8af0d8cf804",
   "metadata": {},
   "outputs": [
    {
     "data": {
      "text/plain": [
       "105.405"
      ]
     },
     "execution_count": 52,
     "metadata": {},
     "output_type": "execute_result"
    }
   ],
   "source": [
    "def poidsRandomBoxe(pMin : float, pMax : float) -> float:\n",
    "    poids=pMin+random()*pMax\n",
    "    poids=round(poids,3)\n",
    "    return poids\n",
    "poidsRandomBoxe(50,100)"
   ]
  },
  {
   "cell_type": "markdown",
   "id": "17173b00-0b9a-45cc-9a53-08df72ed11ec",
   "metadata": {},
   "source": [
    "## 5.2 Listes et chaînes de caractères"
   ]
  },
  {
   "cell_type": "markdown",
   "id": "81b82f12-7ea0-40a6-adba-d2d87421a572",
   "metadata": {},
   "source": [
    "### 5.2.1 Tris"
   ]
  },
  {
   "cell_type": "markdown",
   "id": "53a2363e-9513-421b-b214-0c8be3577eca",
   "metadata": {},
   "source": [
    "#### 5.2.1.1 Tri de lettres"
   ]
  },
  {
   "cell_type": "markdown",
   "id": "cebd7dd2-4ac1-49da-bd4d-0215ebb6bd47",
   "metadata": {},
   "source": [
    "Codez une fonction `trierLettres()` qui prend en paramètre une chaîne de caractères. Cette fonction doit retourner la chaîne de caractères comportant toutes les lettres de la chaîne passée en argument, mais triées par ordre alphabétique."
   ]
  },
  {
   "cell_type": "code",
   "execution_count": 95,
   "id": "ee97cfb1-4b20-49c1-baa2-4d82daf48eff",
   "metadata": {},
   "outputs": [
    {
     "name": "stdout",
     "output_type": "stream",
     "text": [
      "'     acddeeeeefffghiillmmnnnnooooprrstttwy'\n"
     ]
    }
   ],
   "source": [
    "# pour executer cette cellule vous aurez besoin de la fonction swap de la partie 3.2\n",
    "def trierLettres(chaîne : str) -> str:\n",
    "    listeCaractères=[]\n",
    "    for i in range(len(chaîne)):\n",
    "        listeCaractères+=chaîne[i]\n",
    "    for j in range(len(listeCaractères)):\n",
    "        for i in range(len(listeCaractères)-1):\n",
    "            if listeCaractères[i]>listeCaractères[i+1]:\n",
    "                swap(listeCaractères,i,i+1)\n",
    "    chaîne=\"'\"\n",
    "    for i in range(len(listeCaractères)):\n",
    "        chaîne+=listeCaractères[i] \n",
    "    chaîne+=\"'\"\n",
    "    return chaîne\n",
    "# test : doit afficher la chaîne '     acddeeeeefffghiillmmnnnnooooprrstttwy'\n",
    "print(trierLettres('and now for something completely different'))"
   ]
  },
  {
   "cell_type": "markdown",
   "id": "32878bb8-4583-4a86-bfa4-ef6b47d6dabb",
   "metadata": {},
   "source": [
    "#### 5.2.1.2 Tri de mots"
   ]
  },
  {
   "cell_type": "markdown",
   "id": "25509d09-483f-46e5-a9c5-1aa14df75abc",
   "metadata": {},
   "source": [
    "Codez une fonction `trierMots()` qui prend en paramètre une chaîne de caractères qui sera une suite de mots séparés par des espaces. Cette fonction doit retourner une chaîne de caractères comportant les mêmes mots séparés par des espaces, mais triés par ordre alphabétique."
   ]
  },
  {
   "cell_type": "code",
   "execution_count": 103,
   "id": "b982673a-a485-41e8-9e3f-dcd1cb9aac55",
   "metadata": {},
   "outputs": [
    {
     "name": "stdout",
     "output_type": "stream",
     "text": [
      "\"and completely different for now something\"\n"
     ]
    }
   ],
   "source": [
    "def trierMots(phrase : str) -> str:\n",
    "    phrase+=' '\n",
    "    pos=[0]\n",
    "    for i in range(len(phrase)):\n",
    "        if phrase[i]==' ':\n",
    "            pos+=[i+1]\n",
    "    pos+=[len(phrase)]\n",
    "    mots=[]\n",
    "    for j in range(len(pos)-1):\n",
    "        mot=''\n",
    "        for c in range(pos[j],pos[j+1]):\n",
    "            mot+=phrase[c]\n",
    "        mots+=[mot]\n",
    "    for i in range(len(mots)):\n",
    "        for mot in range(len(mots)-1):\n",
    "            if mots[mot]>mots[mot+1]:\n",
    "                swap(mots,mot,mot+1)\n",
    "    phraseF=''\n",
    "    for mot in mots:\n",
    "        phraseF+=mot\n",
    "    phrase='\"'\n",
    "    for j in range(len(phraseF)-1):\n",
    "        phrase+=phraseF[j]\n",
    "    phrase+='\"'\n",
    "    return phrase\n",
    "\n",
    "# test - doit afficher la chaîne 'and completely different for now something'\n",
    "print(trierMots('and now for something completely different'))"
   ]
  },
  {
   "cell_type": "markdown",
   "id": "964a623b-e190-42aa-b061-1e5f4bbcfeb8",
   "metadata": {},
   "source": [
    "### 5.2.2 Doublons"
   ]
  },
  {
   "cell_type": "markdown",
   "id": "4cb5472c-81cb-4162-be3a-b83f51ea0c88",
   "metadata": {},
   "source": [
    "#### 5.2.2.1 Suppression"
   ]
  },
  {
   "cell_type": "markdown",
   "id": "1967ccfb-dbf3-4179-9b2e-7a5954efa906",
   "metadata": {},
   "source": [
    "Codez une fonction `supprimerDoublons()` qui prend en paramètre une chaîne de caractères et qui retourne une chaîne  qui ne contient qu'une seule occurence des caractères de la chaîne initiale. L'ordre des caractères n'a aucune importance.\n",
    "\n",
    "> Rappel : seules les méthodes déjà connues de `str` et `list` peuvent être utilisées."
   ]
  },
  {
   "cell_type": "code",
   "execution_count": 114,
   "id": "375c2f5f-db2e-4c48-bdad-b2b9b92a079a",
   "metadata": {},
   "outputs": [
    {
     "name": "stdout",
     "output_type": "stream",
     "text": [
      "awshgcpy\n",
      "'acghpswy'\n"
     ]
    }
   ],
   "source": [
    "def supprimerDoublons(chaîne : str) -> str:\n",
    "    cFinal=[]\n",
    "    lettres=[]\n",
    "    for i in range(len(chaîne)):\n",
    "        add=True\n",
    "        c=chaîne[i]\n",
    "        for l in lettres:\n",
    "            if c==l:\n",
    "                add=False\n",
    "        if add:\n",
    "            cFinal+=[c]\n",
    "        else:\n",
    "            for l in range(len(cFinal)):\n",
    "                if cFinal[l]==c:\n",
    "                    cFinal[l]=''\n",
    "        lettres+=[c]\n",
    "    chaîne=''\n",
    "    for o in cFinal:\n",
    "        chaîne+=o\n",
    "    return chaîne\n",
    "# test\n",
    "chaine=\"and now for something completely different\"\n",
    "chaine=supprimerDoublons(chaine)\n",
    "# doit afficher la chaîne 'awshgcomply difrent'\n",
    "print(chaine)\n",
    "# appel à la fonction de l'exercice 5.2.1.1\n",
    "chaine=trierLettres(chaine)\n",
    "# doit afficher la chaîne ' acdefghilmnoprstwy'\n",
    "print(chaine)"
   ]
  },
  {
   "cell_type": "markdown",
   "id": "e7c80969-613c-4f3a-a724-c5ff427842b7",
   "metadata": {},
   "source": [
    "#### 5.2.2.2 Tri de lettres amélioré"
   ]
  },
  {
   "cell_type": "markdown",
   "id": "d96503ef-63fb-44a0-bc43-4757cbf26f6f",
   "metadata": {},
   "source": [
    "Améliorez votre fonction `trierLettres()` de manière à ce que la chaîne retournée ne contienne qu'une seule occurence des lettres triées."
   ]
  },
  {
   "cell_type": "code",
   "execution_count": null,
   "id": "f5a8107e-d424-47f6-93c2-2b8ae2301aa5",
   "metadata": {},
   "outputs": [],
   "source": [
    "# Tapez votre code ici\n",
    "\n",
    "\n",
    "# test : doit afficher la chaîne ' acdefghilmnoprstwy'\n",
    "print(trierLettres('and now for something completely different'))"
   ]
  },
  {
   "cell_type": "markdown",
   "id": "700eea82-f725-413e-b186-8f699e0b4976",
   "metadata": {},
   "source": [
    "## 5.3 Dessins"
   ]
  },
  {
   "cell_type": "markdown",
   "id": "d40f84c4-935e-4543-8c98-a7290c538474",
   "metadata": {},
   "source": [
    "### 5.3.1 Damier (le retour)"
   ]
  },
  {
   "cell_type": "markdown",
   "id": "5d31e7dd-e62f-4989-a023-7f5f0e084cec",
   "metadata": {},
   "source": [
    "Dans le TP précédent vous avez codé le dessin d'un damier. Reprenez votre code et transformez-le en une fonction `drawCheckerboard()`. Cette fonction ne retourne rien mais prend des paramètres permettant de changer les dimensions du damier, la taille des cases, les couleurs du damier.\n",
    "\n",
    "Par exemple voici le résultat de deux appels de la fonction avec différents arguments :\n",
    "\n",
    "- 5 rangées, 7 colonnes, 20 pixels, couleurs `red` `orange`\n",
    "\n",
    "<div align=\"center\"><img src=\"https://iut-info.univ-reims.fr/users/romaniuk/restricted/S1AlgoProg/ressources/damier2.png\" alt=\"damier\" width=\"140\"></div><br>\n",
    "\n",
    "- 2 rangées, 8 colonnes, 44 pixels, couleurs `silver` `navy`\n",
    "\n",
    "<div align=\"center\"><img src=\"https://iut-info.univ-reims.fr/users/romaniuk/restricted/S1AlgoProg/ressources/damier1.png\" alt=\"damier\" width=\"360\"></div>"
   ]
  },
  {
   "cell_type": "code",
   "execution_count": null,
   "id": "5f2882b4-11da-45ba-9777-16c44185fec5",
   "metadata": {},
   "outputs": [],
   "source": [
    "# Tapez votre code ici"
   ]
  },
  {
   "cell_type": "markdown",
   "id": "708fe1c9-9d28-4bb5-b0a5-a95d9c99d8d2",
   "metadata": {},
   "source": [
    "### 5.3.2 Guirlande"
   ]
  },
  {
   "cell_type": "markdown",
   "id": "e05c6541-45ea-476f-b1ad-5f6875ff4d47",
   "metadata": {},
   "source": [
    "En reprenant votre code de l'exercice Guirlande statique du TP précédent, codez une fonction `dessineGuirlande()` qui doit dessiner une guirlande. Les paramètres devront permettre de fixer toutes ses caractéristiques en améliorant le choix de l'utilisateur : ainsi le nombre de couleurs pourra être différent de deux, le rayon des cercles et le leur nombres pourra être modifié.\n",
    "\n",
    "<div align=\"center\"><img src=\"https://iut-info.univ-reims.fr/users/romaniuk/restricted/S1AlgoProg/ressources/dessineGuirlande.png\" alt=\"image absente\" width=\"\"></div>"
   ]
  },
  {
   "cell_type": "markdown",
   "id": "2b503579-5bfb-4da8-8f17-bf7ceddd26e0",
   "metadata": {},
   "source": [
    "### 5.3.3 Corne d'abondance"
   ]
  },
  {
   "cell_type": "markdown",
   "id": "a5139459-5963-4f39-9d2e-1542c1a08815",
   "metadata": {},
   "source": [
    "Vous allez réaliser une \"corne d'abondance\" évoluant horizontalement de gauche à droite et étant constituée de contours d'ellipses dont le rayon vertical va croissant.\n",
    "\n",
    "<div align=\"center\"><img src=\"https://iut-info.univ-reims.fr/users/romaniuk/restricted/S1AlgoProg/ressources/autreguirlande.png\" alt=\"\" width=\"400\"></div>\n",
    "\n",
    "Une deuxième version peut proposer une animation avec un temps de pause entre chaque ellipse.\n",
    "\n",
    "<div align=\"center\"><img src=\"https://iut-info.univ-reims.fr/users/romaniuk/restricted/S1AlgoProg/ressources/autreguirlande.gif\" alt=\"\" width=\"400\"></div>\n",
    "\n",
    "Proposez une fonction ```dessineCorne()``` qui prend en paramètre la couleur des contours, le temps de pause entre chaque ellipse (s'il est négatif ou nul l'affichage ne sera pas animé), ainsi que les dimensions du canevas. Les ellipses devront apparaitre dans leur globalité dans le canvas. Les rayons de l'éllipse initiale seront eux aussi passés en paramètres. "
   ]
  },
  {
   "cell_type": "code",
   "execution_count": null,
   "id": "f0c1ca8b-ee4e-4e65-a71c-d2c0d4f466c6",
   "metadata": {},
   "outputs": [],
   "source": [
    "# Tapez votre code ici"
   ]
  },
  {
   "cell_type": "markdown",
   "id": "96c975c8-46de-479b-a261-7a17f5a72b42",
   "metadata": {},
   "source": [
    "En reprenant votre code de la fonction `dessineCorne()`, proposez une fonction `dessineCorneMulticolore()` qui doit dessiner une corne d'abondance. Comme pour la guirlande, les paramètres devront permettre de fixer toutes ses caractéristiques en améliorant le choix de l'utilisateur : couleurs, épaisseur du trait...\n",
    "\n",
    "<div align=\"center\"><img src=\"https://iut-info.univ-reims.fr/users/romaniuk/restricted/S1AlgoProg/ressources/dessineCorne.png\" alt=\"image absente\" width=\"500\" > </div>"
   ]
  },
  {
   "cell_type": "code",
   "execution_count": 1,
   "id": "254116ff-6f02-4945-b2cd-3d65ca90d047",
   "metadata": {},
   "outputs": [],
   "source": [
    "# Tapez votre code ici"
   ]
  }
 ],
 "metadata": {
  "kernelspec": {
   "display_name": "Python 3",
   "language": "python",
   "name": "python3"
  },
  "language_info": {
   "codemirror_mode": {
    "name": "ipython",
    "version": 3
   },
   "file_extension": ".py",
   "mimetype": "text/x-python",
   "name": "python",
   "nbconvert_exporter": "python",
   "pygments_lexer": "ipython3",
   "version": "3.8.10"
  }
 },
 "nbformat": 4,
 "nbformat_minor": 5
}
