{
 "cells": [
  {
   "cell_type": "markdown",
   "id": "08b12b4d-e857-4dc5-ab73-89d8980f1e6a",
   "metadata": {},
   "source": [
    "<b><p style=\"text-align:center; font-family:verdana; font-size:220%;\"> Initiation au développement en Python</p></b>\n",
    "<div style=\"text-align: center\">\n",
    "    <img src=\"https://iut-info.univ-reims.fr/users/romaniuk/restricted/S1AlgoProg/ressources/Silly-Walk-monty-python.png\" alt=\"\" width=\"480\">\n",
    "</div>\n",
    "<b><p style=\"text-align:center; font-family:verdana; font-size:220%;\">TP5 Boucles, chaînes de caractère et listes</p></b>"
   ]
  },
  {
   "cell_type": "markdown",
   "id": "22241000-929e-457e-bc70-24661e54c3f3",
   "metadata": {},
   "source": [
    "Coudrot Axel"
   ]
  },
  {
   "cell_type": "markdown",
   "id": "c40ae4ee-78b9-478d-8e66-9c9457110589",
   "metadata": {},
   "source": [
    "Cellule des importations à effectuer une fois  avant d'exécuter les cellules de code du TP :"
   ]
  },
  {
   "cell_type": "code",
   "execution_count": 1,
   "id": "2c9c625d-c850-4fcd-818c-de0602e56e1c",
   "metadata": {
    "tags": []
   },
   "outputs": [],
   "source": [
    "## EXECUTE ME FIRST! ##\n",
    "from random import *\n",
    "from dutgraphics import *"
   ]
  },
  {
   "cell_type": "markdown",
   "id": "06620fb8-ec29-42aa-adf8-80fd8849d094",
   "metadata": {},
   "source": [
    "# 1. Réflexions sur la boucle ```while```"
   ]
  },
  {
   "cell_type": "markdown",
   "id": "751cfe12-6259-40f0-8e83-a9810eef93dd",
   "metadata": {},
   "source": [
    "## 1.1 Pseudo-code"
   ]
  },
  {
   "cell_type": "markdown",
   "id": "3ac5f804-417c-4086-9c5e-a462f1d86d36",
   "metadata": {},
   "source": [
    "Trouvez dans les phrases suivantes le ou les critère(s) d’arrêt et le traitement ou action à effectuer dans le corps de boucle. Transformez le critère d’arrêt en condition de poursuite et réécrivez la phrase en langage usuel mais sous une forme standardisée :\n",
    "\n",
    "    tant que condition(s) de poursuite :\n",
    "        traitement\n",
    "        \n",
    "Exemple de phrase : \"Quand je perdrai, j'arrêterai de jouer !\"\n",
    "\n",
    "Solution possible :\n",
    "\n",
    "    tant que je ne perds pas :\n",
    "        je joue\n",
    "\n",
    "1. Je peux dormir indéfiniment, sauf évidemment si mon réveil sonne !\n",
    "\n",
    "1. J'arrêterai de boire du soda quand je me trouverai trop gros.\n",
    "\n",
    "1. J'apprendrai mes cours quand les poules auront des dents.\n",
    "\n",
    "1. Un sujet d'examen, ça se lit jusqu'à la dernière ligne.\n",
    "\n",
    "1. Dès qu'il fait beau ou que la batterie est vide, j'arrête de jouer à la console.\n",
    "\n",
    "1. Je vais faire 100 pompes à moins que je ne sois épuisé avant.\n",
    "\n",
    "1. Pour que j'abandonne mon travail, il faudrait que je gagne au loto ou que j'hérite d'un oncle millionnaire."
   ]
  },
  {
   "cell_type": "markdown",
   "id": "0890ee45-6404-48b8-ae7d-b2a24871c64f",
   "metadata": {
    "tags": []
   },
   "source": [
    "1) Critère d'arrêt : mon réveil sonne ; action à effectuer dans le corps de boucle : dormir ; Condition de poursuite : mon réveil ne sonne pas : \n",
    "        tant que mon réveil ne sonne pas : \n",
    "            Je dors\n",
    "\n",
    "2) Critère d'arrêt : je me trouve trop gros ; action à effectuer dans le corps de boucle : boire du soda ; Condition de poursuite : je ne me trouve pas trop gros : \n",
    "        tant que mon réveil je ne me trouve pas trop gros : \n",
    "            Je bois du soda\n",
    "\n",
    "3) Critère d'arrêt : les poules ont des dents ; action à effectuer dans le corps de boucle : ne pas apprendre mes cours ; Condition de poursuite : les poules n'ont pas de dents : \n",
    "        tant que les poules n'ont pas de dents : \n",
    "            Je n'apprends pas mes cours\n",
    "\n",
    "4) Critère d'arrêt : je suis à la dernière ligne ; action à effectuer dans le corps de boucle : lire une nouvelle ligne du sujet d'examen ; Condition de poursuite : je ne suis pas à la dernière ligne : \n",
    "        tant que je ne suis pas à la dernière ligne : \n",
    "            Je lis une nouvelle ligne du sujet d'examen\n",
    "\n",
    "5) Critères d'arrêt : il fait beau ou la batterie est vide ; action à effectuer dans le corps de boucle : jouer à la console ; Condition de poursuite : il fait moche et la batterie n'est pas vide : \n",
    "        tant que il fait moche et la batterie n'est pas vide : \n",
    "            Je joue à la console\n",
    "\n",
    "6) Critères d'arrêt : je suis épuisé ou j'ai fait 100 pompes ; action à effectuer dans le corps de boucle : Faire une pompe de plus ; Condition de poursuite : je ne suis pas épuisé et je n'ai pas fait 100 pompes : \n",
    "        tant que je ne suis pas épuisé et je n'ai pas fait 100 pompes : \n",
    "            Je fais une pompe de plus\n",
    "\n",
    "7) Critères d'arrêt : je gagne au loto ou j'hérite d'un oncle millionnaire ; action à effectuer dans le corps de boucle : travailler ; Condition de poursuite : je ne gagne pas au loto et je n'hérite pas d'un oncle millionnaire : \n",
    "        tant que je ne gagne pas au loto et je n'hérite pas d'un oncle millionnaire : \n",
    "            Je travaille\n"
   ]
  },
  {
   "cell_type": "markdown",
   "id": "3c89edf4-7a45-4922-b7cc-31dcfe80b0aa",
   "metadata": {},
   "source": [
    "## 1.2 Droit d'entrée"
   ]
  },
  {
   "cell_type": "markdown",
   "id": "e708c1bb-5389-4329-9abb-b9ab1b4d9351",
   "metadata": {},
   "source": [
    "Quand on code une boucle il est important de vérifier si la combinaison des initialisations et de la condition de poursuite permet d’entrer dans le corps de boucle ou non. Faites cette vérification pour les boucles suivantes."
   ]
  },
  {
   "cell_type": "code",
   "execution_count": 6,
   "id": "b2ea4cfc-8cc9-4bd6-a81a-f30e2cbb6738",
   "metadata": {},
   "outputs": [
    {
     "ename": "IndentationError",
     "evalue": "expected an indented block (<ipython-input-6-266a3e7a8b6e>, line 7)",
     "output_type": "error",
     "traceback": [
      "\u001b[0;36m  File \u001b[0;32m\"<ipython-input-6-266a3e7a8b6e>\"\u001b[0;36m, line \u001b[0;32m7\u001b[0m\n\u001b[0;31m    i = 3\u001b[0m\n\u001b[0m    ^\u001b[0m\n\u001b[0;31mIndentationError\u001b[0m\u001b[0;31m:\u001b[0m expected an indented block\n"
     ]
    }
   ],
   "source": [
    "# boucle A\n",
    "i = 3\n",
    "j = 12\n",
    "while i > j:\n",
    "\n",
    "# boucle B\n",
    "i = 3\n",
    "while i < 10:\n",
    "\n",
    "# boucle C\n",
    "i = 5\n",
    "j = 5\n",
    "while i != j:\n",
    "\n",
    "# boucle D\n",
    "i = 3\n",
    "while i % 2 == 1:\n",
    "\n",
    "# boucle E\n",
    "i = 1\n",
    "j = 4\n",
    "while i + j <= 5 and j < 3:\n",
    "\n",
    "# boucle F\n",
    "i = 1\n",
    "j = 4\n",
    "while i + j <= 5 or j < 3:\n",
    "\n",
    "# boucle G\n",
    "i = 10\n",
    "j = 2\n",
    "while i + j <= 5 or j < 3:"
   ]
  },
  {
   "cell_type": "markdown",
   "id": "568e224f-889d-452f-bd44-cc00e50087f2",
   "metadata": {},
   "source": [
    "boucle A : i=3 < j=12 donc i n'est pas > j: quand on arrive à la boucle while celle-ci ne se lance pas.\n",
    "boucle B : i=3<10 donc i est bien inférieur à 10: quand on arrive à la boucle while celle-ci peut se lancer.\n",
    "boucle C : i=j=5 donc i n'est pas différent de j: quand on arrive à la boucle while celle-ci ne peut pas se lancer.\n",
    "boucle D : i=3 donc le reste de la division euclidienne de i par 2 est bien 1 : quand on arrive à la boucle while  celle-ci peut se lancer.\n",
    "boucle E : i+j=5; j=4>3 donc i+j est bien inférieur ou égal à 5 mais j>3 : quand on arrive à la boucle while celle-ci ne peut pas se lancer.\n",
    "boucle F : i+j=5 donc i+j est bien inférieur ou égal à 5 et cela nous suffit car c'est un or : : quand on arrive à la boucle while celle-ci peut se lancer.\n",
    "boucle G : i+j> 5; j<3 donc malgré que i+j ne soit pas inférieur ou égal à 5, j étant bien inférieur à 5 et la condition étant un or : quand on arrive à la boucle while celle-ci ne peut pas se lancer."
   ]
  },
  {
   "cell_type": "markdown",
   "id": "d79b9458-aebc-4b6f-ad84-29bdcdb95642",
   "metadata": {},
   "source": [
    "## 1.3 Droit de sortie"
   ]
  },
  {
   "cell_type": "markdown",
   "id": "1c3ff42a-dac1-41f6-8903-f16ee2e5f212",
   "metadata": {},
   "source": [
    "Une boucle doit se terminer après un certain nombre d'itérations. Pour cela il faut que le corps de boucle fasse progresser vers un cas d'arrêt de la boucle. C'est une vérification importante à effectuer systématiquement.\n",
    "\n",
    "Indiquez si les corps de boucle suivants progressent ou non vers un cas d'arrêt. Méthode : écrivez le ou les cas d'arrêt, et au besoin déroulez la boucle sur quelques itérations."
   ]
  },
  {
   "cell_type": "markdown",
   "id": "74791314-5a28-4966-9db3-caa0a6207548",
   "metadata": {},
   "source": [
    "**ATTENTION** : n'exécutez pas la cellule ! Si une boucle ne se termine pas, vous serez obligé de relancer le noyau..."
   ]
  },
  {
   "cell_type": "code",
   "execution_count": null,
   "id": "5aec2f73-e110-4d42-a93b-26c6450344ff",
   "metadata": {
    "tags": []
   },
   "outputs": [],
   "source": [
    "# boucle A\n",
    "i = 0\n",
    "while i != 10: \n",
    "    i += 2\n",
    "print i\n",
    "# boucle B  \n",
    "i = 0\n",
    "while i <= 10: \n",
    "    i += 2\n",
    "print i\n",
    "# boucle C\n",
    "i = 0\n",
    "while i < 10: \n",
    "    i += 2\n",
    "print i\n",
    "# boucle D\n",
    "i = 33\n",
    "while i != 0: \n",
    "    i //= 3\n",
    "print i\n",
    "# boucle E\n",
    "i = 33\n",
    "while i >= 0: \n",
    "    i //= 3\n",
    "print i\n",
    "# boucle F\n",
    "i = 33\n",
    "while i != 2: \n",
    "    i //= 3\n",
    "print i\n",
    "# boucle G\n",
    "i = 33\n",
    "while i != 1: \n",
    "    i //= 3\n",
    "print i"
   ]
  },
  {
   "cell_type": "markdown",
   "id": "f54aeb1f-f3f4-4060-8916-08a8dde31c81",
   "metadata": {},
   "source": [
    "Boucle A : condition d'arrêt: i égal à 10, la boucle progresse vers un cas d'arrêt car : i=0; i=2; i=4; i=6; i=8; i=10 fin du programme.\n",
    "Boucle B : condition d'arrêt: i atteint ou dépasse 10, la boucle progresse vers un cas d'arrêt car : i=0; i=2; i=4; i=6; i=8; i=10 fin du programme.\n",
    "Boucle C : condition d'arrêt: i dépasse 10, i=0; la boucle progresse vers un cas d'arrêt car : i=2; i=4; i=6; i=8; i=10; i=12; fin du programme.\n",
    "Boucle D : condition d'arrêt: i égal à 0 , la boucle ne progresse pas vers un cas d'arrêt car : i=33; i=11; i=3; i=1; i=1; ... \n",
    "Boucle E : condition d'arrêt: i inférieur à 0, la boucle ne progresse pas vers un cas d'arrêt car : i=33; i=11; i=3; i=1; i=1; ... \n",
    "Boucle F : condition d'arrêt: i égal à 2 , la boucle ne progresse pas vers un cas d'arrêt car : i=33; i=11; i=3; i=1; i=1; ...  (i ne passe pas par la valeur 2)\n",
    "Boucle G : condition d'arrêt: i égal à 1, la boucle progresse vers un cas d'arrêt car : i=33; i=11; i=3; i=1; fin du programme."
   ]
  },
  {
   "cell_type": "markdown",
   "id": "4470fa75-6947-48d3-8a8c-1afc20ba93ee",
   "metadata": {},
   "source": [
    "# 2. Réflexions sur la boucle ```for``` "
   ]
  },
  {
   "cell_type": "markdown",
   "id": "5fd9d17e-00cd-4c00-ba80-bdff7aea50c3",
   "metadata": {},
   "source": [
    "## 2.1 Rappels"
   ]
  },
  {
   "cell_type": "markdown",
   "id": "acfcf6b0-d82e-4652-a40e-6a8a93d5fce1",
   "metadata": {},
   "source": [
    "L'utilisation de `range()` avec la structure `for ... in ... :` est très pratique pour répéter une action un certain nombre de fois.\n",
    "\n",
    "Par exemple la cellule suivante va permettre d'écrire 10 fois le mot Python :"
   ]
  },
  {
   "cell_type": "code",
   "execution_count": 7,
   "id": "5d641854-fb44-443f-9b07-eb8a1b6f4cf0",
   "metadata": {},
   "outputs": [
    {
     "name": "stdout",
     "output_type": "stream",
     "text": [
      "Python\n",
      "Python\n",
      "Python\n",
      "Python\n",
      "Python\n",
      "Python\n",
      "Python\n",
      "Python\n",
      "Python\n",
      "Python\n",
      "Fini\n"
     ]
    }
   ],
   "source": [
    "for i in range(10):\n",
    "    print('Python') # ligne indentée \n",
    "print('Fini') # pas d'indentation : hors parcours"
   ]
  },
  {
   "cell_type": "markdown",
   "id": "37b2d003-cfa6-4d88-82a5-8653efb11ddf",
   "metadata": {},
   "source": [
    "On peut répéter plusieurs instructions en respectant l'indentation (lignes 3-4-5 ci-dessous). On sort du parcours `for` en revenant en début de ligne (ligne 6 ci-dessous)."
   ]
  },
  {
   "cell_type": "code",
   "execution_count": 8,
   "id": "a7a966ba-7338-4124-8e13-8a79291b286f",
   "metadata": {},
   "outputs": [
    {
     "name": "stdout",
     "output_type": "stream",
     "text": [
      "0 : Python\n",
      "1 : PythonPython\n",
      "2 : PythonPythonPython\n",
      "3 : PythonPythonPythonPython\n",
      "4 : PythonPythonPythonPythonPython\n",
      "5 : PythonPythonPythonPythonPythonPython\n",
      "6 : PythonPythonPythonPythonPythonPythonPython\n",
      "7 : PythonPythonPythonPythonPythonPythonPythonPython\n",
      "8 : PythonPythonPythonPythonPythonPythonPythonPythonPython\n",
      "9 : PythonPythonPythonPythonPythonPythonPythonPythonPythonPython\n",
      "Fini\n"
     ]
    }
   ],
   "source": [
    "python = ''\n",
    "for i in range(10):\n",
    "    python = python + 'Python'\n",
    "    s = str(i) + ' : ' + python # ligne indentée ajoutée au parcours\n",
    "    print(s)  # autre ligne indentée ajoutée au parcours\n",
    "print('Fini') # pas d'indentation : hors parcours"
   ]
  },
  {
   "cell_type": "markdown",
   "id": "6866e72a-03cf-458e-adf0-66d86af1757f",
   "metadata": {},
   "source": [
    "​Comme le montre l'affichage de `i` dans la cellule ci-dessus, `range()` fournit en fait une suite de nombres entiers définie par les arguments passés entre les parenthèses.\n",
    "\n",
    "On parcourt cette suite avec une structure `for ... in ... :`. Le nom de variable placé après le `for` est le nom qui permet d'accéder en lecture à l'entier à chaque itération.\n",
    "\n",
    "Il y a trois façons de l'utiliser, avec 1, 2 ou 3 arguments anonymes.\n",
    "```python\n",
    "for i in range(stop)               # i va de 0 à stop-1 par pas de 1   \n",
    "for i in range(start, stop)        # i va de start à stop-1 par pas de 1\n",
    "for i in range(start, stop, step)  # i va de start à stop-1 par pas de step (step peut être négatif)\n",
    "```"
   ]
  },
  {
   "cell_type": "markdown",
   "id": "dc013364-dff0-460b-b2b6-4d0b5b731c9d",
   "metadata": {},
   "source": [
    "Notez que ces utilisations sont de plus en plus génériques, la dernière suffisant à traiter tous les cas.\n",
    "\n",
    "Ainsi :\n",
    "```python\n",
    "for i in range(stop)               \n",
    "```"
   ]
  },
  {
   "cell_type": "markdown",
   "id": "8b0daf40-ecfe-4e6a-b609-37faf18d0ae0",
   "metadata": {},
   "source": [
    "peut s'écrire :\n",
    "```python\n",
    "for i in range(0, stop)        \n",
    "for i in range(0, stop, 1)  \n",
    "```"
   ]
  },
  {
   "cell_type": "markdown",
   "id": "778b6013-0550-4e86-a068-2cb468bf6d96",
   "metadata": {},
   "source": [
    "et :\n",
    "```python\n",
    "for i in range(start, stop)        \n",
    "```"
   ]
  },
  {
   "cell_type": "markdown",
   "id": "6bc3b18e-0d09-4e27-98eb-1ec15747e3ed",
   "metadata": {},
   "source": [
    "peut s'écrire :\n",
    "```python\n",
    "for i in range(start, stop, 1)  \n",
    "```"
   ]
  },
  {
   "cell_type": "markdown",
   "id": "14940e81-4f18-4e8b-b219-84fb14091c3a",
   "metadata": {},
   "source": [
    "## 2.2 Exercices"
   ]
  },
  {
   "cell_type": "markdown",
   "id": "b7057986-5f9e-4696-aa69-d9454ebddf2c",
   "metadata": {},
   "source": [
    "### 2.2.1 Parcours imposés"
   ]
  },
  {
   "cell_type": "markdown",
   "id": "f4eed5e7-3150-4157-8fb9-a4753f9a5f62",
   "metadata": {},
   "source": [
    "En choisissant l'utilisation la plus appropriée, affichez ou utilisez les valeurs fournies par `range()` en respectant les consignes suivantes.\n",
    "\n",
    "1) Affichez les entiers de 0 à 10 inclus."
   ]
  },
  {
   "cell_type": "code",
   "execution_count": 16,
   "id": "fb7020a6-f8bf-44da-afca-13902a487df2",
   "metadata": {},
   "outputs": [
    {
     "name": "stdout",
     "output_type": "stream",
     "text": [
      "0  1  2  3  4  5  6  7  8  9  10  "
     ]
    }
   ],
   "source": [
    "for i in range(11):\n",
    "    print (i, end='  ')"
   ]
  },
  {
   "cell_type": "markdown",
   "id": "c5555e5d-844c-4653-96b9-79633791b9aa",
   "metadata": {},
   "source": [
    "2) Affichez les entiers de -5 à 5 inclus."
   ]
  },
  {
   "cell_type": "code",
   "execution_count": 24,
   "id": "82caaa85-4a31-435f-b0e2-69edc950faff",
   "metadata": {},
   "outputs": [
    {
     "name": "stdout",
     "output_type": "stream",
     "text": [
      "-5  -4  -3  -2  -1  0  1  2  3  4  5  "
     ]
    }
   ],
   "source": [
    "for i in range(-5,6):\n",
    "    print (i, end='  ')"
   ]
  },
  {
   "cell_type": "markdown",
   "id": "2877a9dc-c0b5-4c74-82d0-84e36364755c",
   "metadata": {},
   "source": [
    "3) Affichez les entiers pairs de 0 à 10 inclus."
   ]
  },
  {
   "cell_type": "code",
   "execution_count": 22,
   "id": "239f1470-545b-469b-8671-5ed181bbd908",
   "metadata": {},
   "outputs": [
    {
     "name": "stdout",
     "output_type": "stream",
     "text": [
      "0  2  4  6  8  10  "
     ]
    }
   ],
   "source": [
    "for i in range(0,11,2):\n",
    "    print (i, end='  ')"
   ]
  },
  {
   "cell_type": "markdown",
   "id": "75e82077-c023-43ef-b1b4-4666d848a5e9",
   "metadata": {},
   "source": [
    "4) Affichez les entiers de 10 à 0 inclus avec un pas négatif."
   ]
  },
  {
   "cell_type": "code",
   "execution_count": 26,
   "id": "d8822142-5072-492e-b83e-50d958c7a671",
   "metadata": {},
   "outputs": [
    {
     "name": "stdout",
     "output_type": "stream",
     "text": [
      "10  9  8  7  6  5  4  3  2  1  0  "
     ]
    }
   ],
   "source": [
    "for i in range(10,-1,-1):\n",
    "    print (i, end='  ')"
   ]
  },
  {
   "cell_type": "markdown",
   "id": "072b1363-f3fa-4b8a-9eb0-59e25c502437",
   "metadata": {},
   "source": [
    "5) Affichez les entiers de 10 à 0 inclus avec un pas positif sans utiliser de variable supplémentaire."
   ]
  },
  {
   "cell_type": "code",
   "execution_count": 27,
   "id": "d56f0516-4ffc-4f89-9a17-1e91d4ba416b",
   "metadata": {},
   "outputs": [
    {
     "name": "stdout",
     "output_type": "stream",
     "text": [
      "10  9  8  7  6  5  4  3  2  1  0  "
     ]
    }
   ],
   "source": [
    "for i in range(11):\n",
    "    print (10-i, end='  ')"
   ]
  },
  {
   "cell_type": "markdown",
   "id": "b11813a7-3309-48e4-906a-26119ebf4fc7",
   "metadata": {
    "tags": []
   },
   "source": [
    "6) Affichez les entiers pairs de 20 à 0 inclus."
   ]
  },
  {
   "cell_type": "code",
   "execution_count": 35,
   "id": "0a75bd1c-e145-4ed9-9a8d-5cb718961929",
   "metadata": {},
   "outputs": [
    {
     "name": "stdout",
     "output_type": "stream",
     "text": [
      "20  18  16  14  12  10  8  6  4  2  0  "
     ]
    }
   ],
   "source": [
    "for i in range(20,-1,-2):\n",
    "    print (i, end='  ')"
   ]
  },
  {
   "cell_type": "markdown",
   "id": "7abb13d6-7004-4d93-a1e6-b8705344536c",
   "metadata": {
    "tags": []
   },
   "source": [
    "7) Affichez une suite de 12 nombres dont chaque terme (qui doit être différent de 0) est égal au triple du terme précédent. "
   ]
  },
  {
   "cell_type": "code",
   "execution_count": 41,
   "id": "9846af3a-93c3-4113-8bec-14e705835b44",
   "metadata": {},
   "outputs": [
    {
     "name": "stdout",
     "output_type": "stream",
     "text": [
      "6  18  54  162  486  1458  4374  13122  39366  118098  354294  1062882  "
     ]
    }
   ],
   "source": [
    "a=2\n",
    "for i in range(12):\n",
    "    a*=3\n",
    "    print (a, end='  ')"
   ]
  },
  {
   "cell_type": "markdown",
   "id": "6c9fc820-0c1f-4c23-ac05-cd391829d1b4",
   "metadata": {},
   "source": [
    "8) Sans modifier les arguments de `range()` donnés dans le code fourni dans la cellule ci-dessous, trouvez comment respecter l'affichage demandé en ajoutant une seule instruction `print()` dans chaque parcours, de manière à obtenir au final :\n",
    "\n",
    "    0 1 0 1 0 1 0 1 0 1 0 \n",
    "    \n",
    "    0 1 2 0 1 2 0 1 2 0 1 \n",
    "    \n",
    "    0 1 2 3 4 0 1 2 3 4 0 1 2 3 4 0 1 2 3 4 \n",
    "    \n",
    ">**Indice :** un opérateur proche de la division est bien utile...    "
   ]
  },
  {
   "cell_type": "code",
   "execution_count": 43,
   "id": "742cece2-74a2-4302-bd38-902a080c4967",
   "metadata": {},
   "outputs": [
    {
     "name": "stdout",
     "output_type": "stream",
     "text": [
      "0 1 0 1 0 1 0 1 0 1 0 \n",
      "0 1 2 0 1 2 0 1 2 0 1 \n",
      "0 1 2 3 4 0 1 2 3 4 0 1 2 3 4 0 1 2 3 4 "
     ]
    }
   ],
   "source": [
    "for i in range(11):\n",
    "    # afficher successivement 0 et 1\n",
    "    print(i%2, end=' ')\n",
    "print()  # passage à la ligne\n",
    "for i in range(11):\n",
    "    # afficher successivement 0, 1, 2\n",
    "    print(i%3, end=' ')\n",
    "print()  # passage à la ligne\n",
    "for i in range(20):\n",
    "    # afficher successivement 0, 1, 2, 3, 4\n",
    "    print(i%5, end=' ')"
   ]
  },
  {
   "cell_type": "markdown",
   "id": "7c68dd0e-32d2-4b29-aede-258e8a3092ff",
   "metadata": {},
   "source": [
    "### 2.2.2 Boucles et parcours"
   ]
  },
  {
   "cell_type": "markdown",
   "id": "e167c9b4-86e1-4fa6-a88f-0fc6a6aa4014",
   "metadata": {
    "tags": []
   },
   "source": [
    "Transformez les parcours suivants en boucles `while`."
   ]
  },
  {
   "cell_type": "code",
   "execution_count": 44,
   "id": "02b13041-9511-49e6-b650-31c3c435dd12",
   "metadata": {
    "tags": []
   },
   "outputs": [
    {
     "name": "stdout",
     "output_type": "stream",
     "text": [
      "0 1 2 3 4 5 6 7 8 9 "
     ]
    }
   ],
   "source": [
    "for i in range(10):\n",
    "    print(i, end=' ')"
   ]
  },
  {
   "cell_type": "code",
   "execution_count": 45,
   "id": "b2ef419d-8291-4ee6-aefd-5bdf0c224759",
   "metadata": {
    "tags": []
   },
   "outputs": [
    {
     "name": "stdout",
     "output_type": "stream",
     "text": [
      "0 1 2 3 4 5 6 7 8 9 "
     ]
    }
   ],
   "source": [
    "i=0\n",
    "while i<10:\n",
    "    print(i, end=' ')\n",
    "    i+=1"
   ]
  },
  {
   "cell_type": "code",
   "execution_count": 47,
   "id": "1869535f-cc9f-4c11-b554-118d17b98414",
   "metadata": {
    "tags": []
   },
   "outputs": [
    {
     "name": "stdout",
     "output_type": "stream",
     "text": [
      "2 5 8 11 14 17 20 23 26 "
     ]
    }
   ],
   "source": [
    "for i in range(2, 28, 3):\n",
    "    print(i, end=' ')"
   ]
  },
  {
   "cell_type": "code",
   "execution_count": 46,
   "id": "d53bd194-4966-43ab-be0e-bd87327cd800",
   "metadata": {
    "tags": []
   },
   "outputs": [
    {
     "name": "stdout",
     "output_type": "stream",
     "text": [
      "2 5 8 11 14 17 20 23 26 "
     ]
    }
   ],
   "source": [
    "i=2\n",
    "while i<28:\n",
    "    print(i, end=' ')\n",
    "    i+=3"
   ]
  },
  {
   "cell_type": "code",
   "execution_count": 48,
   "id": "14ea1d59-af19-413e-a29e-72188edc75fc",
   "metadata": {
    "tags": []
   },
   "outputs": [
    {
     "name": "stdout",
     "output_type": "stream",
     "text": [
      "100 90 80 70 60 50 40 30 20 10 0 "
     ]
    }
   ],
   "source": [
    "for i in range(100,-1,-10):\n",
    "    print(i, end=' ')"
   ]
  },
  {
   "cell_type": "code",
   "execution_count": 49,
   "id": "8d940f2f-e806-4427-85b1-b37fc32c4837",
   "metadata": {
    "tags": []
   },
   "outputs": [
    {
     "name": "stdout",
     "output_type": "stream",
     "text": [
      "100 90 80 70 60 50 40 30 20 10 0 "
     ]
    }
   ],
   "source": [
    "i=100\n",
    "while i>-1:\n",
    "    print(i, end=' ')\n",
    "    i+=-10"
   ]
  },
  {
   "cell_type": "markdown",
   "id": "77d743a0-54e2-4df8-8643-57fa7d5550e9",
   "metadata": {},
   "source": [
    "### 2.2.3 Calcul d'intérêts"
   ]
  },
  {
   "cell_type": "markdown",
   "id": "645c5582-d7d0-439a-9d76-563a6cccfb5d",
   "metadata": {},
   "source": [
    "Programmez le calcul du solde d'un compte bancaire ayant un solde initial de 1000 euros, après 12 ans de prise d'intérêts. L'intérêt annuel est fixé à un taux de 5% et les intérêts sont ajoutés au solde chaque année.\n",
    "\n",
    "Faites en sorte que votre code soit le plus souple possible : le montant de départ, le taux et le nombre d'années doivent pouvoir être modifiés facilement.\n",
    "\n",
    "La précision de l'affichage du solde se limitera aux centimes.\n",
    "\n",
    "Avec les valeurs initiales données, voici les valeurs du solde au cours des douze ans : \n",
    "\n",
    "    1000, 1050.0, 1102.5, 1157.62, 1215.51, 1276.28, 1340.1, 1407.1, 1477.46, 1551.33, 1628.89, 1710.34, 1795.86\n",
    "    \n",
    "Rappel du calcul des intérêts pour une année :\n",
    "    \n",
    "    nouveauSolde = ancienSolde + (ancienSolde * taux)"
   ]
  },
  {
   "cell_type": "code",
   "execution_count": 77,
   "id": "713a005b-696b-445b-aa4d-3114b757d67a",
   "metadata": {
    "scrolled": true
   },
   "outputs": [
    {
     "name": "stdout",
     "output_type": "stream",
     "text": [
      "1885.65, 1050.0, 1102.5, 1157.62, 1215.51, 1276.28, 1340.1, 1407.1, 1477.46, 1551.33, 1628.89, 1710.34, 1795.86\n"
     ]
    }
   ],
   "source": [
    "solde=1000 #solde de départ en euros\n",
    "taux=0.05 #taux d'intérêt du compte\n",
    "nban=12 #nombre d'années de prise d'intérêt\n",
    "t=''\n",
    "for i in range(nban):\n",
    "    print(a, end=', ')\n",
    "    solde+=solde*taux\n",
    "    a=solde\n",
    "    a=round(a,2)\n",
    "print(a)\n"
   ]
  },
  {
   "cell_type": "markdown",
   "id": "a26b04c4-9574-4338-b9d4-f523e748acc3",
   "metadata": {},
   "source": [
    "### 2.2.4 Les macarons"
   ]
  },
  {
   "cell_type": "markdown",
   "id": "94e6468c-6df7-476f-a05a-17ef404cd76b",
   "metadata": {},
   "source": [
    "En observant la figure ci-dessous, écrivez (sans coder) la formule permettant de trouver combien de macarons comporte une face de ce présentoir de macarons à 5 rangées.\n",
    "\n",
    "    macarons =  1 + ... \n",
    "    \n",
    "<div align=\"middle\"> <img src=\"https://iut-info.univ-reims.fr/users/romaniuk/restricted/S1AlgoProg/ressources/macarons.jpg\" alt=\"\" width=\"400\"> </div>"
   ]
  },
  {
   "cell_type": "markdown",
   "id": "7e6a96af-a240-4618-a2e6-20e12561acf1",
   "metadata": {},
   "source": [
    "macarons=1+2+3+4+5 "
   ]
  },
  {
   "cell_type": "markdown",
   "id": "25c66f7c-aa0f-4c9c-97da-3e7e300b88f0",
   "metadata": {},
   "source": [
    "Transformez cette formule en code utilisant la boucle `for` et `range()` pour obtenir le résultat."
   ]
  },
  {
   "cell_type": "code",
   "execution_count": 79,
   "id": "7d0230d6-9d6e-4506-94bf-378c577b7c45",
   "metadata": {},
   "outputs": [
    {
     "name": "stdout",
     "output_type": "stream",
     "text": [
      "15\n"
     ]
    }
   ],
   "source": [
    "macarons=0\n",
    "for i in range(5):\n",
    "    macarons+=i+1\n",
    "print (macarons)"
   ]
  },
  {
   "cell_type": "markdown",
   "id": "b9fed5af-5c06-4106-9d92-917e543b60c1",
   "metadata": {},
   "source": [
    "Que devient la formule pour `N` rangées ?"
   ]
  },
  {
   "cell_type": "markdown",
   "id": "6060b788-1eb7-4530-9ac7-8ef7a24584c6",
   "metadata": {},
   "source": [
    "macarons=N(N+1/2)"
   ]
  },
  {
   "cell_type": "markdown",
   "id": "922134d8-d788-454d-ad77-2f215d22b0e4",
   "metadata": {},
   "source": [
    "Déduisez de cette formule comment transformer la boucle précédente pour donner le nombre de macarons composant une face d'un présentoir ayant un nombre de rangées saisi par l'utilisateur."
   ]
  },
  {
   "cell_type": "code",
   "execution_count": 12,
   "id": "9b63a021-1f87-4d44-a8bb-37ea9470f052",
   "metadata": {},
   "outputs": [
    {
     "name": "stdout",
     "output_type": "stream",
     "text": [
      "nombre de rangée :10\n",
      "55\n"
     ]
    }
   ],
   "source": [
    "N=int(input(\"nombre de rangée :\"))\n",
    "macarons=0\n",
    "for i in range(N+1):\n",
    "    macarons+=i\n",
    "print (macarons)"
   ]
  },
  {
   "cell_type": "markdown",
   "id": "e32e3c3c-8761-4373-b51b-300df907588f",
   "metadata": {},
   "source": [
    "Réécrivez votre solution en utilisant la boucle `while`"
   ]
  },
  {
   "cell_type": "code",
   "execution_count": 13,
   "id": "b384cd17-687a-484d-b023-9fc175673606",
   "metadata": {},
   "outputs": [
    {
     "name": "stdout",
     "output_type": "stream",
     "text": [
      "nombre de rangée :5\n",
      "15\n"
     ]
    }
   ],
   "source": [
    "N=int(input(\"nombre de rangée :\"))\n",
    "macarons=0\n",
    "while N>0:\n",
    "    macarons+=N\n",
    "    N+=-1\n",
    "print (macarons)"
   ]
  },
  {
   "cell_type": "markdown",
   "id": "28acf0e3-e0f7-4ccd-b082-c9e80eeb21cc",
   "metadata": {},
   "source": [
    "# 3. Manipulation des chaînes de caractères"
   ]
  },
  {
   "cell_type": "markdown",
   "id": "677840bc-6610-4c98-b073-3a01263239f7",
   "metadata": {},
   "source": [
    "## 3.1 Rappels"
   ]
  },
  {
   "cell_type": "markdown",
   "id": "a7694718-a8d7-42dc-b80a-12c6bd25cc2a",
   "metadata": {},
   "source": [
    "### 2.1.1 Quelques questions"
   ]
  },
  {
   "cell_type": "markdown",
   "id": "da444e21-4137-42ba-8db6-01a98c72b3df",
   "metadata": {},
   "source": [
    "Répondez aux questions suivantes.\n",
    "\n",
    "1. Quel est le type correspondant à une chaîne de caractères ?\n",
    "1. Comment se caractérise dans le code une chaîne de caractères ? Donnez un exemple.\n",
    "1. Quelle est la fonction permettant de connaître la taille d'une chaîne de caractères ?\n",
    "1. Quel est l'indice du premier caractère d'une chaîne de caractères ?\n",
    "1. Si on connaît la taille `t` d'une chaîne de caractères, quel est l'indice de son dernier caractère ?\n",
    "1. Si `s` a 5 caractères, comment récupérer le deuxième caractère ? \n",
    "1. Comment fait-on pour concaténer (\"coller\") deux chaîne de caractères `s1` et `s2` ?\n",
    "1. Que donne l'expression `'AL' * 3 + 'A'` ?"
   ]
  },
  {
   "cell_type": "markdown",
   "id": "4bea04c8-86c7-4820-a00c-495cc5b3c57a",
   "metadata": {},
   "source": [
    "1. str\n",
    "2. On la note 'string'\n",
    "3. len()\n",
    "4. 0\n",
    "5. t-1\n",
    "6. s[1]\n",
    "7. s1+s2\n",
    "8. 'ALALALA'"
   ]
  },
  {
   "cell_type": "markdown",
   "id": "291903ab-4490-4eca-847d-34934a62fa3c",
   "metadata": {},
   "source": [
    "### 3.1.2 Parcours"
   ]
  },
  {
   "cell_type": "markdown",
   "id": "37458a09-8ac0-4689-8ac8-6e4ec7122d52",
   "metadata": {},
   "source": [
    "On peut utiliser la structure `for ... in ... :` pour parcourir une chaîne de caractères, soit directement, soit avec les indices. Dans le cadre de ce TP on se limitera à la seconde solution."
   ]
  },
  {
   "cell_type": "markdown",
   "id": "7eef9bf9-cfd1-482f-962f-55cd44b8833a",
   "metadata": {},
   "source": [
    "L'opérateur crochets permet l'accès à tous (ou certains) caractères de la chaîne de caractères ."
   ]
  },
  {
   "cell_type": "code",
   "execution_count": 14,
   "id": "f2def0fd-458c-447b-ac8b-a8288bd5a5b2",
   "metadata": {},
   "outputs": [
    {
     "name": "stdout",
     "output_type": "stream",
     "text": [
      "c\n",
      "h\n",
      "a\n",
      "î\n",
      "n\n",
      "e\n",
      " \n",
      "d\n",
      "e\n",
      " \n",
      "c\n",
      "a\n",
      "r\n",
      "a\n",
      "c\n",
      "t\n",
      "è\n",
      "r\n",
      "e\n",
      "s\n"
     ]
    }
   ],
   "source": [
    "s = 'chaîne de caractères'\n",
    "for i in range(len(s)):  # i représente l'indice courant\n",
    "    print(s[i])          # accès au caractère de s d'indice i"
   ]
  },
  {
   "cell_type": "markdown",
   "id": "19169256-d436-4db0-9359-2633a2244a6b",
   "metadata": {},
   "source": [
    "### 3.1.3 Hasard"
   ]
  },
  {
   "cell_type": "markdown",
   "id": "a85499de-5bf2-430a-a0a7-603b109b0044",
   "metadata": {},
   "source": [
    "La fonction `choice()` (qui nécessite l'import de `random` que vous avez fait normalement en début de ce notebook) permet de tirer au sort un caractère d'une chaîne de caractères qui lui est passée en argument :"
   ]
  },
  {
   "cell_type": "code",
   "execution_count": 60,
   "id": "4bf351f3-f438-4db4-a498-3e0b50778bd4",
   "metadata": {},
   "outputs": [
    {
     "name": "stdout",
     "output_type": "stream",
     "text": [
      "s\n",
      "t\n",
      "z\n",
      "bgfpbofkegdqfpebhiftkvtfbwwvxp"
     ]
    }
   ],
   "source": [
    "c = choice('essai')\n",
    "print(c)\n",
    "print(choice('autre essai'))\n",
    "alphabet = 'abcdefghijklmnopqrstuvwxyz'\n",
    "print(choice(alphabet))\n",
    "for i in range(30):\n",
    "    print(choice(alphabet), end='')"
   ]
  },
  {
   "cell_type": "markdown",
   "id": "48b3645c-5597-48e7-98b9-ea9378716e01",
   "metadata": {},
   "source": [
    "## 3.2 Exercices"
   ]
  },
  {
   "cell_type": "markdown",
   "id": "a49a654c-8d2a-4c75-9a9d-4615f3135251",
   "metadata": {},
   "source": [
    "### 3.2.1 Dans l'ordre"
   ]
  },
  {
   "cell_type": "markdown",
   "id": "602705e8-bc8e-4181-a607-f4f671baeb17",
   "metadata": {},
   "source": [
    "Affichez dans l'ordre tous les indices valides d'une chaîne de caractères `mot` saisie par l'utilisateur, en partant du premier. Pour vérifier sa validité, chaque indice `i` sera suivi du caractère correspondant à cet indice.\n",
    "\n",
    "Exemple :\n",
    "\n",
    "    Mot ? test\n",
    "    0 t\n",
    "    1 e\n",
    "    2 s\n",
    "    3 t"
   ]
  },
  {
   "cell_type": "code",
   "execution_count": 61,
   "id": "ce1a12f4-53e6-484f-b163-b2c27dfb1afd",
   "metadata": {},
   "outputs": [
    {
     "name": "stdout",
     "output_type": "stream",
     "text": [
      "Mot? test\n",
      "0 t\n",
      "1 e\n",
      "2 s\n",
      "3 t\n"
     ]
    }
   ],
   "source": [
    "mot=input('Mot? ')\n",
    "for i in range(len(mot)):\n",
    "    print(i,mot[i])"
   ]
  },
  {
   "cell_type": "markdown",
   "id": "65f9a438-8ca8-4f70-bea0-3dcc127d9103",
   "metadata": {},
   "source": [
    "### 3.2.2 Ordre inverse"
   ]
  },
  {
   "cell_type": "markdown",
   "id": "551fc288-fc60-430d-88eb-43a4f850fcad",
   "metadata": {},
   "source": [
    "Affichez dans l'ordre inverse tous les indices valides d'une chaîne de caractères `mot` saisie par l'utilisateur, en partant du dernier. Pour vérifier sa validité, chaque indice `i` sera suivi du caractère correspondant à cet indice.\n",
    "\n",
    "Exemple :\n",
    "\n",
    "    Mot ? test\n",
    "    3 t\n",
    "    2 s\n",
    "    1 e\n",
    "    0 t"
   ]
  },
  {
   "cell_type": "code",
   "execution_count": 70,
   "id": "27c3382a-326f-4190-8f7a-2d509a70ff9e",
   "metadata": {
    "scrolled": true
   },
   "outputs": [
    {
     "name": "stdout",
     "output_type": "stream",
     "text": [
      "Mot? test\n",
      "3 t\n",
      "2 s\n",
      "1 e\n",
      "0 t\n"
     ]
    }
   ],
   "source": [
    "mot=input('Mot? ')\n",
    "t=len(mot)\n",
    "for i in range(t-1,-1,-1):\n",
    "    print(i,mot[i])"
   ]
  },
  {
   "cell_type": "markdown",
   "id": "961e69ea-ede2-44b0-9519-b1a1a9ff6ec2",
   "metadata": {},
   "source": [
    "### 3.2.3 Une lettre sur deux"
   ]
  },
  {
   "cell_type": "markdown",
   "id": "6a07d860-6808-4e14-a904-588677f19478",
   "metadata": {},
   "source": [
    "Faites saisir un mot par l'utilisateur, puis affichez un mot composé des lettres de ce mot uniquement d'indice pair.\n",
    "Par exemple si le mot saisi est `FABRIK` le programme doit afficher `FBI`."
   ]
  },
  {
   "cell_type": "code",
   "execution_count": 72,
   "id": "766fac90-38b5-48c4-8e4a-70048ab5ad55",
   "metadata": {},
   "outputs": [
    {
     "name": "stdout",
     "output_type": "stream",
     "text": [
      "Un mot ? Axel COUDROT\n",
      "Ae ODO"
     ]
    }
   ],
   "source": [
    "mot=input('Un mot ? ')\n",
    "for i in range(0,len(mot),2):\n",
    "    print(mot[i], end='')"
   ]
  },
  {
   "cell_type": "markdown",
   "id": "bdf0e626-2273-47f2-9668-9fab0a4cee98",
   "metadata": {},
   "source": [
    "### 3.2.4 Inversion"
   ]
  },
  {
   "cell_type": "markdown",
   "id": "b30a035c-8665-46fe-ab08-e9735e062120",
   "metadata": {},
   "source": [
    "Faites saisir un mot par l'utilisateur, créez puis affichez l'inverse de ce mot.\n",
    "\n",
    "Exemple : `mot` doit donner `tom`."
   ]
  },
  {
   "cell_type": "code",
   "execution_count": 77,
   "id": "c6dc8a98-8c67-4242-8c69-0d623f1aae82",
   "metadata": {
    "scrolled": true
   },
   "outputs": [
    {
     "name": "stdout",
     "output_type": "stream",
     "text": [
      "Un mot ? Axel Coudrot\n",
      "torduoC lexA"
     ]
    }
   ],
   "source": [
    "mot=input('Un mot ? ')\n",
    "for i in range(len(mot)-1,-1,-1):\n",
    "    print(mot[i], end='')"
   ]
  },
  {
   "cell_type": "markdown",
   "id": "264e524f-4a7f-482f-9c9d-5c24713a8baf",
   "metadata": {},
   "source": [
    "### 3.2.5 Mot en pyramide"
   ]
  },
  {
   "cell_type": "markdown",
   "id": "3f3abb84-3912-448d-915f-40619a1210b4",
   "metadata": {},
   "source": [
    "Faites saisir un mot par l'utilisateur, puis affichez ce mot sous forme d'une pyramide. \n",
    "Par exemple si le mot saisi est `Bonjour`, l'affichage devra être :\n",
    "````\n",
    "B\n",
    "Bo\n",
    "Bon\n",
    "Bonj\n",
    "Bonjo\n",
    "Bonjou\n",
    "Bonjour\n",
    "````"
   ]
  },
  {
   "cell_type": "code",
   "execution_count": 80,
   "id": "758b98b3-523e-48f7-885f-d7865286c757",
   "metadata": {},
   "outputs": [
    {
     "name": "stdout",
     "output_type": "stream",
     "text": [
      "Un mot ? Bonjour\n",
      "B\n",
      "Bo\n",
      "Bon\n",
      "Bonj\n",
      "Bonjo\n",
      "Bonjou\n",
      "Bonjour\n"
     ]
    }
   ],
   "source": [
    "mot=input('Un mot ? ')\n",
    "string=''\n",
    "for i in range(0,len(mot)):\n",
    "    string+=mot[i]\n",
    "    print(string)"
   ]
  },
  {
   "cell_type": "markdown",
   "id": "7abe0a80-59d6-4fe9-8c41-d60bf18cc787",
   "metadata": {},
   "source": [
    "# 4. Listes"
   ]
  },
  {
   "cell_type": "markdown",
   "id": "dca92226-f533-43fb-916a-f0991550c35e",
   "metadata": {},
   "source": [
    "## 4.1 Rappels"
   ]
  },
  {
   "cell_type": "markdown",
   "id": "f27bbdca-be36-4131-87cb-533c4d5f1830",
   "metadata": {},
   "source": [
    "### 4.1.1 Quelques questions"
   ]
  },
  {
   "cell_type": "markdown",
   "id": "c24ea763-af81-453d-ab10-cb02399ca27e",
   "metadata": {},
   "source": [
    "Répondez aux questions suivantes.\n",
    "\n",
    "1. Quel est le type correspondant à une liste ?\n",
    "1. Comment se caractérise dans le code une liste ? Donnez un exemple.\n",
    "1. Quelle est la fonction permettant de connaître la taille d'une liste ?\n",
    "1. Quel est l'indice du premier élément d'une liste ?\n",
    "1. Si on connaît la taille `t` d'une liste, quel est l'indice de son dernier élément ?\n",
    "1. Si `l` a 5 éléments, comment récupérer le deuxième caractère ? \n",
    "1. Comment fait-on pour concaténer (\"coller\") deux listes `l1` et `l2` ?\n",
    "1. Que donne l'expression `[0, '1'] * 2 + [1.2]` ?"
   ]
  },
  {
   "cell_type": "markdown",
   "id": "a20385a9-dced-43ec-a01e-0d4cfac7f32f",
   "metadata": {},
   "source": [
    "1. list\n",
    "2. [] si vide sinon [e1,e2,...,en-1,en] avec les ek les éléments de la liste\n",
    "3. len(nomdelaliste)\n",
    "4. 0\n",
    "5. t-1\n",
    "6. l[1]\n",
    "7. l1+l2\n",
    "8. [0, '1', 0, '1', 1.2]"
   ]
  },
  {
   "cell_type": "markdown",
   "id": "96c28370-c68d-4d69-be57-d879690cac02",
   "metadata": {},
   "source": [
    "Comparez vos réponses avec celles des questions sur les chaînes de caractères."
   ]
  },
  {
   "cell_type": "markdown",
   "id": "b7f04f4f-147d-42d9-abbc-ab6bcf05ac3d",
   "metadata": {},
   "source": [
    "### 4.1.2 Différences entre `str` et `list`"
   ]
  },
  {
   "cell_type": "markdown",
   "id": "39532ff6-2d14-4082-ba4a-143cd7570a9f",
   "metadata": {},
   "source": [
    "L'exercice précédent vous montre de nombreux points communs entre `str` et `list`. Voici trois particularités de `list` à garder en mémoire."
   ]
  },
  {
   "cell_type": "markdown",
   "id": "4fbb3ba2-d359-4fd4-9fe0-88741bfe3efa",
   "metadata": {},
   "source": [
    "#### 4.1.2.1 Contenu d'une liste"
   ]
  },
  {
   "cell_type": "markdown",
   "id": "61d3bfe2-db7e-453f-b311-a306171ee1ee",
   "metadata": {},
   "source": [
    "Une chaîne de caractères ne contient que des caractères : une liste en revanche est une structure permettant de stocker différentes données de tout type dans un certain ordre."
   ]
  },
  {
   "cell_type": "code",
   "execution_count": 83,
   "id": "e755f10d-8cc0-4465-b540-b3cabda8e7b6",
   "metadata": {
    "scrolled": true
   },
   "outputs": [
    {
     "name": "stdout",
     "output_type": "stream",
     "text": [
      "[1, 2, 3, 'python', 3.14]\n"
     ]
    }
   ],
   "source": [
    "liste = [1, 2, 3, 'python', 3.14]  # affectation : la liste contient 3 types de données\n",
    "print(liste)                       # affichage"
   ]
  },
  {
   "cell_type": "markdown",
   "id": "7cffc530-77ee-476b-953d-d974293e1521",
   "metadata": {},
   "source": [
    "#### 4.1.2.2 Suppression d'un élément"
   ]
  },
  {
   "cell_type": "markdown",
   "id": "95b89ae8-fc4d-41ee-84ce-be41f1df0806",
   "metadata": {},
   "source": [
    "Comme pour toute variable, on peut supprimer un élément d'une liste avec son indice par le mot-clé `del` :"
   ]
  },
  {
   "cell_type": "code",
   "execution_count": 84,
   "id": "f8d32e12-34f4-4b13-8563-552e5c5b7bee",
   "metadata": {},
   "outputs": [
    {
     "name": "stdout",
     "output_type": "stream",
     "text": [
      "[1, 2, 3, 3.14]\n"
     ]
    }
   ],
   "source": [
    "del liste[3]\n",
    "print(liste) # 'python' a disparu"
   ]
  },
  {
   "cell_type": "markdown",
   "id": "f671070b-7808-4932-af02-49026bc91dea",
   "metadata": {},
   "source": [
    "### 4.1.3 Parcours"
   ]
  },
  {
   "cell_type": "markdown",
   "id": "54a35c4a-8c45-440d-9c40-bc16516af71b",
   "metadata": {},
   "source": [
    "Comme pour une chaîne de caractères, on peut utiliser la structure `for ... in ... :` pour parcourir une liste, soit directement, soit avec les indices. Dans le cadre de ce TP on se limitera à la seconde solution."
   ]
  },
  {
   "cell_type": "markdown",
   "id": "f42b7446-0206-4f54-a9e3-98021b002abc",
   "metadata": {},
   "source": [
    "On peut utiliser la structure `for ... in ... :`, les indices, `range()` et l'opérateur crochets pour parcourir tous (ou certains) éléments d'une liste."
   ]
  },
  {
   "cell_type": "code",
   "execution_count": 85,
   "id": "e69bbe18-27e6-4216-bfd0-89907b7c22ca",
   "metadata": {},
   "outputs": [
    {
     "name": "stdout",
     "output_type": "stream",
     "text": [
      "1\n",
      "2\n",
      "3\n",
      "python\n",
      "3.14\n"
     ]
    }
   ],
   "source": [
    "liste = [1, 2, 3, 'python', 3.14] \n",
    "for i in range(len(liste)):  # i représente l'indice courant\n",
    "    print(liste[i])          # accès à l'élément de liste d'indice i"
   ]
  },
  {
   "cell_type": "markdown",
   "id": "bfad3469-2a9d-4ad1-9aec-ac6fa7e555e3",
   "metadata": {},
   "source": [
    "### 4.1.4 Hasard"
   ]
  },
  {
   "cell_type": "markdown",
   "id": "44174def-57fd-4aad-a4b2-5b7e6118024e",
   "metadata": {},
   "source": [
    "Pour tirer au hasard un élément dans une liste on utilise la fonction ```choice()``` :"
   ]
  },
  {
   "cell_type": "code",
   "execution_count": 127,
   "id": "1e3f1bef-9f60-4087-b303-efe2bd4c6299",
   "metadata": {},
   "outputs": [
    {
     "name": "stdout",
     "output_type": "stream",
     "text": [
      "3\n",
      "python\n"
     ]
    }
   ],
   "source": [
    "# directement avec une liste\n",
    "r = choice([1, 2, 3, 4])\n",
    "print(r)\n",
    "# ou avec une variable de type list\n",
    "r = choice(liste)\n",
    "print(r)"
   ]
  },
  {
   "cell_type": "markdown",
   "id": "2a7af6b6-0dec-47b7-ab4e-0725bf70c215",
   "metadata": {},
   "source": [
    "Pour mélanger aléatoirement les éléments d'une liste on utilise la fonction `shuffle()` :"
   ]
  },
  {
   "cell_type": "code",
   "execution_count": 176,
   "id": "5ad2e20a-8319-4285-bc35-52e967437012",
   "metadata": {},
   "outputs": [
    {
     "name": "stdout",
     "output_type": "stream",
     "text": [
      "[3, 1, 2, 'python', 3.14]\n"
     ]
    }
   ],
   "source": [
    "shuffle(liste) # modifie liste en mélangeant ses éléments\n",
    "print(liste)"
   ]
  },
  {
   "cell_type": "markdown",
   "id": "90ac40cd-271a-4bde-9e1f-7d923033fb32",
   "metadata": {},
   "source": [
    "### 4.1.5 Tri"
   ]
  },
  {
   "cell_type": "markdown",
   "id": "595a0ded-7d5b-444a-8d0d-f5f563c94674",
   "metadata": {},
   "source": [
    "Pour obtenir une liste avec les éléments d'une autre liste **triés** on utilise la fonction `sorted()` :"
   ]
  },
  {
   "cell_type": "code",
   "execution_count": 179,
   "id": "f6233d2b-a695-4dfc-9173-e826d319e95b",
   "metadata": {},
   "outputs": [
    {
     "name": "stdout",
     "output_type": "stream",
     "text": [
      "[0, 1, 3, 5]\n",
      "[1, 2, 3.14, 4.2, 5]\n",
      "[5, 1, 4.2, 3.14, 2]\n"
     ]
    }
   ],
   "source": [
    "# directement avec une liste\n",
    "l = sorted([5, 0, 3, 1]) # pensez à stocker le résultat du tri !\n",
    "print(l)\n",
    "# ou avec une variable\n",
    "liste = [5, 1, 4.2, 3.14, 2] \n",
    "l = sorted(liste) # pensez à stocker le résultat du tri !\n",
    "print(l)\n",
    "# attention la liste originale n'a pas été modifiée\n",
    "print(liste)"
   ]
  },
  {
   "cell_type": "markdown",
   "id": "5ecd6309-3934-4bb8-9052-5585e0dd1a5a",
   "metadata": {},
   "source": [
    "## 4.2 Exercices"
   ]
  },
  {
   "cell_type": "markdown",
   "id": "9db2981a-6aa1-45bd-a45a-b047d347574b",
   "metadata": {},
   "source": [
    "### 4.2.1 Première liste"
   ]
  },
  {
   "cell_type": "markdown",
   "id": "9cb011f3-b044-4a6b-ba29-bfe38918a41a",
   "metadata": {},
   "source": [
    "Codez un programme qui doit :\n",
    "1. créer une liste vide nommée `hasard`\n",
    "1. tirer un nombre aléatoire `taille` entre 10 et 20\n",
    "1. remplir la liste de `taille` entiers aléatoires entre -10 et 10\n",
    "1. afficher la taille de la liste\n",
    "1. afficher le premier élément\n",
    "1. afficher le dernier élément (sans utiliser `taille`)\n",
    "1. afficher la liste\n",
    "1. supprimer tous les éléments d'indice de 0 à 4 dans un parcours\n",
    "1. afficher la liste\n",
    "1. afficher un élément tiré au sort"
   ]
  },
  {
   "cell_type": "code",
   "execution_count": 190,
   "id": "b7480ad9-9eb1-481d-af57-645ce00a963b",
   "metadata": {},
   "outputs": [
    {
     "name": "stdout",
     "output_type": "stream",
     "text": [
      "11\n",
      "12\n",
      "18\n",
      "[12, 9, 12, 4, 19, -1, -10, 20, 18, -4, 18]\n",
      "[-1, -10, 20, 18, -4, 18]\n",
      "18\n"
     ]
    }
   ],
   "source": [
    "hasard=[]\n",
    "taille=randint(10,20)\n",
    "for i in range(taille):\n",
    "    hasard+=[randint(-10,20)]\n",
    "print(taille)\n",
    "print(hasard[0])\n",
    "print(hasard[len(hasard)-1])\n",
    "print(hasard)\n",
    "for i in range(5):\n",
    "    del hasard[0]\n",
    "print(hasard)\n",
    "print(hasard[randint(0,taille-5)])"
   ]
  },
  {
   "cell_type": "markdown",
   "id": "5075b8c3-d7e7-4b15-885c-10872e048ea6",
   "metadata": {},
   "source": [
    "### 4.2.2 J'aime programmer"
   ]
  },
  {
   "cell_type": "markdown",
   "id": "ca321097-7eb0-462d-83bc-72b6d3982a8a",
   "metadata": {},
   "source": [
    "Exécutez la cellule suivante pour créer la liste de mots en mémoire."
   ]
  },
  {
   "cell_type": "code",
   "execution_count": 195,
   "id": "c31945ad-e7d2-41c1-8b2f-0ee0fa38eb47",
   "metadata": {},
   "outputs": [],
   "source": [
    "mots = [\"J'aime\", \"programmer\", \"en\", \"C++\"]"
   ]
  },
  {
   "cell_type": "markdown",
   "id": "ef31012a-9b13-4b06-8e71-0e1f7eab84a1",
   "metadata": {},
   "source": [
    "#### 4.2.2.1 Modification"
   ]
  },
  {
   "cell_type": "markdown",
   "id": "21aec2a2-8cdd-4743-ba98-c802dca190bd",
   "metadata": {},
   "source": [
    "Donnez l'instruction qui modifie un élément de la liste de manière à ce qu'elle devienne :\n",
    "```\n",
    "[\"J'aime\", 'programmer', 'en', 'Python']\n",
    "```"
   ]
  },
  {
   "cell_type": "code",
   "execution_count": 196,
   "id": "8fb2a29b-52d2-45b3-950c-bd2529c57b9a",
   "metadata": {},
   "outputs": [],
   "source": [
    "mots[len(mots)-1]='Python'"
   ]
  },
  {
   "cell_type": "markdown",
   "id": "31c437af-24f0-481a-9240-6cb88bffecd8",
   "metadata": {},
   "source": [
    "#### 4.2.2.2 Affichage"
   ]
  },
  {
   "cell_type": "markdown",
   "id": "af6f8dfc-727d-4fff-a82b-315106c0d6fa",
   "metadata": {},
   "source": [
    "Créez un programme qui affiche les mots dans l'ordre de la liste pour recomposer la phrase.\n",
    "\n",
    "    J'aime programmer en Python "
   ]
  },
  {
   "cell_type": "code",
   "execution_count": 203,
   "id": "a4775bc6-42f9-43fa-b370-01662e497d84",
   "metadata": {},
   "outputs": [
    {
     "name": "stdout",
     "output_type": "stream",
     "text": [
      "J'aime programmer en Python "
     ]
    }
   ],
   "source": [
    "for i in range(len(mots)):\n",
    "    print(mots[i], end=' ')"
   ]
  },
  {
   "cell_type": "markdown",
   "id": "a5a078b9-7cf6-4187-9352-05f07b194a7c",
   "metadata": {},
   "source": [
    "#### 4.2.2.3 Répétition"
   ]
  },
  {
   "cell_type": "markdown",
   "id": "98831796-f53d-4d0c-a09f-88074b01b0b7",
   "metadata": {},
   "source": [
    "Vous savez afficher la phrase une fois grâce à un parcours. Vous allez maintenant l'afficher 10 fois en *imbriquant* ce parcours dans un second parcours :\n",
    "```python\n",
    "# premier parcours pour répéter l'affichage\n",
    "for i in range(10):\n",
    "    # second parcours \"imbriqué\" pour afficher la phrase (exercice précédent)\n",
    "```"
   ]
  },
  {
   "cell_type": "markdown",
   "id": "6072d873-baf8-4255-9418-e6752ea32f4e",
   "metadata": {},
   "source": [
    "Vous devriez obtenir :\n",
    "\n",
    "    J'aime programmer en Python J'aime programmer en Python J'aime programmer en Python J'aime programmer en Python J'aime programmer en Python J'aime programmer en Python J'aime programmer en Python J'aime programmer en Python J'aime programmer en Python J'aime programmer en Python"
   ]
  },
  {
   "cell_type": "code",
   "execution_count": 205,
   "id": "90ab86e7-0656-4edd-ae4f-caf8d93bbfa1",
   "metadata": {},
   "outputs": [
    {
     "name": "stdout",
     "output_type": "stream",
     "text": [
      "J'aime programmer en Python J'aime programmer en Python J'aime programmer en Python J'aime programmer en Python J'aime programmer en Python J'aime programmer en Python J'aime programmer en Python J'aime programmer en Python J'aime programmer en Python J'aime programmer en Python "
     ]
    }
   ],
   "source": [
    "for j in range(10):\n",
    "    for i in range(len(mots)):\n",
    "        print(mots[i], end=' ')"
   ]
  },
  {
   "cell_type": "markdown",
   "id": "549144ec-3c8a-43b4-b035-f3e605d2c35a",
   "metadata": {},
   "source": [
    "# 5. Conception de boucles"
   ]
  },
  {
   "cell_type": "markdown",
   "id": "0822c5bf-3fdd-420d-9e3a-6910809ec5a9",
   "metadata": {},
   "source": [
    "Il est conseillé de mettre en commentaires avant la boucle le ou les cas d'arrêt, de traduire ces cas en code, puis d'utiliser la formulation :\n",
    "\n",
    "    while not (cas d'arrêt):\n",
    "    \n",
    "Vous pouvez ensuite simplifier en utilisant le cas échéant les lois de De Morgan : mais il vaut mieux une boucle correcte utilisant `not` que des conditions de poursuite sans `not` mais fausses ! "
   ]
  },
  {
   "cell_type": "markdown",
   "id": "696214a1-72a0-42ed-86f4-8bb78d292d35",
   "metadata": {},
   "source": [
    "## 5.1 Saisies"
   ]
  },
  {
   "cell_type": "markdown",
   "id": "2871603e-9607-4ec2-8275-c7f0132accb5",
   "metadata": {},
   "source": [
    "### 5.1.1 Pas nul !"
   ]
  },
  {
   "cell_type": "markdown",
   "id": "bf3daf31-ca44-4a1a-9263-63bb34a2f058",
   "metadata": {},
   "source": [
    "L'utilisateur doit saisir des nombres entiers qui sont stockés dans une liste, la saisie s'arrête quand il saisit 0. La liste est ensuite affichée."
   ]
  },
  {
   "cell_type": "code",
   "execution_count": 10,
   "id": "6f2b28df-af1c-4e3e-b387-f689825eac93",
   "metadata": {},
   "outputs": [
    {
     "name": "stdout",
     "output_type": "stream",
     "text": [
      "Un nombre : 4\n",
      "Un nombre : 84\n",
      "Un nombre : 0\n",
      "Voici la liste que vous avez saisie :  [4, 84, 0]\n"
     ]
    }
   ],
   "source": [
    "L=[]\n",
    "nb=1\n",
    "while not nb==0:\n",
    "    nb=int(input(\"Un nombre : \"))\n",
    "    L+=[nb]\n",
    "print (\"Voici la liste que vous avez saisie : \", L)"
   ]
  },
  {
   "cell_type": "markdown",
   "id": "518427db-2566-4c48-bcf8-fba074b857da",
   "metadata": {},
   "source": [
    "### 5.1.2 Saisie contrôlée"
   ]
  },
  {
   "cell_type": "markdown",
   "id": "4c982f59-4379-45df-84de-2675aad4c09f",
   "metadata": {},
   "source": [
    "Il arrive souvent qu'une saisie doive respecter une consigne, par exemple répondre par oui ou par non. Tant que l'utilisateur ne respecte pas cette consigne, la question est reposée.\n",
    "\n",
    "Codez une telle saisie : l'utilisateur ne doit répondre que par `'O'` ou `'N'`. \n",
    "\n",
    "La réponse retenue devra ensuite être affichée."
   ]
  },
  {
   "cell_type": "code",
   "execution_count": 4,
   "id": "4b284d18-7e64-4a9d-8d50-a502e44ac5be",
   "metadata": {
    "scrolled": true
   },
   "outputs": [
    {
     "name": "stdout",
     "output_type": "stream",
     "text": [
      "Saisissez O pour oui ou N pour non :oà\n",
      "Saisissez une valeur correcte!!!!!!!!!!!!!!!!!!!!! :o\n",
      "Saisissez une valeur correcte!!!!!!!!!!!!!!!!!!!!! :O\n"
     ]
    }
   ],
   "source": [
    "saisie=input('Saisissez O pour oui ou N pour non :')\n",
    "while not(saisie=='O' or saisie=='N'):\n",
    "    saisie=input('Saisissez une valeur correcte!!!!!!!!!!!!!!!!!!!!! :')"
   ]
  },
  {
   "cell_type": "markdown",
   "id": "9d46a99e-e6bc-404b-8f73-d3ce441d62a4",
   "metadata": {},
   "source": [
    "Reprenez votre boucle précédente, cette fois en acceptant aussi les minuscules"
   ]
  },
  {
   "cell_type": "code",
   "execution_count": 7,
   "id": "f861f91e-1f65-4125-b854-0cdc6ab9663c",
   "metadata": {},
   "outputs": [
    {
     "name": "stdout",
     "output_type": "stream",
     "text": [
      "Saisissez O pour oui ou N pour non :o\n"
     ]
    }
   ],
   "source": [
    "saisie=input('Saisissez O pour oui ou N pour non :')\n",
    "while not(saisie=='O' or saisie=='N' or saisie=='o' or saisie=='n'):\n",
    "    saisie=upper(input('Saisissez une valeur correcte!!!!!!!!!!!!!!!!!!!!! :'))"
   ]
  },
  {
   "cell_type": "markdown",
   "id": "2c2b170c-a2ef-4609-98c5-d3ccafacbab7",
   "metadata": {},
   "source": [
    "### 5.1.3 Noms"
   ]
  },
  {
   "cell_type": "markdown",
   "id": "a5f8afd7-bbd0-4173-b9d1-999451306afb",
   "metadata": {},
   "source": [
    "Écrivez un programme qui lit des noms de clients un par un sur l’entrée standard, les stocke dans une liste, jusqu’à ce que l’utilisateur saisisse _uniquement_ `\"fin\"` ou `\"FIN\"` (par exemple `\"Fin\"` ne doit pas être accepté). Les noms saisis ne doivent pas être modifiés. La liste des clients saisis sera affichée après la saisie. "
   ]
  },
  {
   "cell_type": "code",
   "execution_count": 9,
   "id": "1b3b9be7-10c2-4407-bf18-f2930c19ceb2",
   "metadata": {},
   "outputs": [
    {
     "name": "stdout",
     "output_type": "stream",
     "text": [
      "Premier client : dupont\n",
      "Client suivant : dupont\n",
      "Client suivant : dupont\n",
      "Client suivant : tom\n",
      "Client suivant : dupont\n",
      "Client suivant : dupont\n",
      "Client suivant : dupont\n",
      "Client suivant : dupont\n",
      "Client suivant : dupont\n",
      "Client suivant : dupont\n",
      "Client suivant : dupont\n",
      "Client suivant : dupont\n",
      "Client suivant : dupont\n",
      "Client suivant : dupont\n",
      "Client suivant : v\n",
      "Client suivant : dupont\n",
      "Client suivant : dupont\n",
      "Client suivant : dupont\n",
      "Client suivant : dupont\n",
      "Client suivant : dupont\n",
      "Client suivant : dupont\n",
      "Client suivant : fin\n",
      "Voici la liste de client que vous avez saisie :  ['dupont', 'dupont', 'dupont', 'tom', 'dupont', 'dupont', 'dupont', 'dupont', 'dupont', 'dupont', 'dupont', 'dupont', 'dupont', 'dupont', 'v', 'dupont', 'dupont', 'dupont', 'dupont', 'dupont', 'dupont']\n"
     ]
    }
   ],
   "source": [
    "L=[]\n",
    "nb=input(\"Premier client : \")\n",
    "while not(nb=='FIN' or nb=='fin'):\n",
    "    L+=[nb]\n",
    "    nb=input(\"Client suivant : \")\n",
    "print (\"Voici la liste de client que vous avez saisie : \", L)"
   ]
  },
  {
   "cell_type": "markdown",
   "id": "d1354282-4f54-4a16-bf59-c62039b5267b",
   "metadata": {},
   "source": [
    "### 5.1.4 Ne soyez pas négatifs"
   ]
  },
  {
   "cell_type": "markdown",
   "id": "fb825922-7e6a-4eca-8326-c2a95fab81e4",
   "metadata": {},
   "source": [
    "Écrivez un programme qui lit une suite de réels saisis au clavier et s’arrête au premier réel strictement négatif ou lorsque le nombre maximal de saisies préalablement renseigné par l'utilisateur est atteint. Seule la somme des réels sera affichée une fois la saisie terminée."
   ]
  },
  {
   "cell_type": "code",
   "execution_count": 17,
   "id": "be4c158a-5100-4797-9f2a-355d603ee859",
   "metadata": {},
   "outputs": [
    {
     "name": "stdout",
     "output_type": "stream",
     "text": [
      "Combien de réels voulez vous saisir? 446\n",
      "Premier réel : .46\n",
      "Réel suivant : 6\n",
      "Réel suivant : 4643\n",
      "Réel suivant : 415\n",
      "Réel suivant : -1\n",
      "La somme de vos réels vaut :  5064.46\n"
     ]
    }
   ],
   "source": [
    "taille=int(input('Combien de réels voulez vous saisir? '))\n",
    "nb=float(input(\"Premier réel : \"))\n",
    "L=0\n",
    "while not nb<0:\n",
    "    L+=nb\n",
    "    nb=float(input(\"Réel suivant : \"))\n",
    "print('La somme de vos réels vaut : ', L)"
   ]
  },
  {
   "cell_type": "markdown",
   "id": "ed9e7bcf-30a8-4456-ab4f-65c26e5c24b3",
   "metadata": {},
   "source": [
    "## 5.2 Aléatoire"
   ]
  },
  {
   "cell_type": "markdown",
   "id": "5f3a40de-ee61-44bd-b65b-50552ed09df3",
   "metadata": {},
   "source": [
    "Saisissez au clavier un entier cible compris entre 1 et 100.\n",
    "\n",
    "Écrivez un programme qui tire un entier entre 0 et 100 (inclus) au hasard et l’affiche jusqu’à ce que celui-ci soit égal à l’entier cibl. \n",
    "\n",
    "Le nombre de tirages nécessaire sera affiché à la fin du programme.\n",
    "\n",
    "Exemple d'affichage pour une cible égale à 55 :\n",
    "\n",
    "    5 6 2 50 41 76 69 88 84 44 67 87 46 38 34 98 90 98 47 11 90 46 55 \n",
    "    Nombre de tirages : 23"
   ]
  },
  {
   "cell_type": "code",
   "execution_count": 21,
   "id": "4e12d097-628d-44ee-8b4f-4df3c9afd05b",
   "metadata": {},
   "outputs": [
    {
     "name": "stdout",
     "output_type": "stream",
     "text": [
      "Entier cible compris entre 1 et 100: 46\n",
      "53\n",
      "55\n",
      "82\n",
      "8\n",
      "44\n",
      "34\n",
      "57\n",
      "39\n",
      "3\n",
      "49\n",
      "60\n",
      "76\n",
      "44\n",
      "45\n",
      "66\n",
      "99\n",
      "5\n",
      "41\n",
      "45\n",
      "79\n",
      "87\n",
      "94\n",
      "54\n",
      "32\n",
      "51\n",
      "68\n",
      "52\n",
      "10\n",
      "98\n",
      "62\n",
      "96\n",
      "65\n",
      "25\n",
      "68\n",
      "80\n",
      "80\n",
      "86\n",
      "26\n",
      "10\n",
      "61\n",
      "61\n",
      "18\n",
      "15\n",
      "53\n",
      "84\n",
      "19\n",
      "20\n",
      "65\n",
      "22\n",
      "89\n",
      "13\n",
      "65\n",
      "92\n",
      "52\n",
      "57\n",
      "43\n",
      "80\n",
      "70\n",
      "39\n",
      "95\n",
      "15\n",
      "11\n",
      "59\n",
      "1\n",
      "84\n",
      "76\n",
      "19\n",
      "12\n",
      "18\n",
      "29\n",
      "33\n",
      "37\n",
      "54\n",
      "11\n",
      "18\n",
      "82\n",
      "2\n",
      "7\n",
      "18\n",
      "18\n",
      "62\n",
      "9\n",
      "58\n",
      "43\n",
      "20\n",
      "90\n",
      "73\n",
      "51\n",
      "47\n",
      "58\n",
      "66\n",
      "43\n",
      "97\n",
      "35\n",
      "77\n",
      "29\n",
      "93\n",
      "55\n",
      "20\n",
      "52\n",
      "32\n",
      "53\n",
      "65\n",
      "85\n",
      "19\n",
      "93\n",
      "22\n",
      "98\n",
      "74\n",
      "50\n",
      "92\n",
      "45\n",
      "15\n",
      "84\n",
      "18\n",
      "31\n",
      "46\n",
      "Nombre de tirages :  117\n"
     ]
    }
   ],
   "source": [
    "e=int(input('Entier cible compris entre 1 et 100: '))\n",
    "o=0\n",
    "nb=0\n",
    "while e!=o:\n",
    "    o=randint(0,100)\n",
    "    nb+=1\n",
    "    print(o)\n",
    "print('Nombre de tirages : ',nb)"
   ]
  },
  {
   "cell_type": "markdown",
   "id": "7afddeaf-6327-46e0-9b0e-fd0ceed0ce59",
   "metadata": {},
   "source": [
    "# 6 Boucles et Objets"
   ]
  },
  {
   "cell_type": "markdown",
   "id": "007c3adb-ead4-48af-a4cf-1893c1278f3b",
   "metadata": {},
   "source": [
    "## 6.1 Guirlande"
   ]
  },
  {
   "cell_type": "markdown",
   "id": "333464b7-e209-4a8e-a118-31447270a9eb",
   "metadata": {},
   "source": [
    "Réalisez un programme dessinant une guirlande composée de 17 cercles rouges et verts de rayon 20 pixels en alternant les deux couleurs. Le canevas s'adaptera à la dimension de la guirlande.\n",
    "\n",
    "<div align = \"middle\"><img src=\"https://iut-info.univ-reims.fr/users/romaniuk/restricted/S1AlgoProg/ressources/circles.png\" alt=\"image absente\" width=\"680\" > </div>\n",
    "\n",
    "Votre code doit permettre de changer facilement la couleur, le nombre et le rayon des cercles.\n",
    "\n",
    "> Vous pourrez stocker les couleurs dans une liste"
   ]
  },
  {
   "cell_type": "code",
   "execution_count": 50,
   "id": "be8189c1-e9f4-4e08-8692-edbc7b43cd5f",
   "metadata": {},
   "outputs": [
    {
     "data": {
      "image/svg+xml": [
       "<svg baseProfile=\"full\" height=\"40\" version=\"1.1\" width=\"680\" xmlns=\"http://www.w3.org/2000/svg\" xmlns:ev=\"http://www.w3.org/2001/xml-events\" xmlns:xlink=\"http://www.w3.org/1999/xlink\"><defs /><circle cx=\"20\" cy=\"20\" fill=\"#ff0000\" fill-opacity=\"1.0\" r=\"20\" stroke=\"#000000\" stroke-width=\"1\" /><circle cx=\"60\" cy=\"20\" fill=\"#00ff00\" fill-opacity=\"1.0\" r=\"20\" stroke=\"#000000\" stroke-width=\"1\" /><circle cx=\"100\" cy=\"20\" fill=\"#ff0000\" fill-opacity=\"1.0\" r=\"20\" stroke=\"#000000\" stroke-width=\"1\" /><circle cx=\"140\" cy=\"20\" fill=\"#00ff00\" fill-opacity=\"1.0\" r=\"20\" stroke=\"#000000\" stroke-width=\"1\" /><circle cx=\"180\" cy=\"20\" fill=\"#ff0000\" fill-opacity=\"1.0\" r=\"20\" stroke=\"#000000\" stroke-width=\"1\" /><circle cx=\"220\" cy=\"20\" fill=\"#00ff00\" fill-opacity=\"1.0\" r=\"20\" stroke=\"#000000\" stroke-width=\"1\" /><circle cx=\"260\" cy=\"20\" fill=\"#ff0000\" fill-opacity=\"1.0\" r=\"20\" stroke=\"#000000\" stroke-width=\"1\" /><circle cx=\"300\" cy=\"20\" fill=\"#00ff00\" fill-opacity=\"1.0\" r=\"20\" stroke=\"#000000\" stroke-width=\"1\" /><circle cx=\"340\" cy=\"20\" fill=\"#ff0000\" fill-opacity=\"1.0\" r=\"20\" stroke=\"#000000\" stroke-width=\"1\" /><circle cx=\"380\" cy=\"20\" fill=\"#00ff00\" fill-opacity=\"1.0\" r=\"20\" stroke=\"#000000\" stroke-width=\"1\" /><circle cx=\"420\" cy=\"20\" fill=\"#ff0000\" fill-opacity=\"1.0\" r=\"20\" stroke=\"#000000\" stroke-width=\"1\" /><circle cx=\"460\" cy=\"20\" fill=\"#00ff00\" fill-opacity=\"1.0\" r=\"20\" stroke=\"#000000\" stroke-width=\"1\" /><circle cx=\"500\" cy=\"20\" fill=\"#ff0000\" fill-opacity=\"1.0\" r=\"20\" stroke=\"#000000\" stroke-width=\"1\" /><circle cx=\"540\" cy=\"20\" fill=\"#00ff00\" fill-opacity=\"1.0\" r=\"20\" stroke=\"#000000\" stroke-width=\"1\" /><circle cx=\"580\" cy=\"20\" fill=\"#ff0000\" fill-opacity=\"1.0\" r=\"20\" stroke=\"#000000\" stroke-width=\"1\" /><circle cx=\"620\" cy=\"20\" fill=\"#00ff00\" fill-opacity=\"1.0\" r=\"20\" stroke=\"#000000\" stroke-width=\"1\" /><circle cx=\"660\" cy=\"20\" fill=\"#ff0000\" fill-opacity=\"1.0\" r=\"20\" stroke=\"#000000\" stroke-width=\"1\" /></svg>"
      ],
      "text/plain": [
       "<Canvas (680, 40)>"
      ]
     },
     "metadata": {},
     "output_type": "display_data"
    }
   ],
   "source": [
    "L=[red,lime]\n",
    "Lguirlande=17\n",
    "rayons=20\n",
    "largeur=rayons*Lguirlande*2\n",
    "hauteur=rayons*2\n",
    "cv=Canvas((largeur,hauteur))\n",
    "x=rayons\n",
    "y=rayons\n",
    "for i in range(Lguirlande):\n",
    "    c=Circle((x,y),rayons)\n",
    "    n=i%2\n",
    "    c.setFill(L[n])\n",
    "    cv.draw(c)\n",
    "    x+=rayons*2\n",
    "cv.display()"
   ]
  },
  {
   "cell_type": "markdown",
   "id": "58f1dcec-d046-4bc0-b994-5cacce32321f",
   "metadata": {},
   "source": [
    "## 6.2 Guirlande multicolore"
   ]
  },
  {
   "cell_type": "markdown",
   "id": "f9ffed5c-f1aa-4d0d-bc75-4aeb995e7e74",
   "metadata": {},
   "source": [
    "On souhaite maintenant disposer d'une girlande multicolore où 5 couleurs différentes vont être alternées, les 5 couleurs apparaissant toujours dans le même ordre. Modifiez le programme précédent afin d'obtenir le résultat demandé. "
   ]
  },
  {
   "cell_type": "code",
   "execution_count": 3,
   "id": "d016da51-baab-4bd7-a4ca-3baddd0d5f79",
   "metadata": {},
   "outputs": [
    {
     "data": {
      "image/svg+xml": [
       "<svg baseProfile=\"full\" height=\"40\" version=\"1.1\" width=\"680\" xmlns=\"http://www.w3.org/2000/svg\" xmlns:ev=\"http://www.w3.org/2001/xml-events\" xmlns:xlink=\"http://www.w3.org/1999/xlink\"><defs /><circle cx=\"20\" cy=\"20\" fill=\"#ff0000\" fill-opacity=\"1.0\" r=\"20\" stroke=\"#000000\" stroke-width=\"1\" /><circle cx=\"60\" cy=\"20\" fill=\"#00ff00\" fill-opacity=\"1.0\" r=\"20\" stroke=\"#000000\" stroke-width=\"1\" /><circle cx=\"100\" cy=\"20\" fill=\"#ff8000\" fill-opacity=\"1.0\" r=\"20\" stroke=\"#000000\" stroke-width=\"1\" /><circle cx=\"140\" cy=\"20\" fill=\"#00ffff\" fill-opacity=\"1.0\" r=\"20\" stroke=\"#000000\" stroke-width=\"1\" /><circle cx=\"180\" cy=\"20\" fill=\"#ffff00\" fill-opacity=\"1.0\" r=\"20\" stroke=\"#000000\" stroke-width=\"1\" /><circle cx=\"220\" cy=\"20\" fill=\"#ff0000\" fill-opacity=\"1.0\" r=\"20\" stroke=\"#000000\" stroke-width=\"1\" /><circle cx=\"260\" cy=\"20\" fill=\"#00ff00\" fill-opacity=\"1.0\" r=\"20\" stroke=\"#000000\" stroke-width=\"1\" /><circle cx=\"300\" cy=\"20\" fill=\"#ff8000\" fill-opacity=\"1.0\" r=\"20\" stroke=\"#000000\" stroke-width=\"1\" /><circle cx=\"340\" cy=\"20\" fill=\"#00ffff\" fill-opacity=\"1.0\" r=\"20\" stroke=\"#000000\" stroke-width=\"1\" /><circle cx=\"380\" cy=\"20\" fill=\"#ffff00\" fill-opacity=\"1.0\" r=\"20\" stroke=\"#000000\" stroke-width=\"1\" /><circle cx=\"420\" cy=\"20\" fill=\"#ff0000\" fill-opacity=\"1.0\" r=\"20\" stroke=\"#000000\" stroke-width=\"1\" /><circle cx=\"460\" cy=\"20\" fill=\"#00ff00\" fill-opacity=\"1.0\" r=\"20\" stroke=\"#000000\" stroke-width=\"1\" /><circle cx=\"500\" cy=\"20\" fill=\"#ff8000\" fill-opacity=\"1.0\" r=\"20\" stroke=\"#000000\" stroke-width=\"1\" /><circle cx=\"540\" cy=\"20\" fill=\"#00ffff\" fill-opacity=\"1.0\" r=\"20\" stroke=\"#000000\" stroke-width=\"1\" /><circle cx=\"580\" cy=\"20\" fill=\"#ffff00\" fill-opacity=\"1.0\" r=\"20\" stroke=\"#000000\" stroke-width=\"1\" /><circle cx=\"620\" cy=\"20\" fill=\"#ff0000\" fill-opacity=\"1.0\" r=\"20\" stroke=\"#000000\" stroke-width=\"1\" /><circle cx=\"660\" cy=\"20\" fill=\"#00ff00\" fill-opacity=\"1.0\" r=\"20\" stroke=\"#000000\" stroke-width=\"1\" /></svg>"
      ],
      "text/plain": [
       "<Canvas (680, 40)>"
      ]
     },
     "metadata": {},
     "output_type": "display_data"
    }
   ],
   "source": [
    "L=[red,lime,orange,cyan,yellow]\n",
    "Lguirlande=17\n",
    "rayons=20\n",
    "largeur=rayons*Lguirlande*2\n",
    "hauteur=rayons*2\n",
    "cv=Canvas((largeur,hauteur))\n",
    "x=rayons\n",
    "y=rayons\n",
    "for i in range(Lguirlande):\n",
    "    c=Circle((x,y),rayons)\n",
    "    n=i%5\n",
    "    c.setFill(L[n])\n",
    "    cv.draw(c)\n",
    "    x+=rayons*2\n",
    "cv.display()"
   ]
  },
  {
   "cell_type": "markdown",
   "id": "2712b652-a5bd-46e9-99b3-6dedd11d8929",
   "metadata": {},
   "source": [
    "## 6.3 Guirlande animée"
   ]
  },
  {
   "cell_type": "markdown",
   "id": "03faa1ef-24ea-405d-9ada-76e5ececd87e",
   "metadata": {},
   "source": [
    "Vous allez enrichir votre dessin de la guirlande bicolore en faisant clignoter votre guirlande : faites alternez 20 fois les deux couleurs dans chaque cercle. Pour cela vous pouvez stocker votre guirlande dans une liste de cercles, de façon à pouvoir la parcourir pour la dessiner puis en changer les couleurs.\n",
    "\n",
    "<div align=middle> <img src=\"https://iut-info.univ-reims.fr/users/romaniuk/restricted/S1AlgoProg/ressources/guirlande.gif\" alt=\"image absente\" width=\"680\"></div>"
   ]
  },
  {
   "cell_type": "code",
   "execution_count": 8,
   "id": "20aa71f0-86e9-46c2-9ffd-8722aceaef31",
   "metadata": {},
   "outputs": [
    {
     "ename": "KeyboardInterrupt",
     "evalue": "",
     "output_type": "error",
     "traceback": [
      "\u001b[0;31m---------------------------------------------------------------------------\u001b[0m",
      "\u001b[0;31mKeyboardInterrupt\u001b[0m                         Traceback (most recent call last)",
      "\u001b[0;32m<ipython-input-8-83fbad62062c>\u001b[0m in \u001b[0;36m<module>\u001b[0;34m\u001b[0m\n\u001b[1;32m     28\u001b[0m         \u001b[0mc\u001b[0m\u001b[0;34m.\u001b[0m\u001b[0msetFill\u001b[0m\u001b[0;34m(\u001b[0m\u001b[0mL\u001b[0m\u001b[0;34m[\u001b[0m\u001b[0mn\u001b[0m\u001b[0;34m]\u001b[0m\u001b[0;34m)\u001b[0m\u001b[0;34m\u001b[0m\u001b[0;34m\u001b[0m\u001b[0m\n\u001b[1;32m     29\u001b[0m         \u001b[0mcv\u001b[0m\u001b[0;34m.\u001b[0m\u001b[0mdraw\u001b[0m\u001b[0;34m(\u001b[0m\u001b[0mc\u001b[0m\u001b[0;34m)\u001b[0m\u001b[0;34m\u001b[0m\u001b[0;34m\u001b[0m\u001b[0m\n\u001b[0;32m---> 30\u001b[0;31m     \u001b[0mcv\u001b[0m\u001b[0;34m.\u001b[0m\u001b[0mdisplayPause\u001b[0m\u001b[0;34m(\u001b[0m\u001b[0;36m0.3\u001b[0m\u001b[0;34m)\u001b[0m\u001b[0;34m\u001b[0m\u001b[0;34m\u001b[0m\u001b[0m\n\u001b[0m",
      "\u001b[0;32m/usr/lib/python3/dist-packages/dutgraphics.py\u001b[0m in \u001b[0;36mdisplayPause\u001b[0;34m(self, delay)\u001b[0m\n\u001b[1;32m    238\u001b[0m             \u001b[0msleep\u001b[0m\u001b[0;34m(\u001b[0m\u001b[0mdelay\u001b[0m\u001b[0;34m)\u001b[0m\u001b[0;34m\u001b[0m\u001b[0;34m\u001b[0m\u001b[0m\n\u001b[1;32m    239\u001b[0m         \u001b[0mclear_output\u001b[0m\u001b[0;34m(\u001b[0m\u001b[0;32mTrue\u001b[0m\u001b[0;34m)\u001b[0m\u001b[0;34m\u001b[0m\u001b[0;34m\u001b[0m\u001b[0m\n\u001b[0;32m--> 240\u001b[0;31m         \u001b[0mdisplay\u001b[0m\u001b[0;34m(\u001b[0m\u001b[0mself\u001b[0m\u001b[0;34m)\u001b[0m\u001b[0;34m\u001b[0m\u001b[0;34m\u001b[0m\u001b[0m\n\u001b[0m\u001b[1;32m    241\u001b[0m         \u001b[0;32mreturn\u001b[0m \u001b[0;32mNone\u001b[0m\u001b[0;34m\u001b[0m\u001b[0;34m\u001b[0m\u001b[0m\n\u001b[1;32m    242\u001b[0m \u001b[0;34m\u001b[0m\u001b[0m\n",
      "\u001b[0;32m/usr/local/lib/python3.8/dist-packages/metakernel/display.py\u001b[0m in \u001b[0;36mdisplay\u001b[0;34m(*args, **kwargs)\u001b[0m\n\u001b[1;32m     11\u001b[0m         \u001b[0mkernel\u001b[0m\u001b[0;34m.\u001b[0m\u001b[0mDisplay\u001b[0m\u001b[0;34m(\u001b[0m\u001b[0;34m*\u001b[0m\u001b[0margs\u001b[0m\u001b[0;34m,\u001b[0m \u001b[0;34m**\u001b[0m\u001b[0mkwargs\u001b[0m\u001b[0;34m)\u001b[0m\u001b[0;34m\u001b[0m\u001b[0;34m\u001b[0m\u001b[0m\n\u001b[1;32m     12\u001b[0m     \u001b[0;32melse\u001b[0m\u001b[0;34m:\u001b[0m\u001b[0;34m\u001b[0m\u001b[0;34m\u001b[0m\u001b[0m\n\u001b[0;32m---> 13\u001b[0;31m         \u001b[0mipdisplay\u001b[0m\u001b[0;34m(\u001b[0m\u001b[0;34m*\u001b[0m\u001b[0margs\u001b[0m\u001b[0;34m,\u001b[0m \u001b[0;34m**\u001b[0m\u001b[0mkwargs\u001b[0m\u001b[0;34m)\u001b[0m\u001b[0;34m\u001b[0m\u001b[0;34m\u001b[0m\u001b[0m\n\u001b[0m\u001b[1;32m     14\u001b[0m \u001b[0;34m\u001b[0m\u001b[0m\n\u001b[1;32m     15\u001b[0m \u001b[0;32mdef\u001b[0m \u001b[0mclear_output\u001b[0m\u001b[0;34m(\u001b[0m\u001b[0;34m*\u001b[0m\u001b[0margs\u001b[0m\u001b[0;34m,\u001b[0m \u001b[0;34m**\u001b[0m\u001b[0mkwargs\u001b[0m\u001b[0;34m)\u001b[0m\u001b[0;34m:\u001b[0m\u001b[0;34m\u001b[0m\u001b[0;34m\u001b[0m\u001b[0m\n",
      "\u001b[0;32m/usr/local/lib/python3.8/dist-packages/IPython/core/display.py\u001b[0m in \u001b[0;36mdisplay\u001b[0;34m(include, exclude, metadata, transient, display_id, *objs, **kwargs)\u001b[0m\n\u001b[1;32m    318\u001b[0m             \u001b[0mpublish_display_data\u001b[0m\u001b[0;34m(\u001b[0m\u001b[0mdata\u001b[0m\u001b[0;34m=\u001b[0m\u001b[0mobj\u001b[0m\u001b[0;34m,\u001b[0m \u001b[0mmetadata\u001b[0m\u001b[0;34m=\u001b[0m\u001b[0mmetadata\u001b[0m\u001b[0;34m,\u001b[0m \u001b[0;34m**\u001b[0m\u001b[0mkwargs\u001b[0m\u001b[0;34m)\u001b[0m\u001b[0;34m\u001b[0m\u001b[0;34m\u001b[0m\u001b[0m\n\u001b[1;32m    319\u001b[0m         \u001b[0;32melse\u001b[0m\u001b[0;34m:\u001b[0m\u001b[0;34m\u001b[0m\u001b[0;34m\u001b[0m\u001b[0m\n\u001b[0;32m--> 320\u001b[0;31m             \u001b[0mformat_dict\u001b[0m\u001b[0;34m,\u001b[0m \u001b[0mmd_dict\u001b[0m \u001b[0;34m=\u001b[0m \u001b[0mformat\u001b[0m\u001b[0;34m(\u001b[0m\u001b[0mobj\u001b[0m\u001b[0;34m,\u001b[0m \u001b[0minclude\u001b[0m\u001b[0;34m=\u001b[0m\u001b[0minclude\u001b[0m\u001b[0;34m,\u001b[0m \u001b[0mexclude\u001b[0m\u001b[0;34m=\u001b[0m\u001b[0mexclude\u001b[0m\u001b[0;34m)\u001b[0m\u001b[0;34m\u001b[0m\u001b[0;34m\u001b[0m\u001b[0m\n\u001b[0m\u001b[1;32m    321\u001b[0m             \u001b[0;32mif\u001b[0m \u001b[0;32mnot\u001b[0m \u001b[0mformat_dict\u001b[0m\u001b[0;34m:\u001b[0m\u001b[0;34m\u001b[0m\u001b[0;34m\u001b[0m\u001b[0m\n\u001b[1;32m    322\u001b[0m                 \u001b[0;31m# nothing to display (e.g. _ipython_display_ took over)\u001b[0m\u001b[0;34m\u001b[0m\u001b[0;34m\u001b[0m\u001b[0;34m\u001b[0m\u001b[0m\n",
      "\u001b[0;32m/usr/local/lib/python3.8/dist-packages/IPython/core/formatters.py\u001b[0m in \u001b[0;36mformat\u001b[0;34m(self, obj, include, exclude)\u001b[0m\n\u001b[1;32m    178\u001b[0m             \u001b[0mmd\u001b[0m \u001b[0;34m=\u001b[0m \u001b[0;32mNone\u001b[0m\u001b[0;34m\u001b[0m\u001b[0;34m\u001b[0m\u001b[0m\n\u001b[1;32m    179\u001b[0m             \u001b[0;32mtry\u001b[0m\u001b[0;34m:\u001b[0m\u001b[0;34m\u001b[0m\u001b[0;34m\u001b[0m\u001b[0m\n\u001b[0;32m--> 180\u001b[0;31m                 \u001b[0mdata\u001b[0m \u001b[0;34m=\u001b[0m \u001b[0mformatter\u001b[0m\u001b[0;34m(\u001b[0m\u001b[0mobj\u001b[0m\u001b[0;34m)\u001b[0m\u001b[0;34m\u001b[0m\u001b[0;34m\u001b[0m\u001b[0m\n\u001b[0m\u001b[1;32m    181\u001b[0m             \u001b[0;32mexcept\u001b[0m\u001b[0;34m:\u001b[0m\u001b[0;34m\u001b[0m\u001b[0;34m\u001b[0m\u001b[0m\n\u001b[1;32m    182\u001b[0m                 \u001b[0;31m# FIXME: log the exception\u001b[0m\u001b[0;34m\u001b[0m\u001b[0;34m\u001b[0m\u001b[0;34m\u001b[0m\u001b[0m\n",
      "\u001b[0;32m/usr/local/lib/python3.8/dist-packages/decorator.py\u001b[0m in \u001b[0;36mfun\u001b[0;34m(*args, **kw)\u001b[0m\n\u001b[1;32m    230\u001b[0m             \u001b[0;32mif\u001b[0m \u001b[0;32mnot\u001b[0m \u001b[0mkwsyntax\u001b[0m\u001b[0;34m:\u001b[0m\u001b[0;34m\u001b[0m\u001b[0;34m\u001b[0m\u001b[0m\n\u001b[1;32m    231\u001b[0m                 \u001b[0margs\u001b[0m\u001b[0;34m,\u001b[0m \u001b[0mkw\u001b[0m \u001b[0;34m=\u001b[0m \u001b[0mfix\u001b[0m\u001b[0;34m(\u001b[0m\u001b[0margs\u001b[0m\u001b[0;34m,\u001b[0m \u001b[0mkw\u001b[0m\u001b[0;34m,\u001b[0m \u001b[0msig\u001b[0m\u001b[0;34m)\u001b[0m\u001b[0;34m\u001b[0m\u001b[0;34m\u001b[0m\u001b[0m\n\u001b[0;32m--> 232\u001b[0;31m             \u001b[0;32mreturn\u001b[0m \u001b[0mcaller\u001b[0m\u001b[0;34m(\u001b[0m\u001b[0mfunc\u001b[0m\u001b[0;34m,\u001b[0m \u001b[0;34m*\u001b[0m\u001b[0;34m(\u001b[0m\u001b[0mextras\u001b[0m \u001b[0;34m+\u001b[0m \u001b[0margs\u001b[0m\u001b[0;34m)\u001b[0m\u001b[0;34m,\u001b[0m \u001b[0;34m**\u001b[0m\u001b[0mkw\u001b[0m\u001b[0;34m)\u001b[0m\u001b[0;34m\u001b[0m\u001b[0;34m\u001b[0m\u001b[0m\n\u001b[0m\u001b[1;32m    233\u001b[0m     \u001b[0mfun\u001b[0m\u001b[0;34m.\u001b[0m\u001b[0m__name__\u001b[0m \u001b[0;34m=\u001b[0m \u001b[0mfunc\u001b[0m\u001b[0;34m.\u001b[0m\u001b[0m__name__\u001b[0m\u001b[0;34m\u001b[0m\u001b[0;34m\u001b[0m\u001b[0m\n\u001b[1;32m    234\u001b[0m     \u001b[0mfun\u001b[0m\u001b[0;34m.\u001b[0m\u001b[0m__doc__\u001b[0m \u001b[0;34m=\u001b[0m \u001b[0mfunc\u001b[0m\u001b[0;34m.\u001b[0m\u001b[0m__doc__\u001b[0m\u001b[0;34m\u001b[0m\u001b[0;34m\u001b[0m\u001b[0m\n",
      "\u001b[0;32m/usr/local/lib/python3.8/dist-packages/IPython/core/formatters.py\u001b[0m in \u001b[0;36mcatch_format_error\u001b[0;34m(method, self, *args, **kwargs)\u001b[0m\n\u001b[1;32m    222\u001b[0m     \u001b[0;34m\"\"\"show traceback on failed format call\"\"\"\u001b[0m\u001b[0;34m\u001b[0m\u001b[0;34m\u001b[0m\u001b[0m\n\u001b[1;32m    223\u001b[0m     \u001b[0;32mtry\u001b[0m\u001b[0;34m:\u001b[0m\u001b[0;34m\u001b[0m\u001b[0;34m\u001b[0m\u001b[0m\n\u001b[0;32m--> 224\u001b[0;31m         \u001b[0mr\u001b[0m \u001b[0;34m=\u001b[0m \u001b[0mmethod\u001b[0m\u001b[0;34m(\u001b[0m\u001b[0mself\u001b[0m\u001b[0;34m,\u001b[0m \u001b[0;34m*\u001b[0m\u001b[0margs\u001b[0m\u001b[0;34m,\u001b[0m \u001b[0;34m**\u001b[0m\u001b[0mkwargs\u001b[0m\u001b[0;34m)\u001b[0m\u001b[0;34m\u001b[0m\u001b[0;34m\u001b[0m\u001b[0m\n\u001b[0m\u001b[1;32m    225\u001b[0m     \u001b[0;32mexcept\u001b[0m \u001b[0mNotImplementedError\u001b[0m\u001b[0;34m:\u001b[0m\u001b[0;34m\u001b[0m\u001b[0;34m\u001b[0m\u001b[0m\n\u001b[1;32m    226\u001b[0m         \u001b[0;31m# don't warn on NotImplementedErrors\u001b[0m\u001b[0;34m\u001b[0m\u001b[0;34m\u001b[0m\u001b[0;34m\u001b[0m\u001b[0m\n",
      "\u001b[0;32m/usr/local/lib/python3.8/dist-packages/IPython/core/formatters.py\u001b[0m in \u001b[0;36m__call__\u001b[0;34m(self, obj)\u001b[0m\n\u001b[1;32m    343\u001b[0m             \u001b[0mmethod\u001b[0m \u001b[0;34m=\u001b[0m \u001b[0mget_real_method\u001b[0m\u001b[0;34m(\u001b[0m\u001b[0mobj\u001b[0m\u001b[0;34m,\u001b[0m \u001b[0mself\u001b[0m\u001b[0;34m.\u001b[0m\u001b[0mprint_method\u001b[0m\u001b[0;34m)\u001b[0m\u001b[0;34m\u001b[0m\u001b[0;34m\u001b[0m\u001b[0m\n\u001b[1;32m    344\u001b[0m             \u001b[0;32mif\u001b[0m \u001b[0mmethod\u001b[0m \u001b[0;32mis\u001b[0m \u001b[0;32mnot\u001b[0m \u001b[0;32mNone\u001b[0m\u001b[0;34m:\u001b[0m\u001b[0;34m\u001b[0m\u001b[0;34m\u001b[0m\u001b[0m\n\u001b[0;32m--> 345\u001b[0;31m                 \u001b[0;32mreturn\u001b[0m \u001b[0mmethod\u001b[0m\u001b[0;34m(\u001b[0m\u001b[0;34m)\u001b[0m\u001b[0;34m\u001b[0m\u001b[0;34m\u001b[0m\u001b[0m\n\u001b[0m\u001b[1;32m    346\u001b[0m             \u001b[0;32mreturn\u001b[0m \u001b[0;32mNone\u001b[0m\u001b[0;34m\u001b[0m\u001b[0;34m\u001b[0m\u001b[0m\n\u001b[1;32m    347\u001b[0m         \u001b[0;32melse\u001b[0m\u001b[0;34m:\u001b[0m\u001b[0;34m\u001b[0m\u001b[0;34m\u001b[0m\u001b[0m\n",
      "\u001b[0;32m/usr/local/lib/python3.8/dist-packages/calysto/graphics.py\u001b[0m in \u001b[0;36m_repr_svg_\u001b[0;34m(self, **attribs)\u001b[0m\n\u001b[1;32m    218\u001b[0m \u001b[0;34m\u001b[0m\u001b[0m\n\u001b[1;32m    219\u001b[0m     \u001b[0;32mdef\u001b[0m \u001b[0m_repr_svg_\u001b[0m\u001b[0;34m(\u001b[0m\u001b[0mself\u001b[0m\u001b[0;34m,\u001b[0m \u001b[0;34m**\u001b[0m\u001b[0mattribs\u001b[0m\u001b[0;34m)\u001b[0m\u001b[0;34m:\u001b[0m\u001b[0;34m\u001b[0m\u001b[0;34m\u001b[0m\u001b[0m\n\u001b[0;32m--> 220\u001b[0;31m         \u001b[0mdrawing\u001b[0m \u001b[0;34m=\u001b[0m \u001b[0mself\u001b[0m\u001b[0;34m.\u001b[0m\u001b[0m_render\u001b[0m\u001b[0;34m(\u001b[0m\u001b[0;34m**\u001b[0m\u001b[0mattribs\u001b[0m\u001b[0;34m)\u001b[0m\u001b[0;34m\u001b[0m\u001b[0;34m\u001b[0m\u001b[0m\n\u001b[0m\u001b[1;32m    221\u001b[0m         \u001b[0;32mreturn\u001b[0m \u001b[0mdrawing\u001b[0m\u001b[0;34m.\u001b[0m\u001b[0mtostring\u001b[0m\u001b[0;34m(\u001b[0m\u001b[0;34m)\u001b[0m\u001b[0;34m\u001b[0m\u001b[0;34m\u001b[0m\u001b[0m\n\u001b[1;32m    222\u001b[0m \u001b[0;34m\u001b[0m\u001b[0m\n",
      "\u001b[0;32m/usr/local/lib/python3.8/dist-packages/calysto/graphics.py\u001b[0m in \u001b[0;36m_render\u001b[0;34m(self, **attribs)\u001b[0m\n\u001b[1;32m     89\u001b[0m             \u001b[0mdrawing\u001b[0m\u001b[0;34m.\u001b[0m\u001b[0mattribs\u001b[0m\u001b[0;34m[\u001b[0m\u001b[0mkey\u001b[0m\u001b[0;34m]\u001b[0m \u001b[0;34m=\u001b[0m \u001b[0mattribs\u001b[0m\u001b[0;34m[\u001b[0m\u001b[0mkey\u001b[0m\u001b[0;34m]\u001b[0m\u001b[0;34m\u001b[0m\u001b[0;34m\u001b[0m\u001b[0m\n\u001b[1;32m     90\u001b[0m         \u001b[0;32mfor\u001b[0m \u001b[0mshape\u001b[0m \u001b[0;32min\u001b[0m \u001b[0mself\u001b[0m\u001b[0;34m.\u001b[0m\u001b[0mshapes\u001b[0m\u001b[0;34m:\u001b[0m\u001b[0;34m\u001b[0m\u001b[0;34m\u001b[0m\u001b[0m\n\u001b[0;32m---> 91\u001b[0;31m             \u001b[0mshape\u001b[0m\u001b[0;34m.\u001b[0m\u001b[0m_add\u001b[0m\u001b[0;34m(\u001b[0m\u001b[0mdrawing\u001b[0m\u001b[0;34m)\u001b[0m\u001b[0;34m\u001b[0m\u001b[0;34m\u001b[0m\u001b[0m\n\u001b[0m\u001b[1;32m     92\u001b[0m         \u001b[0;32mreturn\u001b[0m \u001b[0mdrawing\u001b[0m\u001b[0;34m\u001b[0m\u001b[0;34m\u001b[0m\u001b[0m\n\u001b[1;32m     93\u001b[0m \u001b[0;34m\u001b[0m\u001b[0m\n",
      "\u001b[0;32m/usr/local/lib/python3.8/dist-packages/calysto/graphics.py\u001b[0m in \u001b[0;36m_add\u001b[0;34m(self, drawing)\u001b[0m\n\u001b[1;32m    487\u001b[0m                                     **self.extras)\n\u001b[1;32m    488\u001b[0m         \u001b[0;32melse\u001b[0m\u001b[0;34m:\u001b[0m\u001b[0;34m\u001b[0m\u001b[0;34m\u001b[0m\u001b[0m\n\u001b[0;32m--> 489\u001b[0;31m             \u001b[0mshape\u001b[0m \u001b[0;34m=\u001b[0m \u001b[0mdrawing\u001b[0m\u001b[0;34m.\u001b[0m\u001b[0mcircle\u001b[0m\u001b[0;34m(\u001b[0m\u001b[0mcenter\u001b[0m\u001b[0;34m=\u001b[0m\u001b[0mself\u001b[0m\u001b[0;34m.\u001b[0m\u001b[0mcenter\u001b[0m\u001b[0;34m,\u001b[0m \u001b[0mr\u001b[0m\u001b[0;34m=\u001b[0m\u001b[0mself\u001b[0m\u001b[0;34m.\u001b[0m\u001b[0mradius\u001b[0m\u001b[0;34m,\u001b[0m \u001b[0;34m**\u001b[0m\u001b[0mself\u001b[0m\u001b[0;34m.\u001b[0m\u001b[0mextras\u001b[0m\u001b[0;34m)\u001b[0m\u001b[0;34m\u001b[0m\u001b[0;34m\u001b[0m\u001b[0m\n\u001b[0m\u001b[1;32m    490\u001b[0m         \u001b[0mself\u001b[0m\u001b[0;34m.\u001b[0m\u001b[0m_apply_matrices\u001b[0m\u001b[0;34m(\u001b[0m\u001b[0mshape\u001b[0m\u001b[0;34m,\u001b[0m \u001b[0mself\u001b[0m\u001b[0;34m.\u001b[0m\u001b[0mmatrix\u001b[0m\u001b[0;34m)\u001b[0m\u001b[0;34m\u001b[0m\u001b[0;34m\u001b[0m\u001b[0m\n\u001b[1;32m    491\u001b[0m         \u001b[0mdrawing\u001b[0m\u001b[0;34m.\u001b[0m\u001b[0madd\u001b[0m\u001b[0;34m(\u001b[0m\u001b[0mshape\u001b[0m\u001b[0;34m)\u001b[0m\u001b[0;34m\u001b[0m\u001b[0;34m\u001b[0m\u001b[0m\n",
      "\u001b[0;32m/usr/local/lib/python3.8/dist-packages/svgwrite/elementfactory.py\u001b[0m in \u001b[0;36m__call__\u001b[0;34m(self, *args, **kwargs)\u001b[0m\n\u001b[1;32m     66\u001b[0m         \u001b[0mkwargs\u001b[0m\u001b[0;34m[\u001b[0m\u001b[0;34m'factory'\u001b[0m\u001b[0;34m]\u001b[0m \u001b[0;34m=\u001b[0m \u001b[0mself\u001b[0m\u001b[0;34m.\u001b[0m\u001b[0mfactory\u001b[0m\u001b[0;34m\u001b[0m\u001b[0;34m\u001b[0m\u001b[0m\n\u001b[1;32m     67\u001b[0m         \u001b[0;31m# create an object of type 'cls'\u001b[0m\u001b[0;34m\u001b[0m\u001b[0;34m\u001b[0m\u001b[0;34m\u001b[0m\u001b[0m\n\u001b[0;32m---> 68\u001b[0;31m         \u001b[0;32mreturn\u001b[0m \u001b[0mself\u001b[0m\u001b[0;34m.\u001b[0m\u001b[0mcls\u001b[0m\u001b[0;34m(\u001b[0m\u001b[0;34m*\u001b[0m\u001b[0margs\u001b[0m\u001b[0;34m,\u001b[0m \u001b[0;34m**\u001b[0m\u001b[0mkwargs\u001b[0m\u001b[0;34m)\u001b[0m\u001b[0;34m\u001b[0m\u001b[0;34m\u001b[0m\u001b[0m\n\u001b[0m\u001b[1;32m     69\u001b[0m \u001b[0;34m\u001b[0m\u001b[0m\n\u001b[1;32m     70\u001b[0m \u001b[0;34m\u001b[0m\u001b[0m\n",
      "\u001b[0;32m/usr/local/lib/python3.8/dist-packages/svgwrite/shapes.py\u001b[0m in \u001b[0;36m__init__\u001b[0;34m(self, center, r, **extra)\u001b[0m\n\u001b[1;32m     74\u001b[0m \u001b[0;34m\u001b[0m\u001b[0m\n\u001b[1;32m     75\u001b[0m         \"\"\"\n\u001b[0;32m---> 76\u001b[0;31m         \u001b[0msuper\u001b[0m\u001b[0;34m(\u001b[0m\u001b[0mCircle\u001b[0m\u001b[0;34m,\u001b[0m \u001b[0mself\u001b[0m\u001b[0;34m)\u001b[0m\u001b[0;34m.\u001b[0m\u001b[0m__init__\u001b[0m\u001b[0;34m(\u001b[0m\u001b[0;34m**\u001b[0m\u001b[0mextra\u001b[0m\u001b[0;34m)\u001b[0m\u001b[0;34m\u001b[0m\u001b[0;34m\u001b[0m\u001b[0m\n\u001b[0m\u001b[1;32m     77\u001b[0m         \u001b[0mcx\u001b[0m\u001b[0;34m,\u001b[0m \u001b[0mcy\u001b[0m \u001b[0;34m=\u001b[0m \u001b[0mcenter\u001b[0m\u001b[0;34m\u001b[0m\u001b[0;34m\u001b[0m\u001b[0m\n\u001b[1;32m     78\u001b[0m         \u001b[0mself\u001b[0m\u001b[0;34m[\u001b[0m\u001b[0;34m'cx'\u001b[0m\u001b[0;34m]\u001b[0m \u001b[0;34m=\u001b[0m \u001b[0mcx\u001b[0m\u001b[0;34m\u001b[0m\u001b[0;34m\u001b[0m\u001b[0m\n",
      "\u001b[0;32m/usr/local/lib/python3.8/dist-packages/svgwrite/base.py\u001b[0m in \u001b[0;36m__init__\u001b[0;34m(self, **extra)\u001b[0m\n\u001b[1;32m     67\u001b[0m \u001b[0;34m\u001b[0m\u001b[0m\n\u001b[1;32m     68\u001b[0m         \u001b[0mself\u001b[0m\u001b[0;34m.\u001b[0m\u001b[0mattribs\u001b[0m \u001b[0;34m=\u001b[0m \u001b[0mdict\u001b[0m\u001b[0;34m(\u001b[0m\u001b[0;34m)\u001b[0m\u001b[0;34m\u001b[0m\u001b[0;34m\u001b[0m\u001b[0m\n\u001b[0;32m---> 69\u001b[0;31m         \u001b[0mself\u001b[0m\u001b[0;34m.\u001b[0m\u001b[0mupdate\u001b[0m\u001b[0;34m(\u001b[0m\u001b[0mextra\u001b[0m\u001b[0;34m)\u001b[0m\u001b[0;34m\u001b[0m\u001b[0;34m\u001b[0m\u001b[0m\n\u001b[0m\u001b[1;32m     70\u001b[0m         \u001b[0mself\u001b[0m\u001b[0;34m.\u001b[0m\u001b[0melements\u001b[0m \u001b[0;34m=\u001b[0m \u001b[0mlist\u001b[0m\u001b[0;34m(\u001b[0m\u001b[0;34m)\u001b[0m\u001b[0;34m\u001b[0m\u001b[0;34m\u001b[0m\u001b[0m\n\u001b[1;32m     71\u001b[0m \u001b[0;34m\u001b[0m\u001b[0m\n",
      "\u001b[0;32m/usr/local/lib/python3.8/dist-packages/svgwrite/base.py\u001b[0m in \u001b[0;36mupdate\u001b[0;34m(self, attribs)\u001b[0m\n\u001b[1;32m     79\u001b[0m \u001b[0;34m\u001b[0m\u001b[0m\n\u001b[1;32m     80\u001b[0m         \"\"\"\n\u001b[0;32m---> 81\u001b[0;31m         \u001b[0;32mfor\u001b[0m \u001b[0mkey\u001b[0m\u001b[0;34m,\u001b[0m \u001b[0mvalue\u001b[0m \u001b[0;32min\u001b[0m \u001b[0mattribs\u001b[0m\u001b[0;34m.\u001b[0m\u001b[0mitems\u001b[0m\u001b[0;34m(\u001b[0m\u001b[0;34m)\u001b[0m\u001b[0;34m:\u001b[0m\u001b[0;34m\u001b[0m\u001b[0;34m\u001b[0m\u001b[0m\n\u001b[0m\u001b[1;32m     82\u001b[0m             \u001b[0;31m# remove trailing underscores\u001b[0m\u001b[0;34m\u001b[0m\u001b[0;34m\u001b[0m\u001b[0;34m\u001b[0m\u001b[0m\n\u001b[1;32m     83\u001b[0m             \u001b[0;31m# and replace inner underscores\u001b[0m\u001b[0;34m\u001b[0m\u001b[0;34m\u001b[0m\u001b[0;34m\u001b[0m\u001b[0m\n",
      "\u001b[0;31mKeyboardInterrupt\u001b[0m: "
     ]
    }
   ],
   "source": [
    "# 1. création et stockage dans une liste des cercles de la guirlande \n",
    "L=[red,lime,orange,cyan,yellow]\n",
    "Lguirlande=17\n",
    "rayons=20\n",
    "x=rayons\n",
    "y=rayons\n",
    "Cercles=[]\n",
    "for i in range(Lguirlande):\n",
    "    c=Circle((x,y),rayons)\n",
    "    Cercles+=[c]\n",
    "    x+=rayons*2\n",
    "# 2. création du canevas et dessin de la liste des cercles\n",
    "largeur=rayons*Lguirlande*2\n",
    "hauteur=rayons*2\n",
    "cv=Canvas((largeur,hauteur))\n",
    "for i in range(Lguirlande):\n",
    "    c=Cercles[i]\n",
    "    n=i%5\n",
    "    c.setFill(L[n])\n",
    "    cv.draw(c)\n",
    "# 3. animation de la guirlande\n",
    "repetitions = 100000000\n",
    "for k in range(repetitions):\n",
    "    # changement de la couleur des cercles\n",
    "    for i in range(Lguirlande):\n",
    "        c=Cercles[i]\n",
    "        n=(i+k)%5\n",
    "        c.setFill(L[n])\n",
    "        cv.draw(c)\n",
    "    cv.displayPause(0.3)"
   ]
  },
  {
   "cell_type": "markdown",
   "id": "301929ca-0209-4a27-bffa-157a2a3ec3c0",
   "metadata": {},
   "source": [
    "## 6.4 Damier"
   ]
  },
  {
   "cell_type": "markdown",
   "id": "b80c0b9b-f148-4c54-b496-63c7905bfbe8",
   "metadata": {},
   "source": [
    "Réalisez un programme dessinant un damier noir et blanc, de dix rangées sur dix colonnes, pour une taille de case de 30 pixels.\n",
    "\n",
    "<div align = middle> <img src=\"https://iut-info.univ-reims.fr/users/romaniuk/restricted/S1AlgoProg/ressources/damier.png\" alt=\"Image absente\" > </div>\n",
    "\n",
    "Votre code doit permettre de changer facilement le nombre et la taille des cases du damier. Testez avec différentes valeurs (notamment des nombres pairs ou impairs de colonnes et une damier rectangulaire)."
   ]
  },
  {
   "cell_type": "code",
   "execution_count": 5,
   "id": "859010bf-ed92-496e-8c5e-f3d90a9b4299",
   "metadata": {},
   "outputs": [
    {
     "data": {
      "image/svg+xml": [
       "<svg baseProfile=\"full\" height=\"300\" version=\"1.1\" width=\"300\" xmlns=\"http://www.w3.org/2000/svg\" xmlns:ev=\"http://www.w3.org/2001/xml-events\" xmlns:xlink=\"http://www.w3.org/1999/xlink\"><defs /><rect fill=\"#ffffff\" fill-opacity=\"1.0\" height=\"30\" stroke=\"#000000\" stroke-width=\"1\" width=\"30\" x=\"0\" y=\"0\" /><rect fill=\"#000000\" fill-opacity=\"1.0\" height=\"30\" stroke=\"#000000\" stroke-width=\"1\" width=\"30\" x=\"0\" y=\"30\" /><rect fill=\"#ffffff\" fill-opacity=\"1.0\" height=\"30\" stroke=\"#000000\" stroke-width=\"1\" width=\"30\" x=\"0\" y=\"60\" /><rect fill=\"#000000\" fill-opacity=\"1.0\" height=\"30\" stroke=\"#000000\" stroke-width=\"1\" width=\"30\" x=\"0\" y=\"90\" /><rect fill=\"#ffffff\" fill-opacity=\"1.0\" height=\"30\" stroke=\"#000000\" stroke-width=\"1\" width=\"30\" x=\"0\" y=\"120\" /><rect fill=\"#000000\" fill-opacity=\"1.0\" height=\"30\" stroke=\"#000000\" stroke-width=\"1\" width=\"30\" x=\"0\" y=\"150\" /><rect fill=\"#ffffff\" fill-opacity=\"1.0\" height=\"30\" stroke=\"#000000\" stroke-width=\"1\" width=\"30\" x=\"0\" y=\"180\" /><rect fill=\"#000000\" fill-opacity=\"1.0\" height=\"30\" stroke=\"#000000\" stroke-width=\"1\" width=\"30\" x=\"0\" y=\"210\" /><rect fill=\"#ffffff\" fill-opacity=\"1.0\" height=\"30\" stroke=\"#000000\" stroke-width=\"1\" width=\"30\" x=\"0\" y=\"240\" /><rect fill=\"#000000\" fill-opacity=\"1.0\" height=\"30\" stroke=\"#000000\" stroke-width=\"1\" width=\"30\" x=\"0\" y=\"270\" /><rect fill=\"#000000\" fill-opacity=\"1.0\" height=\"30\" stroke=\"#000000\" stroke-width=\"1\" width=\"30\" x=\"30\" y=\"0\" /><rect fill=\"#ffffff\" fill-opacity=\"1.0\" height=\"30\" stroke=\"#000000\" stroke-width=\"1\" width=\"30\" x=\"30\" y=\"30\" /><rect fill=\"#000000\" fill-opacity=\"1.0\" height=\"30\" stroke=\"#000000\" stroke-width=\"1\" width=\"30\" x=\"30\" y=\"60\" /><rect fill=\"#ffffff\" fill-opacity=\"1.0\" height=\"30\" stroke=\"#000000\" stroke-width=\"1\" width=\"30\" x=\"30\" y=\"90\" /><rect fill=\"#000000\" fill-opacity=\"1.0\" height=\"30\" stroke=\"#000000\" stroke-width=\"1\" width=\"30\" x=\"30\" y=\"120\" /><rect fill=\"#ffffff\" fill-opacity=\"1.0\" height=\"30\" stroke=\"#000000\" stroke-width=\"1\" width=\"30\" x=\"30\" y=\"150\" /><rect fill=\"#000000\" fill-opacity=\"1.0\" height=\"30\" stroke=\"#000000\" stroke-width=\"1\" width=\"30\" x=\"30\" y=\"180\" /><rect fill=\"#ffffff\" fill-opacity=\"1.0\" height=\"30\" stroke=\"#000000\" stroke-width=\"1\" width=\"30\" x=\"30\" y=\"210\" /><rect fill=\"#000000\" fill-opacity=\"1.0\" height=\"30\" stroke=\"#000000\" stroke-width=\"1\" width=\"30\" x=\"30\" y=\"240\" /><rect fill=\"#ffffff\" fill-opacity=\"1.0\" height=\"30\" stroke=\"#000000\" stroke-width=\"1\" width=\"30\" x=\"30\" y=\"270\" /><rect fill=\"#ffffff\" fill-opacity=\"1.0\" height=\"30\" stroke=\"#000000\" stroke-width=\"1\" width=\"30\" x=\"60\" y=\"0\" /><rect fill=\"#000000\" fill-opacity=\"1.0\" height=\"30\" stroke=\"#000000\" stroke-width=\"1\" width=\"30\" x=\"60\" y=\"30\" /><rect fill=\"#ffffff\" fill-opacity=\"1.0\" height=\"30\" stroke=\"#000000\" stroke-width=\"1\" width=\"30\" x=\"60\" y=\"60\" /><rect fill=\"#000000\" fill-opacity=\"1.0\" height=\"30\" stroke=\"#000000\" stroke-width=\"1\" width=\"30\" x=\"60\" y=\"90\" /><rect fill=\"#ffffff\" fill-opacity=\"1.0\" height=\"30\" stroke=\"#000000\" stroke-width=\"1\" width=\"30\" x=\"60\" y=\"120\" /><rect fill=\"#000000\" fill-opacity=\"1.0\" height=\"30\" stroke=\"#000000\" stroke-width=\"1\" width=\"30\" x=\"60\" y=\"150\" /><rect fill=\"#ffffff\" fill-opacity=\"1.0\" height=\"30\" stroke=\"#000000\" stroke-width=\"1\" width=\"30\" x=\"60\" y=\"180\" /><rect fill=\"#000000\" fill-opacity=\"1.0\" height=\"30\" stroke=\"#000000\" stroke-width=\"1\" width=\"30\" x=\"60\" y=\"210\" /><rect fill=\"#ffffff\" fill-opacity=\"1.0\" height=\"30\" stroke=\"#000000\" stroke-width=\"1\" width=\"30\" x=\"60\" y=\"240\" /><rect fill=\"#000000\" fill-opacity=\"1.0\" height=\"30\" stroke=\"#000000\" stroke-width=\"1\" width=\"30\" x=\"60\" y=\"270\" /><rect fill=\"#000000\" fill-opacity=\"1.0\" height=\"30\" stroke=\"#000000\" stroke-width=\"1\" width=\"30\" x=\"90\" y=\"0\" /><rect fill=\"#ffffff\" fill-opacity=\"1.0\" height=\"30\" stroke=\"#000000\" stroke-width=\"1\" width=\"30\" x=\"90\" y=\"30\" /><rect fill=\"#000000\" fill-opacity=\"1.0\" height=\"30\" stroke=\"#000000\" stroke-width=\"1\" width=\"30\" x=\"90\" y=\"60\" /><rect fill=\"#ffffff\" fill-opacity=\"1.0\" height=\"30\" stroke=\"#000000\" stroke-width=\"1\" width=\"30\" x=\"90\" y=\"90\" /><rect fill=\"#000000\" fill-opacity=\"1.0\" height=\"30\" stroke=\"#000000\" stroke-width=\"1\" width=\"30\" x=\"90\" y=\"120\" /><rect fill=\"#ffffff\" fill-opacity=\"1.0\" height=\"30\" stroke=\"#000000\" stroke-width=\"1\" width=\"30\" x=\"90\" y=\"150\" /><rect fill=\"#000000\" fill-opacity=\"1.0\" height=\"30\" stroke=\"#000000\" stroke-width=\"1\" width=\"30\" x=\"90\" y=\"180\" /><rect fill=\"#ffffff\" fill-opacity=\"1.0\" height=\"30\" stroke=\"#000000\" stroke-width=\"1\" width=\"30\" x=\"90\" y=\"210\" /><rect fill=\"#000000\" fill-opacity=\"1.0\" height=\"30\" stroke=\"#000000\" stroke-width=\"1\" width=\"30\" x=\"90\" y=\"240\" /><rect fill=\"#ffffff\" fill-opacity=\"1.0\" height=\"30\" stroke=\"#000000\" stroke-width=\"1\" width=\"30\" x=\"90\" y=\"270\" /><rect fill=\"#ffffff\" fill-opacity=\"1.0\" height=\"30\" stroke=\"#000000\" stroke-width=\"1\" width=\"30\" x=\"120\" y=\"0\" /><rect fill=\"#000000\" fill-opacity=\"1.0\" height=\"30\" stroke=\"#000000\" stroke-width=\"1\" width=\"30\" x=\"120\" y=\"30\" /><rect fill=\"#ffffff\" fill-opacity=\"1.0\" height=\"30\" stroke=\"#000000\" stroke-width=\"1\" width=\"30\" x=\"120\" y=\"60\" /><rect fill=\"#000000\" fill-opacity=\"1.0\" height=\"30\" stroke=\"#000000\" stroke-width=\"1\" width=\"30\" x=\"120\" y=\"90\" /><rect fill=\"#ffffff\" fill-opacity=\"1.0\" height=\"30\" stroke=\"#000000\" stroke-width=\"1\" width=\"30\" x=\"120\" y=\"120\" /><rect fill=\"#000000\" fill-opacity=\"1.0\" height=\"30\" stroke=\"#000000\" stroke-width=\"1\" width=\"30\" x=\"120\" y=\"150\" /><rect fill=\"#ffffff\" fill-opacity=\"1.0\" height=\"30\" stroke=\"#000000\" stroke-width=\"1\" width=\"30\" x=\"120\" y=\"180\" /><rect fill=\"#000000\" fill-opacity=\"1.0\" height=\"30\" stroke=\"#000000\" stroke-width=\"1\" width=\"30\" x=\"120\" y=\"210\" /><rect fill=\"#ffffff\" fill-opacity=\"1.0\" height=\"30\" stroke=\"#000000\" stroke-width=\"1\" width=\"30\" x=\"120\" y=\"240\" /><rect fill=\"#000000\" fill-opacity=\"1.0\" height=\"30\" stroke=\"#000000\" stroke-width=\"1\" width=\"30\" x=\"120\" y=\"270\" /><rect fill=\"#000000\" fill-opacity=\"1.0\" height=\"30\" stroke=\"#000000\" stroke-width=\"1\" width=\"30\" x=\"150\" y=\"0\" /><rect fill=\"#ffffff\" fill-opacity=\"1.0\" height=\"30\" stroke=\"#000000\" stroke-width=\"1\" width=\"30\" x=\"150\" y=\"30\" /><rect fill=\"#000000\" fill-opacity=\"1.0\" height=\"30\" stroke=\"#000000\" stroke-width=\"1\" width=\"30\" x=\"150\" y=\"60\" /><rect fill=\"#ffffff\" fill-opacity=\"1.0\" height=\"30\" stroke=\"#000000\" stroke-width=\"1\" width=\"30\" x=\"150\" y=\"90\" /><rect fill=\"#000000\" fill-opacity=\"1.0\" height=\"30\" stroke=\"#000000\" stroke-width=\"1\" width=\"30\" x=\"150\" y=\"120\" /><rect fill=\"#ffffff\" fill-opacity=\"1.0\" height=\"30\" stroke=\"#000000\" stroke-width=\"1\" width=\"30\" x=\"150\" y=\"150\" /><rect fill=\"#000000\" fill-opacity=\"1.0\" height=\"30\" stroke=\"#000000\" stroke-width=\"1\" width=\"30\" x=\"150\" y=\"180\" /><rect fill=\"#ffffff\" fill-opacity=\"1.0\" height=\"30\" stroke=\"#000000\" stroke-width=\"1\" width=\"30\" x=\"150\" y=\"210\" /><rect fill=\"#000000\" fill-opacity=\"1.0\" height=\"30\" stroke=\"#000000\" stroke-width=\"1\" width=\"30\" x=\"150\" y=\"240\" /><rect fill=\"#ffffff\" fill-opacity=\"1.0\" height=\"30\" stroke=\"#000000\" stroke-width=\"1\" width=\"30\" x=\"150\" y=\"270\" /><rect fill=\"#ffffff\" fill-opacity=\"1.0\" height=\"30\" stroke=\"#000000\" stroke-width=\"1\" width=\"30\" x=\"180\" y=\"0\" /><rect fill=\"#000000\" fill-opacity=\"1.0\" height=\"30\" stroke=\"#000000\" stroke-width=\"1\" width=\"30\" x=\"180\" y=\"30\" /><rect fill=\"#ffffff\" fill-opacity=\"1.0\" height=\"30\" stroke=\"#000000\" stroke-width=\"1\" width=\"30\" x=\"180\" y=\"60\" /><rect fill=\"#000000\" fill-opacity=\"1.0\" height=\"30\" stroke=\"#000000\" stroke-width=\"1\" width=\"30\" x=\"180\" y=\"90\" /><rect fill=\"#ffffff\" fill-opacity=\"1.0\" height=\"30\" stroke=\"#000000\" stroke-width=\"1\" width=\"30\" x=\"180\" y=\"120\" /><rect fill=\"#000000\" fill-opacity=\"1.0\" height=\"30\" stroke=\"#000000\" stroke-width=\"1\" width=\"30\" x=\"180\" y=\"150\" /><rect fill=\"#ffffff\" fill-opacity=\"1.0\" height=\"30\" stroke=\"#000000\" stroke-width=\"1\" width=\"30\" x=\"180\" y=\"180\" /><rect fill=\"#000000\" fill-opacity=\"1.0\" height=\"30\" stroke=\"#000000\" stroke-width=\"1\" width=\"30\" x=\"180\" y=\"210\" /><rect fill=\"#ffffff\" fill-opacity=\"1.0\" height=\"30\" stroke=\"#000000\" stroke-width=\"1\" width=\"30\" x=\"180\" y=\"240\" /><rect fill=\"#000000\" fill-opacity=\"1.0\" height=\"30\" stroke=\"#000000\" stroke-width=\"1\" width=\"30\" x=\"180\" y=\"270\" /><rect fill=\"#000000\" fill-opacity=\"1.0\" height=\"30\" stroke=\"#000000\" stroke-width=\"1\" width=\"30\" x=\"210\" y=\"0\" /><rect fill=\"#ffffff\" fill-opacity=\"1.0\" height=\"30\" stroke=\"#000000\" stroke-width=\"1\" width=\"30\" x=\"210\" y=\"30\" /><rect fill=\"#000000\" fill-opacity=\"1.0\" height=\"30\" stroke=\"#000000\" stroke-width=\"1\" width=\"30\" x=\"210\" y=\"60\" /><rect fill=\"#ffffff\" fill-opacity=\"1.0\" height=\"30\" stroke=\"#000000\" stroke-width=\"1\" width=\"30\" x=\"210\" y=\"90\" /><rect fill=\"#000000\" fill-opacity=\"1.0\" height=\"30\" stroke=\"#000000\" stroke-width=\"1\" width=\"30\" x=\"210\" y=\"120\" /><rect fill=\"#ffffff\" fill-opacity=\"1.0\" height=\"30\" stroke=\"#000000\" stroke-width=\"1\" width=\"30\" x=\"210\" y=\"150\" /><rect fill=\"#000000\" fill-opacity=\"1.0\" height=\"30\" stroke=\"#000000\" stroke-width=\"1\" width=\"30\" x=\"210\" y=\"180\" /><rect fill=\"#ffffff\" fill-opacity=\"1.0\" height=\"30\" stroke=\"#000000\" stroke-width=\"1\" width=\"30\" x=\"210\" y=\"210\" /><rect fill=\"#000000\" fill-opacity=\"1.0\" height=\"30\" stroke=\"#000000\" stroke-width=\"1\" width=\"30\" x=\"210\" y=\"240\" /><rect fill=\"#ffffff\" fill-opacity=\"1.0\" height=\"30\" stroke=\"#000000\" stroke-width=\"1\" width=\"30\" x=\"210\" y=\"270\" /><rect fill=\"#ffffff\" fill-opacity=\"1.0\" height=\"30\" stroke=\"#000000\" stroke-width=\"1\" width=\"30\" x=\"240\" y=\"0\" /><rect fill=\"#000000\" fill-opacity=\"1.0\" height=\"30\" stroke=\"#000000\" stroke-width=\"1\" width=\"30\" x=\"240\" y=\"30\" /><rect fill=\"#ffffff\" fill-opacity=\"1.0\" height=\"30\" stroke=\"#000000\" stroke-width=\"1\" width=\"30\" x=\"240\" y=\"60\" /><rect fill=\"#000000\" fill-opacity=\"1.0\" height=\"30\" stroke=\"#000000\" stroke-width=\"1\" width=\"30\" x=\"240\" y=\"90\" /><rect fill=\"#ffffff\" fill-opacity=\"1.0\" height=\"30\" stroke=\"#000000\" stroke-width=\"1\" width=\"30\" x=\"240\" y=\"120\" /><rect fill=\"#000000\" fill-opacity=\"1.0\" height=\"30\" stroke=\"#000000\" stroke-width=\"1\" width=\"30\" x=\"240\" y=\"150\" /><rect fill=\"#ffffff\" fill-opacity=\"1.0\" height=\"30\" stroke=\"#000000\" stroke-width=\"1\" width=\"30\" x=\"240\" y=\"180\" /><rect fill=\"#000000\" fill-opacity=\"1.0\" height=\"30\" stroke=\"#000000\" stroke-width=\"1\" width=\"30\" x=\"240\" y=\"210\" /><rect fill=\"#ffffff\" fill-opacity=\"1.0\" height=\"30\" stroke=\"#000000\" stroke-width=\"1\" width=\"30\" x=\"240\" y=\"240\" /><rect fill=\"#000000\" fill-opacity=\"1.0\" height=\"30\" stroke=\"#000000\" stroke-width=\"1\" width=\"30\" x=\"240\" y=\"270\" /><rect fill=\"#000000\" fill-opacity=\"1.0\" height=\"30\" stroke=\"#000000\" stroke-width=\"1\" width=\"30\" x=\"270\" y=\"0\" /><rect fill=\"#ffffff\" fill-opacity=\"1.0\" height=\"30\" stroke=\"#000000\" stroke-width=\"1\" width=\"30\" x=\"270\" y=\"30\" /><rect fill=\"#000000\" fill-opacity=\"1.0\" height=\"30\" stroke=\"#000000\" stroke-width=\"1\" width=\"30\" x=\"270\" y=\"60\" /><rect fill=\"#ffffff\" fill-opacity=\"1.0\" height=\"30\" stroke=\"#000000\" stroke-width=\"1\" width=\"30\" x=\"270\" y=\"90\" /><rect fill=\"#000000\" fill-opacity=\"1.0\" height=\"30\" stroke=\"#000000\" stroke-width=\"1\" width=\"30\" x=\"270\" y=\"120\" /><rect fill=\"#ffffff\" fill-opacity=\"1.0\" height=\"30\" stroke=\"#000000\" stroke-width=\"1\" width=\"30\" x=\"270\" y=\"150\" /><rect fill=\"#000000\" fill-opacity=\"1.0\" height=\"30\" stroke=\"#000000\" stroke-width=\"1\" width=\"30\" x=\"270\" y=\"180\" /><rect fill=\"#ffffff\" fill-opacity=\"1.0\" height=\"30\" stroke=\"#000000\" stroke-width=\"1\" width=\"30\" x=\"270\" y=\"210\" /><rect fill=\"#000000\" fill-opacity=\"1.0\" height=\"30\" stroke=\"#000000\" stroke-width=\"1\" width=\"30\" x=\"270\" y=\"240\" /><rect fill=\"#ffffff\" fill-opacity=\"1.0\" height=\"30\" stroke=\"#000000\" stroke-width=\"1\" width=\"30\" x=\"270\" y=\"270\" /></svg>"
      ],
      "text/plain": [
       "<Canvas (300, 300)>"
      ]
     },
     "metadata": {},
     "output_type": "display_data"
    }
   ],
   "source": [
    "nbrow=10\n",
    "nbcol=10\n",
    "caselength=30\n",
    "largeur=nbrow*caselength\n",
    "hauteur=nbcol*caselength\n",
    "cv=Canvas((largeur,hauteur))\n",
    "color=[white,black]\n",
    "for r in range(nbrow):\n",
    "    for c in range(nbcol):\n",
    "        x=r*caselength\n",
    "        y=c*caselength\n",
    "        case=Rectangle((x, y), (30, 30))\n",
    "        n=(c+(r%2))%2\n",
    "        case.setFill(color[n])\n",
    "        cv.draw(case)\n",
    "cv.display()"
   ]
  },
  {
   "cell_type": "markdown",
   "id": "e4dd8e0b-705a-49a2-a8da-cfcaead531a8",
   "metadata": {},
   "source": [
    "## 6.5 Pion baladeur"
   ]
  },
  {
   "cell_type": "markdown",
   "id": "a8961d89-dc05-4d5d-ae07-bce10395bcd7",
   "metadata": {},
   "source": [
    "Vous allez ajouter un \"pion baladeur\" sur votre dessin du damier fait dans un exercice précédent.\n",
    "\n",
    "Le pion sera un cercle jaune d'une taille légèrement inférieure à une case du damier.\n",
    "\n",
    "Si `c` est une instance de `Circle` :\n",
    "\n",
    "`c.moveTo( center=(x, y) )`\n",
    "> Déplace le centre de `c` en `(x, y)`. \n",
    "\n",
    "Faites en sorte de déplacer aléatoirement ce pion dix fois sur une case du damier comme ci-dessous.\n",
    "\n",
    "<div align=\"middle\"><img src=\"https://iut-info.univ-reims.fr/users/romaniuk/restricted/S1AlgoProg/ressources/pionbaladeur.gif\" alt=\"Image absente\" ></div>"
   ]
  },
  {
   "cell_type": "code",
   "execution_count": 9,
   "id": "4fcc781f-c75e-4d51-a2a0-992f6b8ffe7d",
   "metadata": {},
   "outputs": [
    {
     "data": {
      "image/svg+xml": [
       "<svg baseProfile=\"full\" height=\"300\" version=\"1.1\" width=\"300\" xmlns=\"http://www.w3.org/2000/svg\" xmlns:ev=\"http://www.w3.org/2001/xml-events\" xmlns:xlink=\"http://www.w3.org/1999/xlink\"><defs /><rect fill=\"#ffffff\" fill-opacity=\"1.0\" height=\"30\" stroke=\"#000000\" stroke-width=\"1\" width=\"30\" x=\"0\" y=\"0\" /><rect fill=\"#000000\" fill-opacity=\"1.0\" height=\"30\" stroke=\"#000000\" stroke-width=\"1\" width=\"30\" x=\"0\" y=\"30\" /><rect fill=\"#ffffff\" fill-opacity=\"1.0\" height=\"30\" stroke=\"#000000\" stroke-width=\"1\" width=\"30\" x=\"0\" y=\"60\" /><rect fill=\"#000000\" fill-opacity=\"1.0\" height=\"30\" stroke=\"#000000\" stroke-width=\"1\" width=\"30\" x=\"0\" y=\"90\" /><rect fill=\"#ffffff\" fill-opacity=\"1.0\" height=\"30\" stroke=\"#000000\" stroke-width=\"1\" width=\"30\" x=\"0\" y=\"120\" /><rect fill=\"#000000\" fill-opacity=\"1.0\" height=\"30\" stroke=\"#000000\" stroke-width=\"1\" width=\"30\" x=\"0\" y=\"150\" /><rect fill=\"#ffffff\" fill-opacity=\"1.0\" height=\"30\" stroke=\"#000000\" stroke-width=\"1\" width=\"30\" x=\"0\" y=\"180\" /><rect fill=\"#000000\" fill-opacity=\"1.0\" height=\"30\" stroke=\"#000000\" stroke-width=\"1\" width=\"30\" x=\"0\" y=\"210\" /><rect fill=\"#ffffff\" fill-opacity=\"1.0\" height=\"30\" stroke=\"#000000\" stroke-width=\"1\" width=\"30\" x=\"0\" y=\"240\" /><rect fill=\"#000000\" fill-opacity=\"1.0\" height=\"30\" stroke=\"#000000\" stroke-width=\"1\" width=\"30\" x=\"0\" y=\"270\" /><rect fill=\"#000000\" fill-opacity=\"1.0\" height=\"30\" stroke=\"#000000\" stroke-width=\"1\" width=\"30\" x=\"30\" y=\"0\" /><rect fill=\"#ffffff\" fill-opacity=\"1.0\" height=\"30\" stroke=\"#000000\" stroke-width=\"1\" width=\"30\" x=\"30\" y=\"30\" /><rect fill=\"#000000\" fill-opacity=\"1.0\" height=\"30\" stroke=\"#000000\" stroke-width=\"1\" width=\"30\" x=\"30\" y=\"60\" /><rect fill=\"#ffffff\" fill-opacity=\"1.0\" height=\"30\" stroke=\"#000000\" stroke-width=\"1\" width=\"30\" x=\"30\" y=\"90\" /><rect fill=\"#000000\" fill-opacity=\"1.0\" height=\"30\" stroke=\"#000000\" stroke-width=\"1\" width=\"30\" x=\"30\" y=\"120\" /><rect fill=\"#ffffff\" fill-opacity=\"1.0\" height=\"30\" stroke=\"#000000\" stroke-width=\"1\" width=\"30\" x=\"30\" y=\"150\" /><rect fill=\"#000000\" fill-opacity=\"1.0\" height=\"30\" stroke=\"#000000\" stroke-width=\"1\" width=\"30\" x=\"30\" y=\"180\" /><rect fill=\"#ffffff\" fill-opacity=\"1.0\" height=\"30\" stroke=\"#000000\" stroke-width=\"1\" width=\"30\" x=\"30\" y=\"210\" /><rect fill=\"#000000\" fill-opacity=\"1.0\" height=\"30\" stroke=\"#000000\" stroke-width=\"1\" width=\"30\" x=\"30\" y=\"240\" /><rect fill=\"#ffffff\" fill-opacity=\"1.0\" height=\"30\" stroke=\"#000000\" stroke-width=\"1\" width=\"30\" x=\"30\" y=\"270\" /><rect fill=\"#ffffff\" fill-opacity=\"1.0\" height=\"30\" stroke=\"#000000\" stroke-width=\"1\" width=\"30\" x=\"60\" y=\"0\" /><rect fill=\"#000000\" fill-opacity=\"1.0\" height=\"30\" stroke=\"#000000\" stroke-width=\"1\" width=\"30\" x=\"60\" y=\"30\" /><rect fill=\"#ffffff\" fill-opacity=\"1.0\" height=\"30\" stroke=\"#000000\" stroke-width=\"1\" width=\"30\" x=\"60\" y=\"60\" /><rect fill=\"#000000\" fill-opacity=\"1.0\" height=\"30\" stroke=\"#000000\" stroke-width=\"1\" width=\"30\" x=\"60\" y=\"90\" /><rect fill=\"#ffffff\" fill-opacity=\"1.0\" height=\"30\" stroke=\"#000000\" stroke-width=\"1\" width=\"30\" x=\"60\" y=\"120\" /><rect fill=\"#000000\" fill-opacity=\"1.0\" height=\"30\" stroke=\"#000000\" stroke-width=\"1\" width=\"30\" x=\"60\" y=\"150\" /><rect fill=\"#ffffff\" fill-opacity=\"1.0\" height=\"30\" stroke=\"#000000\" stroke-width=\"1\" width=\"30\" x=\"60\" y=\"180\" /><rect fill=\"#000000\" fill-opacity=\"1.0\" height=\"30\" stroke=\"#000000\" stroke-width=\"1\" width=\"30\" x=\"60\" y=\"210\" /><rect fill=\"#ffffff\" fill-opacity=\"1.0\" height=\"30\" stroke=\"#000000\" stroke-width=\"1\" width=\"30\" x=\"60\" y=\"240\" /><rect fill=\"#000000\" fill-opacity=\"1.0\" height=\"30\" stroke=\"#000000\" stroke-width=\"1\" width=\"30\" x=\"60\" y=\"270\" /><rect fill=\"#000000\" fill-opacity=\"1.0\" height=\"30\" stroke=\"#000000\" stroke-width=\"1\" width=\"30\" x=\"90\" y=\"0\" /><rect fill=\"#ffffff\" fill-opacity=\"1.0\" height=\"30\" stroke=\"#000000\" stroke-width=\"1\" width=\"30\" x=\"90\" y=\"30\" /><rect fill=\"#000000\" fill-opacity=\"1.0\" height=\"30\" stroke=\"#000000\" stroke-width=\"1\" width=\"30\" x=\"90\" y=\"60\" /><rect fill=\"#ffffff\" fill-opacity=\"1.0\" height=\"30\" stroke=\"#000000\" stroke-width=\"1\" width=\"30\" x=\"90\" y=\"90\" /><rect fill=\"#000000\" fill-opacity=\"1.0\" height=\"30\" stroke=\"#000000\" stroke-width=\"1\" width=\"30\" x=\"90\" y=\"120\" /><rect fill=\"#ffffff\" fill-opacity=\"1.0\" height=\"30\" stroke=\"#000000\" stroke-width=\"1\" width=\"30\" x=\"90\" y=\"150\" /><rect fill=\"#000000\" fill-opacity=\"1.0\" height=\"30\" stroke=\"#000000\" stroke-width=\"1\" width=\"30\" x=\"90\" y=\"180\" /><rect fill=\"#ffffff\" fill-opacity=\"1.0\" height=\"30\" stroke=\"#000000\" stroke-width=\"1\" width=\"30\" x=\"90\" y=\"210\" /><rect fill=\"#000000\" fill-opacity=\"1.0\" height=\"30\" stroke=\"#000000\" stroke-width=\"1\" width=\"30\" x=\"90\" y=\"240\" /><rect fill=\"#ffffff\" fill-opacity=\"1.0\" height=\"30\" stroke=\"#000000\" stroke-width=\"1\" width=\"30\" x=\"90\" y=\"270\" /><rect fill=\"#ffffff\" fill-opacity=\"1.0\" height=\"30\" stroke=\"#000000\" stroke-width=\"1\" width=\"30\" x=\"120\" y=\"0\" /><rect fill=\"#000000\" fill-opacity=\"1.0\" height=\"30\" stroke=\"#000000\" stroke-width=\"1\" width=\"30\" x=\"120\" y=\"30\" /><rect fill=\"#ffffff\" fill-opacity=\"1.0\" height=\"30\" stroke=\"#000000\" stroke-width=\"1\" width=\"30\" x=\"120\" y=\"60\" /><rect fill=\"#000000\" fill-opacity=\"1.0\" height=\"30\" stroke=\"#000000\" stroke-width=\"1\" width=\"30\" x=\"120\" y=\"90\" /><rect fill=\"#ffffff\" fill-opacity=\"1.0\" height=\"30\" stroke=\"#000000\" stroke-width=\"1\" width=\"30\" x=\"120\" y=\"120\" /><rect fill=\"#000000\" fill-opacity=\"1.0\" height=\"30\" stroke=\"#000000\" stroke-width=\"1\" width=\"30\" x=\"120\" y=\"150\" /><rect fill=\"#ffffff\" fill-opacity=\"1.0\" height=\"30\" stroke=\"#000000\" stroke-width=\"1\" width=\"30\" x=\"120\" y=\"180\" /><rect fill=\"#000000\" fill-opacity=\"1.0\" height=\"30\" stroke=\"#000000\" stroke-width=\"1\" width=\"30\" x=\"120\" y=\"210\" /><rect fill=\"#ffffff\" fill-opacity=\"1.0\" height=\"30\" stroke=\"#000000\" stroke-width=\"1\" width=\"30\" x=\"120\" y=\"240\" /><rect fill=\"#000000\" fill-opacity=\"1.0\" height=\"30\" stroke=\"#000000\" stroke-width=\"1\" width=\"30\" x=\"120\" y=\"270\" /><rect fill=\"#000000\" fill-opacity=\"1.0\" height=\"30\" stroke=\"#000000\" stroke-width=\"1\" width=\"30\" x=\"150\" y=\"0\" /><rect fill=\"#ffffff\" fill-opacity=\"1.0\" height=\"30\" stroke=\"#000000\" stroke-width=\"1\" width=\"30\" x=\"150\" y=\"30\" /><rect fill=\"#000000\" fill-opacity=\"1.0\" height=\"30\" stroke=\"#000000\" stroke-width=\"1\" width=\"30\" x=\"150\" y=\"60\" /><rect fill=\"#ffffff\" fill-opacity=\"1.0\" height=\"30\" stroke=\"#000000\" stroke-width=\"1\" width=\"30\" x=\"150\" y=\"90\" /><rect fill=\"#000000\" fill-opacity=\"1.0\" height=\"30\" stroke=\"#000000\" stroke-width=\"1\" width=\"30\" x=\"150\" y=\"120\" /><rect fill=\"#ffffff\" fill-opacity=\"1.0\" height=\"30\" stroke=\"#000000\" stroke-width=\"1\" width=\"30\" x=\"150\" y=\"150\" /><rect fill=\"#000000\" fill-opacity=\"1.0\" height=\"30\" stroke=\"#000000\" stroke-width=\"1\" width=\"30\" x=\"150\" y=\"180\" /><rect fill=\"#ffffff\" fill-opacity=\"1.0\" height=\"30\" stroke=\"#000000\" stroke-width=\"1\" width=\"30\" x=\"150\" y=\"210\" /><rect fill=\"#000000\" fill-opacity=\"1.0\" height=\"30\" stroke=\"#000000\" stroke-width=\"1\" width=\"30\" x=\"150\" y=\"240\" /><rect fill=\"#ffffff\" fill-opacity=\"1.0\" height=\"30\" stroke=\"#000000\" stroke-width=\"1\" width=\"30\" x=\"150\" y=\"270\" /><rect fill=\"#ffffff\" fill-opacity=\"1.0\" height=\"30\" stroke=\"#000000\" stroke-width=\"1\" width=\"30\" x=\"180\" y=\"0\" /><rect fill=\"#000000\" fill-opacity=\"1.0\" height=\"30\" stroke=\"#000000\" stroke-width=\"1\" width=\"30\" x=\"180\" y=\"30\" /><rect fill=\"#ffffff\" fill-opacity=\"1.0\" height=\"30\" stroke=\"#000000\" stroke-width=\"1\" width=\"30\" x=\"180\" y=\"60\" /><rect fill=\"#000000\" fill-opacity=\"1.0\" height=\"30\" stroke=\"#000000\" stroke-width=\"1\" width=\"30\" x=\"180\" y=\"90\" /><rect fill=\"#ffffff\" fill-opacity=\"1.0\" height=\"30\" stroke=\"#000000\" stroke-width=\"1\" width=\"30\" x=\"180\" y=\"120\" /><rect fill=\"#000000\" fill-opacity=\"1.0\" height=\"30\" stroke=\"#000000\" stroke-width=\"1\" width=\"30\" x=\"180\" y=\"150\" /><rect fill=\"#ffffff\" fill-opacity=\"1.0\" height=\"30\" stroke=\"#000000\" stroke-width=\"1\" width=\"30\" x=\"180\" y=\"180\" /><rect fill=\"#000000\" fill-opacity=\"1.0\" height=\"30\" stroke=\"#000000\" stroke-width=\"1\" width=\"30\" x=\"180\" y=\"210\" /><rect fill=\"#ffffff\" fill-opacity=\"1.0\" height=\"30\" stroke=\"#000000\" stroke-width=\"1\" width=\"30\" x=\"180\" y=\"240\" /><rect fill=\"#000000\" fill-opacity=\"1.0\" height=\"30\" stroke=\"#000000\" stroke-width=\"1\" width=\"30\" x=\"180\" y=\"270\" /><rect fill=\"#000000\" fill-opacity=\"1.0\" height=\"30\" stroke=\"#000000\" stroke-width=\"1\" width=\"30\" x=\"210\" y=\"0\" /><rect fill=\"#ffffff\" fill-opacity=\"1.0\" height=\"30\" stroke=\"#000000\" stroke-width=\"1\" width=\"30\" x=\"210\" y=\"30\" /><rect fill=\"#000000\" fill-opacity=\"1.0\" height=\"30\" stroke=\"#000000\" stroke-width=\"1\" width=\"30\" x=\"210\" y=\"60\" /><rect fill=\"#ffffff\" fill-opacity=\"1.0\" height=\"30\" stroke=\"#000000\" stroke-width=\"1\" width=\"30\" x=\"210\" y=\"90\" /><rect fill=\"#000000\" fill-opacity=\"1.0\" height=\"30\" stroke=\"#000000\" stroke-width=\"1\" width=\"30\" x=\"210\" y=\"120\" /><rect fill=\"#ffffff\" fill-opacity=\"1.0\" height=\"30\" stroke=\"#000000\" stroke-width=\"1\" width=\"30\" x=\"210\" y=\"150\" /><rect fill=\"#000000\" fill-opacity=\"1.0\" height=\"30\" stroke=\"#000000\" stroke-width=\"1\" width=\"30\" x=\"210\" y=\"180\" /><rect fill=\"#ffffff\" fill-opacity=\"1.0\" height=\"30\" stroke=\"#000000\" stroke-width=\"1\" width=\"30\" x=\"210\" y=\"210\" /><rect fill=\"#000000\" fill-opacity=\"1.0\" height=\"30\" stroke=\"#000000\" stroke-width=\"1\" width=\"30\" x=\"210\" y=\"240\" /><rect fill=\"#ffffff\" fill-opacity=\"1.0\" height=\"30\" stroke=\"#000000\" stroke-width=\"1\" width=\"30\" x=\"210\" y=\"270\" /><rect fill=\"#ffffff\" fill-opacity=\"1.0\" height=\"30\" stroke=\"#000000\" stroke-width=\"1\" width=\"30\" x=\"240\" y=\"0\" /><rect fill=\"#000000\" fill-opacity=\"1.0\" height=\"30\" stroke=\"#000000\" stroke-width=\"1\" width=\"30\" x=\"240\" y=\"30\" /><rect fill=\"#ffffff\" fill-opacity=\"1.0\" height=\"30\" stroke=\"#000000\" stroke-width=\"1\" width=\"30\" x=\"240\" y=\"60\" /><rect fill=\"#000000\" fill-opacity=\"1.0\" height=\"30\" stroke=\"#000000\" stroke-width=\"1\" width=\"30\" x=\"240\" y=\"90\" /><rect fill=\"#ffffff\" fill-opacity=\"1.0\" height=\"30\" stroke=\"#000000\" stroke-width=\"1\" width=\"30\" x=\"240\" y=\"120\" /><rect fill=\"#000000\" fill-opacity=\"1.0\" height=\"30\" stroke=\"#000000\" stroke-width=\"1\" width=\"30\" x=\"240\" y=\"150\" /><rect fill=\"#ffffff\" fill-opacity=\"1.0\" height=\"30\" stroke=\"#000000\" stroke-width=\"1\" width=\"30\" x=\"240\" y=\"180\" /><rect fill=\"#000000\" fill-opacity=\"1.0\" height=\"30\" stroke=\"#000000\" stroke-width=\"1\" width=\"30\" x=\"240\" y=\"210\" /><rect fill=\"#ffffff\" fill-opacity=\"1.0\" height=\"30\" stroke=\"#000000\" stroke-width=\"1\" width=\"30\" x=\"240\" y=\"240\" /><rect fill=\"#000000\" fill-opacity=\"1.0\" height=\"30\" stroke=\"#000000\" stroke-width=\"1\" width=\"30\" x=\"240\" y=\"270\" /><rect fill=\"#000000\" fill-opacity=\"1.0\" height=\"30\" stroke=\"#000000\" stroke-width=\"1\" width=\"30\" x=\"270\" y=\"0\" /><rect fill=\"#ffffff\" fill-opacity=\"1.0\" height=\"30\" stroke=\"#000000\" stroke-width=\"1\" width=\"30\" x=\"270\" y=\"30\" /><rect fill=\"#000000\" fill-opacity=\"1.0\" height=\"30\" stroke=\"#000000\" stroke-width=\"1\" width=\"30\" x=\"270\" y=\"60\" /><rect fill=\"#ffffff\" fill-opacity=\"1.0\" height=\"30\" stroke=\"#000000\" stroke-width=\"1\" width=\"30\" x=\"270\" y=\"90\" /><rect fill=\"#000000\" fill-opacity=\"1.0\" height=\"30\" stroke=\"#000000\" stroke-width=\"1\" width=\"30\" x=\"270\" y=\"120\" /><rect fill=\"#ffffff\" fill-opacity=\"1.0\" height=\"30\" stroke=\"#000000\" stroke-width=\"1\" width=\"30\" x=\"270\" y=\"150\" /><rect fill=\"#000000\" fill-opacity=\"1.0\" height=\"30\" stroke=\"#000000\" stroke-width=\"1\" width=\"30\" x=\"270\" y=\"180\" /><rect fill=\"#ffffff\" fill-opacity=\"1.0\" height=\"30\" stroke=\"#000000\" stroke-width=\"1\" width=\"30\" x=\"270\" y=\"210\" /><rect fill=\"#000000\" fill-opacity=\"1.0\" height=\"30\" stroke=\"#000000\" stroke-width=\"1\" width=\"30\" x=\"270\" y=\"240\" /><rect fill=\"#ffffff\" fill-opacity=\"1.0\" height=\"30\" stroke=\"#000000\" stroke-width=\"1\" width=\"30\" x=\"270\" y=\"270\" /><circle cx=\"45.0\" cy=\"135.0\" fill=\"#ffff00\" fill-opacity=\"1.0\" r=\"15.0\" stroke=\"#000000\" stroke-width=\"1\" /><circle cx=\"45.0\" cy=\"135.0\" fill=\"#ffff00\" fill-opacity=\"1.0\" r=\"15.0\" stroke=\"#000000\" stroke-width=\"1\" /><circle cx=\"45.0\" cy=\"135.0\" fill=\"#ffff00\" fill-opacity=\"1.0\" r=\"15.0\" stroke=\"#000000\" stroke-width=\"1\" /><circle cx=\"45.0\" cy=\"135.0\" fill=\"#ffff00\" fill-opacity=\"1.0\" r=\"15.0\" stroke=\"#000000\" stroke-width=\"1\" /><circle cx=\"45.0\" cy=\"135.0\" fill=\"#ffff00\" fill-opacity=\"1.0\" r=\"15.0\" stroke=\"#000000\" stroke-width=\"1\" /><circle cx=\"45.0\" cy=\"135.0\" fill=\"#ffff00\" fill-opacity=\"1.0\" r=\"15.0\" stroke=\"#000000\" stroke-width=\"1\" /><circle cx=\"45.0\" cy=\"135.0\" fill=\"#ffff00\" fill-opacity=\"1.0\" r=\"15.0\" stroke=\"#000000\" stroke-width=\"1\" /><circle cx=\"45.0\" cy=\"135.0\" fill=\"#ffff00\" fill-opacity=\"1.0\" r=\"15.0\" stroke=\"#000000\" stroke-width=\"1\" /><circle cx=\"45.0\" cy=\"135.0\" fill=\"#ffff00\" fill-opacity=\"1.0\" r=\"15.0\" stroke=\"#000000\" stroke-width=\"1\" /><circle cx=\"45.0\" cy=\"135.0\" fill=\"#ffff00\" fill-opacity=\"1.0\" r=\"15.0\" stroke=\"#000000\" stroke-width=\"1\" /></svg>"
      ],
      "text/plain": [
       "<Canvas (300, 300)>"
      ]
     },
     "metadata": {},
     "output_type": "display_data"
    }
   ],
   "source": [
    "nbrow=10\n",
    "nbcol=10\n",
    "caselength=30\n",
    "largeur=nbrow*caselength\n",
    "hauteur=nbcol*caselength\n",
    "cv=Canvas((largeur,hauteur))\n",
    "color=[white,black]\n",
    "for r in range(nbrow):\n",
    "    for c in range(nbcol):\n",
    "        x=r*caselength\n",
    "        y=c*caselength\n",
    "        case=Rectangle((x, y), (30, 30))\n",
    "        n=(c+(r%2))%2\n",
    "        case.setFill(color[n])\n",
    "        cv.draw(case)\n",
    "cv.display()\n",
    "coordcase=caselength/2\n",
    "c=Circle((0,0),coordcase)\n",
    "c.setFill(yellow)\n",
    "nbdep=10\n",
    "for i in range(nbdep):\n",
    "    x=randint(1,nbrow)*caselength-coordcase\n",
    "    y=randint(1,nbcol)*caselength-coordcase\n",
    "    c.moveTo(center=(x,y))\n",
    "    cv.draw(c)\n",
    "    cv.displayPause(1)"
   ]
  },
  {
   "cell_type": "markdown",
   "id": "662abcdd-eebe-495c-ae6f-3ee47348d76d",
   "metadata": {},
   "source": [
    "## 6.6 Feu tricolore animé"
   ]
  },
  {
   "cell_type": "markdown",
   "id": "d485a9ff-076c-4b90-be64-5050beb2f80c",
   "metadata": {},
   "source": [
    "Vous allez ajouter une animation au dessin d'un feu tricolore objet d'un exercice précédent du TP2 similaire à la capture ci-dessous. Ce feu passera par les trois couleurs (par exemple 2 secondes vert, 0.5 seconde orange, 2 secondes rouge) 5 fois de suite. \n",
    "\n",
    "<div  align=\"center\"><img src=\"https://iut-info.univ-reims.fr/users/romaniuk/restricted/S1AlgoProg/ressources/feu.gif\" alt=\"\" width=\"40\"></div>\n",
    "\n",
    "Vous pouvez réaliser deux versions :\n",
    "1. une version simple changeant la couleur des trois feux par trois fois la même suite d'instructions (soit un seul parcours répété 5 fois)\n",
    "2. une version plus difficile avec deux parcours, le deuxième parcours (imbriqué dans le premier) réalisant le changement de couleur \"générique\" d'un feu (donc répété 3 fois, une fois par couleur). Indice : pensez que les \"caractéristiques des changements\" peuvent être stockées dans des listes."
   ]
  },
  {
   "cell_type": "code",
   "execution_count": null,
   "id": "6040b9d1-1cfe-49dc-bab7-dc6ea82a1f3c",
   "metadata": {},
   "outputs": [
    {
     "data": {
      "image/svg+xml": [
       "<svg baseProfile=\"full\" height=\"180\" version=\"1.1\" width=\"60\" xmlns=\"http://www.w3.org/2000/svg\" xmlns:ev=\"http://www.w3.org/2001/xml-events\" xmlns:xlink=\"http://www.w3.org/1999/xlink\"><defs /><rect fill=\"#808080\" fill-opacity=\"1.0\" height=\"180\" stroke=\"#000000\" stroke-width=\"1\" width=\"60\" x=\"0\" y=\"0\" /><circle cx=\"30.0\" cy=\"30.0\" fill=\"#ff0000\" fill-opacity=\"1.0\" r=\"28.0\" stroke=\"#000000\" stroke-width=\"1\" /><circle cx=\"30.0\" cy=\"90.0\" fill=\"#000000\" fill-opacity=\"1.0\" r=\"28.0\" stroke=\"#000000\" stroke-width=\"1\" /><circle cx=\"30.0\" cy=\"150.0\" fill=\"#000000\" fill-opacity=\"1.0\" r=\"28.0\" stroke=\"#000000\" stroke-width=\"1\" /><circle cx=\"30.0\" cy=\"30.0\" fill=\"#ff0000\" fill-opacity=\"1.0\" r=\"28.0\" stroke=\"#000000\" stroke-width=\"1\" /><circle cx=\"30.0\" cy=\"90.0\" fill=\"#000000\" fill-opacity=\"1.0\" r=\"28.0\" stroke=\"#000000\" stroke-width=\"1\" /><circle cx=\"30.0\" cy=\"150.0\" fill=\"#000000\" fill-opacity=\"1.0\" r=\"28.0\" stroke=\"#000000\" stroke-width=\"1\" /><circle cx=\"30.0\" cy=\"30.0\" fill=\"#ff0000\" fill-opacity=\"1.0\" r=\"28.0\" stroke=\"#000000\" stroke-width=\"1\" /><circle cx=\"30.0\" cy=\"90.0\" fill=\"#000000\" fill-opacity=\"1.0\" r=\"28.0\" stroke=\"#000000\" stroke-width=\"1\" /><circle cx=\"30.0\" cy=\"150.0\" fill=\"#000000\" fill-opacity=\"1.0\" r=\"28.0\" stroke=\"#000000\" stroke-width=\"1\" /><circle cx=\"30.0\" cy=\"30.0\" fill=\"#ff0000\" fill-opacity=\"1.0\" r=\"28.0\" stroke=\"#000000\" stroke-width=\"1\" /><circle cx=\"30.0\" cy=\"90.0\" fill=\"#000000\" fill-opacity=\"1.0\" r=\"28.0\" stroke=\"#000000\" stroke-width=\"1\" /><circle cx=\"30.0\" cy=\"150.0\" fill=\"#000000\" fill-opacity=\"1.0\" r=\"28.0\" stroke=\"#000000\" stroke-width=\"1\" /><circle cx=\"30.0\" cy=\"30.0\" fill=\"#ff0000\" fill-opacity=\"1.0\" r=\"28.0\" stroke=\"#000000\" stroke-width=\"1\" /><circle cx=\"30.0\" cy=\"90.0\" fill=\"#000000\" fill-opacity=\"1.0\" r=\"28.0\" stroke=\"#000000\" stroke-width=\"1\" /><circle cx=\"30.0\" cy=\"150.0\" fill=\"#000000\" fill-opacity=\"1.0\" r=\"28.0\" stroke=\"#000000\" stroke-width=\"1\" /><circle cx=\"30.0\" cy=\"30.0\" fill=\"#ff0000\" fill-opacity=\"1.0\" r=\"28.0\" stroke=\"#000000\" stroke-width=\"1\" /><circle cx=\"30.0\" cy=\"90.0\" fill=\"#000000\" fill-opacity=\"1.0\" r=\"28.0\" stroke=\"#000000\" stroke-width=\"1\" /><circle cx=\"30.0\" cy=\"150.0\" fill=\"#000000\" fill-opacity=\"1.0\" r=\"28.0\" stroke=\"#000000\" stroke-width=\"1\" /><circle cx=\"30.0\" cy=\"30.0\" fill=\"#ff0000\" fill-opacity=\"1.0\" r=\"28.0\" stroke=\"#000000\" stroke-width=\"1\" /><circle cx=\"30.0\" cy=\"90.0\" fill=\"#000000\" fill-opacity=\"1.0\" r=\"28.0\" stroke=\"#000000\" stroke-width=\"1\" /><circle cx=\"30.0\" cy=\"150.0\" fill=\"#000000\" fill-opacity=\"1.0\" r=\"28.0\" stroke=\"#000000\" stroke-width=\"1\" /><circle cx=\"30.0\" cy=\"30.0\" fill=\"#ff0000\" fill-opacity=\"1.0\" r=\"28.0\" stroke=\"#000000\" stroke-width=\"1\" /><circle cx=\"30.0\" cy=\"90.0\" fill=\"#000000\" fill-opacity=\"1.0\" r=\"28.0\" stroke=\"#000000\" stroke-width=\"1\" /><circle cx=\"30.0\" cy=\"150.0\" fill=\"#000000\" fill-opacity=\"1.0\" r=\"28.0\" stroke=\"#000000\" stroke-width=\"1\" /><circle cx=\"30.0\" cy=\"30.0\" fill=\"#ff0000\" fill-opacity=\"1.0\" r=\"28.0\" stroke=\"#000000\" stroke-width=\"1\" /><circle cx=\"30.0\" cy=\"90.0\" fill=\"#000000\" fill-opacity=\"1.0\" r=\"28.0\" stroke=\"#000000\" stroke-width=\"1\" /><circle cx=\"30.0\" cy=\"150.0\" fill=\"#000000\" fill-opacity=\"1.0\" r=\"28.0\" stroke=\"#000000\" stroke-width=\"1\" /><circle cx=\"30.0\" cy=\"30.0\" fill=\"#ff0000\" fill-opacity=\"1.0\" r=\"28.0\" stroke=\"#000000\" stroke-width=\"1\" /><circle cx=\"30.0\" cy=\"90.0\" fill=\"#000000\" fill-opacity=\"1.0\" r=\"28.0\" stroke=\"#000000\" stroke-width=\"1\" /><circle cx=\"30.0\" cy=\"150.0\" fill=\"#000000\" fill-opacity=\"1.0\" r=\"28.0\" stroke=\"#000000\" stroke-width=\"1\" /></svg>"
      ],
      "text/plain": [
       "<Canvas (60, 180)>"
      ]
     },
     "metadata": {},
     "output_type": "display_data"
    }
   ],
   "source": [
    "# largeur du feu (les autres dimensions doivent en dériver)\n",
    "l = 60\n",
    "cv = Canvas((l,l*3))\n",
    "cv.drawFrame(gray)\n",
    "c1=Circle((l/2,l/2),l/2-2)\n",
    "c2=Circle((l/2,l+l/2),l/2-2)\n",
    "c3=Circle((l/2,2*l+l/2),l/2-2)\n",
    "c1.setFill(black)\n",
    "c2.setFill(black)\n",
    "c3.setFill(black)\n",
    "cv.draw(c1)\n",
    "cv.draw(c2)\n",
    "cv.draw(c3)\n",
    "color=[lime,orange,red]\n",
    "nbrep=5\n",
    "pause=[2,2,0.5]\n",
    "color2=[black,lime,black]\n",
    "for i in range(nbrep):\n",
    "    for j in range(3):\n",
    "        color2[1]=color[j]\n",
    "        vert=color2[(j+2)%3]\n",
    "        orange=color2[j%3]\n",
    "        rouge=color2[(j+1)%3]\n",
    "        c1.setFill(vert)\n",
    "        c2.setFill(orange)\n",
    "        c3.setFill(rouge)\n",
    "        cv.draw(c1)\n",
    "        cv.draw(c2)\n",
    "        cv.draw(c3)\n",
    "        cv.displayPause(pause[j])"
   ]
  }
 ],
 "metadata": {
  "kernelspec": {
   "display_name": "Python 3",
   "language": "python",
   "name": "python3"
  },
  "language_info": {
   "codemirror_mode": {
    "name": "ipython",
    "version": 3
   },
   "file_extension": ".py",
   "mimetype": "text/x-python",
   "name": "python",
   "nbconvert_exporter": "python",
   "pygments_lexer": "ipython3",
   "version": "3.8.10"
  }
 },
 "nbformat": 4,
 "nbformat_minor": 5
}
